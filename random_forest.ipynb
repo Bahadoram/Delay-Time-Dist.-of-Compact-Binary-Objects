{
 "cells": [
  {
   "cell_type": "code",
   "execution_count": 1,
   "metadata": {},
   "outputs": [
    {
     "name": "stderr",
     "output_type": "stream",
     "text": [
      "/home/ubuntu/miniconda3/lib/python3.9/site-packages/xgboost/compat.py:36: FutureWarning: pandas.Int64Index is deprecated and will be removed from pandas in a future version. Use pandas.Index with the appropriate dtype instead.\n",
      "  from pandas import MultiIndex, Int64Index\n"
     ]
    }
   ],
   "source": [
    "import numpy             as np\n",
    "import pandas            as pd\n",
    "import matplotlib.pyplot as plt\n",
    "import time\n",
    "\n",
    "from xgboost import XGBRFRegressor, plot_tree\n",
    "from sklearn.preprocessing import StandardScaler\n",
    "from sklearn.model_selection import train_test_split, GridSearchCV, RandomizedSearchCV\n",
    "from sklearn.ensemble import RandomForestRegressor\n",
    "from sklearn.datasets import make_regression\n",
    "from sklearn.model_selection import cross_val_score\n",
    "from sklearn.model_selection import RepeatedStratifiedKFold\n",
    "from sklearn.inspection      import permutation_importance\n",
    "\n",
    "from sklearn.metrics import mean_squared_log_error, r2_score, mean_squared_error\n",
    "\n",
    "from sklearn import tree\n",
    "from sklearn.tree import export_graphviz\n",
    "#import graphviz\n",
    "import shap\n",
    "import pickle\n",
    "\n",
    "from Plots import plot_hist\n",
    "\n",
    "import multiprocessing\n",
    "n_threads=multiprocessing.cpu_count()\n",
    "\n",
    "from wurlitzer import sys_pipes\n",
    "\n",
    "import warnings"
   ]
  },
  {
   "cell_type": "markdown",
   "metadata": {},
   "source": [
    "### Read data "
   ]
  },
  {
   "cell_type": "code",
   "execution_count": 20,
   "metadata": {},
   "outputs": [
    {
     "data": {
      "text/html": [
       "<div>\n",
       "<style scoped>\n",
       "    .dataframe tbody tr th:only-of-type {\n",
       "        vertical-align: middle;\n",
       "    }\n",
       "\n",
       "    .dataframe tbody tr th {\n",
       "        vertical-align: top;\n",
       "    }\n",
       "\n",
       "    .dataframe thead th {\n",
       "        text-align: right;\n",
       "    }\n",
       "</style>\n",
       "<table border=\"1\" class=\"dataframe\">\n",
       "  <thead>\n",
       "    <tr style=\"text-align: right;\">\n",
       "      <th></th>\n",
       "      <th>Index</th>\n",
       "      <th>ID</th>\n",
       "      <th>name</th>\n",
       "      <th>BWorldtime</th>\n",
       "      <th>Mass_0</th>\n",
       "      <th>Radius_0</th>\n",
       "      <th>Zams_0</th>\n",
       "      <th>Phase_0</th>\n",
       "      <th>RemnantType_0</th>\n",
       "      <th>Mass_1</th>\n",
       "      <th>...</th>\n",
       "      <th>Events</th>\n",
       "      <th>EventsPlus</th>\n",
       "      <th>Mzams_0</th>\n",
       "      <th>Mzams_1</th>\n",
       "      <th>Semimajor_ini</th>\n",
       "      <th>Eccentricity_ini</th>\n",
       "      <th>Z</th>\n",
       "      <th>alpha</th>\n",
       "      <th>Delay_Time</th>\n",
       "      <th>Eccentricity_Delay</th>\n",
       "    </tr>\n",
       "  </thead>\n",
       "  <tbody>\n",
       "    <tr>\n",
       "      <th>0</th>\n",
       "      <td>0</td>\n",
       "      <td>360308</td>\n",
       "      <td>0_792857804219921</td>\n",
       "      <td>5.411991</td>\n",
       "      <td>18.34303</td>\n",
       "      <td>0.000078</td>\n",
       "      <td>21.22227</td>\n",
       "      <td>7</td>\n",
       "      <td>6</td>\n",
       "      <td>21.09631</td>\n",
       "      <td>...</td>\n",
       "      <td>RB:RE:S:RB:RE:S</td>\n",
       "      <td>RB:RE:ehSt:RB:RE:erSt</td>\n",
       "      <td>41.0592</td>\n",
       "      <td>34.5745</td>\n",
       "      <td>24.874630</td>\n",
       "      <td>0.2619</td>\n",
       "      <td>0.0004</td>\n",
       "      <td>0.5</td>\n",
       "      <td>9.993410e+04</td>\n",
       "      <td>6.409107e-11</td>\n",
       "    </tr>\n",
       "    <tr>\n",
       "      <th>1</th>\n",
       "      <td>1</td>\n",
       "      <td>360337</td>\n",
       "      <td>0_285120263308905</td>\n",
       "      <td>4.134819</td>\n",
       "      <td>50.99943</td>\n",
       "      <td>0.000217</td>\n",
       "      <td>92.24360</td>\n",
       "      <td>7</td>\n",
       "      <td>6</td>\n",
       "      <td>51.78028</td>\n",
       "      <td>...</td>\n",
       "      <td>S:S</td>\n",
       "      <td>hhS:hrS</td>\n",
       "      <td>92.2436</td>\n",
       "      <td>53.6410</td>\n",
       "      <td>81917.701038</td>\n",
       "      <td>0.3955</td>\n",
       "      <td>0.0004</td>\n",
       "      <td>0.5</td>\n",
       "      <td>5.520443e+16</td>\n",
       "      <td>4.934820e-14</td>\n",
       "    </tr>\n",
       "    <tr>\n",
       "      <th>2</th>\n",
       "      <td>2</td>\n",
       "      <td>360367</td>\n",
       "      <td>0_303570516402716</td>\n",
       "      <td>4.311590</td>\n",
       "      <td>33.98611</td>\n",
       "      <td>0.000144</td>\n",
       "      <td>41.10912</td>\n",
       "      <td>7</td>\n",
       "      <td>6</td>\n",
       "      <td>30.83786</td>\n",
       "      <td>...</td>\n",
       "      <td>RB:RE:RB:RE:S:RB:RE:S</td>\n",
       "      <td>RB:RE:RB:RE:ehSt:RB:RE:erSt</td>\n",
       "      <td>74.5563</td>\n",
       "      <td>46.8471</td>\n",
       "      <td>127.422203</td>\n",
       "      <td>0.2217</td>\n",
       "      <td>0.0004</td>\n",
       "      <td>0.5</td>\n",
       "      <td>7.108337e+05</td>\n",
       "      <td>1.981434e-10</td>\n",
       "    </tr>\n",
       "    <tr>\n",
       "      <th>3</th>\n",
       "      <td>3</td>\n",
       "      <td>360429</td>\n",
       "      <td>0_321152334354104</td>\n",
       "      <td>5.738531</td>\n",
       "      <td>42.61480</td>\n",
       "      <td>0.000181</td>\n",
       "      <td>50.85000</td>\n",
       "      <td>7</td>\n",
       "      <td>6</td>\n",
       "      <td>33.31328</td>\n",
       "      <td>...</td>\n",
       "      <td>RB:S:RE:RB:S</td>\n",
       "      <td>RB:hhS:RE:RB:hrS</td>\n",
       "      <td>50.8500</td>\n",
       "      <td>32.3486</td>\n",
       "      <td>316.947946</td>\n",
       "      <td>0.0107</td>\n",
       "      <td>0.0004</td>\n",
       "      <td>0.5</td>\n",
       "      <td>1.214966e+07</td>\n",
       "      <td>2.425785e-12</td>\n",
       "    </tr>\n",
       "    <tr>\n",
       "      <th>4</th>\n",
       "      <td>4</td>\n",
       "      <td>360471</td>\n",
       "      <td>0_850952161687565</td>\n",
       "      <td>4.503749</td>\n",
       "      <td>49.74939</td>\n",
       "      <td>0.000211</td>\n",
       "      <td>65.22210</td>\n",
       "      <td>7</td>\n",
       "      <td>6</td>\n",
       "      <td>45.91471</td>\n",
       "      <td>...</td>\n",
       "      <td>RB:S:RE:RB:S</td>\n",
       "      <td>RB:hhS:RE:RB:hrS</td>\n",
       "      <td>65.2221</td>\n",
       "      <td>46.7855</td>\n",
       "      <td>1548.080290</td>\n",
       "      <td>0.0751</td>\n",
       "      <td>0.0004</td>\n",
       "      <td>0.5</td>\n",
       "      <td>5.995947e+09</td>\n",
       "      <td>1.042263e-11</td>\n",
       "    </tr>\n",
       "  </tbody>\n",
       "</table>\n",
       "<p>5 rows × 28 columns</p>\n",
       "</div>"
      ],
      "text/plain": [
       "   Index      ID               name  BWorldtime    Mass_0  Radius_0    Zams_0  \\\n",
       "0      0  360308  0_792857804219921    5.411991  18.34303  0.000078  21.22227   \n",
       "1      1  360337  0_285120263308905    4.134819  50.99943  0.000217  92.24360   \n",
       "2      2  360367  0_303570516402716    4.311590  33.98611  0.000144  41.10912   \n",
       "3      3  360429  0_321152334354104    5.738531  42.61480  0.000181  50.85000   \n",
       "4      4  360471  0_850952161687565    4.503749  49.74939  0.000211  65.22210   \n",
       "\n",
       "   Phase_0  RemnantType_0    Mass_1  ...                 Events  \\\n",
       "0        7              6  21.09631  ...        RB:RE:S:RB:RE:S   \n",
       "1        7              6  51.78028  ...                    S:S   \n",
       "2        7              6  30.83786  ...  RB:RE:RB:RE:S:RB:RE:S   \n",
       "3        7              6  33.31328  ...           RB:S:RE:RB:S   \n",
       "4        7              6  45.91471  ...           RB:S:RE:RB:S   \n",
       "\n",
       "                    EventsPlus  Mzams_0  Mzams_1  Semimajor_ini  \\\n",
       "0        RB:RE:ehSt:RB:RE:erSt  41.0592  34.5745      24.874630   \n",
       "1                      hhS:hrS  92.2436  53.6410   81917.701038   \n",
       "2  RB:RE:RB:RE:ehSt:RB:RE:erSt  74.5563  46.8471     127.422203   \n",
       "3             RB:hhS:RE:RB:hrS  50.8500  32.3486     316.947946   \n",
       "4             RB:hhS:RE:RB:hrS  65.2221  46.7855    1548.080290   \n",
       "\n",
       "   Eccentricity_ini       Z alpha    Delay_Time Eccentricity_Delay  \n",
       "0            0.2619  0.0004   0.5  9.993410e+04       6.409107e-11  \n",
       "1            0.3955  0.0004   0.5  5.520443e+16       4.934820e-14  \n",
       "2            0.2217  0.0004   0.5  7.108337e+05       1.981434e-10  \n",
       "3            0.0107  0.0004   0.5  1.214966e+07       2.425785e-12  \n",
       "4            0.0751  0.0004   0.5  5.995947e+09       1.042263e-11  \n",
       "\n",
       "[5 rows x 28 columns]"
      ]
     },
     "execution_count": 20,
     "metadata": {},
     "output_type": "execute_result"
    }
   ],
   "source": [
    "dir      = \"DATA/\"\n",
    "file1    = 'BHBH_Delay_Time.csv'\n",
    "file2    = 'BHBH_Delay_Time_Shuffled.csv'\n",
    "\n",
    "BHBH     = pd.read_csv(dir+file1)\n",
    "BHBH.drop(['Unnamed: 0.1', 'Unnamed: 0'], axis=1, inplace=True)\n",
    "\n",
    "# shuffled dataset \n",
    "shuffled = pd.read_csv(dir+file1)\n",
    "shuffled.drop(['Unnamed: 0.1', 'Unnamed: 0'], axis=1, inplace=True)\n",
    "shuffled.head()"
   ]
  },
  {
   "cell_type": "code",
   "execution_count": 3,
   "metadata": {},
   "outputs": [
    {
     "data": {
      "text/plain": [
       "\"\\n# random swap of Mass_0 and Mass_1\\nidx = np.random.rand(len(BHBH)) < 0.5\\n\\n# passing numpy array to bypass column alignment\\nBHBH.loc[idx, ['Mass_0','Mass_1']] = BHBH.loc[idx, ['Mass_1','Mass_0']].to_numpy()\\n\""
      ]
     },
     "execution_count": 3,
     "metadata": {},
     "output_type": "execute_result"
    }
   ],
   "source": [
    "\"\"\"\n",
    "# random swap of Mass_0 and Mass_1\n",
    "idx = np.random.rand(len(BHBH)) < 0.5\n",
    "\n",
    "# passing numpy array to bypass column alignment\n",
    "BHBH.loc[idx, ['Mass_0','Mass_1']] = BHBH.loc[idx, ['Mass_1','Mass_0']].to_numpy()\n",
    "\"\"\""
   ]
  },
  {
   "cell_type": "code",
   "execution_count": 4,
   "metadata": {},
   "outputs": [],
   "source": [
    "#X = BHBH.drop(['Index', 'ID', 'name', 'Delay_Time',\n",
    "#               'Eccentricity_Delay',\n",
    "#               'Events', 'EventsAll', 'EventsPlus'], axis=1).to_numpy()\n",
    "\n",
    "features = ['Mass_0', 'Mass_1', 'Semimajor', 'Eccentricity', 'Z', 'alpha']\n",
    "#features = ['Mass_0', 'Mass_1', 'Semimajor', 'Eccentricity']\n",
    "#features = ['Mass_0']\n",
    "\n",
    "# define attributes based on knowledge\n",
    "# should we use the others?\n",
    "X = BHBH[features].to_numpy()\n",
    "Y = BHBH.Delay_Time.to_numpy()\n",
    "\n",
    "X_test2 = shuffled[features].to_numpy()\n",
    "Y_test2 = shuffled.Delay_Time.to_numpy()"
   ]
  },
  {
   "cell_type": "markdown",
   "metadata": {},
   "source": [
    "### Split training and test set"
   ]
  },
  {
   "cell_type": "code",
   "execution_count": 5,
   "metadata": {
    "scrolled": true
   },
   "outputs": [
    {
     "data": {
      "text/plain": [
       "array([[8.429761e+00, 8.619972e+00, 2.518951e+01, 2.932597e-02],\n",
       "       [3.356409e+01, 2.265303e+01, 5.044398e+04, 2.137746e-01],\n",
       "       [2.755586e+01, 2.619558e+01, 5.233850e+03, 4.619727e-01],\n",
       "       ...,\n",
       "       [3.273191e+01, 2.267255e+01, 3.502999e+02, 2.903056e-01],\n",
       "       [1.374775e+01, 5.700543e+00, 8.896309e+01, 2.752416e-01],\n",
       "       [9.183860e+00, 9.479400e+00, 1.243541e+01, 8.879470e-02]])"
      ]
     },
     "execution_count": 5,
     "metadata": {},
     "output_type": "execute_result"
    }
   ],
   "source": [
    "# split train and test set (80% training, 20% test)\n",
    "X_train, X_test, Y_train, Y_test = train_test_split(X, Y, test_size=.2, random_state=0)\n",
    "X_train"
   ]
  },
  {
   "cell_type": "code",
   "execution_count": 6,
   "metadata": {},
   "outputs": [],
   "source": [
    "del BHBH, X, Y, shuffled"
   ]
  },
  {
   "cell_type": "markdown",
   "metadata": {},
   "source": [
    "## Scikit-learn Random Forest"
   ]
  },
  {
   "cell_type": "code",
   "execution_count": 7,
   "metadata": {},
   "outputs": [
    {
     "data": {
      "text/plain": [
       "RandomForestRegressor(n_jobs=-1, random_state=42, verbose=3)"
      ]
     },
     "execution_count": 7,
     "metadata": {},
     "output_type": "execute_result"
    }
   ],
   "source": [
    "# model definition for the regressor\n",
    "# using mostly the default parameters\n",
    "#regressor=RandomForestRegressor(n_estimators=10, criterion='squared_error',\n",
    "#                                max_depth=10, min_samples_split=2,\n",
    "#                                min_samples_leaf=1, min_weight_fraction_leaf=0.0,\n",
    "#                                max_features=1.0, max_leaf_nodes=None,\n",
    "#                                min_impurity_decrease=.0, bootstrap=True,\n",
    "#                                oob_score=False, n_jobs=-1,\n",
    "#                                random_state=0,\n",
    "#                                verbose=1)\n",
    "regressor=RandomForestRegressor(n_estimators = 100, random_state = 42,\n",
    "                                n_jobs=-1, verbose=3)\n",
    "regressor"
   ]
  },
  {
   "cell_type": "code",
   "execution_count": 8,
   "metadata": {},
   "outputs": [
    {
     "name": "stderr",
     "output_type": "stream",
     "text": [
      "[Parallel(n_jobs=-1)]: Using backend ThreadingBackend with 8 concurrent workers.\n"
     ]
    },
    {
     "name": "stdout",
     "output_type": "stream",
     "text": [
      "building tree 1 of 100\n",
      "building tree 2 of 100\n",
      "building tree 3 of 100\n",
      "building tree 4 of 100\n",
      "building tree 5 of 100building tree 6 of 100\n",
      "\n",
      "building tree 7 of 100\n",
      "building tree 8 of 100\n",
      "building tree 9 of 100\n",
      "building tree 10 of 100\n",
      "building tree 11 of 100\n",
      "building tree 12 of 100\n",
      "building tree 13 of 100\n",
      "building tree 14 of 100\n",
      "building tree 15 of 100\n",
      "building tree 16 of 100\n",
      "building tree 17 of 100\n",
      "building tree 18 of 100\n",
      "building tree 19 of 100\n",
      "building tree 20 of 100\n",
      "building tree 21 of 100\n",
      "building tree 22 of 100\n",
      "building tree 23 of 100\n"
     ]
    },
    {
     "name": "stderr",
     "output_type": "stream",
     "text": [
      "[Parallel(n_jobs=-1)]: Done  16 tasks      | elapsed:   48.6s\n"
     ]
    },
    {
     "name": "stdout",
     "output_type": "stream",
     "text": [
      "building tree 24 of 100\n",
      "building tree 25 of 100\n",
      "building tree 26 of 100\n",
      "building tree 27 of 100\n",
      "building tree 28 of 100\n",
      "building tree 29 of 100\n",
      "building tree 30 of 100\n",
      "building tree 31 of 100\n",
      "building tree 32 of 100\n",
      "building tree 33 of 100\n",
      "building tree 34 of 100\n",
      "building tree 35 of 100\n",
      "building tree 36 of 100\n",
      "building tree 37 of 100\n",
      "building tree 38 of 100\n",
      "building tree 39 of 100\n",
      "building tree 40 of 100\n",
      "building tree 41 of 100\n",
      "building tree 42 of 100\n",
      "building tree 43 of 100\n",
      "building tree 44 of 100\n",
      "building tree 45 of 100\n",
      "building tree 46 of 100\n",
      "building tree 47 of 100\n",
      "building tree 48 of 100\n",
      "building tree 49 of 100\n",
      "building tree 50 of 100\n",
      "building tree 51 of 100\n",
      "building tree 52 of 100\n",
      "building tree 53 of 100\n",
      "building tree 54 of 100\n",
      "building tree 55 of 100\n",
      "building tree 56 of 100\n",
      "building tree 57 of 100\n",
      "building tree 58 of 100\n",
      "building tree 59 of 100\n",
      "building tree 60 of 100\n",
      "building tree 61 of 100\n",
      "building tree 62 of 100\n",
      "building tree 63 of 100\n",
      "building tree 64 of 100\n",
      "building tree 65 of 100\n",
      "building tree 66 of 100\n",
      "building tree 67 of 100\n",
      "building tree 68 of 100\n",
      "building tree 69 of 100\n",
      "building tree 70 of 100\n",
      "building tree 71 of 100\n",
      "building tree 72 of 100\n",
      "building tree 73 of 100\n",
      "building tree 74 of 100\n",
      "building tree 75 of 100\n",
      "building tree 76 of 100\n",
      "building tree 77 of 100\n",
      "building tree 78 of 100\n",
      "building tree 79 of 100\n",
      "building tree 80 of 100\n",
      "building tree 81 of 100\n",
      "building tree 82 of 100\n",
      "building tree 83 of 100\n",
      "building tree 84 of 100\n",
      "building tree 85 of 100\n",
      "building tree 86 of 100\n",
      "building tree 87 of 100\n",
      "building tree 88 of 100\n",
      "building tree 89 of 100\n",
      "building tree 90 of 100\n",
      "building tree 91 of 100\n",
      "building tree 92 of 100\n",
      "building tree 93 of 100\n",
      "building tree 94 of 100\n",
      "building tree 95 of 100\n",
      "building tree 96 of 100\n",
      "building tree 97 of 100\n",
      "building tree 98 of 100\n",
      "building tree 99 of 100\n",
      "building tree 100 of 100\n"
     ]
    },
    {
     "name": "stderr",
     "output_type": "stream",
     "text": [
      "[Parallel(n_jobs=-1)]: Done 100 out of 100 | elapsed:  4.8min finished\n"
     ]
    },
    {
     "data": {
      "text/plain": [
       "RandomForestRegressor(n_jobs=-1, random_state=42, verbose=3)"
      ]
     },
     "execution_count": 8,
     "metadata": {},
     "output_type": "execute_result"
    }
   ],
   "source": [
    "# traininig of the model\n",
    "regressor.fit(X_train, Y_train)"
   ]
  },
  {
   "cell_type": "code",
   "execution_count": 9,
   "metadata": {},
   "outputs": [
    {
     "data": {
      "text/plain": [
       "\"pkl_filename = 'MODELS/sklearn_model.pkl'\\nwith open(pkl_filename, 'wb') as file:\\n    pickle.dump(regressor, file)\""
      ]
     },
     "execution_count": 9,
     "metadata": {},
     "output_type": "execute_result"
    }
   ],
   "source": [
    "\"\"\"pkl_filename = 'MODELS/sklearn_model.pkl'\n",
    "with open(pkl_filename, 'wb') as file:\n",
    "    pickle.dump(regressor, file)\"\"\""
   ]
  },
  {
   "cell_type": "code",
   "execution_count": 10,
   "metadata": {},
   "outputs": [
    {
     "name": "stderr",
     "output_type": "stream",
     "text": [
      "[Parallel(n_jobs=8)]: Using backend ThreadingBackend with 8 concurrent workers.\n",
      "[Parallel(n_jobs=8)]: Done  16 tasks      | elapsed:    0.8s\n",
      "[Parallel(n_jobs=8)]: Done 100 out of 100 | elapsed:    4.6s finished\n",
      "[Parallel(n_jobs=8)]: Using backend ThreadingBackend with 8 concurrent workers.\n",
      "[Parallel(n_jobs=8)]: Done  16 tasks      | elapsed:    2.7s\n",
      "[Parallel(n_jobs=8)]: Done 100 out of 100 | elapsed:   16.9s finished\n"
     ]
    }
   ],
   "source": [
    "# make predictions to compare with Y_test\n",
    "Y_pred  = regressor.predict(X_test)\n",
    "Y_pred2 = regressor.predict(X_test2)"
   ]
  },
  {
   "cell_type": "code",
   "execution_count": 11,
   "metadata": {},
   "outputs": [
    {
     "name": "stderr",
     "output_type": "stream",
     "text": [
      "[Parallel(n_jobs=8)]: Using backend ThreadingBackend with 8 concurrent workers.\n",
      "[Parallel(n_jobs=8)]: Done  16 tasks      | elapsed:    2.9s\n",
      "[Parallel(n_jobs=8)]: Done 100 out of 100 | elapsed:   17.8s finished\n",
      "[Parallel(n_jobs=8)]: Using backend ThreadingBackend with 8 concurrent workers.\n"
     ]
    },
    {
     "name": "stdout",
     "output_type": "stream",
     "text": [
      "Score of the regressor for the training set:\n",
      " 0.9656095502640116\n"
     ]
    },
    {
     "name": "stderr",
     "output_type": "stream",
     "text": [
      "[Parallel(n_jobs=8)]: Done  16 tasks      | elapsed:    0.8s\n",
      "[Parallel(n_jobs=8)]: Done 100 out of 100 | elapsed:    4.5s finished\n",
      "[Parallel(n_jobs=8)]: Using backend ThreadingBackend with 8 concurrent workers.\n"
     ]
    },
    {
     "name": "stdout",
     "output_type": "stream",
     "text": [
      "\n",
      "Score of the regressor for the test set:\n",
      " 0.9621828175116283\n"
     ]
    },
    {
     "name": "stderr",
     "output_type": "stream",
     "text": [
      "[Parallel(n_jobs=8)]: Done  16 tasks      | elapsed:    2.7s\n"
     ]
    },
    {
     "name": "stdout",
     "output_type": "stream",
     "text": [
      "\n",
      "Score of the regressor for the test set:\n",
      " 0.9656066570814477\n"
     ]
    },
    {
     "name": "stderr",
     "output_type": "stream",
     "text": [
      "[Parallel(n_jobs=8)]: Done 100 out of 100 | elapsed:   17.0s finished\n"
     ]
    }
   ],
   "source": [
    "print('Score of the regressor for the training set:\\n', regressor.score(X_train, Y_train))\n",
    "print('\\nScore of the regressor for the test set:\\n',   regressor.score(X_test,  Y_test ))\n",
    "print('\\nScore of the regressor for the test set:\\n',   regressor.score(X_test2, Y_test2 ))"
   ]
  },
  {
   "cell_type": "code",
   "execution_count": 12,
   "metadata": {},
   "outputs": [
    {
     "name": "stdout",
     "output_type": "stream",
     "text": [
      "Mean squared log error of the regressor for the test set:\n",
      " 0.019974018824950143\n",
      "Mean squared error of the regressor for the test set:\n",
      " 9.177113703945112e+38\n"
     ]
    }
   ],
   "source": [
    "#print('R^2 Score of the regressor for the test set:\\n', r2_score(Y_test,  Y_pred ))\n",
    "print('Mean squared log error of the regressor for the test set:\\n', mean_squared_log_error(Y_test,  Y_pred ))\n",
    "print('Mean squared error of the regressor for the test set:\\n', mean_squared_error(Y_test,  Y_pred ))"
   ]
  },
  {
   "cell_type": "code",
   "execution_count": 13,
   "metadata": {},
   "outputs": [
    {
     "data": {
      "image/png": "[encoded data removed]",
      "text/plain": [
       "<Figure size 1080x504 with 1 Axes>"
      ]
     },
     "metadata": {
      "needs_background": "light"
     },
     "output_type": "display_data"
    }
   ],
   "source": [
    "plot_hist(Y_pred, 100)"
   ]
  },
  {
   "cell_type": "code",
   "execution_count": 14,
   "metadata": {},
   "outputs": [
    {
     "data": {
      "image/png": "[encoded data removed]",
      "text/plain": [
       "<Figure size 1080x504 with 1 Axes>"
      ]
     },
     "metadata": {
      "needs_background": "light"
     },
     "output_type": "display_data"
    }
   ],
   "source": [
    "plot_hist(Y_test, 100)"
   ]
  },
  {
   "cell_type": "code",
   "execution_count": 15,
   "metadata": {},
   "outputs": [
    {
     "data": {
      "image/png": "[encoded data removed]",
      "text/plain": [
       "<Figure size 1080x504 with 1 Axes>"
      ]
     },
     "metadata": {
      "needs_background": "light"
     },
     "output_type": "display_data"
    },
    {
     "data": {
      "image/png": "[encoded data removed]",
      "text/plain": [
       "<Figure size 1080x504 with 1 Axes>"
      ]
     },
     "metadata": {
      "needs_background": "light"
     },
     "output_type": "display_data"
    }
   ],
   "source": [
    "plot_hist(Y_pred2, 100)\n",
    "plot_hist(Y_test2, 100)"
   ]
  },
  {
   "cell_type": "code",
   "execution_count": 16,
   "metadata": {},
   "outputs": [
    {
     "data": {
      "image/png": "[encoded data removed]",
      "text/plain": [
       "<Figure size 1080x864 with 1 Axes>"
      ]
     },
     "metadata": {
      "needs_background": "light"
     },
     "output_type": "display_data"
    }
   ],
   "source": [
    "fig, ax = plt.subplots(figsize=(15,12))\n",
    "\n",
    "ax.scatter(Y_test, Y_pred)\n",
    "\n",
    "ax.set_title('Y_pred vs Y_test')\n",
    "ax.set_xlabel('Delay Time computed [Myr]')\n",
    "ax.set_ylabel('Delay Time predicted [Myr]')\n",
    "ax.grid(ls='dotted', lw=2)\n",
    "\n",
    "ax.set_xscale('log')\n",
    "ax.set_yscale('log')\n",
    "\n",
    "plt.show()"
   ]
  },
  {
   "cell_type": "code",
   "execution_count": 17,
   "metadata": {},
   "outputs": [
    {
     "data": {
      "image/png": "[encoded data removed]",
      "text/plain": [
       "<Figure size 1080x864 with 1 Axes>"
      ]
     },
     "metadata": {
      "needs_background": "light"
     },
     "output_type": "display_data"
    }
   ],
   "source": [
    "fig, ax = plt.subplots(figsize=(15,12))\n",
    "\n",
    "ax.scatter(Y_test2, Y_pred2)\n",
    "\n",
    "ax.set_title('Shuffled dataset - Y_pred vs Y_test')\n",
    "ax.set_xlabel('Delay Time computed [Myr]')\n",
    "ax.set_ylabel('Delay Time predicted [Myr]')\n",
    "ax.grid(ls='dotted', lw=2)\n",
    "ax.set_xscale('log')\n",
    "ax.set_yscale('log')\n",
    "plt.show()"
   ]
  },
  {
   "cell_type": "code",
   "execution_count": 18,
   "metadata": {
    "scrolled": false
   },
   "outputs": [
    {
     "name": "stdout",
     "output_type": "stream",
     "text": [
      "[0.8163929  0.07228609 0.0504146  0.0609064 ]\n"
     ]
    },
    {
     "data": {
      "image/png": "[encoded data removed]",
      "text/plain": [
       "<Figure size 1080x864 with 1 Axes>"
      ]
     },
     "metadata": {
      "needs_background": "light"
     },
     "output_type": "display_data"
    }
   ],
   "source": [
    "print(regressor.feature_importances_)\n",
    "\n",
    "features = np.array(['Mass_0', 'Mass_1', 'Semimajor', 'Eccentricity', 'Z', 'alpha'])\n",
    "\n",
    "sorted_idx = regressor.feature_importances_.argsort()\n",
    "\n",
    "fig, ax = plt.subplots(figsize=(15,12))\n",
    "\n",
    "ax.barh(features[sorted_idx], regressor.feature_importances_[sorted_idx])\n",
    "ax.set_xlabel(\"Random Forest Feature Importance\")\n",
    "\n",
    "plt.show()"
   ]
  },
  {
   "cell_type": "code",
   "execution_count": null,
   "metadata": {},
   "outputs": [],
   "source": [
    "plt.figure(figsize=(20,20))\n",
    "_ = tree.plot_tree(regressor.estimators_[0], \n",
    "                   feature_names=['Mass_0', 'Mass_1', 'Semimajor', 'Eccentricity', 'Z', 'alpha'],\n",
    "                   filled=True)"
   ]
  },
  {
   "cell_type": "code",
   "execution_count": null,
   "metadata": {},
   "outputs": [],
   "source": [
    "dot_data = export_graphviz(regressor.estimators_[0],\n",
    "                           feature_names=['Mass_0', 'Mass_1', 'Semimajor', 'Eccentricity', 'Z', 'alpha'],  \n",
    "                           filled=True, rounded=True)  \n",
    "\n",
    "graph = graphviz.Source(dot_data, format='png')\n",
    "graph.render(\"tree\") "
   ]
  },
  {
   "cell_type": "markdown",
   "metadata": {},
   "source": [
    "From here it is problematic: using 100 as number of trees and using 30% of the data results in using already almost all the ram (16Gb)."
   ]
  },
  {
   "cell_type": "markdown",
   "metadata": {},
   "source": [
    "## Tuning of the hyperparameters\n",
    "First we do a random grid search"
   ]
  },
  {
   "cell_type": "code",
   "execution_count": null,
   "metadata": {},
   "outputs": [],
   "source": [
    "# Number of trees in random forest\n",
    "n_estimators = [int(x) for x in np.linspace(start = 200, stop = 2000, num = 10)]\n",
    "\n",
    "# Number of features to consider at every split\n",
    "max_features = ['auto', 'sqrt']\n",
    "\n",
    "# Maximum number of levels in tree\n",
    "max_depth = [int(x) for x in np.linspace(10, 110, num = 11)]\n",
    "max_depth.append(None)\n",
    "\n",
    "# Minimum number of samples required to split a node\n",
    "min_samples_split = [2, 5, 10]\n",
    "\n",
    "# Minimum number of samples required at each leaf node\n",
    "min_samples_leaf = [1, 2, 4]\n",
    "\n",
    "# Method of selecting samples for training each tree\n",
    "bootstrap = [True, False]\n",
    "\n",
    "# Create the random grid\n",
    "random_grid = {'n_estimators': n_estimators,\n",
    "               'max_features': max_features,\n",
    "               'max_depth': max_depth,\n",
    "               'min_samples_split': min_samples_split,\n",
    "               'min_samples_leaf': min_samples_leaf,\n",
    "               'bootstrap': bootstrap}\n",
    "random_grid"
   ]
  },
  {
   "cell_type": "code",
   "execution_count": null,
   "metadata": {},
   "outputs": [],
   "source": [
    "# Use the random grid to search for best hyperparameters\n",
    "# First create the base model to tune\n",
    "rf = RandomForestRegressor()\n",
    "\n",
    "# Random search of parameters, using 3 fold cross validation, \n",
    "# search across 100 different combinations, and use all available cores\n",
    "rf_random = RandomizedSearchCV(estimator=rf, param_distributions=random_grid, \n",
    "                               n_iter = 5, cv = 3, verbose=3, \n",
    "                               random_state=42, n_jobs = -1)\n",
    "\n",
    "# Fit the random search model\n",
    "with sys_pipes():\n",
    "    rf_random.fit(X_train, Y_train)"
   ]
  },
  {
   "cell_type": "code",
   "execution_count": null,
   "metadata": {},
   "outputs": [],
   "source": [
    "def evaluate_accuracy(model, test_features, test_labels):\n",
    "    predictions = model.predict(test_features)\n",
    "    errors = abs(predictions - test_labels)\n",
    "    mape = 100 * np.mean(errors / test_labels)\n",
    "    accuracy = 100 - mape\n",
    "    print('Model Performance')\n",
    "    print('Average Error: {:0.4f} degrees.'.format(np.mean(errors)))\n",
    "    print('Accuracy = {:0.2f}%.'.format(accuracy))\n",
    "    \n",
    "    return accuracy"
   ]
  },
  {
   "cell_type": "code",
   "execution_count": null,
   "metadata": {},
   "outputs": [],
   "source": [
    "best_random = rf_random.best_estimator_\n",
    "random_accuracy = evaluate_accuracy(best_random, X_test, Y_test)"
   ]
  },
  {
   "cell_type": "code",
   "execution_count": null,
   "metadata": {},
   "outputs": [],
   "source": [
    "best_random"
   ]
  },
  {
   "cell_type": "code",
   "execution_count": null,
   "metadata": {},
   "outputs": [],
   "source": [
    "# Create the parameter grid based on the results of random search \n",
    "param_grid = {\n",
    "    'bootstrap': [True],\n",
    "    'max_depth': [80, 90, 100, 110],\n",
    "    'max_features': [2, 3],\n",
    "    'min_samples_leaf': [3, 4, 5],\n",
    "    'min_samples_split': [8, 10, 12],\n",
    "    'n_estimators': [100, 200, 300, 1000]\n",
    "}\n",
    "# Create a based model\n",
    "rf = RandomForestRegressor()\n",
    "# Instantiate the grid search model\n",
    "grid_search = GridSearchCV(estimator = rf, param_grid = param_grid, \n",
    "                           cv = 3, n_jobs = -1, verbose = 2)"
   ]
  },
  {
   "cell_type": "markdown",
   "metadata": {},
   "source": [
    "## XGBoost"
   ]
  },
  {
   "cell_type": "code",
   "execution_count": 40,
   "metadata": {},
   "outputs": [],
   "source": [
    "### Normalization of each column\n",
    "features = BHBH[['Mass_0', 'Mass_1', 'Semimajor', 'Eccentricity', 'Z', 'alpha', 'Delay_Time']]\n",
    "\n",
    "# min-max normalization\n",
    "features = (features-features.min())/(features.max()-features.min())\n",
    "\n",
    "# mean normalization\n",
    "#features=(features-features.mean())/features.std()"
   ]
  },
  {
   "cell_type": "code",
   "execution_count": 41,
   "metadata": {},
   "outputs": [
    {
     "data": {
      "text/plain": [
       "array([2.85139799e-20, 1.12481184e-08, 7.20135066e-13, ...,\n",
       "       2.34295713e-17, 2.71839129e-18, 1.25859401e-21])"
      ]
     },
     "execution_count": 41,
     "metadata": {},
     "output_type": "execute_result"
    }
   ],
   "source": [
    "# define attributes based on knowledge\n",
    "# should we use the others?\n",
    "X = features[['Mass_0', 'Mass_1', 'Semimajor', 'Eccentricity', 'Z', 'alpha']].to_numpy()\n",
    "Y = features.Delay_Time.to_numpy()\n",
    "\n",
    "# split train and test set (80% training, 20% test)\n",
    "X_train, X_test, Y_train, Y_test = train_test_split(X, Y, test_size=.2, random_state=0)\n",
    "Y_train"
   ]
  },
  {
   "cell_type": "code",
   "execution_count": 42,
   "metadata": {
    "scrolled": true
   },
   "outputs": [
    {
     "name": "stdout",
     "output_type": "stream",
     "text": [
      "[22:46:09] ======== Monitor (0): Learner ========\n",
      "[22:46:09] Configure: 0.00021s, 1 calls @ 210us\n",
      "\n",
      "[22:46:09] ======== Monitor (0): GBTree ========\n",
      "[22:46:09] ======== Monitor (0): TreePruner ========\n",
      "[22:46:09] DEBUG: ../src/gbm/gbtree.cc:155: Using tree method: 2\n",
      "[22:46:31] INFO: ../src/tree/updater_prune.cc:101: tree pruning end, 18 extra nodes, 0 pruned nodes, max_depth=6\n",
      "[22:46:31] INFO: ../src/tree/updater_prune.cc:101: tree pruning end, 4 extra nodes, 0 pruned nodes, max_depth=2\n",
      "[22:46:31] INFO: ../src/tree/updater_prune.cc:101: tree pruning end, 14 extra nodes, 0 pruned nodes, max_depth=6\n",
      "[22:46:31] INFO: ../src/tree/updater_prune.cc:101: tree pruning end, 6 extra nodes, 0 pruned nodes, max_depth=2\n",
      "[22:46:31] INFO: ../src/tree/updater_prune.cc:101: tree pruning end, 20 extra nodes, 0 pruned nodes, max_depth=6\n",
      "[22:46:31] INFO: ../src/tree/updater_prune.cc:101: tree pruning end, 2 extra nodes, 0 pruned nodes, max_depth=1\n",
      "[22:46:31] INFO: ../src/tree/updater_prune.cc:101: tree pruning end, 8 extra nodes, 0 pruned nodes, max_depth=3\n",
      "[22:46:31] INFO: ../src/tree/updater_prune.cc:101: tree pruning end, 6 extra nodes, 0 pruned nodes, max_depth=2\n",
      "[22:46:31] INFO: ../src/tree/updater_prune.cc:101: tree pruning end, 16 extra nodes, 0 pruned nodes, max_depth=6\n",
      "[22:46:31] INFO: ../src/tree/updater_prune.cc:101: tree pruning end, 2 extra nodes, 0 pruned nodes, max_depth=1\n",
      "[22:46:31] INFO: ../src/tree/updater_prune.cc:101: tree pruning end, 6 extra nodes, 0 pruned nodes, max_depth=2\n",
      "[22:46:31] INFO: ../src/tree/updater_prune.cc:101: tree pruning end, 4 extra nodes, 0 pruned nodes, max_depth=2\n",
      "[22:46:31] INFO: ../src/tree/updater_prune.cc:101: tree pruning end, 4 extra nodes, 0 pruned nodes, max_depth=2\n",
      "[22:46:31] INFO: ../src/tree/updater_prune.cc:101: tree pruning end, 8 extra nodes, 0 pruned nodes, max_depth=3\n",
      "[22:46:31] INFO: ../src/tree/updater_prune.cc:101: tree pruning end, 2 extra nodes, 0 pruned nodes, max_depth=1\n",
      "[22:46:31] INFO: ../src/tree/updater_prune.cc:101: tree pruning end, 6 extra nodes, 0 pruned nodes, max_depth=2\n",
      "[22:46:31] INFO: ../src/tree/updater_prune.cc:101: tree pruning end, 4 extra nodes, 0 pruned nodes, max_depth=2\n",
      "[22:46:31] INFO: ../src/tree/updater_prune.cc:101: tree pruning end, 10 extra nodes, 0 pruned nodes, max_depth=4\n",
      "[22:46:31] INFO: ../src/tree/updater_prune.cc:101: tree pruning end, 4 extra nodes, 0 pruned nodes, max_depth=2\n",
      "[22:46:31] INFO: ../src/tree/updater_prune.cc:101: tree pruning end, 8 extra nodes, 0 pruned nodes, max_depth=3\n",
      "[22:46:31] INFO: ../src/tree/updater_prune.cc:101: tree pruning end, 4 extra nodes, 0 pruned nodes, max_depth=2\n",
      "[22:46:31] INFO: ../src/tree/updater_prune.cc:101: tree pruning end, 22 extra nodes, 0 pruned nodes, max_depth=6\n",
      "[22:46:31] INFO: ../src/tree/updater_prune.cc:101: tree pruning end, 16 extra nodes, 0 pruned nodes, max_depth=6\n",
      "[22:46:31] INFO: ../src/tree/updater_prune.cc:101: tree pruning end, 10 extra nodes, 0 pruned nodes, max_depth=4\n",
      "[22:46:31] INFO: ../src/tree/updater_prune.cc:101: tree pruning end, 4 extra nodes, 0 pruned nodes, max_depth=2\n",
      "[22:46:31] INFO: ../src/tree/updater_prune.cc:101: tree pruning end, 4 extra nodes, 0 pruned nodes, max_depth=2\n",
      "[22:46:31] INFO: ../src/tree/updater_prune.cc:101: tree pruning end, 2 extra nodes, 0 pruned nodes, max_depth=1\n",
      "[22:46:31] INFO: ../src/tree/updater_prune.cc:101: tree pruning end, 16 extra nodes, 0 pruned nodes, max_depth=6\n",
      "[22:46:31] INFO: ../src/tree/updater_prune.cc:101: tree pruning end, 6 extra nodes, 0 pruned nodes, max_depth=2\n",
      "[22:46:31] INFO: ../src/tree/updater_prune.cc:101: tree pruning end, 0 extra nodes, 0 pruned nodes, max_depth=0\n",
      "[22:46:31] INFO: ../src/tree/updater_prune.cc:101: tree pruning end, 12 extra nodes, 0 pruned nodes, max_depth=6\n",
      "[22:46:31] INFO: ../src/tree/updater_prune.cc:101: tree pruning end, 4 extra nodes, 0 pruned nodes, max_depth=2\n",
      "[22:46:31] INFO: ../src/tree/updater_prune.cc:101: tree pruning end, 4 extra nodes, 0 pruned nodes, max_depth=2\n",
      "[22:46:31] INFO: ../src/tree/updater_prune.cc:101: tree pruning end, 6 extra nodes, 0 pruned nodes, max_depth=3\n",
      "[22:46:31] INFO: ../src/tree/updater_prune.cc:101: tree pruning end, 10 extra nodes, 0 pruned nodes, max_depth=4\n",
      "[22:46:31] INFO: ../src/tree/updater_prune.cc:101: tree pruning end, 20 extra nodes, 0 pruned nodes, max_depth=6\n",
      "[22:46:31] INFO: ../src/tree/updater_prune.cc:101: tree pruning end, 6 extra nodes, 0 pruned nodes, max_depth=2\n",
      "[22:46:31] INFO: ../src/tree/updater_prune.cc:101: tree pruning end, 6 extra nodes, 0 pruned nodes, max_depth=2\n",
      "[22:46:31] INFO: ../src/tree/updater_prune.cc:101: tree pruning end, 8 extra nodes, 0 pruned nodes, max_depth=3\n",
      "[22:46:31] INFO: ../src/tree/updater_prune.cc:101: tree pruning end, 4 extra nodes, 0 pruned nodes, max_depth=2\n",
      "[22:46:31] INFO: ../src/tree/updater_prune.cc:101: tree pruning end, 14 extra nodes, 0 pruned nodes, max_depth=6\n",
      "[22:46:31] INFO: ../src/tree/updater_prune.cc:101: tree pruning end, 10 extra nodes, 0 pruned nodes, max_depth=4\n",
      "[22:46:31] INFO: ../src/tree/updater_prune.cc:101: tree pruning end, 6 extra nodes, 0 pruned nodes, max_depth=2\n",
      "[22:46:31] INFO: ../src/tree/updater_prune.cc:101: tree pruning end, 12 extra nodes, 0 pruned nodes, max_depth=6\n",
      "[22:46:31] INFO: ../src/tree/updater_prune.cc:101: tree pruning end, 4 extra nodes, 0 pruned nodes, max_depth=2\n",
      "[22:46:31] INFO: ../src/tree/updater_prune.cc:101: tree pruning end, 4 extra nodes, 0 pruned nodes, max_depth=2\n",
      "[22:46:31] INFO: ../src/tree/updater_prune.cc:101: tree pruning end, 14 extra nodes, 0 pruned nodes, max_depth=6\n",
      "[22:46:31] INFO: ../src/tree/updater_prune.cc:101: tree pruning end, 12 extra nodes, 0 pruned nodes, max_depth=6\n",
      "[22:46:31] INFO: ../src/tree/updater_prune.cc:101: tree pruning end, 12 extra nodes, 0 pruned nodes, max_depth=6\n",
      "[22:46:31] INFO: ../src/tree/updater_prune.cc:101: tree pruning end, 4 extra nodes, 0 pruned nodes, max_depth=2\n",
      "[22:46:31] INFO: ../src/tree/updater_prune.cc:101: tree pruning end, 4 extra nodes, 0 pruned nodes, max_depth=2\n",
      "[22:46:31] INFO: ../src/tree/updater_prune.cc:101: tree pruning end, 16 extra nodes, 0 pruned nodes, max_depth=6\n",
      "[22:46:31] INFO: ../src/tree/updater_prune.cc:101: tree pruning end, 6 extra nodes, 0 pruned nodes, max_depth=2\n",
      "[22:46:31] INFO: ../src/tree/updater_prune.cc:101: tree pruning end, 16 extra nodes, 0 pruned nodes, max_depth=6\n",
      "[22:46:31] INFO: ../src/tree/updater_prune.cc:101: tree pruning end, 4 extra nodes, 0 pruned nodes, max_depth=2\n",
      "[22:46:31] INFO: ../src/tree/updater_prune.cc:101: tree pruning end, 8 extra nodes, 0 pruned nodes, max_depth=3\n",
      "[22:46:31] INFO: ../src/tree/updater_prune.cc:101: tree pruning end, 4 extra nodes, 0 pruned nodes, max_depth=2\n",
      "[22:46:31] INFO: ../src/tree/updater_prune.cc:101: tree pruning end, 14 extra nodes, 0 pruned nodes, max_depth=6\n",
      "[22:46:31] INFO: ../src/tree/updater_prune.cc:101: tree pruning end, 16 extra nodes, 0 pruned nodes, max_depth=6\n",
      "[22:46:31] INFO: ../src/tree/updater_prune.cc:101: tree pruning end, 16 extra nodes, 0 pruned nodes, max_depth=6\n",
      "[22:46:31] INFO: ../src/tree/updater_prune.cc:101: tree pruning end, 14 extra nodes, 0 pruned nodes, max_depth=6\n",
      "[22:46:31] INFO: ../src/tree/updater_prune.cc:101: tree pruning end, 6 extra nodes, 0 pruned nodes, max_depth=3\n",
      "[22:46:31] INFO: ../src/tree/updater_prune.cc:101: tree pruning end, 12 extra nodes, 0 pruned nodes, max_depth=6\n",
      "[22:46:31] INFO: ../src/tree/updater_prune.cc:101: tree pruning end, 6 extra nodes, 0 pruned nodes, max_depth=3\n",
      "[22:46:31] INFO: ../src/tree/updater_prune.cc:101: tree pruning end, 4 extra nodes, 0 pruned nodes, max_depth=2\n",
      "[22:46:31] INFO: ../src/tree/updater_prune.cc:101: tree pruning end, 6 extra nodes, 0 pruned nodes, max_depth=2\n",
      "[22:46:31] INFO: ../src/tree/updater_prune.cc:101: tree pruning end, 0 extra nodes, 0 pruned nodes, max_depth=0\n",
      "[22:46:31] INFO: ../src/tree/updater_prune.cc:101: tree pruning end, 4 extra nodes, 0 pruned nodes, max_depth=2\n",
      "[22:46:31] INFO: ../src/tree/updater_prune.cc:101: tree pruning end, 6 extra nodes, 0 pruned nodes, max_depth=2\n",
      "[22:46:31] INFO: ../src/tree/updater_prune.cc:101: tree pruning end, 10 extra nodes, 0 pruned nodes, max_depth=4\n",
      "[22:46:31] INFO: ../src/tree/updater_prune.cc:101: tree pruning end, 8 extra nodes, 0 pruned nodes, max_depth=3\n",
      "[22:46:31] INFO: ../src/tree/updater_prune.cc:101: tree pruning end, 6 extra nodes, 0 pruned nodes, max_depth=2\n",
      "[22:46:31] INFO: ../src/tree/updater_prune.cc:101: tree pruning end, 4 extra nodes, 0 pruned nodes, max_depth=2\n",
      "[22:46:31] INFO: ../src/tree/updater_prune.cc:101: tree pruning end, 32 extra nodes, 0 pruned nodes, max_depth=6\n",
      "[22:46:31] INFO: ../src/tree/updater_prune.cc:101: tree pruning end, 4 extra nodes, 0 pruned nodes, max_depth=2\n",
      "[22:46:31] INFO: ../src/tree/updater_prune.cc:101: tree pruning end, 4 extra nodes, 0 pruned nodes, max_depth=2\n",
      "[22:46:31] INFO: ../src/tree/updater_prune.cc:101: tree pruning end, 16 extra nodes, 0 pruned nodes, max_depth=6\n",
      "[22:46:31] INFO: ../src/tree/updater_prune.cc:101: tree pruning end, 4 extra nodes, 0 pruned nodes, max_depth=2\n",
      "[22:46:31] INFO: ../src/tree/updater_prune.cc:101: tree pruning end, 6 extra nodes, 0 pruned nodes, max_depth=2\n",
      "[22:46:31] INFO: ../src/tree/updater_prune.cc:101: tree pruning end, 4 extra nodes, 0 pruned nodes, max_depth=2\n",
      "[22:46:31] INFO: ../src/tree/updater_prune.cc:101: tree pruning end, 14 extra nodes, 0 pruned nodes, max_depth=6\n",
      "[22:46:31] INFO: ../src/tree/updater_prune.cc:101: tree pruning end, 2 extra nodes, 0 pruned nodes, max_depth=1\n",
      "[22:46:31] INFO: ../src/tree/updater_prune.cc:101: tree pruning end, 14 extra nodes, 0 pruned nodes, max_depth=5\n",
      "[22:46:31] INFO: ../src/tree/updater_prune.cc:101: tree pruning end, 4 extra nodes, 0 pruned nodes, max_depth=2\n",
      "[22:46:31] INFO: ../src/tree/updater_prune.cc:101: tree pruning end, 12 extra nodes, 0 pruned nodes, max_depth=6\n",
      "[22:46:31] INFO: ../src/tree/updater_prune.cc:101: tree pruning end, 4 extra nodes, 0 pruned nodes, max_depth=2\n",
      "[22:46:31] INFO: ../src/tree/updater_prune.cc:101: tree pruning end, 10 extra nodes, 0 pruned nodes, max_depth=4\n",
      "[22:46:31] INFO: ../src/tree/updater_prune.cc:101: tree pruning end, 18 extra nodes, 0 pruned nodes, max_depth=6\n",
      "[22:46:31] INFO: ../src/tree/updater_prune.cc:101: tree pruning end, 4 extra nodes, 0 pruned nodes, max_depth=2\n",
      "[22:46:31] INFO: ../src/tree/updater_prune.cc:101: tree pruning end, 16 extra nodes, 0 pruned nodes, max_depth=6\n",
      "[22:46:31] INFO: ../src/tree/updater_prune.cc:101: tree pruning end, 4 extra nodes, 0 pruned nodes, max_depth=2\n",
      "[22:46:31] INFO: ../src/tree/updater_prune.cc:101: tree pruning end, 4 extra nodes, 0 pruned nodes, max_depth=2\n",
      "[22:46:31] INFO: ../src/tree/updater_prune.cc:101: tree pruning end, 12 extra nodes, 0 pruned nodes, max_depth=6\n",
      "[22:46:31] INFO: ../src/tree/updater_prune.cc:101: tree pruning end, 20 extra nodes, 0 pruned nodes, max_depth=6\n",
      "[22:46:31] INFO: ../src/tree/updater_prune.cc:101: tree pruning end, 4 extra nodes, 0 pruned nodes, max_depth=2\n",
      "[22:46:31] INFO: ../src/tree/updater_prune.cc:101: tree pruning end, 4 extra nodes, 0 pruned nodes, max_depth=2\n",
      "[22:46:31] INFO: ../src/tree/updater_prune.cc:101: tree pruning end, 4 extra nodes, 0 pruned nodes, max_depth=2\n",
      "[22:46:31] INFO: ../src/tree/updater_prune.cc:101: tree pruning end, 4 extra nodes, 0 pruned nodes, max_depth=2\n",
      "[22:46:31] INFO: ../src/tree/updater_prune.cc:101: tree pruning end, 6 extra nodes, 0 pruned nodes, max_depth=2\n",
      "[22:46:31] INFO: ../src/tree/updater_prune.cc:101: tree pruning end, 12 extra nodes, 0 pruned nodes, max_depth=6\n",
      "[0]\tvalidation_0-rmse:0.00009\n"
     ]
    },
    {
     "name": "stdout",
     "output_type": "stream",
     "text": [
      "[22:46:31] ======== Monitor (0): Learner ========\n",
      "[22:46:31] Configure: 0.000431s, 1 calls @ 431us\n",
      "\n",
      "[22:46:31] EvalOneIter: 0.028516s, 1 calls @ 28516us\n",
      "\n",
      "[22:46:31] GetGradient: 0.002095s, 1 calls @ 2095us\n",
      "\n",
      "[22:46:31] PredictRaw: 0.002051s, 1 calls @ 2051us\n",
      "\n",
      "[22:46:31] UpdateOneIter: 21.9008s, 1 calls @ 21900825us\n",
      "\n",
      "[22:46:31] ======== Monitor (0): GBTree ========\n",
      "[22:46:31] BoostNewTrees: 21.8959s, 1 calls @ 21895888us\n",
      "\n",
      "[22:46:31] CommitModel: 4e-06s, 1 calls @ 4us\n",
      "\n",
      "[22:46:31] ======== Monitor (0): TreePruner ========\n",
      "[22:46:31] PrunerUpdate: 0.00668s, 1 calls @ 6680us\n",
      "\n",
      "Test  R2 Score : 0.05\n",
      "Train R2 Score : 0.99\n"
     ]
    }
   ],
   "source": [
    "# definition of the model \n",
    "#model = XGBRFRegressor(\n",
    "#    n_estimators = 100,\n",
    "#    objective = 'reg:squarederror',\n",
    "#    colsample_bytree = 0.9,\n",
    "#    learning_rate = 1.,\n",
    "#    max_depth = None,\n",
    "#    min_child_weight = 1,\n",
    "#    n_estimators = 250,\n",
    "#    subsample = 0.9,\n",
    "#    verbosity=3, \n",
    "#    n_jobs=-1,\n",
    "#    random_state=42)\n",
    "model = XGBRFRegressor(n_jobs=-1)\n",
    "# traininig of the model\n",
    "model.fit(X_train, Y_train, eval_set=[(X_test, Y_test)])\n",
    "\n",
    "print(\"Test  R2 Score : %.2f\"%model.score(X_test,  Y_test ))\n",
    "print(\"Train R2 Score : %.2f\"%model.score(X_train, Y_train))"
   ]
  },
  {
   "cell_type": "code",
   "execution_count": 43,
   "metadata": {},
   "outputs": [
    {
     "name": "stdout",
     "output_type": "stream",
     "text": [
      "Score of the regressor for the training set:\n",
      " 0.9901767184644611\n",
      "\n",
      "Score of the regressor for the test set:\n",
      " 0.04863435663106119\n",
      "R^2 Score of the regressor for the test set:\n",
      " 0.04863435663106119\n",
      "Mean squared log error of the regressor for the test set:\n",
      " 7.76429107337833e-09\n",
      "Mean squared error of the regressor for the test set:\n",
      " 7.92798311310162e-09\n"
     ]
    }
   ],
   "source": [
    "# make predictions to compare with Y_test\n",
    "Y_pred = model.predict(X_test)\n",
    "\n",
    "print('Score of the regressor for the training set:\\n', model.score(X_train, Y_train))\n",
    "print('\\nScore of the regressor for the test set:\\n',   model.score(X_test,  Y_test ))\n",
    "print('R^2 Score of the regressor for the test set:\\n', r2_score(Y_test,  Y_pred ))\n",
    "print('Mean squared log error of the regressor for the test set:\\n', mean_squared_log_error(Y_test,  Y_pred ))\n",
    "print('Mean squared error of the regressor for the test set:\\n', mean_squared_error(Y_test,  Y_pred ))"
   ]
  },
  {
   "cell_type": "code",
   "execution_count": 47,
   "metadata": {},
   "outputs": [
    {
     "data": {
      "image/png": "[encoded data removed]",
      "text/plain": [
       "<Figure size 1080x864 with 1 Axes>"
      ]
     },
     "metadata": {
      "needs_background": "light"
     },
     "output_type": "display_data"
    }
   ],
   "source": [
    "fig, ax = plt.subplots(figsize=(15,12))\n",
    "\n",
    "ax.scatter(Y_test, Y_pred)\n",
    "\n",
    "ax.set_title('Y_pred vs Y_test')\n",
    "ax.set_xlabel('Delay Time computed [Myr]')\n",
    "ax.set_ylabel('Delay Time predicted [Myr]')\n",
    "ax.grid(ls='dotted', lw=2)\n",
    "\n",
    "ax.set_xscale('log')\n",
    "ax.set_yscale('log')\n",
    "\n",
    "plt.show()"
   ]
  },
  {
   "cell_type": "markdown",
   "metadata": {},
   "source": [
    "### GridSearch"
   ]
  },
  {
   "cell_type": "code",
   "execution_count": 48,
   "metadata": {},
   "outputs": [
    {
     "data": {
      "text/plain": [
       "{'n_estimators': [100], 'max_depth': [None]}"
      ]
     },
     "execution_count": 48,
     "metadata": {},
     "output_type": "execute_result"
    }
   ],
   "source": [
    "random_grid = {\n",
    "    'n_estimators': [100, 200, 300, 500, 1000],\n",
    "    #'learning_rate': [.01, .05, .1, .2],\n",
    "    'max_depth': [None, 3, 5, 7, 10],\n",
    "    'min_child_weight': [None, 1, 3, 5],\n",
    "    'subsample': [None, .1, .5, .7],\n",
    "    'colsample_bytree': [None, .1, .5, .7],\n",
    "    'objective': ['reg:squarederror']\n",
    "}\n",
    "\n",
    "random_grid"
   ]
  },
  {
   "cell_type": "code",
   "execution_count": 51,
   "metadata": {},
   "outputs": [
    {
     "name": "stdout",
     "output_type": "stream",
     "text": [
      "Fitting 3 folds for each of 1 candidates, totalling 3 fits\n"
     ]
    },
    {
     "name": "stderr",
     "output_type": "stream",
     "text": [
      "/home/ubuntu/miniconda3/lib/python3.9/site-packages/xgboost/compat.py:36: FutureWarning: pandas.Int64Index is deprecated and will be removed from pandas in a future version. Use pandas.Index with the appropriate dtype instead.\n",
      "  from pandas import MultiIndex, Int64Index\n",
      "/home/ubuntu/miniconda3/lib/python3.9/site-packages/xgboost/compat.py:36: FutureWarning: pandas.Int64Index is deprecated and will be removed from pandas in a future version. Use pandas.Index with the appropriate dtype instead.\n",
      "  from pandas import MultiIndex, Int64Index\n",
      "/home/ubuntu/miniconda3/lib/python3.9/site-packages/xgboost/compat.py:36: FutureWarning: pandas.Int64Index is deprecated and will be removed from pandas in a future version. Use pandas.Index with the appropriate dtype instead.\n",
      "  from pandas import MultiIndex, Int64Index\n"
     ]
    },
    {
     "name": "stdout",
     "output_type": "stream",
     "text": [
      "[22:55:09] DEBUG: ../src/gbm/gbtree.cc:155: Using tree method: 2\n",
      "[22:55:30] INFO: ../src/tree/updater_prune.cc:101: tree pruning end, 18 extra nodes, 0 pruned nodes, max_depth=6\n",
      "[22:55:30] INFO: ../src/tree/updater_prune.cc:101: tree pruning end, 4 extra nodes, 0 pruned nodes, max_depth=2\n",
      "[22:55:30] INFO: ../src/tree/updater_prune.cc:101: tree pruning end, 14 extra nodes, 0 pruned nodes, max_depth=6\n",
      "[22:55:30] INFO: ../src/tree/updater_prune.cc:101: tree pruning end, 6 extra nodes, 0 pruned nodes, max_depth=2\n",
      "[22:55:30] INFO: ../src/tree/updater_prune.cc:101: tree pruning end, 20 extra nodes, 0 pruned nodes, max_depth=6\n",
      "[22:55:30] INFO: ../src/tree/updater_prune.cc:101: tree pruning end, 2 extra nodes, 0 pruned nodes, max_depth=1\n",
      "[22:55:30] INFO: ../src/tree/updater_prune.cc:101: tree pruning end, 8 extra nodes, 0 pruned nodes, max_depth=3\n",
      "[22:55:30] INFO: ../src/tree/updater_prune.cc:101: tree pruning end, 6 extra nodes, 0 pruned nodes, max_depth=2\n",
      "[22:55:30] INFO: ../src/tree/updater_prune.cc:101: tree pruning end, 16 extra nodes, 0 pruned nodes, max_depth=6\n",
      "[22:55:30] INFO: ../src/tree/updater_prune.cc:101: tree pruning end, 2 extra nodes, 0 pruned nodes, max_depth=1\n",
      "[22:55:30] INFO: ../src/tree/updater_prune.cc:101: tree pruning end, 6 extra nodes, 0 pruned nodes, max_depth=2\n",
      "[22:55:30] INFO: ../src/tree/updater_prune.cc:101: tree pruning end, 4 extra nodes, 0 pruned nodes, max_depth=2\n",
      "[22:55:30] INFO: ../src/tree/updater_prune.cc:101: tree pruning end, 4 extra nodes, 0 pruned nodes, max_depth=2\n",
      "[22:55:30] INFO: ../src/tree/updater_prune.cc:101: tree pruning end, 8 extra nodes, 0 pruned nodes, max_depth=3\n",
      "[22:55:30] INFO: ../src/tree/updater_prune.cc:101: tree pruning end, 2 extra nodes, 0 pruned nodes, max_depth=1\n",
      "[22:55:30] INFO: ../src/tree/updater_prune.cc:101: tree pruning end, 6 extra nodes, 0 pruned nodes, max_depth=2\n",
      "[22:55:30] INFO: ../src/tree/updater_prune.cc:101: tree pruning end, 4 extra nodes, 0 pruned nodes, max_depth=2\n",
      "[22:55:30] INFO: ../src/tree/updater_prune.cc:101: tree pruning end, 10 extra nodes, 0 pruned nodes, max_depth=4\n",
      "[22:55:30] INFO: ../src/tree/updater_prune.cc:101: tree pruning end, 4 extra nodes, 0 pruned nodes, max_depth=2\n",
      "[22:55:30] INFO: ../src/tree/updater_prune.cc:101: tree pruning end, 8 extra nodes, 0 pruned nodes, max_depth=3\n",
      "[22:55:30] INFO: ../src/tree/updater_prune.cc:101: tree pruning end, 4 extra nodes, 0 pruned nodes, max_depth=2\n",
      "[22:55:30] INFO: ../src/tree/updater_prune.cc:101: tree pruning end, 22 extra nodes, 0 pruned nodes, max_depth=6\n",
      "[22:55:30] INFO: ../src/tree/updater_prune.cc:101: tree pruning end, 16 extra nodes, 0 pruned nodes, max_depth=6\n",
      "[22:55:30] INFO: ../src/tree/updater_prune.cc:101: tree pruning end, 10 extra nodes, 0 pruned nodes, max_depth=4\n",
      "[22:55:30] INFO: ../src/tree/updater_prune.cc:101: tree pruning end, 4 extra nodes, 0 pruned nodes, max_depth=2\n",
      "[22:55:30] INFO: ../src/tree/updater_prune.cc:101: tree pruning end, 4 extra nodes, 0 pruned nodes, max_depth=2\n",
      "[22:55:30] INFO: ../src/tree/updater_prune.cc:101: tree pruning end, 2 extra nodes, 0 pruned nodes, max_depth=1\n",
      "[22:55:30] INFO: ../src/tree/updater_prune.cc:101: tree pruning end, 16 extra nodes, 0 pruned nodes, max_depth=6\n",
      "[22:55:30] INFO: ../src/tree/updater_prune.cc:101: tree pruning end, 6 extra nodes, 0 pruned nodes, max_depth=2\n",
      "[22:55:30] INFO: ../src/tree/updater_prune.cc:101: tree pruning end, 0 extra nodes, 0 pruned nodes, max_depth=0\n",
      "[22:55:30] INFO: ../src/tree/updater_prune.cc:101: tree pruning end, 12 extra nodes, 0 pruned nodes, max_depth=6\n",
      "[22:55:30] INFO: ../src/tree/updater_prune.cc:101: tree pruning end, 4 extra nodes, 0 pruned nodes, max_depth=2\n",
      "[22:55:30] INFO: ../src/tree/updater_prune.cc:101: tree pruning end, 4 extra nodes, 0 pruned nodes, max_depth=2\n",
      "[22:55:30] INFO: ../src/tree/updater_prune.cc:101: tree pruning end, 6 extra nodes, 0 pruned nodes, max_depth=3\n",
      "[22:55:30] INFO: ../src/tree/updater_prune.cc:101: tree pruning end, 10 extra nodes, 0 pruned nodes, max_depth=4\n",
      "[22:55:30] INFO: ../src/tree/updater_prune.cc:101: tree pruning end, 20 extra nodes, 0 pruned nodes, max_depth=6\n",
      "[22:55:30] INFO: ../src/tree/updater_prune.cc:101: tree pruning end, 6 extra nodes, 0 pruned nodes, max_depth=2\n",
      "[22:55:30] INFO: ../src/tree/updater_prune.cc:101: tree pruning end, 6 extra nodes, 0 pruned nodes, max_depth=2\n",
      "[22:55:30] INFO: ../src/tree/updater_prune.cc:101: tree pruning end, 8 extra nodes, 0 pruned nodes, max_depth=3\n",
      "[22:55:30] INFO: ../src/tree/updater_prune.cc:101: tree pruning end, 4 extra nodes, 0 pruned nodes, max_depth=2\n",
      "[22:55:30] INFO: ../src/tree/updater_prune.cc:101: tree pruning end, 14 extra nodes, 0 pruned nodes, max_depth=6\n",
      "[22:55:30] INFO: ../src/tree/updater_prune.cc:101: tree pruning end, 10 extra nodes, 0 pruned nodes, max_depth=4\n",
      "[22:55:30] INFO: ../src/tree/updater_prune.cc:101: tree pruning end, 6 extra nodes, 0 pruned nodes, max_depth=2\n",
      "[22:55:30] INFO: ../src/tree/updater_prune.cc:101: tree pruning end, 12 extra nodes, 0 pruned nodes, max_depth=6\n",
      "[22:55:30] INFO: ../src/tree/updater_prune.cc:101: tree pruning end, 4 extra nodes, 0 pruned nodes, max_depth=2\n",
      "[22:55:30] INFO: ../src/tree/updater_prune.cc:101: tree pruning end, 4 extra nodes, 0 pruned nodes, max_depth=2\n",
      "[22:55:30] INFO: ../src/tree/updater_prune.cc:101: tree pruning end, 14 extra nodes, 0 pruned nodes, max_depth=6\n",
      "[22:55:30] INFO: ../src/tree/updater_prune.cc:101: tree pruning end, 12 extra nodes, 0 pruned nodes, max_depth=6\n",
      "[22:55:30] INFO: ../src/tree/updater_prune.cc:101: tree pruning end, 12 extra nodes, 0 pruned nodes, max_depth=6\n",
      "[22:55:30] INFO: ../src/tree/updater_prune.cc:101: tree pruning end, 4 extra nodes, 0 pruned nodes, max_depth=2\n",
      "[22:55:30] INFO: ../src/tree/updater_prune.cc:101: tree pruning end, 4 extra nodes, 0 pruned nodes, max_depth=2\n",
      "[22:55:30] INFO: ../src/tree/updater_prune.cc:101: tree pruning end, 16 extra nodes, 0 pruned nodes, max_depth=6\n",
      "[22:55:30] INFO: ../src/tree/updater_prune.cc:101: tree pruning end, 6 extra nodes, 0 pruned nodes, max_depth=2\n",
      "[22:55:30] INFO: ../src/tree/updater_prune.cc:101: tree pruning end, 16 extra nodes, 0 pruned nodes, max_depth=6\n",
      "[22:55:30] INFO: ../src/tree/updater_prune.cc:101: tree pruning end, 4 extra nodes, 0 pruned nodes, max_depth=2\n",
      "[22:55:30] INFO: ../src/tree/updater_prune.cc:101: tree pruning end, 8 extra nodes, 0 pruned nodes, max_depth=3\n",
      "[22:55:30] INFO: ../src/tree/updater_prune.cc:101: tree pruning end, 4 extra nodes, 0 pruned nodes, max_depth=2\n",
      "[22:55:30] INFO: ../src/tree/updater_prune.cc:101: tree pruning end, 14 extra nodes, 0 pruned nodes, max_depth=6\n",
      "[22:55:30] INFO: ../src/tree/updater_prune.cc:101: tree pruning end, 16 extra nodes, 0 pruned nodes, max_depth=6\n",
      "[22:55:30] INFO: ../src/tree/updater_prune.cc:101: tree pruning end, 16 extra nodes, 0 pruned nodes, max_depth=6\n",
      "[22:55:30] INFO: ../src/tree/updater_prune.cc:101: tree pruning end, 14 extra nodes, 0 pruned nodes, max_depth=6\n",
      "[22:55:30] INFO: ../src/tree/updater_prune.cc:101: tree pruning end, 6 extra nodes, 0 pruned nodes, max_depth=3\n",
      "[22:55:30] INFO: ../src/tree/updater_prune.cc:101: tree pruning end, 12 extra nodes, 0 pruned nodes, max_depth=6\n",
      "[22:55:30] INFO: ../src/tree/updater_prune.cc:101: tree pruning end, 6 extra nodes, 0 pruned nodes, max_depth=3\n",
      "[22:55:30] INFO: ../src/tree/updater_prune.cc:101: tree pruning end, 4 extra nodes, 0 pruned nodes, max_depth=2\n",
      "[22:55:30] INFO: ../src/tree/updater_prune.cc:101: tree pruning end, 6 extra nodes, 0 pruned nodes, max_depth=2\n",
      "[22:55:30] INFO: ../src/tree/updater_prune.cc:101: tree pruning end, 0 extra nodes, 0 pruned nodes, max_depth=0\n",
      "[22:55:30] INFO: ../src/tree/updater_prune.cc:101: tree pruning end, 4 extra nodes, 0 pruned nodes, max_depth=2\n",
      "[22:55:30] INFO: ../src/tree/updater_prune.cc:101: tree pruning end, 6 extra nodes, 0 pruned nodes, max_depth=2\n",
      "[22:55:30] INFO: ../src/tree/updater_prune.cc:101: tree pruning end, 10 extra nodes, 0 pruned nodes, max_depth=4\n",
      "[22:55:30] INFO: ../src/tree/updater_prune.cc:101: tree pruning end, 8 extra nodes, 0 pruned nodes, max_depth=3\n",
      "[22:55:30] INFO: ../src/tree/updater_prune.cc:101: tree pruning end, 6 extra nodes, 0 pruned nodes, max_depth=2\n",
      "[22:55:30] INFO: ../src/tree/updater_prune.cc:101: tree pruning end, 4 extra nodes, 0 pruned nodes, max_depth=2\n",
      "[22:55:30] INFO: ../src/tree/updater_prune.cc:101: tree pruning end, 32 extra nodes, 0 pruned nodes, max_depth=6\n",
      "[22:55:30] INFO: ../src/tree/updater_prune.cc:101: tree pruning end, 4 extra nodes, 0 pruned nodes, max_depth=2\n",
      "[22:55:30] INFO: ../src/tree/updater_prune.cc:101: tree pruning end, 4 extra nodes, 0 pruned nodes, max_depth=2\n",
      "[22:55:30] INFO: ../src/tree/updater_prune.cc:101: tree pruning end, 16 extra nodes, 0 pruned nodes, max_depth=6\n",
      "[22:55:30] INFO: ../src/tree/updater_prune.cc:101: tree pruning end, 4 extra nodes, 0 pruned nodes, max_depth=2\n",
      "[22:55:30] INFO: ../src/tree/updater_prune.cc:101: tree pruning end, 6 extra nodes, 0 pruned nodes, max_depth=2\n",
      "[22:55:30] INFO: ../src/tree/updater_prune.cc:101: tree pruning end, 4 extra nodes, 0 pruned nodes, max_depth=2\n",
      "[22:55:30] INFO: ../src/tree/updater_prune.cc:101: tree pruning end, 14 extra nodes, 0 pruned nodes, max_depth=6\n",
      "[22:55:30] INFO: ../src/tree/updater_prune.cc:101: tree pruning end, 2 extra nodes, 0 pruned nodes, max_depth=1\n",
      "[22:55:30] INFO: ../src/tree/updater_prune.cc:101: tree pruning end, 14 extra nodes, 0 pruned nodes, max_depth=5\n",
      "[22:55:30] INFO: ../src/tree/updater_prune.cc:101: tree pruning end, 4 extra nodes, 0 pruned nodes, max_depth=2\n",
      "[22:55:30] INFO: ../src/tree/updater_prune.cc:101: tree pruning end, 12 extra nodes, 0 pruned nodes, max_depth=6\n",
      "[22:55:30] INFO: ../src/tree/updater_prune.cc:101: tree pruning end, 4 extra nodes, 0 pruned nodes, max_depth=2\n",
      "[22:55:30] INFO: ../src/tree/updater_prune.cc:101: tree pruning end, 10 extra nodes, 0 pruned nodes, max_depth=4\n",
      "[22:55:30] INFO: ../src/tree/updater_prune.cc:101: tree pruning end, 18 extra nodes, 0 pruned nodes, max_depth=6\n",
      "[22:55:30] INFO: ../src/tree/updater_prune.cc:101: tree pruning end, 4 extra nodes, 0 pruned nodes, max_depth=2\n",
      "[22:55:30] INFO: ../src/tree/updater_prune.cc:101: tree pruning end, 16 extra nodes, 0 pruned nodes, max_depth=6\n",
      "[22:55:30] INFO: ../src/tree/updater_prune.cc:101: tree pruning end, 4 extra nodes, 0 pruned nodes, max_depth=2\n",
      "[22:55:30] INFO: ../src/tree/updater_prune.cc:101: tree pruning end, 4 extra nodes, 0 pruned nodes, max_depth=2\n",
      "[22:55:30] INFO: ../src/tree/updater_prune.cc:101: tree pruning end, 12 extra nodes, 0 pruned nodes, max_depth=6\n",
      "[22:55:30] INFO: ../src/tree/updater_prune.cc:101: tree pruning end, 20 extra nodes, 0 pruned nodes, max_depth=6\n",
      "[22:55:30] INFO: ../src/tree/updater_prune.cc:101: tree pruning end, 4 extra nodes, 0 pruned nodes, max_depth=2\n",
      "[22:55:30] INFO: ../src/tree/updater_prune.cc:101: tree pruning end, 4 extra nodes, 0 pruned nodes, max_depth=2\n",
      "[22:55:30] INFO: ../src/tree/updater_prune.cc:101: tree pruning end, 4 extra nodes, 0 pruned nodes, max_depth=2\n",
      "[22:55:30] INFO: ../src/tree/updater_prune.cc:101: tree pruning end, 4 extra nodes, 0 pruned nodes, max_depth=2\n",
      "[22:55:30] INFO: ../src/tree/updater_prune.cc:101: tree pruning end, 6 extra nodes, 0 pruned nodes, max_depth=2\n",
      "[22:55:30] INFO: ../src/tree/updater_prune.cc:101: tree pruning end, 12 extra nodes, 0 pruned nodes, max_depth=6\n",
      "[22:55:30] ======== Monitor (0): Learner ========\n",
      "[22:55:30] Configure: 0.000608s, 1 calls @ 608us\n",
      "\n",
      "[22:55:30] EvalOneIter: 4.1e-05s, 1 calls @ 41us\n",
      "\n",
      "[22:55:30] GetGradient: 0.002333s, 1 calls @ 2333us\n",
      "\n",
      "[22:55:30] PredictRaw: 0.001515s, 1 calls @ 1515us\n",
      "\n",
      "[22:55:30] UpdateOneIter: 20.8011s, 1 calls @ 20801057us\n",
      "\n",
      "[22:55:30] ======== Monitor (0): GBTree ========\n",
      "[22:55:30] BoostNewTrees: 20.7964s, 1 calls @ 20796409us\n",
      "\n",
      "[22:55:30] CommitModel: 3e-06s, 1 calls @ 3us\n",
      "\n",
      "[22:55:30] ======== Monitor (0): TreePruner ========\n",
      "[22:55:30] PrunerUpdate: 0.007361s, 1 calls @ 7361us\n",
      "\n"
     ]
    },
    {
     "name": "stdout",
     "output_type": "stream",
     "text": [
      "[22:55:30] ======== Monitor (0): Learner ========\n",
      "[22:55:30] Configure: 0.000223s, 1 calls @ 223us\n",
      "\n",
      "[22:55:30] ======== Monitor (0): GBTree ========\n",
      "[22:55:30] ======== Monitor (0): TreePruner ========\n"
     ]
    },
    {
     "ename": "NotFittedError",
     "evalue": "This RandomizedSearchCV instance is not fitted yet. Call 'fit' with appropriate arguments before using this estimator.",
     "output_type": "error",
     "traceback": [
      "\u001b[0;31m---------------------------------------------------------------------------\u001b[0m",
      "\u001b[0;31mNotFittedError\u001b[0m                            Traceback (most recent call last)",
      "Input \u001b[0;32mIn [51]\u001b[0m, in \u001b[0;36m<cell line: 19>\u001b[0;34m()\u001b[0m\n\u001b[1;32m     15\u001b[0m \u001b[38;5;28;01mwith\u001b[39;00m sys_pipes():\n\u001b[1;32m     16\u001b[0m     \u001b[38;5;66;03m#rf_random.fit(X_train, Y_train)\u001b[39;00m\n\u001b[1;32m     17\u001b[0m     grid_search\u001b[38;5;241m.\u001b[39mfit(X_train, Y_train)\n\u001b[0;32m---> 19\u001b[0m \u001b[38;5;28mprint\u001b[39m(\u001b[38;5;124m\"\u001b[39m\u001b[38;5;124mTest  R2 Score : \u001b[39m\u001b[38;5;132;01m%.2f\u001b[39;00m\u001b[38;5;124m\"\u001b[39m\u001b[38;5;241m%\u001b[39m\u001b[43mrf_random\u001b[49m\u001b[38;5;241;43m.\u001b[39;49m\u001b[43mscore\u001b[49m\u001b[43m(\u001b[49m\u001b[43mX_test\u001b[49m\u001b[43m,\u001b[49m\u001b[43m \u001b[49m\u001b[43mY_test\u001b[49m\u001b[43m)\u001b[49m)\n\u001b[1;32m     20\u001b[0m \u001b[38;5;28mprint\u001b[39m(\u001b[38;5;124m\"\u001b[39m\u001b[38;5;124mTrain R2 Score : \u001b[39m\u001b[38;5;132;01m%.2f\u001b[39;00m\u001b[38;5;124m\"\u001b[39m\u001b[38;5;241m%\u001b[39mrf_random\u001b[38;5;241m.\u001b[39mscore(X_train, Y_train))\n\u001b[1;32m     22\u001b[0m \u001b[38;5;28mprint\u001b[39m(\u001b[38;5;124m\"\u001b[39m\u001b[38;5;124mBest Params : \u001b[39m\u001b[38;5;124m\"\u001b[39m, grid_search\u001b[38;5;241m.\u001b[39mbest_params_)\n",
      "File \u001b[0;32m~/miniconda3/lib/python3.9/site-packages/sklearn/model_selection/_search.py:458\u001b[0m, in \u001b[0;36mBaseSearchCV.score\u001b[0;34m(self, X, y)\u001b[0m\n\u001b[1;32m    435\u001b[0m \u001b[38;5;124;03m\"\"\"Return the score on the given data, if the estimator has been refit.\u001b[39;00m\n\u001b[1;32m    436\u001b[0m \n\u001b[1;32m    437\u001b[0m \u001b[38;5;124;03mThis uses the score defined by ``scoring`` where provided, and the\u001b[39;00m\n\u001b[0;32m   (...)\u001b[0m\n\u001b[1;32m    455\u001b[0m \u001b[38;5;124;03m    ``best_estimator_.score`` method otherwise.\u001b[39;00m\n\u001b[1;32m    456\u001b[0m \u001b[38;5;124;03m\"\"\"\u001b[39;00m\n\u001b[1;32m    457\u001b[0m _check_refit(\u001b[38;5;28mself\u001b[39m, \u001b[38;5;124m\"\u001b[39m\u001b[38;5;124mscore\u001b[39m\u001b[38;5;124m\"\u001b[39m)\n\u001b[0;32m--> 458\u001b[0m \u001b[43mcheck_is_fitted\u001b[49m\u001b[43m(\u001b[49m\u001b[38;5;28;43mself\u001b[39;49m\u001b[43m)\u001b[49m\n\u001b[1;32m    459\u001b[0m \u001b[38;5;28;01mif\u001b[39;00m \u001b[38;5;28mself\u001b[39m\u001b[38;5;241m.\u001b[39mscorer_ \u001b[38;5;129;01mis\u001b[39;00m \u001b[38;5;28;01mNone\u001b[39;00m:\n\u001b[1;32m    460\u001b[0m     \u001b[38;5;28;01mraise\u001b[39;00m \u001b[38;5;167;01mValueError\u001b[39;00m(\n\u001b[1;32m    461\u001b[0m         \u001b[38;5;124m\"\u001b[39m\u001b[38;5;124mNo score function explicitly defined, \u001b[39m\u001b[38;5;124m\"\u001b[39m\n\u001b[1;32m    462\u001b[0m         \u001b[38;5;124m\"\u001b[39m\u001b[38;5;124mand the estimator doesn\u001b[39m\u001b[38;5;124m'\u001b[39m\u001b[38;5;124mt provide one \u001b[39m\u001b[38;5;132;01m%s\u001b[39;00m\u001b[38;5;124m\"\u001b[39m\n\u001b[1;32m    463\u001b[0m         \u001b[38;5;241m%\u001b[39m \u001b[38;5;28mself\u001b[39m\u001b[38;5;241m.\u001b[39mbest_estimator_\n\u001b[1;32m    464\u001b[0m     )\n",
      "File \u001b[0;32m~/miniconda3/lib/python3.9/site-packages/sklearn/utils/validation.py:1222\u001b[0m, in \u001b[0;36mcheck_is_fitted\u001b[0;34m(estimator, attributes, msg, all_or_any)\u001b[0m\n\u001b[1;32m   1217\u001b[0m     fitted \u001b[38;5;241m=\u001b[39m [\n\u001b[1;32m   1218\u001b[0m         v \u001b[38;5;28;01mfor\u001b[39;00m v \u001b[38;5;129;01min\u001b[39;00m \u001b[38;5;28mvars\u001b[39m(estimator) \u001b[38;5;28;01mif\u001b[39;00m v\u001b[38;5;241m.\u001b[39mendswith(\u001b[38;5;124m\"\u001b[39m\u001b[38;5;124m_\u001b[39m\u001b[38;5;124m\"\u001b[39m) \u001b[38;5;129;01mand\u001b[39;00m \u001b[38;5;129;01mnot\u001b[39;00m v\u001b[38;5;241m.\u001b[39mstartswith(\u001b[38;5;124m\"\u001b[39m\u001b[38;5;124m__\u001b[39m\u001b[38;5;124m\"\u001b[39m)\n\u001b[1;32m   1219\u001b[0m     ]\n\u001b[1;32m   1221\u001b[0m \u001b[38;5;28;01mif\u001b[39;00m \u001b[38;5;129;01mnot\u001b[39;00m fitted:\n\u001b[0;32m-> 1222\u001b[0m     \u001b[38;5;28;01mraise\u001b[39;00m NotFittedError(msg \u001b[38;5;241m%\u001b[39m {\u001b[38;5;124m\"\u001b[39m\u001b[38;5;124mname\u001b[39m\u001b[38;5;124m\"\u001b[39m: \u001b[38;5;28mtype\u001b[39m(estimator)\u001b[38;5;241m.\u001b[39m\u001b[38;5;18m__name__\u001b[39m})\n",
      "\u001b[0;31mNotFittedError\u001b[0m: This RandomizedSearchCV instance is not fitted yet. Call 'fit' with appropriate arguments before using this estimator."
     ]
    }
   ],
   "source": [
    "# Use the random grid to search for best hyperparameters\n",
    "# First create the base model to tune\n",
    "rf = XGBRFRegressor()\n",
    "\n",
    "# Random search of parameters, using 3 fold cross validation, \n",
    "# search across 100 different combinations, and use all available cores\n",
    "rf_random = RandomizedSearchCV(estimator=rf, param_distributions=random_grid, \n",
    "                               n_iter = 1, cv = 3, verbose=10, \n",
    "                               random_state=42, n_jobs = -1)\n",
    "\n",
    "# Fit the random search model\n",
    "with sys_pipes():\n",
    "    rf_random.fit(X_train, Y_train)\n",
    "    \n",
    "    \n",
    "print(\"Test  R2 Score : %.2f\"%rf_random.score(X_test, Y_test))\n",
    "print(\"Train R2 Score : %.2f\"%rf_random.score(X_train, Y_train))\n",
    "\n",
    "print(\"Best Params : \", rf_random.best_params_)\n",
    "print(\"Feature Importances : \")\n",
    "pd.DataFrame([rf_random.best_estimator_.feature_importances_], columns=['Mass_0', 'Mass_1', 'Semimajor', 'Eccentricity', 'Z', 'alpha'])"
   ]
  },
  {
   "cell_type": "code",
   "execution_count": 52,
   "metadata": {},
   "outputs": [
    {
     "data": {
      "text/html": [
       "<div>\n",
       "<style scoped>\n",
       "    .dataframe tbody tr th:only-of-type {\n",
       "        vertical-align: middle;\n",
       "    }\n",
       "\n",
       "    .dataframe tbody tr th {\n",
       "        vertical-align: top;\n",
       "    }\n",
       "\n",
       "    .dataframe thead th {\n",
       "        text-align: right;\n",
       "    }\n",
       "</style>\n",
       "<table border=\"1\" class=\"dataframe\">\n",
       "  <thead>\n",
       "    <tr style=\"text-align: right;\">\n",
       "      <th></th>\n",
       "      <th>mean_fit_time</th>\n",
       "      <th>std_fit_time</th>\n",
       "      <th>mean_score_time</th>\n",
       "      <th>std_score_time</th>\n",
       "      <th>param_max_depth</th>\n",
       "      <th>param_n_estimators</th>\n",
       "      <th>params</th>\n",
       "      <th>split0_test_score</th>\n",
       "      <th>split1_test_score</th>\n",
       "      <th>split2_test_score</th>\n",
       "      <th>mean_test_score</th>\n",
       "      <th>std_test_score</th>\n",
       "      <th>rank_test_score</th>\n",
       "    </tr>\n",
       "  </thead>\n",
       "  <tbody>\n",
       "    <tr>\n",
       "      <th>0</th>\n",
       "      <td>45.771691</td>\n",
       "      <td>1.223407</td>\n",
       "      <td>0.10833</td>\n",
       "      <td>0.041268</td>\n",
       "      <td>None</td>\n",
       "      <td>100</td>\n",
       "      <td>{'max_depth': None, 'n_estimators': 100}</td>\n",
       "      <td>-67.39162</td>\n",
       "      <td>0.986169</td>\n",
       "      <td>0.918947</td>\n",
       "      <td>-21.828835</td>\n",
       "      <td>32.217766</td>\n",
       "      <td>1</td>\n",
       "    </tr>\n",
       "  </tbody>\n",
       "</table>\n",
       "</div>"
      ],
      "text/plain": [
       "   mean_fit_time  std_fit_time  mean_score_time  std_score_time  \\\n",
       "0      45.771691      1.223407          0.10833        0.041268   \n",
       "\n",
       "  param_max_depth param_n_estimators  \\\n",
       "0            None                100   \n",
       "\n",
       "                                     params  split0_test_score  \\\n",
       "0  {'max_depth': None, 'n_estimators': 100}          -67.39162   \n",
       "\n",
       "   split1_test_score  split2_test_score  mean_test_score  std_test_score  \\\n",
       "0           0.986169           0.918947       -21.828835       32.217766   \n",
       "\n",
       "   rank_test_score  \n",
       "0                1  "
      ]
     },
     "execution_count": 52,
     "metadata": {},
     "output_type": "execute_result"
    }
   ],
   "source": [
    "pd.DataFrame.from_dict(rf_random.cv_results_)"
   ]
  },
  {
   "cell_type": "markdown",
   "metadata": {},
   "source": [
    "### Using Tensorflow"
   ]
  },
  {
   "cell_type": "code",
   "execution_count": null,
   "metadata": {},
   "outputs": [],
   "source": [
    "import tensorflow as tf\n",
    "import tensorflow_decision_forests as tfdf\n",
    "\n",
    "from tensorflow.keras.wrappers.scikit_learn import KerasClassifier"
   ]
  },
  {
   "cell_type": "code",
   "execution_count": null,
   "metadata": {},
   "outputs": [],
   "source": [
    "\"\"\"### Normalization over the whole dataset\n",
    "\n",
    "features_all = BHBH[['Mass_0', 'Mass_1', 'Semimajor', 'Eccentricity', 'Z', 'alpha', 'Delay_Time']]\n",
    "\n",
    "min_value = np.min (np.min (features_all, axis=0))\n",
    "max_value = np.max (np.max (features_all, axis=0))\n",
    "avg_value = np.mean(np.mean(features_all, axis=0))\n",
    "std_value = np.std (np.std (features_all, axis=0))\n",
    "\n",
    "method = 'norm'  #norm, std, log\n",
    "\n",
    "def normalizer(x):\n",
    "    if method == 'norm':\n",
    "        return (x-min_value)/(max_value-min_value)\n",
    "    elif method =='std':\n",
    "        return (x- avg_value)/std_value\n",
    "    elif method =='log':\n",
    "        return np.log10(x)\n",
    "\n",
    "features_all = features_all.apply(normalizer)\"\"\""
   ]
  },
  {
   "cell_type": "markdown",
   "metadata": {},
   "source": [
    "### Normalization of the data"
   ]
  },
  {
   "cell_type": "code",
   "execution_count": null,
   "metadata": {},
   "outputs": [],
   "source": [
    "### Normalization of each column\n",
    "features = BHBH[['Mass_0', 'Mass_1', 'Semimajor', 'Eccentricity', 'Z', 'alpha', 'Delay_Time']]\n",
    "\n",
    "# min-max normalization\n",
    "features = (features-features.min())/(features.max()-features.min())\n",
    "\n",
    "# mean normalization\n",
    "#features=(features-features.mean())/features.std()"
   ]
  },
  {
   "cell_type": "markdown",
   "metadata": {},
   "source": [
    "### Split in training and validation"
   ]
  },
  {
   "cell_type": "code",
   "execution_count": null,
   "metadata": {},
   "outputs": [],
   "source": [
    "# Split the dataset into a training and a testing dataset.\n",
    "def split_dataset(dataset, test_ratio=0.30):\n",
    "  \"\"\"Splits a panda dataframe in two.\"\"\"\n",
    "  test_indices = np.random.rand(len(dataset)) < test_ratio\n",
    "  return dataset[~test_indices], dataset[test_indices]"
   ]
  },
  {
   "cell_type": "code",
   "execution_count": null,
   "metadata": {},
   "outputs": [],
   "source": [
    "# Split the dataset into a training and testing dataset.\n",
    "train_ds_pd, test_ds_pd = split_dataset(dataset=features,\n",
    "                                        test_ratio=.5)\n",
    "print(\"{} examples in training, {} examples for testing.\".format(len(train_ds_pd), len(test_ds_pd)))"
   ]
  },
  {
   "cell_type": "code",
   "execution_count": null,
   "metadata": {},
   "outputs": [],
   "source": [
    "X_train = train_ds_pd[['Mass_0', 'Mass_1', 'Semimajor', 'Eccentricity', 'Z', 'alpha']].to_numpy()\n",
    "Y_train = train_ds_pd.Delay_Time.to_numpy()\n",
    "\n",
    "X_test  = test_ds_pd[['Mass_0', 'Mass_1', 'Semimajor', 'Eccentricity', 'Z', 'alpha']].to_numpy()\n",
    "Y_test  = test_ds_pd.Delay_Time.to_numpy()"
   ]
  },
  {
   "cell_type": "markdown",
   "metadata": {},
   "source": [
    "### Training of the model"
   ]
  },
  {
   "cell_type": "code",
   "execution_count": null,
   "metadata": {},
   "outputs": [],
   "source": [
    "# Configure the model.\n",
    "model = tfdf.keras.RandomForestModel(task = tfdf.keras.Task.REGRESSION, num_threads=n_threads)\n",
    "# Configure the metrics (Eventually add other metrics).\n",
    "#model.compile(metrics=[\"mse\", \"mape\"])\n",
    "model.compile(metrics=[\"mse\"])\n",
    "# Train the model.\n",
    "with sys_pipes():\n",
    "    #model.fit(x=train_ds)\n",
    "    model.fit(X_train, Y_train)"
   ]
  },
  {
   "cell_type": "code",
   "execution_count": null,
   "metadata": {
    "scrolled": true
   },
   "outputs": [],
   "source": [
    "model.summary()"
   ]
  },
  {
   "cell_type": "code",
   "execution_count": null,
   "metadata": {},
   "outputs": [],
   "source": [
    "# inspect the features used in the model\n",
    "model.make_inspector().features()"
   ]
  },
  {
   "cell_type": "code",
   "execution_count": null,
   "metadata": {},
   "outputs": [],
   "source": [
    "#evaluation = model.evaluate(test_ds, return_dict=True)\n",
    "evaluation = model.evaluate(X_test, Y_test, return_dict=True)\n",
    "\n",
    "print(evaluation)\n",
    "print(f\"MSE: {evaluation['mse']:.2f}\")\n",
    "print(f\"RMSE: {np.sqrt(evaluation['mse']):.2f}\")\n",
    "#print(f\"MAPE: {evaluation['mape']:.2f}\")"
   ]
  },
  {
   "cell_type": "code",
   "execution_count": null,
   "metadata": {},
   "outputs": [],
   "source": [
    "logs = model.make_inspector().training_logs()\n",
    "\n",
    "fig, ax = plt.subplots(nrows=2, ncols=2,figsize=(12, 12))\n",
    "\n",
    "ax[0,0].plot([log.num_trees for log in logs], [log.evaluation.accuracy for log in logs])\n",
    "ax[0,0].set_xlabel(\"Number of trees\")\n",
    "ax[0,0].set_ylabel(\"Accuracy (out-of-bag)\")\n",
    "ax[0,1].plot([log.num_trees for log in logs], [log.evaluation.loss for log in logs])\n",
    "ax[0,1].set_xlabel(\"Number of trees\")\n",
    "ax[0,1].set_ylabel(\"Logloss (out-of-bag)\")\n",
    "ax[1,0].plot([log.num_trees for log in logs], [log.evaluation.rmse for log in logs])\n",
    "ax[1,0].set_xlabel(\"Number of trees\")\n",
    "ax[1,0].set_ylabel(\"Accuracy (out-of-bag)\")\n",
    "ax[1,1].plot([log.num_trees for log in logs], [log.evaluation.ndcg for log in logs])\n",
    "ax[1,1].set_xlabel(\"Number of trees\")\n",
    "ax[1,1].set_ylabel(\"Logloss (out-of-bag)\")\n",
    "plt.show()\n",
    "\n",
    "\n",
    "# ????\n",
    "# Why loss and accuracy are zero?\n",
    "# Maybe something missing"
   ]
  },
  {
   "cell_type": "code",
   "execution_count": null,
   "metadata": {},
   "outputs": [],
   "source": [
    "# make predictions to compare with Y_test\n",
    "#Y_pred = model.predict(test_ds)\n",
    "Y_pred = model.predict(X_test)"
   ]
  },
  {
   "cell_type": "code",
   "execution_count": null,
   "metadata": {},
   "outputs": [],
   "source": [
    "(Y_pred, Y_test)"
   ]
  },
  {
   "cell_type": "code",
   "execution_count": null,
   "metadata": {},
   "outputs": [],
   "source": [
    "epsilon = 1e-28"
   ]
  },
  {
   "cell_type": "code",
   "execution_count": null,
   "metadata": {},
   "outputs": [],
   "source": [
    "fig, ax = plt.subplots(figsize=(15,7))\n",
    "\n",
    "#b = np.histogram_bin_edges(BHBH[(BHBH.Delay_Time<1e18)].Delay_Time, bins='rice') # does not work with bind='fd'\n",
    "b = np.logspace(np.log10(min(Y_test)+epsilon), np.log10(max(Y_test)), 100)\n",
    "entries, edges, _ = ax.hist(Y_test, bins=b, density=True, histtype='step', lw=3)\n",
    "\n",
    "# calculate bin centers\n",
    "bin_centers = 0.5 * (edges[:-1] + edges[1:])\n",
    "\n",
    "ax.set_xscale('log')\n",
    "ax.set_yscale('log')\n",
    "\n",
    "ax.set_title('Distribution of the Delay times')\n",
    "ax.set_xlabel('Delay Time [Myr]')\n",
    "ax.set_ylabel('PDF')\n",
    "ax.grid(ls='dotted', lw=2)"
   ]
  },
  {
   "cell_type": "code",
   "execution_count": null,
   "metadata": {},
   "outputs": [],
   "source": [
    "fig, ax = plt.subplots(figsize=(15,7))\n",
    "\n",
    "#b = np.histogram_bin_edges(BHBH[(BHBH.Delay_Time<1e18)].Delay_Time, bins='rice') # does not work with bind='fd'\n",
    "b = np.logspace(np.log10(min(Y_pred)), np.log10(max(Y_pred)), 100)\n",
    "b = np.concatenate(b, axis=0)\n",
    "entries, edges, _ = ax.hist(Y_pred, bins=b, density=True, histtype='step', lw=3)\n",
    "\n",
    "# calculate bin centers\n",
    "bin_centers = 0.5 * (edges[:-1] + edges[1:])\n",
    "\n",
    "ax.set_xscale('log')\n",
    "ax.set_yscale('log')\n",
    "\n",
    "ax.set_title('Distribution of the Delay times')\n",
    "ax.set_xlabel('Delay Time [Myr]')\n",
    "ax.set_ylabel('PDF')\n",
    "ax.grid(ls='dotted', lw=2)"
   ]
  },
  {
   "cell_type": "code",
   "execution_count": null,
   "metadata": {},
   "outputs": [],
   "source": [
    "# plot the first tree, restricted to depth of 3\n",
    "tfdf.model_plotter.plot_model(model, tree_idx=0, max_depth=3)"
   ]
  },
  {
   "cell_type": "code",
   "execution_count": null,
   "metadata": {},
   "outputs": [],
   "source": [
    "# Number of trees in random forest\n",
    "num_trees = [int(x) for x in np.linspace(start = 200, stop = 2000, num = 10)]\n",
    "\n",
    "# Number of features to consider at every split\n",
    "num_candidate_attributes = [-1, 0, 3]\n",
    "\n",
    "# Maximum number of levels in tree\n",
    "max_depth = [int(x) for x in np.linspace(10, 110, num = 11)]\n",
    "max_depth.append(None)\n",
    "\n",
    "# Minimum number of samples required to split a node\n",
    "min_examples = [2, 5, 10, 50]\n",
    "\n",
    "# Minimum number of samples required at each leaf node\n",
    "uplift_min_examples_in_treatment = [1, 2, 4, 5, 10]\n",
    "\n",
    "# Method of selecting samples for training each tree\n",
    "adapt_bootstrap_size_ratio_for_maximum_training_duration = [True, False]\n",
    "\n",
    "# Create the random grid\n",
    "random_grid = {'num_trees': num_trees,\n",
    "               'num_candidate_attributes': num_candidate_attributes,\n",
    "               'max_depth': max_depth,\n",
    "               'min_examples': min_examples,\n",
    "               'uplift_min_examples_in_treatment': uplift_min_examples_in_treatment,\n",
    "               'adapt_bootstrap_size_ratio_for_maximum_training_duration': adapt_bootstrap_size_ratio_for_maximum_training_duration}\n",
    "random_grid"
   ]
  },
  {
   "cell_type": "code",
   "execution_count": null,
   "metadata": {},
   "outputs": [],
   "source": [
    "# Use the random grid to search for best hyperparameters\n",
    "# First create the base model to tune\n",
    "rf = KerasClassifier(model=tfdf.keras.RandomForestModel, task = tfdf.keras.Task.REGRESSION, num_threads=n_threads)\n",
    "\n",
    "# Random search of parameters, using 3 fold cross validation, \n",
    "# search across 100 different combinations, and use all available cores\n",
    "rf_random = RandomizedSearchCV(estimator=rf, param_distributions=random_grid, \n",
    "                               scoring='accuracy',\n",
    "                               n_iter = 20, cv = 3, verbose=0, \n",
    "                               random_state=42, n_jobs = -1)\n",
    "\n",
    "# Fit the random search model\n",
    "rf_random.fit(X_train, Y_train)"
   ]
  },
  {
   "cell_type": "code",
   "execution_count": null,
   "metadata": {},
   "outputs": [],
   "source": [
    "\"\"\"for deeptnote\"\"\"\n",
    "# def slice_dataset(dataset, slice_ratio=0.15):\n",
    "#   valid_indices = np.random.rand(len(dataset)) < slice_ratio\n",
    "#   return dataset[valid_indices]\n",
    "# BHBH_sliced = slice_dataset(BHBH)\n",
    "# BHBH_sliced.to_csv('dataset.csv')"
   ]
  }
 ],
 "metadata": {
  "interpreter": {
   "hash": "77593180668de44719eea98b1016f56594f6a7979e760ba16644cd28c82a4004"
  },
  "kernelspec": {
   "display_name": "Python 3 (ipykernel)",
   "language": "python",
   "name": "python3"
  },
  "language_info": {
   "codemirror_mode": {
    "name": "ipython",
    "version": 3
   },
   "file_extension": ".py",
   "mimetype": "text/x-python",
   "name": "python",
   "nbconvert_exporter": "python",
   "pygments_lexer": "ipython3",
   "version": "3.9.12"
  }
 },
 "nbformat": 4,
 "nbformat_minor": 2
}
