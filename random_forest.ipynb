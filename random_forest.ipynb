{
 "cells": [
  {
   "cell_type": "code",
   "execution_count": 1,
   "metadata": {},
   "outputs": [
    {
     "name": "stderr",
     "output_type": "stream",
     "text": [
      "/home/ubuntu/miniconda3/lib/python3.9/site-packages/xgboost/compat.py:36: FutureWarning: pandas.Int64Index is deprecated and will be removed from pandas in a future version. Use pandas.Index with the appropriate dtype instead.\n",
      "  from pandas import MultiIndex, Int64Index\n"
     ]
    }
   ],
   "source": [
    "import numpy             as np\n",
    "import pandas            as pd\n",
    "import matplotlib.pyplot as plt\n",
    "import time\n",
    "\n",
    "from xgboost import XGBRFRegressor, plot_tree\n",
    "from sklearn.preprocessing import StandardScaler\n",
    "from sklearn.model_selection import train_test_split, GridSearchCV, RandomizedSearchCV\n",
    "from sklearn.ensemble import RandomForestRegressor\n",
    "from sklearn.datasets import make_regression\n",
    "from sklearn.model_selection import cross_val_score\n",
    "from sklearn.model_selection import RepeatedStratifiedKFold\n",
    "from sklearn.inspection      import permutation_importance\n",
    "\n",
    "from sklearn.metrics import mean_squared_log_error, r2_score, mean_squared_error\n",
    "\n",
    "from sklearn import tree\n",
    "from sklearn.tree import export_graphviz\n",
    "#import graphviz\n",
    "import shap\n",
    "import pickle\n",
    "\n",
    "from Plots import plot_hist\n",
    "from Plots import Plot_TestPred\n",
    "\n",
    "import multiprocessing\n",
    "n_threads=multiprocessing.cpu_count()\n",
    "\n",
    "from wurlitzer import sys_pipes\n",
    "\n",
    "import warnings"
   ]
  },
  {
   "cell_type": "markdown",
   "metadata": {},
   "source": [
    "### Read data "
   ]
  },
  {
   "cell_type": "code",
   "execution_count": 2,
   "metadata": {},
   "outputs": [
    {
     "data": {
      "text/html": [
       "<div>\n",
       "<style scoped>\n",
       "    .dataframe tbody tr th:only-of-type {\n",
       "        vertical-align: middle;\n",
       "    }\n",
       "\n",
       "    .dataframe tbody tr th {\n",
       "        vertical-align: top;\n",
       "    }\n",
       "\n",
       "    .dataframe thead th {\n",
       "        text-align: right;\n",
       "    }\n",
       "</style>\n",
       "<table border=\"1\" class=\"dataframe\">\n",
       "  <thead>\n",
       "    <tr style=\"text-align: right;\">\n",
       "      <th></th>\n",
       "      <th>Index</th>\n",
       "      <th>ID</th>\n",
       "      <th>name</th>\n",
       "      <th>BWorldtime</th>\n",
       "      <th>Mass_0</th>\n",
       "      <th>Radius_0</th>\n",
       "      <th>Zams_0</th>\n",
       "      <th>Phase_0</th>\n",
       "      <th>RemnantType_0</th>\n",
       "      <th>Mass_1</th>\n",
       "      <th>...</th>\n",
       "      <th>Events</th>\n",
       "      <th>EventsPlus</th>\n",
       "      <th>Mzams_0</th>\n",
       "      <th>Mzams_1</th>\n",
       "      <th>Semimajor_ini</th>\n",
       "      <th>Eccentricity_ini</th>\n",
       "      <th>Z</th>\n",
       "      <th>alpha</th>\n",
       "      <th>Delay_Time</th>\n",
       "      <th>Eccentricity_Delay</th>\n",
       "    </tr>\n",
       "  </thead>\n",
       "  <tbody>\n",
       "    <tr>\n",
       "      <th>0</th>\n",
       "      <td>0</td>\n",
       "      <td>360308</td>\n",
       "      <td>0_792857804219921</td>\n",
       "      <td>5.411991</td>\n",
       "      <td>18.34303</td>\n",
       "      <td>0.000078</td>\n",
       "      <td>21.22227</td>\n",
       "      <td>7</td>\n",
       "      <td>6</td>\n",
       "      <td>21.09631</td>\n",
       "      <td>...</td>\n",
       "      <td>RB:RE:S:RB:RE:S</td>\n",
       "      <td>RB:RE:ehSt:RB:RE:erSt</td>\n",
       "      <td>41.0592</td>\n",
       "      <td>34.5745</td>\n",
       "      <td>24.874630</td>\n",
       "      <td>0.2619</td>\n",
       "      <td>0.0004</td>\n",
       "      <td>0.5</td>\n",
       "      <td>9.993410e+04</td>\n",
       "      <td>6.409107e-11</td>\n",
       "    </tr>\n",
       "    <tr>\n",
       "      <th>1</th>\n",
       "      <td>1</td>\n",
       "      <td>360337</td>\n",
       "      <td>0_285120263308905</td>\n",
       "      <td>4.134819</td>\n",
       "      <td>50.99943</td>\n",
       "      <td>0.000217</td>\n",
       "      <td>92.24360</td>\n",
       "      <td>7</td>\n",
       "      <td>6</td>\n",
       "      <td>51.78028</td>\n",
       "      <td>...</td>\n",
       "      <td>S:S</td>\n",
       "      <td>hhS:hrS</td>\n",
       "      <td>92.2436</td>\n",
       "      <td>53.6410</td>\n",
       "      <td>81917.701038</td>\n",
       "      <td>0.3955</td>\n",
       "      <td>0.0004</td>\n",
       "      <td>0.5</td>\n",
       "      <td>5.520443e+16</td>\n",
       "      <td>4.934820e-14</td>\n",
       "    </tr>\n",
       "    <tr>\n",
       "      <th>2</th>\n",
       "      <td>2</td>\n",
       "      <td>360367</td>\n",
       "      <td>0_303570516402716</td>\n",
       "      <td>4.311590</td>\n",
       "      <td>33.98611</td>\n",
       "      <td>0.000144</td>\n",
       "      <td>41.10912</td>\n",
       "      <td>7</td>\n",
       "      <td>6</td>\n",
       "      <td>30.83786</td>\n",
       "      <td>...</td>\n",
       "      <td>RB:RE:RB:RE:S:RB:RE:S</td>\n",
       "      <td>RB:RE:RB:RE:ehSt:RB:RE:erSt</td>\n",
       "      <td>74.5563</td>\n",
       "      <td>46.8471</td>\n",
       "      <td>127.422203</td>\n",
       "      <td>0.2217</td>\n",
       "      <td>0.0004</td>\n",
       "      <td>0.5</td>\n",
       "      <td>7.108337e+05</td>\n",
       "      <td>1.981434e-10</td>\n",
       "    </tr>\n",
       "    <tr>\n",
       "      <th>3</th>\n",
       "      <td>3</td>\n",
       "      <td>360429</td>\n",
       "      <td>0_321152334354104</td>\n",
       "      <td>5.738531</td>\n",
       "      <td>42.61480</td>\n",
       "      <td>0.000181</td>\n",
       "      <td>50.85000</td>\n",
       "      <td>7</td>\n",
       "      <td>6</td>\n",
       "      <td>33.31328</td>\n",
       "      <td>...</td>\n",
       "      <td>RB:S:RE:RB:S</td>\n",
       "      <td>RB:hhS:RE:RB:hrS</td>\n",
       "      <td>50.8500</td>\n",
       "      <td>32.3486</td>\n",
       "      <td>316.947946</td>\n",
       "      <td>0.0107</td>\n",
       "      <td>0.0004</td>\n",
       "      <td>0.5</td>\n",
       "      <td>1.214966e+07</td>\n",
       "      <td>2.425785e-12</td>\n",
       "    </tr>\n",
       "    <tr>\n",
       "      <th>4</th>\n",
       "      <td>4</td>\n",
       "      <td>360471</td>\n",
       "      <td>0_850952161687565</td>\n",
       "      <td>4.503749</td>\n",
       "      <td>49.74939</td>\n",
       "      <td>0.000211</td>\n",
       "      <td>65.22210</td>\n",
       "      <td>7</td>\n",
       "      <td>6</td>\n",
       "      <td>45.91471</td>\n",
       "      <td>...</td>\n",
       "      <td>RB:S:RE:RB:S</td>\n",
       "      <td>RB:hhS:RE:RB:hrS</td>\n",
       "      <td>65.2221</td>\n",
       "      <td>46.7855</td>\n",
       "      <td>1548.080290</td>\n",
       "      <td>0.0751</td>\n",
       "      <td>0.0004</td>\n",
       "      <td>0.5</td>\n",
       "      <td>5.995947e+09</td>\n",
       "      <td>1.042263e-11</td>\n",
       "    </tr>\n",
       "  </tbody>\n",
       "</table>\n",
       "<p>5 rows × 28 columns</p>\n",
       "</div>"
      ],
      "text/plain": [
       "   Index      ID               name  BWorldtime    Mass_0  Radius_0    Zams_0  \\\n",
       "0      0  360308  0_792857804219921    5.411991  18.34303  0.000078  21.22227   \n",
       "1      1  360337  0_285120263308905    4.134819  50.99943  0.000217  92.24360   \n",
       "2      2  360367  0_303570516402716    4.311590  33.98611  0.000144  41.10912   \n",
       "3      3  360429  0_321152334354104    5.738531  42.61480  0.000181  50.85000   \n",
       "4      4  360471  0_850952161687565    4.503749  49.74939  0.000211  65.22210   \n",
       "\n",
       "   Phase_0  RemnantType_0    Mass_1  ...                 Events  \\\n",
       "0        7              6  21.09631  ...        RB:RE:S:RB:RE:S   \n",
       "1        7              6  51.78028  ...                    S:S   \n",
       "2        7              6  30.83786  ...  RB:RE:RB:RE:S:RB:RE:S   \n",
       "3        7              6  33.31328  ...           RB:S:RE:RB:S   \n",
       "4        7              6  45.91471  ...           RB:S:RE:RB:S   \n",
       "\n",
       "                    EventsPlus  Mzams_0  Mzams_1  Semimajor_ini  \\\n",
       "0        RB:RE:ehSt:RB:RE:erSt  41.0592  34.5745      24.874630   \n",
       "1                      hhS:hrS  92.2436  53.6410   81917.701038   \n",
       "2  RB:RE:RB:RE:ehSt:RB:RE:erSt  74.5563  46.8471     127.422203   \n",
       "3             RB:hhS:RE:RB:hrS  50.8500  32.3486     316.947946   \n",
       "4             RB:hhS:RE:RB:hrS  65.2221  46.7855    1548.080290   \n",
       "\n",
       "   Eccentricity_ini       Z alpha    Delay_Time Eccentricity_Delay  \n",
       "0            0.2619  0.0004   0.5  9.993410e+04       6.409107e-11  \n",
       "1            0.3955  0.0004   0.5  5.520443e+16       4.934820e-14  \n",
       "2            0.2217  0.0004   0.5  7.108337e+05       1.981434e-10  \n",
       "3            0.0107  0.0004   0.5  1.214966e+07       2.425785e-12  \n",
       "4            0.0751  0.0004   0.5  5.995947e+09       1.042263e-11  \n",
       "\n",
       "[5 rows x 28 columns]"
      ]
     },
     "execution_count": 2,
     "metadata": {},
     "output_type": "execute_result"
    }
   ],
   "source": [
    "dir      = \"DATA/\"\n",
    "file1    = 'BHBH_Delay_Time.csv'\n",
    "file2    = 'BHBH_Delay_Time_Shuffled.csv'\n",
    "\n",
    "BHBH     = pd.read_csv(dir+file1)\n",
    "BHBH.drop(['Unnamed: 0.1', 'Unnamed: 0'], axis=1, inplace=True)\n",
    "\n",
    "# shuffled dataset \n",
    "shuffled = pd.read_csv(dir+file1)\n",
    "shuffled.drop(['Unnamed: 0.1', 'Unnamed: 0'], axis=1, inplace=True)\n",
    "shuffled.head()"
   ]
  },
  {
   "cell_type": "code",
   "execution_count": 3,
   "metadata": {},
   "outputs": [
    {
     "data": {
      "text/plain": [
       "\"\\n# random swap of Mass_0 and Mass_1\\nidx = np.random.rand(len(BHBH)) < 0.5\\n\\n# passing numpy array to bypass column alignment\\nBHBH.loc[idx, ['Mass_0','Mass_1']] = BHBH.loc[idx, ['Mass_1','Mass_0']].to_numpy()\\n\""
      ]
     },
     "execution_count": 3,
     "metadata": {},
     "output_type": "execute_result"
    }
   ],
   "source": [
    "\"\"\"\n",
    "# random swap of Mass_0 and Mass_1\n",
    "idx = np.random.rand(len(BHBH)) < 0.5\n",
    "\n",
    "# passing numpy array to bypass column alignment\n",
    "BHBH.loc[idx, ['Mass_0','Mass_1']] = BHBH.loc[idx, ['Mass_1','Mass_0']].to_numpy()\n",
    "\"\"\""
   ]
  },
  {
   "cell_type": "code",
   "execution_count": 4,
   "metadata": {},
   "outputs": [],
   "source": [
    "### Normalization of each column\n",
    "features       = BHBH[['Mass_0', 'Mass_1', 'Semimajor', 'Eccentricity', 'Z', 'alpha']]\n",
    "features_shfld = shuffled[['Mass_0', 'Mass_1', 'Semimajor', 'Eccentricity', 'Z', 'alpha']]\n",
    "\n",
    "# min-max normalization\n",
    "#features = (features-features.min())/(features.max()-features.min())\n",
    "\n",
    "# mean normalization\n",
    "features=(features-features.mean())/features.std()\n",
    "features_shfld=(features_shfld-features_shfld.mean())/features_shfld.std()\n",
    "\n",
    "#features['Delay_Time'] = np.log10(BHBH.Delay_Time)\n",
    "\n",
    "X = features.to_numpy()\n",
    "Y = np.log10(BHBH.Delay_Time).to_numpy()\n",
    "\n",
    "X_test2 = features_shfld.to_numpy()\n",
    "Y_test2 = np.log10(shuffled.Delay_Time).to_numpy()"
   ]
  },
  {
   "cell_type": "code",
   "execution_count": 5,
   "metadata": {},
   "outputs": [
    {
     "data": {
      "text/plain": [
       "\"\\nfeatures = ['Mass_0', 'Mass_1', 'Semimajor', 'Eccentricity', 'Z', 'alpha']\\n#features = ['Mass_0', 'Mass_1', 'Semimajor', 'Eccentricity']\\n#features = ['Mass_0']\\n\\n# define attributes based on knowledge\\n# should we use the others?\\nX = BHBH[features].to_numpy()\\nY = BHBH.Delay_Time.to_numpy()\\n\\nX_test2 = shuffled[features].to_numpy()\\nY_test2 = shuffled.Delay_Time.to_numpy()\""
      ]
     },
     "execution_count": 5,
     "metadata": {},
     "output_type": "execute_result"
    }
   ],
   "source": [
    "\"\"\"\n",
    "features = ['Mass_0', 'Mass_1', 'Semimajor', 'Eccentricity', 'Z', 'alpha']\n",
    "#features = ['Mass_0', 'Mass_1', 'Semimajor', 'Eccentricity']\n",
    "#features = ['Mass_0']\n",
    "\n",
    "# define attributes based on knowledge\n",
    "# should we use the others?\n",
    "X = BHBH[features].to_numpy()\n",
    "Y = BHBH.Delay_Time.to_numpy()\n",
    "\n",
    "X_test2 = shuffled[features].to_numpy()\n",
    "Y_test2 = shuffled.Delay_Time.to_numpy()\"\"\""
   ]
  },
  {
   "cell_type": "markdown",
   "metadata": {},
   "source": [
    "### Split training and test set"
   ]
  },
  {
   "cell_type": "code",
   "execution_count": 6,
   "metadata": {
    "scrolled": true
   },
   "outputs": [
    {
     "data": {
      "text/plain": [
       "array([[-1.20987771, -0.99501129, -0.01219004, -0.7829777 ,  0.15832631,\n",
       "         0.30547481],\n",
       "       [ 0.68782199,  0.14486855,  0.01122613,  0.0264237 , -0.73951495,\n",
       "         0.30547481],\n",
       "       [ 0.23418679,  0.43262346, -0.00977097,  1.11557189, -0.15127412,\n",
       "         0.30547481],\n",
       "       ...,\n",
       "       [ 0.62499048,  0.14645413, -0.01203905,  0.36225867, -0.75499497,\n",
       "         0.30547481],\n",
       "       [-0.80835729, -1.23215121, -0.01216042,  0.2961545 , -0.15127412,\n",
       "        -1.09555723],\n",
       "       [-1.1529415 , -0.92520152, -0.01219597, -0.52201575, -0.46087456,\n",
       "         1.42630043]])"
      ]
     },
     "execution_count": 6,
     "metadata": {},
     "output_type": "execute_result"
    }
   ],
   "source": [
    "# split train and test set (80% training, 20% test)\n",
    "X_train, X_test, Y_train, Y_test = train_test_split(X, Y, test_size=.2, random_state=0)\n",
    "X_train"
   ]
  },
  {
   "cell_type": "code",
   "execution_count": 7,
   "metadata": {},
   "outputs": [],
   "source": [
    "del BHBH, X, Y, shuffled"
   ]
  },
  {
   "cell_type": "markdown",
   "metadata": {},
   "source": [
    "## Scikit-learn Random Forest"
   ]
  },
  {
   "cell_type": "code",
   "execution_count": 8,
   "metadata": {},
   "outputs": [
    {
     "data": {
      "text/plain": [
       "{'bootstrap': True,\n",
       " 'ccp_alpha': 0.0,\n",
       " 'criterion': 'squared_error',\n",
       " 'max_depth': None,\n",
       " 'max_features': 'auto',\n",
       " 'max_leaf_nodes': None,\n",
       " 'max_samples': None,\n",
       " 'min_impurity_decrease': 0.0,\n",
       " 'min_samples_leaf': 1,\n",
       " 'min_samples_split': 2,\n",
       " 'min_weight_fraction_leaf': 0.0,\n",
       " 'n_estimators': 100,\n",
       " 'n_jobs': -1,\n",
       " 'oob_score': False,\n",
       " 'random_state': None,\n",
       " 'verbose': 1,\n",
       " 'warm_start': False}"
      ]
     },
     "execution_count": 8,
     "metadata": {},
     "output_type": "execute_result"
    }
   ],
   "source": [
    "# model definition for the regressor\n",
    "# using mostly the default parameters\n",
    "#regressor=RandomForestRegressor(n_estimators=10, criterion='squared_error',\n",
    "#                                max_depth=10, min_samples_split=2,\n",
    "#                                min_samples_leaf=1, min_weight_fraction_leaf=0.0,\n",
    "#                                max_features=1.0, max_leaf_nodes=None,\n",
    "#                                min_impurity_decrease=.0, bootstrap=True,\n",
    "#                                oob_score=False, n_jobs=-1,\n",
    "#                                random_state=0,\n",
    "#                                verbose=1)\n",
    "\n",
    "#regressor=RandomForestRegressor(n_estimators = 50, random_state = 42,\n",
    "#                                n_jobs=-1, verbose=1)\n",
    "regressor=RandomForestRegressor(n_jobs=-1, verbose=1)\n",
    "\n",
    "regressor.get_params()"
   ]
  },
  {
   "cell_type": "code",
   "execution_count": 9,
   "metadata": {},
   "outputs": [
    {
     "name": "stderr",
     "output_type": "stream",
     "text": [
      "[Parallel(n_jobs=-1)]: Using backend ThreadingBackend with 8 concurrent workers.\n",
      "[Parallel(n_jobs=-1)]: Done  34 tasks      | elapsed:   58.0s\n",
      "[Parallel(n_jobs=-1)]: Done 100 out of 100 | elapsed:  2.5min finished\n"
     ]
    },
    {
     "data": {
      "text/plain": [
       "RandomForestRegressor(n_jobs=-1, verbose=1)"
      ]
     },
     "execution_count": 9,
     "metadata": {},
     "output_type": "execute_result"
    }
   ],
   "source": [
    "# traininig of the model\n",
    "regressor.fit(X_train, Y_train)"
   ]
  },
  {
   "cell_type": "code",
   "execution_count": 10,
   "metadata": {},
   "outputs": [
    {
     "data": {
      "text/plain": [
       "\"pkl_filename = 'MODELS/sklearn_model.pkl'\\nwith open(pkl_filename, 'wb') as file:\\n    pickle.dump(regressor, file)\""
      ]
     },
     "execution_count": 10,
     "metadata": {},
     "output_type": "execute_result"
    }
   ],
   "source": [
    "\"\"\"pkl_filename = 'MODELS/sklearn_model.pkl'\n",
    "with open(pkl_filename, 'wb') as file:\n",
    "    pickle.dump(regressor, file)\"\"\""
   ]
  },
  {
   "cell_type": "code",
   "execution_count": 11,
   "metadata": {},
   "outputs": [
    {
     "name": "stderr",
     "output_type": "stream",
     "text": [
      "[Parallel(n_jobs=8)]: Using backend ThreadingBackend with 8 concurrent workers.\n",
      "[Parallel(n_jobs=8)]: Done  34 tasks      | elapsed:    1.8s\n",
      "[Parallel(n_jobs=8)]: Done 100 out of 100 | elapsed:    4.6s finished\n",
      "[Parallel(n_jobs=8)]: Using backend ThreadingBackend with 8 concurrent workers.\n",
      "[Parallel(n_jobs=8)]: Done  34 tasks      | elapsed:    5.4s\n",
      "[Parallel(n_jobs=8)]: Done 100 out of 100 | elapsed:   14.1s finished\n"
     ]
    }
   ],
   "source": [
    "# make predictions to compare with Y_test\n",
    "Y_pred  = regressor.predict(X_test)\n",
    "Y_pred2 = regressor.predict(X_test2)"
   ]
  },
  {
   "cell_type": "code",
   "execution_count": 12,
   "metadata": {},
   "outputs": [
    {
     "name": "stderr",
     "output_type": "stream",
     "text": [
      "[Parallel(n_jobs=8)]: Using backend ThreadingBackend with 8 concurrent workers.\n",
      "[Parallel(n_jobs=8)]: Done  34 tasks      | elapsed:    7.0s\n",
      "[Parallel(n_jobs=8)]: Done 100 out of 100 | elapsed:   17.9s finished\n",
      "[Parallel(n_jobs=8)]: Using backend ThreadingBackend with 8 concurrent workers.\n"
     ]
    },
    {
     "name": "stdout",
     "output_type": "stream",
     "text": [
      "Score of the regressor for the training set:\n",
      " 0.9999935605019203\n"
     ]
    },
    {
     "name": "stderr",
     "output_type": "stream",
     "text": [
      "[Parallel(n_jobs=8)]: Done  34 tasks      | elapsed:    1.8s\n",
      "[Parallel(n_jobs=8)]: Done 100 out of 100 | elapsed:    4.5s finished\n",
      "[Parallel(n_jobs=8)]: Using backend ThreadingBackend with 8 concurrent workers.\n"
     ]
    },
    {
     "name": "stdout",
     "output_type": "stream",
     "text": [
      "\n",
      "Score of the regressor for the test set:\n",
      " 0.9999582256469765\n"
     ]
    },
    {
     "name": "stderr",
     "output_type": "stream",
     "text": [
      "[Parallel(n_jobs=8)]: Done  34 tasks      | elapsed:    5.4s\n"
     ]
    },
    {
     "name": "stdout",
     "output_type": "stream",
     "text": [
      "\n",
      "Score of the regressor for the test set:\n",
      " 0.9999864843373709\n"
     ]
    },
    {
     "name": "stderr",
     "output_type": "stream",
     "text": [
      "[Parallel(n_jobs=8)]: Done 100 out of 100 | elapsed:   13.9s finished\n"
     ]
    }
   ],
   "source": [
    "print('Score of the regressor for the training set:\\n', regressor.score(X_train, Y_train))\n",
    "print('\\nScore of the regressor for the test set:\\n',   regressor.score(X_test,  Y_test ))\n",
    "print('\\nScore of the regressor for the test set:\\n',   regressor.score(X_test2, Y_test2 ))"
   ]
  },
  {
   "cell_type": "code",
   "execution_count": 14,
   "metadata": {},
   "outputs": [
    {
     "name": "stdout",
     "output_type": "stream",
     "text": [
      "Mean squared error of the regressor for the test set:\n",
      " 0.0007714136677294529\n"
     ]
    }
   ],
   "source": [
    "#print('R^2 Score of the regressor for the test set:\\n', r2_score(Y_test,  Y_pred ))\n",
    "#print('Mean squared log error of the regressor for the test set:\\n', mean_squared_log_error(Y_test,  Y_pred ))\n",
    "print('Mean squared error of the regressor for the test set:\\n', mean_squared_error(Y_test,  Y_pred ))"
   ]
  },
  {
   "cell_type": "code",
   "execution_count": 16,
   "metadata": {},
   "outputs": [
    {
     "data": {
      "image/png": "[encoded data removed]",
      "text/plain": [
       "<Figure size 1080x504 with 1 Axes>"
      ]
     },
     "metadata": {
      "needs_background": "light"
     },
     "output_type": "display_data"
    }
   ],
   "source": [
    "plot_hist(10**Y_pred, 100)"
   ]
  },
  {
   "cell_type": "code",
   "execution_count": 18,
   "metadata": {},
   "outputs": [
    {
     "data": {
      "image/png": "[encoded data removed]",
      "text/plain": [
       "<Figure size 1080x504 with 1 Axes>"
      ]
     },
     "metadata": {
      "needs_background": "light"
     },
     "output_type": "display_data"
    }
   ],
   "source": [
    "plot_hist(10**Y_test, 100)"
   ]
  },
  {
   "cell_type": "code",
   "execution_count": null,
   "metadata": {},
   "outputs": [],
   "source": [
    "plot_hist(Y_pred2, 100)\n",
    "plot_hist(Y_test2, 100)"
   ]
  },
  {
   "cell_type": "code",
   "execution_count": 20,
   "metadata": {},
   "outputs": [
    {
     "data": {
      "image/png": "[encoded data removed]",
      "text/plain": [
       "<Figure size 1080x864 with 1 Axes>"
      ]
     },
     "metadata": {
      "needs_background": "light"
     },
     "output_type": "display_data"
    }
   ],
   "source": [
    "Plot_TestPred(Y_pred=Y_pred, Y_test=Y_test, log=False)"
   ]
  },
  {
   "cell_type": "code",
   "execution_count": 21,
   "metadata": {
    "scrolled": false
   },
   "outputs": [
    {
     "data": {
      "image/png": "[encoded data removed]",
      "text/plain": [
       "<Figure size 1080x864 with 1 Axes>"
      ]
     },
     "metadata": {
      "needs_background": "light"
     },
     "output_type": "display_data"
    }
   ],
   "source": [
    "Plot_TestPred(Y_pred=Y_pred2, Y_test=Y_test2, log=False)"
   ]
  },
  {
   "cell_type": "code",
   "execution_count": 22,
   "metadata": {
    "scrolled": false
   },
   "outputs": [
    {
     "name": "stdout",
     "output_type": "stream",
     "text": [
      "[0.02745975 0.0057126  0.9126614  0.01601964 0.03560144 0.00254517]\n"
     ]
    },
    {
     "data": {
      "image/png": "[encoded data removed]",
      "text/plain": [
       "<Figure size 1080x864 with 1 Axes>"
      ]
     },
     "metadata": {
      "needs_background": "light"
     },
     "output_type": "display_data"
    }
   ],
   "source": [
    "print(regressor.feature_importances_)\n",
    "\n",
    "feature_names = np.array(['Mass_0', 'Mass_1', 'Semimajor', 'Eccentricity', 'Z', 'alpha'])\n",
    "\n",
    "sorted_idx = regressor.feature_importances_.argsort()\n",
    "\n",
    "fig, ax = plt.subplots(figsize=(15,12))\n",
    "\n",
    "ax.barh(feature_names[sorted_idx], regressor.feature_importances_[sorted_idx])\n",
    "ax.set_xlabel(\"Random Forest Feature Importance\")\n",
    "\n",
    "plt.show()"
   ]
  },
  {
   "cell_type": "code",
   "execution_count": 24,
   "metadata": {},
   "outputs": [
    {
     "data": {
      "image/png": "[encoded data removed]",
      "text/plain": [
       "<Figure size 432x288 with 1 Axes>"
      ]
     },
     "metadata": {
      "needs_background": "light"
     },
     "output_type": "display_data"
    }
   ],
   "source": [
    "importances = regressor.feature_importances_\n",
    "std = np.std([tree.feature_importances_ for tree in regressor.estimators_], axis=0)\n",
    "\n",
    "forest_importances = pd.Series(importances, index=feature_names)\n",
    "\n",
    "fig, ax = plt.subplots()\n",
    "forest_importances.plot.bar(yerr=std, ax=ax)\n",
    "ax.set_title(\"Feature importances using MDI\")\n",
    "ax.set_ylabel(\"Mean decrease in impurity\")\n",
    "fig.tight_layout()"
   ]
  },
  {
   "cell_type": "code",
   "execution_count": 25,
   "metadata": {},
   "outputs": [
    {
     "data": {
      "text/plain": [
       "Mass_0          0.027460\n",
       "Mass_1          0.005713\n",
       "Semimajor       0.912661\n",
       "Eccentricity    0.016020\n",
       "Z               0.035601\n",
       "alpha           0.002545\n",
       "dtype: float64"
      ]
     },
     "execution_count": 25,
     "metadata": {},
     "output_type": "execute_result"
    }
   ],
   "source": [
    "forest_importances"
   ]
  },
  {
   "cell_type": "code",
   "execution_count": null,
   "metadata": {},
   "outputs": [
    {
     "ename": "KeyboardInterrupt",
     "evalue": "",
     "output_type": "error",
     "traceback": [
      "\u001b[0;31m---------------------------------------------------------------------------\u001b[0m",
      "\u001b[0;31mKeyboardInterrupt\u001b[0m                         Traceback (most recent call last)",
      "Input \u001b[0;32mIn [26]\u001b[0m, in \u001b[0;36m<cell line: 2>\u001b[0;34m()\u001b[0m\n\u001b[1;32m      1\u001b[0m plt\u001b[38;5;241m.\u001b[39mfigure(figsize\u001b[38;5;241m=\u001b[39m(\u001b[38;5;241m20\u001b[39m,\u001b[38;5;241m20\u001b[39m))\n\u001b[0;32m----> 2\u001b[0m _ \u001b[38;5;241m=\u001b[39m \u001b[43mtree\u001b[49m\u001b[38;5;241;43m.\u001b[39;49m\u001b[43mplot_tree\u001b[49m\u001b[43m(\u001b[49m\u001b[43mregressor\u001b[49m\u001b[38;5;241;43m.\u001b[39;49m\u001b[43mestimators_\u001b[49m\u001b[43m[\u001b[49m\u001b[38;5;241;43m0\u001b[39;49m\u001b[43m]\u001b[49m\u001b[43m,\u001b[49m\u001b[43m \u001b[49m\n\u001b[1;32m      3\u001b[0m \u001b[43m                   \u001b[49m\u001b[43mfeature_names\u001b[49m\u001b[38;5;241;43m=\u001b[39;49m\u001b[43m[\u001b[49m\u001b[38;5;124;43m'\u001b[39;49m\u001b[38;5;124;43mMass_0\u001b[39;49m\u001b[38;5;124;43m'\u001b[39;49m\u001b[43m,\u001b[49m\u001b[43m \u001b[49m\u001b[38;5;124;43m'\u001b[39;49m\u001b[38;5;124;43mMass_1\u001b[39;49m\u001b[38;5;124;43m'\u001b[39;49m\u001b[43m,\u001b[49m\u001b[43m \u001b[49m\u001b[38;5;124;43m'\u001b[39;49m\u001b[38;5;124;43mSemimajor\u001b[39;49m\u001b[38;5;124;43m'\u001b[39;49m\u001b[43m,\u001b[49m\u001b[43m \u001b[49m\u001b[38;5;124;43m'\u001b[39;49m\u001b[38;5;124;43mEccentricity\u001b[39;49m\u001b[38;5;124;43m'\u001b[39;49m\u001b[43m,\u001b[49m\u001b[43m \u001b[49m\u001b[38;5;124;43m'\u001b[39;49m\u001b[38;5;124;43mZ\u001b[39;49m\u001b[38;5;124;43m'\u001b[39;49m\u001b[43m,\u001b[49m\u001b[43m \u001b[49m\u001b[38;5;124;43m'\u001b[39;49m\u001b[38;5;124;43malpha\u001b[39;49m\u001b[38;5;124;43m'\u001b[39;49m\u001b[43m]\u001b[49m\u001b[43m,\u001b[49m\n\u001b[1;32m      4\u001b[0m \u001b[43m                   \u001b[49m\u001b[43mfilled\u001b[49m\u001b[38;5;241;43m=\u001b[39;49m\u001b[38;5;28;43;01mTrue\u001b[39;49;00m\u001b[43m)\u001b[49m\n",
      "File \u001b[0;32m~/miniconda3/lib/python3.9/site-packages/sklearn/tree/_export.py:195\u001b[0m, in \u001b[0;36mplot_tree\u001b[0;34m(decision_tree, max_depth, feature_names, class_names, label, filled, impurity, node_ids, proportion, rounded, precision, ax, fontsize)\u001b[0m\n\u001b[1;32m    180\u001b[0m check_is_fitted(decision_tree)\n\u001b[1;32m    182\u001b[0m exporter \u001b[38;5;241m=\u001b[39m _MPLTreeExporter(\n\u001b[1;32m    183\u001b[0m     max_depth\u001b[38;5;241m=\u001b[39mmax_depth,\n\u001b[1;32m    184\u001b[0m     feature_names\u001b[38;5;241m=\u001b[39mfeature_names,\n\u001b[0;32m   (...)\u001b[0m\n\u001b[1;32m    193\u001b[0m     fontsize\u001b[38;5;241m=\u001b[39mfontsize,\n\u001b[1;32m    194\u001b[0m )\n\u001b[0;32m--> 195\u001b[0m \u001b[38;5;28;01mreturn\u001b[39;00m \u001b[43mexporter\u001b[49m\u001b[38;5;241;43m.\u001b[39;49m\u001b[43mexport\u001b[49m\u001b[43m(\u001b[49m\u001b[43mdecision_tree\u001b[49m\u001b[43m,\u001b[49m\u001b[43m \u001b[49m\u001b[43max\u001b[49m\u001b[38;5;241;43m=\u001b[39;49m\u001b[43max\u001b[49m\u001b[43m)\u001b[49m\n",
      "File \u001b[0;32m~/miniconda3/lib/python3.9/site-packages/sklearn/tree/_export.py:669\u001b[0m, in \u001b[0;36m_MPLTreeExporter.export\u001b[0;34m(self, decision_tree, ax)\u001b[0m\n\u001b[1;32m    667\u001b[0m scale_x \u001b[38;5;241m=\u001b[39m ax_width \u001b[38;5;241m/\u001b[39m max_x\n\u001b[1;32m    668\u001b[0m scale_y \u001b[38;5;241m=\u001b[39m ax_height \u001b[38;5;241m/\u001b[39m max_y\n\u001b[0;32m--> 669\u001b[0m \u001b[38;5;28;43mself\u001b[39;49m\u001b[38;5;241;43m.\u001b[39;49m\u001b[43mrecurse\u001b[49m\u001b[43m(\u001b[49m\u001b[43mdraw_tree\u001b[49m\u001b[43m,\u001b[49m\u001b[43m \u001b[49m\u001b[43mdecision_tree\u001b[49m\u001b[38;5;241;43m.\u001b[39;49m\u001b[43mtree_\u001b[49m\u001b[43m,\u001b[49m\u001b[43m \u001b[49m\u001b[43max\u001b[49m\u001b[43m,\u001b[49m\u001b[43m \u001b[49m\u001b[43mmax_x\u001b[49m\u001b[43m,\u001b[49m\u001b[43m \u001b[49m\u001b[43mmax_y\u001b[49m\u001b[43m)\u001b[49m\n\u001b[1;32m    671\u001b[0m anns \u001b[38;5;241m=\u001b[39m [ann \u001b[38;5;28;01mfor\u001b[39;00m ann \u001b[38;5;129;01min\u001b[39;00m ax\u001b[38;5;241m.\u001b[39mget_children() \u001b[38;5;28;01mif\u001b[39;00m \u001b[38;5;28misinstance\u001b[39m(ann, Annotation)]\n\u001b[1;32m    673\u001b[0m \u001b[38;5;66;03m# update sizes of all bboxes\u001b[39;00m\n",
      "File \u001b[0;32m~/miniconda3/lib/python3.9/site-packages/sklearn/tree/_export.py:730\u001b[0m, in \u001b[0;36m_MPLTreeExporter.recurse\u001b[0;34m(self, node, tree, ax, max_x, max_y, depth)\u001b[0m\n\u001b[1;32m    728\u001b[0m         ax\u001b[38;5;241m.\u001b[39mannotate(node\u001b[38;5;241m.\u001b[39mtree\u001b[38;5;241m.\u001b[39mlabel, xy_parent, xy, \u001b[38;5;241m*\u001b[39m\u001b[38;5;241m*\u001b[39mkwargs)\n\u001b[1;32m    729\u001b[0m     \u001b[38;5;28;01mfor\u001b[39;00m child \u001b[38;5;129;01min\u001b[39;00m node\u001b[38;5;241m.\u001b[39mchildren:\n\u001b[0;32m--> 730\u001b[0m         \u001b[38;5;28;43mself\u001b[39;49m\u001b[38;5;241;43m.\u001b[39;49m\u001b[43mrecurse\u001b[49m\u001b[43m(\u001b[49m\u001b[43mchild\u001b[49m\u001b[43m,\u001b[49m\u001b[43m \u001b[49m\u001b[43mtree\u001b[49m\u001b[43m,\u001b[49m\u001b[43m \u001b[49m\u001b[43max\u001b[49m\u001b[43m,\u001b[49m\u001b[43m \u001b[49m\u001b[43mmax_x\u001b[49m\u001b[43m,\u001b[49m\u001b[43m \u001b[49m\u001b[43mmax_y\u001b[49m\u001b[43m,\u001b[49m\u001b[43m \u001b[49m\u001b[43mdepth\u001b[49m\u001b[38;5;241;43m=\u001b[39;49m\u001b[43mdepth\u001b[49m\u001b[43m \u001b[49m\u001b[38;5;241;43m+\u001b[39;49m\u001b[43m \u001b[49m\u001b[38;5;241;43m1\u001b[39;49m\u001b[43m)\u001b[49m\n\u001b[1;32m    732\u001b[0m \u001b[38;5;28;01melse\u001b[39;00m:\n\u001b[1;32m    733\u001b[0m     xy_parent \u001b[38;5;241m=\u001b[39m (\n\u001b[1;32m    734\u001b[0m         (node\u001b[38;5;241m.\u001b[39mparent\u001b[38;5;241m.\u001b[39mx \u001b[38;5;241m+\u001b[39m \u001b[38;5;241m0.5\u001b[39m) \u001b[38;5;241m/\u001b[39m max_x,\n\u001b[1;32m    735\u001b[0m         (max_y \u001b[38;5;241m-\u001b[39m node\u001b[38;5;241m.\u001b[39mparent\u001b[38;5;241m.\u001b[39my \u001b[38;5;241m-\u001b[39m \u001b[38;5;241m0.5\u001b[39m) \u001b[38;5;241m/\u001b[39m max_y,\n\u001b[1;32m    736\u001b[0m     )\n",
      "File \u001b[0;32m~/miniconda3/lib/python3.9/site-packages/sklearn/tree/_export.py:730\u001b[0m, in \u001b[0;36m_MPLTreeExporter.recurse\u001b[0;34m(self, node, tree, ax, max_x, max_y, depth)\u001b[0m\n\u001b[1;32m    728\u001b[0m         ax\u001b[38;5;241m.\u001b[39mannotate(node\u001b[38;5;241m.\u001b[39mtree\u001b[38;5;241m.\u001b[39mlabel, xy_parent, xy, \u001b[38;5;241m*\u001b[39m\u001b[38;5;241m*\u001b[39mkwargs)\n\u001b[1;32m    729\u001b[0m     \u001b[38;5;28;01mfor\u001b[39;00m child \u001b[38;5;129;01min\u001b[39;00m node\u001b[38;5;241m.\u001b[39mchildren:\n\u001b[0;32m--> 730\u001b[0m         \u001b[38;5;28;43mself\u001b[39;49m\u001b[38;5;241;43m.\u001b[39;49m\u001b[43mrecurse\u001b[49m\u001b[43m(\u001b[49m\u001b[43mchild\u001b[49m\u001b[43m,\u001b[49m\u001b[43m \u001b[49m\u001b[43mtree\u001b[49m\u001b[43m,\u001b[49m\u001b[43m \u001b[49m\u001b[43max\u001b[49m\u001b[43m,\u001b[49m\u001b[43m \u001b[49m\u001b[43mmax_x\u001b[49m\u001b[43m,\u001b[49m\u001b[43m \u001b[49m\u001b[43mmax_y\u001b[49m\u001b[43m,\u001b[49m\u001b[43m \u001b[49m\u001b[43mdepth\u001b[49m\u001b[38;5;241;43m=\u001b[39;49m\u001b[43mdepth\u001b[49m\u001b[43m \u001b[49m\u001b[38;5;241;43m+\u001b[39;49m\u001b[43m \u001b[49m\u001b[38;5;241;43m1\u001b[39;49m\u001b[43m)\u001b[49m\n\u001b[1;32m    732\u001b[0m \u001b[38;5;28;01melse\u001b[39;00m:\n\u001b[1;32m    733\u001b[0m     xy_parent \u001b[38;5;241m=\u001b[39m (\n\u001b[1;32m    734\u001b[0m         (node\u001b[38;5;241m.\u001b[39mparent\u001b[38;5;241m.\u001b[39mx \u001b[38;5;241m+\u001b[39m \u001b[38;5;241m0.5\u001b[39m) \u001b[38;5;241m/\u001b[39m max_x,\n\u001b[1;32m    735\u001b[0m         (max_y \u001b[38;5;241m-\u001b[39m node\u001b[38;5;241m.\u001b[39mparent\u001b[38;5;241m.\u001b[39my \u001b[38;5;241m-\u001b[39m \u001b[38;5;241m0.5\u001b[39m) \u001b[38;5;241m/\u001b[39m max_y,\n\u001b[1;32m    736\u001b[0m     )\n",
      "    \u001b[0;31m[... skipping similar frames: _MPLTreeExporter.recurse at line 730 (19 times)]\u001b[0m\n",
      "File \u001b[0;32m~/miniconda3/lib/python3.9/site-packages/sklearn/tree/_export.py:730\u001b[0m, in \u001b[0;36m_MPLTreeExporter.recurse\u001b[0;34m(self, node, tree, ax, max_x, max_y, depth)\u001b[0m\n\u001b[1;32m    728\u001b[0m         ax\u001b[38;5;241m.\u001b[39mannotate(node\u001b[38;5;241m.\u001b[39mtree\u001b[38;5;241m.\u001b[39mlabel, xy_parent, xy, \u001b[38;5;241m*\u001b[39m\u001b[38;5;241m*\u001b[39mkwargs)\n\u001b[1;32m    729\u001b[0m     \u001b[38;5;28;01mfor\u001b[39;00m child \u001b[38;5;129;01min\u001b[39;00m node\u001b[38;5;241m.\u001b[39mchildren:\n\u001b[0;32m--> 730\u001b[0m         \u001b[38;5;28;43mself\u001b[39;49m\u001b[38;5;241;43m.\u001b[39;49m\u001b[43mrecurse\u001b[49m\u001b[43m(\u001b[49m\u001b[43mchild\u001b[49m\u001b[43m,\u001b[49m\u001b[43m \u001b[49m\u001b[43mtree\u001b[49m\u001b[43m,\u001b[49m\u001b[43m \u001b[49m\u001b[43max\u001b[49m\u001b[43m,\u001b[49m\u001b[43m \u001b[49m\u001b[43mmax_x\u001b[49m\u001b[43m,\u001b[49m\u001b[43m \u001b[49m\u001b[43mmax_y\u001b[49m\u001b[43m,\u001b[49m\u001b[43m \u001b[49m\u001b[43mdepth\u001b[49m\u001b[38;5;241;43m=\u001b[39;49m\u001b[43mdepth\u001b[49m\u001b[43m \u001b[49m\u001b[38;5;241;43m+\u001b[39;49m\u001b[43m \u001b[49m\u001b[38;5;241;43m1\u001b[39;49m\u001b[43m)\u001b[49m\n\u001b[1;32m    732\u001b[0m \u001b[38;5;28;01melse\u001b[39;00m:\n\u001b[1;32m    733\u001b[0m     xy_parent \u001b[38;5;241m=\u001b[39m (\n\u001b[1;32m    734\u001b[0m         (node\u001b[38;5;241m.\u001b[39mparent\u001b[38;5;241m.\u001b[39mx \u001b[38;5;241m+\u001b[39m \u001b[38;5;241m0.5\u001b[39m) \u001b[38;5;241m/\u001b[39m max_x,\n\u001b[1;32m    735\u001b[0m         (max_y \u001b[38;5;241m-\u001b[39m node\u001b[38;5;241m.\u001b[39mparent\u001b[38;5;241m.\u001b[39my \u001b[38;5;241m-\u001b[39m \u001b[38;5;241m0.5\u001b[39m) \u001b[38;5;241m/\u001b[39m max_y,\n\u001b[1;32m    736\u001b[0m     )\n",
      "File \u001b[0;32m~/miniconda3/lib/python3.9/site-packages/sklearn/tree/_export.py:728\u001b[0m, in \u001b[0;36m_MPLTreeExporter.recurse\u001b[0;34m(self, node, tree, ax, max_x, max_y, depth)\u001b[0m\n\u001b[1;32m    723\u001b[0m \u001b[38;5;28;01melse\u001b[39;00m:\n\u001b[1;32m    724\u001b[0m     xy_parent \u001b[38;5;241m=\u001b[39m (\n\u001b[1;32m    725\u001b[0m         (node\u001b[38;5;241m.\u001b[39mparent\u001b[38;5;241m.\u001b[39mx \u001b[38;5;241m+\u001b[39m \u001b[38;5;241m0.5\u001b[39m) \u001b[38;5;241m/\u001b[39m max_x,\n\u001b[1;32m    726\u001b[0m         (max_y \u001b[38;5;241m-\u001b[39m node\u001b[38;5;241m.\u001b[39mparent\u001b[38;5;241m.\u001b[39my \u001b[38;5;241m-\u001b[39m \u001b[38;5;241m0.5\u001b[39m) \u001b[38;5;241m/\u001b[39m max_y,\n\u001b[1;32m    727\u001b[0m     )\n\u001b[0;32m--> 728\u001b[0m     \u001b[43max\u001b[49m\u001b[38;5;241;43m.\u001b[39;49m\u001b[43mannotate\u001b[49m\u001b[43m(\u001b[49m\u001b[43mnode\u001b[49m\u001b[38;5;241;43m.\u001b[39;49m\u001b[43mtree\u001b[49m\u001b[38;5;241;43m.\u001b[39;49m\u001b[43mlabel\u001b[49m\u001b[43m,\u001b[49m\u001b[43m \u001b[49m\u001b[43mxy_parent\u001b[49m\u001b[43m,\u001b[49m\u001b[43m \u001b[49m\u001b[43mxy\u001b[49m\u001b[43m,\u001b[49m\u001b[43m \u001b[49m\u001b[38;5;241;43m*\u001b[39;49m\u001b[38;5;241;43m*\u001b[39;49m\u001b[43mkwargs\u001b[49m\u001b[43m)\u001b[49m\n\u001b[1;32m    729\u001b[0m \u001b[38;5;28;01mfor\u001b[39;00m child \u001b[38;5;129;01min\u001b[39;00m node\u001b[38;5;241m.\u001b[39mchildren:\n\u001b[1;32m    730\u001b[0m     \u001b[38;5;28mself\u001b[39m\u001b[38;5;241m.\u001b[39mrecurse(child, tree, ax, max_x, max_y, depth\u001b[38;5;241m=\u001b[39mdepth \u001b[38;5;241m+\u001b[39m \u001b[38;5;241m1\u001b[39m)\n",
      "File \u001b[0;32m~/miniconda3/lib/python3.9/site-packages/matplotlib/axes/_axes.py:666\u001b[0m, in \u001b[0;36mAxes.annotate\u001b[0;34m(self, text, xy, *args, **kwargs)\u001b[0m\n\u001b[1;32m    664\u001b[0m \u001b[38;5;129m@docstring\u001b[39m\u001b[38;5;241m.\u001b[39mdedent_interpd\n\u001b[1;32m    665\u001b[0m \u001b[38;5;28;01mdef\u001b[39;00m \u001b[38;5;21mannotate\u001b[39m(\u001b[38;5;28mself\u001b[39m, text, xy, \u001b[38;5;241m*\u001b[39margs, \u001b[38;5;241m*\u001b[39m\u001b[38;5;241m*\u001b[39mkwargs):\n\u001b[0;32m--> 666\u001b[0m     a \u001b[38;5;241m=\u001b[39m \u001b[43mmtext\u001b[49m\u001b[38;5;241;43m.\u001b[39;49m\u001b[43mAnnotation\u001b[49m\u001b[43m(\u001b[49m\u001b[43mtext\u001b[49m\u001b[43m,\u001b[49m\u001b[43m \u001b[49m\u001b[43mxy\u001b[49m\u001b[43m,\u001b[49m\u001b[43m \u001b[49m\u001b[38;5;241;43m*\u001b[39;49m\u001b[43margs\u001b[49m\u001b[43m,\u001b[49m\u001b[43m \u001b[49m\u001b[38;5;241;43m*\u001b[39;49m\u001b[38;5;241;43m*\u001b[39;49m\u001b[43mkwargs\u001b[49m\u001b[43m)\u001b[49m\n\u001b[1;32m    667\u001b[0m     a\u001b[38;5;241m.\u001b[39mset_transform(mtransforms\u001b[38;5;241m.\u001b[39mIdentityTransform())\n\u001b[1;32m    668\u001b[0m     \u001b[38;5;28;01mif\u001b[39;00m \u001b[38;5;124m'\u001b[39m\u001b[38;5;124mclip_on\u001b[39m\u001b[38;5;124m'\u001b[39m \u001b[38;5;129;01min\u001b[39;00m kwargs:\n",
      "File \u001b[0;32m~/miniconda3/lib/python3.9/site-packages/matplotlib/text.py:1825\u001b[0m, in \u001b[0;36mAnnotation.__init__\u001b[0;34m(self, text, xy, xytext, xycoords, textcoords, arrowprops, annotation_clip, **kwargs)\u001b[0m\n\u001b[1;32m   1822\u001b[0m     \u001b[38;5;28mself\u001b[39m\u001b[38;5;241m.\u001b[39marrow_patch \u001b[38;5;241m=\u001b[39m \u001b[38;5;28;01mNone\u001b[39;00m\n\u001b[1;32m   1824\u001b[0m \u001b[38;5;66;03m# Must come last, as some kwargs may be propagated to arrow_patch.\u001b[39;00m\n\u001b[0;32m-> 1825\u001b[0m \u001b[43mText\u001b[49m\u001b[38;5;241;43m.\u001b[39;49m\u001b[38;5;21;43m__init__\u001b[39;49m\u001b[43m(\u001b[49m\u001b[38;5;28;43mself\u001b[39;49m\u001b[43m,\u001b[49m\u001b[43m \u001b[49m\u001b[43mx\u001b[49m\u001b[43m,\u001b[49m\u001b[43m \u001b[49m\u001b[43my\u001b[49m\u001b[43m,\u001b[49m\u001b[43m \u001b[49m\u001b[43mtext\u001b[49m\u001b[43m,\u001b[49m\u001b[43m \u001b[49m\u001b[38;5;241;43m*\u001b[39;49m\u001b[38;5;241;43m*\u001b[39;49m\u001b[43mkwargs\u001b[49m\u001b[43m)\u001b[49m\n",
      "File \u001b[0;32m~/miniconda3/lib/python3.9/site-packages/matplotlib/text.py:149\u001b[0m, in \u001b[0;36mText.__init__\u001b[0;34m(self, x, y, text, color, verticalalignment, horizontalalignment, multialignment, fontproperties, rotation, linespacing, rotation_mode, usetex, wrap, transform_rotates_text, parse_math, **kwargs)\u001b[0m\n\u001b[1;32m    147\u001b[0m \u001b[38;5;28mself\u001b[39m\u001b[38;5;241m.\u001b[39mset_parse_math(parse_math)\n\u001b[1;32m    148\u001b[0m \u001b[38;5;28mself\u001b[39m\u001b[38;5;241m.\u001b[39mset_wrap(wrap)\n\u001b[0;32m--> 149\u001b[0m \u001b[38;5;28;43mself\u001b[39;49m\u001b[38;5;241;43m.\u001b[39;49m\u001b[43mset_verticalalignment\u001b[49m\u001b[43m(\u001b[49m\u001b[43mverticalalignment\u001b[49m\u001b[43m)\u001b[49m\n\u001b[1;32m    150\u001b[0m \u001b[38;5;28mself\u001b[39m\u001b[38;5;241m.\u001b[39mset_horizontalalignment(horizontalalignment)\n\u001b[1;32m    151\u001b[0m \u001b[38;5;28mself\u001b[39m\u001b[38;5;241m.\u001b[39m_multialignment \u001b[38;5;241m=\u001b[39m multialignment\n",
      "File \u001b[0;32m~/miniconda3/lib/python3.9/site-packages/matplotlib/text.py:1206\u001b[0m, in \u001b[0;36mText.set_verticalalignment\u001b[0;34m(self, align)\u001b[0m\n\u001b[1;32m   1196\u001b[0m \u001b[38;5;124;03m\"\"\"\u001b[39;00m\n\u001b[1;32m   1197\u001b[0m \u001b[38;5;124;03mSet the vertical alignment.\u001b[39;00m\n\u001b[1;32m   1198\u001b[0m \n\u001b[0;32m   (...)\u001b[0m\n\u001b[1;32m   1201\u001b[0m \u001b[38;5;124;03malign : {'center', 'top', 'bottom', 'baseline', 'center_baseline'}\u001b[39;00m\n\u001b[1;32m   1202\u001b[0m \u001b[38;5;124;03m\"\"\"\u001b[39;00m\n\u001b[1;32m   1203\u001b[0m _api\u001b[38;5;241m.\u001b[39mcheck_in_list(\n\u001b[1;32m   1204\u001b[0m     [\u001b[38;5;124m'\u001b[39m\u001b[38;5;124mtop\u001b[39m\u001b[38;5;124m'\u001b[39m, \u001b[38;5;124m'\u001b[39m\u001b[38;5;124mbottom\u001b[39m\u001b[38;5;124m'\u001b[39m, \u001b[38;5;124m'\u001b[39m\u001b[38;5;124mcenter\u001b[39m\u001b[38;5;124m'\u001b[39m, \u001b[38;5;124m'\u001b[39m\u001b[38;5;124mbaseline\u001b[39m\u001b[38;5;124m'\u001b[39m, \u001b[38;5;124m'\u001b[39m\u001b[38;5;124mcenter_baseline\u001b[39m\u001b[38;5;124m'\u001b[39m],\n\u001b[1;32m   1205\u001b[0m     align\u001b[38;5;241m=\u001b[39malign)\n\u001b[0;32m-> 1206\u001b[0m \u001b[38;5;28mself\u001b[39m\u001b[38;5;241m.\u001b[39m_verticalalignment \u001b[38;5;241m=\u001b[39m align\n\u001b[1;32m   1207\u001b[0m \u001b[38;5;28mself\u001b[39m\u001b[38;5;241m.\u001b[39mstale \u001b[38;5;241m=\u001b[39m \u001b[38;5;28;01mTrue\u001b[39;00m\n",
      "\u001b[0;31mKeyboardInterrupt\u001b[0m: "
     ]
    }
   ],
   "source": [
    "plt.figure(figsize=(20,20))\n",
    "_ = tree.plot_tree(regressor.estimators_[0], \n",
    "                   feature_names=['Mass_0', 'Mass_1', 'Semimajor', 'Eccentricity', 'Z', 'alpha'],\n",
    "                   filled=True)"
   ]
  },
  {
   "cell_type": "code",
   "execution_count": null,
   "metadata": {},
   "outputs": [],
   "source": [
    "dot_data = export_graphviz(regressor.estimators_[0],\n",
    "                           feature_names=['Mass_0', 'Mass_1', 'Semimajor', 'Eccentricity', 'Z', 'alpha'],  \n",
    "                           filled=True, rounded=True)  \n",
    "\n",
    "graph = graphviz.Source(dot_data, format='png')\n",
    "graph.render(\"tree\") "
   ]
  },
  {
   "cell_type": "markdown",
   "metadata": {},
   "source": [
    "From here it is problematic: using 100 as number of trees and using 30% of the data results in using already almost all the ram (16Gb)."
   ]
  },
  {
   "cell_type": "markdown",
   "metadata": {},
   "source": [
    "## Tuning of the hyperparameters\n",
    "First we do a random grid search"
   ]
  },
  {
   "cell_type": "code",
   "execution_count": null,
   "metadata": {},
   "outputs": [],
   "source": [
    "# Number of trees in random forest\n",
    "n_estimators = [int(x) for x in np.linspace(start = 200, stop = 2000, num = 10)]\n",
    "\n",
    "# Number of features to consider at every split\n",
    "max_features = ['auto', 'sqrt']\n",
    "\n",
    "# Maximum number of levels in tree\n",
    "max_depth = [int(x) for x in np.linspace(10, 110, num = 11)]\n",
    "max_depth.append(None)\n",
    "\n",
    "# Minimum number of samples required to split a node\n",
    "min_samples_split = [2, 5, 10]\n",
    "\n",
    "# Minimum number of samples required at each leaf node\n",
    "min_samples_leaf = [1, 2, 4]\n",
    "\n",
    "# Method of selecting samples for training each tree\n",
    "bootstrap = [True, False]\n",
    "\n",
    "# Create the random grid\n",
    "random_grid = {#'n_estimators': n_estimators,\n",
    "               'max_features': max_features,\n",
    "               'max_depth': max_depth,\n",
    "               'min_samples_split': min_samples_split,\n",
    "               'min_samples_leaf': min_samples_leaf,\n",
    "               'bootstrap': bootstrap}\n",
    "random_grid"
   ]
  },
  {
   "cell_type": "code",
   "execution_count": null,
   "metadata": {},
   "outputs": [],
   "source": [
    "# Use the random grid to search for best hyperparameters\n",
    "# First create the base model to tune\n",
    "rf = RandomForestRegressor()\n",
    "\n",
    "# Random search of parameters, using 3 fold cross validation, \n",
    "# search across 100 different combinations, and use all available cores\n",
    "rf_random = RandomizedSearchCV(estimator=rf, param_distributions=random_grid, \n",
    "                               n_iter = 5, cv = 3, verbose=3, \n",
    "                               random_state=42, n_jobs = 1)\n",
    "\n",
    "# Fit the random search model\n",
    "with sys_pipes():\n",
    "    rf_random.fit(X_train, Y_train)"
   ]
  },
  {
   "cell_type": "code",
   "execution_count": null,
   "metadata": {},
   "outputs": [],
   "source": [
    "def evaluate_accuracy(model, test_features, test_labels):\n",
    "    predictions = model.predict(test_features)\n",
    "    errors = abs(predictions - test_labels)\n",
    "    mape = 100 * np.mean(errors / test_labels)\n",
    "    accuracy = 100 - mape\n",
    "    print('Model Performance')\n",
    "    print('Average Error: {:0.4f} degrees.'.format(np.mean(errors)))\n",
    "    print('Accuracy = {:0.2f}%.'.format(accuracy))\n",
    "    \n",
    "    return accuracy"
   ]
  },
  {
   "cell_type": "code",
   "execution_count": null,
   "metadata": {},
   "outputs": [],
   "source": [
    "best_random = rf_random.best_estimator_\n",
    "random_accuracy = evaluate_accuracy(best_random, X_test, Y_test)"
   ]
  },
  {
   "cell_type": "code",
   "execution_count": null,
   "metadata": {},
   "outputs": [],
   "source": [
    "best_random"
   ]
  },
  {
   "cell_type": "code",
   "execution_count": null,
   "metadata": {},
   "outputs": [],
   "source": [
    "# Create the parameter grid based on the results of random search \n",
    "param_grid = {\n",
    "    'bootstrap': [True],\n",
    "    'max_depth': [80, 90, 100, 110],\n",
    "    'max_features': [2, 3],\n",
    "    'min_samples_leaf': [3, 4, 5],\n",
    "    'min_samples_split': [8, 10, 12],\n",
    "    'n_estimators': [100, 200, 300, 1000]\n",
    "}\n",
    "# Create a based model\n",
    "rf = RandomForestRegressor()\n",
    "# Instantiate the grid search model\n",
    "grid_search = GridSearchCV(estimator = rf, param_grid = param_grid, \n",
    "                           cv = 3, n_jobs = -1, verbose = 2)"
   ]
  },
  {
   "cell_type": "markdown",
   "metadata": {},
   "source": [
    "## XGBoost"
   ]
  },
  {
   "cell_type": "code",
   "execution_count": null,
   "metadata": {},
   "outputs": [],
   "source": [
    "### Normalization of each column\n",
    "features = BHBH[['Mass_0', 'Mass_1', 'Semimajor', 'Eccentricity', 'Z', 'alpha', 'Delay_Time']]\n",
    "\n",
    "# min-max normalization\n",
    "features = (features-features.min())/(features.max()-features.min())\n",
    "\n",
    "# mean normalization\n",
    "#features=(features-features.mean())/features.std()"
   ]
  },
  {
   "cell_type": "code",
   "execution_count": null,
   "metadata": {},
   "outputs": [],
   "source": [
    "# define attributes based on knowledge\n",
    "# should we use the others?\n",
    "X = features[['Mass_0', 'Mass_1', 'Semimajor', 'Eccentricity', 'Z', 'alpha']].to_numpy()\n",
    "Y = features.Delay_Time.to_numpy()\n",
    "\n",
    "# split train and test set (80% training, 20% test)\n",
    "X_train, X_test, Y_train, Y_test = train_test_split(X, Y, test_size=.2, random_state=0)\n",
    "Y_train"
   ]
  },
  {
   "cell_type": "code",
   "execution_count": null,
   "metadata": {
    "scrolled": true
   },
   "outputs": [],
   "source": [
    "# definition of the model \n",
    "model = XGBRFRegressor(\n",
    "    objective = 'reg:squarederror',\n",
    "    colsample_bytree = 0.9,\n",
    "    learning_rate = 1.,\n",
    "    max_depth = None,\n",
    "    min_child_weight = 1,\n",
    "    n_estimators = 2000,\n",
    "    subsample = 0.9,\n",
    "    verbosity=3, \n",
    "    n_jobs=-1,\n",
    "    random_state=42)\n",
    "#model = XGBRFRegressor(n_jobs=-1, subsample=.5, colsample_bynode=.5, reg_lambda=1e-05)\n",
    "# traininig of the model\n",
    "model.fit(X_train, Y_train, eval_set=[(X_test, Y_test)])\n",
    "\n",
    "print(\"Test  R2 Score : %.2f\"%model.score(X_test,  Y_test ))\n",
    "print(\"Train R2 Score : %.2f\"%model.score(X_train, Y_train))"
   ]
  },
  {
   "cell_type": "code",
   "execution_count": null,
   "metadata": {},
   "outputs": [],
   "source": [
    "# make predictions to compare with Y_test\n",
    "Y_pred = model.predict(X_test)\n",
    "\n",
    "print('Score of the regressor for the training set:\\n', model.score(X_train, Y_train))\n",
    "print('\\nScore of the regressor for the test set:\\n',   model.score(X_test,  Y_test ))\n",
    "print('R^2 Score of the regressor for the test set:\\n', r2_score(Y_test,  Y_pred ))\n",
    "print('Mean squared log error of the regressor for the test set:\\n', mean_squared_log_error(Y_test,  Y_pred ))\n",
    "print('Mean squared error of the regressor for the test set:\\n', mean_squared_error(Y_test,  Y_pred ))"
   ]
  },
  {
   "cell_type": "code",
   "execution_count": null,
   "metadata": {},
   "outputs": [],
   "source": [
    "fig, ax = plt.subplots(figsize=(15,12))\n",
    "\n",
    "ax.scatter(Y_test, Y_pred)\n",
    "\n",
    "ax.set_title('Y_pred vs Y_test')\n",
    "ax.set_xlabel('Delay Time computed [Myr]')\n",
    "ax.set_ylabel('Delay Time predicted [Myr]')\n",
    "ax.grid(ls='dotted', lw=2)\n",
    "\n",
    "ax.set_xscale('log')\n",
    "ax.set_yscale('log')\n",
    "\n",
    "plt.show()"
   ]
  },
  {
   "cell_type": "markdown",
   "metadata": {},
   "source": [
    "### GridSearch"
   ]
  },
  {
   "cell_type": "code",
   "execution_count": null,
   "metadata": {},
   "outputs": [],
   "source": [
    "random_grid = {\n",
    "    'n_estimators': [100, 200, 300, 500, 1000],\n",
    "    #'learning_rate': [.01, .05, .1, .2],\n",
    "    #'max_depth': [None, 3, 5, 7, 10],\n",
    "    #'min_child_weight': [None, 1, 3, 5],\n",
    "    #'subsample': [None, .1, .5, .7],\n",
    "    #'colsample_bytree': [None, .1, .5, .7],\n",
    "    #'objective': ['reg:squarederror']\n",
    "}\n",
    "\n",
    "random_grid"
   ]
  },
  {
   "cell_type": "code",
   "execution_count": null,
   "metadata": {},
   "outputs": [],
   "source": [
    "# Use the random grid to search for best hyperparameters\n",
    "# First create the base model to tune\n",
    "rf = XGBRFRegressor()\n",
    "\n",
    "# Random search of parameters, using 3 fold cross validation, \n",
    "# search across 100 different combinations, and use all available cores\n",
    "rf_random = RandomizedSearchCV(estimator=rf, param_distributions=random_grid, \n",
    "                               n_iter = 2, cv = 3, verbose=10, \n",
    "                               random_state=42, n_jobs = -1)\n",
    "\n",
    "# Fit the random search model\n",
    "with sys_pipes():\n",
    "    rf_random.fit(X_train, Y_train)\n",
    "    \n",
    "    \n",
    "print(\"Test  R2 Score : %.2f\"%rf_random.score(X_test, Y_test))\n",
    "print(\"Train R2 Score : %.2f\"%rf_random.score(X_train, Y_train))\n",
    "\n",
    "print(\"Best Params : \", rf_random.best_params_)\n",
    "print(\"Feature Importances : \")\n",
    "pd.DataFrame([rf_random.best_estimator_.feature_importances_], columns=['Mass_0', 'Mass_1', 'Semimajor', 'Eccentricity', 'Z', 'alpha'])"
   ]
  },
  {
   "cell_type": "code",
   "execution_count": null,
   "metadata": {},
   "outputs": [],
   "source": [
    "pd.DataFrame.from_dict(rf_random.cv_results_)"
   ]
  },
  {
   "cell_type": "markdown",
   "metadata": {},
   "source": [
    "### Using Tensorflow"
   ]
  },
  {
   "cell_type": "code",
   "execution_count": 11,
   "metadata": {},
   "outputs": [],
   "source": [
    "import tensorflow as tf\n",
    "import tensorflow_decision_forests as tfdf\n",
    "\n",
    "from tensorflow.keras.wrappers.scikit_learn import KerasClassifier\n",
    "from IPython.display import display, HTML"
   ]
  },
  {
   "cell_type": "code",
   "execution_count": 12,
   "metadata": {},
   "outputs": [
    {
     "data": {
      "text/plain": [
       "\"### Normalization over the whole dataset\\n\\nfeatures_all = BHBH[['Mass_0', 'Mass_1', 'Semimajor', 'Eccentricity', 'Z', 'alpha', 'Delay_Time']]\\n\\nmin_value = np.min (np.min (features_all, axis=0))\\nmax_value = np.max (np.max (features_all, axis=0))\\navg_value = np.mean(np.mean(features_all, axis=0))\\nstd_value = np.std (np.std (features_all, axis=0))\\n\\nmethod = 'norm'  #norm, std, log\\n\\ndef normalizer(x):\\n    if method == 'norm':\\n        return (x-min_value)/(max_value-min_value)\\n    elif method =='std':\\n        return (x- avg_value)/std_value\\n    elif method =='log':\\n        return np.log10(x)\\n\\nfeatures_all = features_all.apply(normalizer)\""
      ]
     },
     "execution_count": 12,
     "metadata": {},
     "output_type": "execute_result"
    }
   ],
   "source": [
    "\"\"\"### Normalization over the whole dataset\n",
    "\n",
    "features_all = BHBH[['Mass_0', 'Mass_1', 'Semimajor', 'Eccentricity', 'Z', 'alpha', 'Delay_Time']]\n",
    "\n",
    "min_value = np.min (np.min (features_all, axis=0))\n",
    "max_value = np.max (np.max (features_all, axis=0))\n",
    "avg_value = np.mean(np.mean(features_all, axis=0))\n",
    "std_value = np.std (np.std (features_all, axis=0))\n",
    "\n",
    "method = 'norm'  #norm, std, log\n",
    "\n",
    "def normalizer(x):\n",
    "    if method == 'norm':\n",
    "        return (x-min_value)/(max_value-min_value)\n",
    "    elif method =='std':\n",
    "        return (x- avg_value)/std_value\n",
    "    elif method =='log':\n",
    "        return np.log10(x)\n",
    "\n",
    "features_all = features_all.apply(normalizer)\"\"\""
   ]
  },
  {
   "cell_type": "markdown",
   "metadata": {},
   "source": [
    "### Normalization of the data"
   ]
  },
  {
   "cell_type": "code",
   "execution_count": 13,
   "metadata": {},
   "outputs": [],
   "source": [
    "### Normalization of each column\n",
    "features = BHBH[['Mass_0', 'Mass_1', 'Semimajor', 'Eccentricity', 'Z', 'alpha']]\n",
    "\n",
    "# min-max normalization\n",
    "#features = (features-features.min())/(features.max()-features.min())\n",
    "\n",
    "# mean normalization\n",
    "features=(features-features.mean())/features.std()\n",
    "\n",
    "features['Delay_Time'] = np.log10(BHBH.Delay_Time)"
   ]
  },
  {
   "cell_type": "markdown",
   "metadata": {},
   "source": [
    "### Split in training and validation"
   ]
  },
  {
   "cell_type": "code",
   "execution_count": 14,
   "metadata": {},
   "outputs": [],
   "source": [
    "# Split the dataset into a training and a testing dataset.\n",
    "def split_dataset(dataset, test_ratio=0.30):\n",
    "  \"\"\"Splits a panda dataframe in two.\"\"\"\n",
    "  test_indices = np.random.rand(len(dataset)) < test_ratio\n",
    "  return dataset[~test_indices], dataset[test_indices]"
   ]
  },
  {
   "cell_type": "code",
   "execution_count": 15,
   "metadata": {},
   "outputs": [
    {
     "name": "stdout",
     "output_type": "stream",
     "text": [
      "205409 examples in training, 1849631 examples for testing.\n"
     ]
    }
   ],
   "source": [
    "# Split the dataset into a training and testing dataset.\n",
    "train_ds_pd, test_ds_pd = split_dataset(dataset=features, test_ratio=.9)\n",
    "print(\"{} examples in training, {} examples for testing.\".format(len(train_ds_pd), len(test_ds_pd)))"
   ]
  },
  {
   "cell_type": "code",
   "execution_count": 16,
   "metadata": {},
   "outputs": [
    {
     "name": "stderr",
     "output_type": "stream",
     "text": [
      "In a future version of pandas all arguments of DataFrame.drop except for the argument 'labels' will be keyword-only.\n",
      "In a future version of pandas all arguments of DataFrame.drop except for the argument 'labels' will be keyword-only.\n"
     ]
    }
   ],
   "source": [
    "X_train = train_ds_pd[['Mass_0', 'Mass_1', 'Semimajor', 'Eccentricity', 'Z', 'alpha']].to_numpy()\n",
    "Y_train = train_ds_pd.Delay_Time.to_numpy()\n",
    "\n",
    "X_test  = test_ds_pd[['Mass_0', 'Mass_1', 'Semimajor', 'Eccentricity', 'Z', 'alpha']].to_numpy()\n",
    "Y_test  = test_ds_pd.Delay_Time.to_numpy()\n",
    "\n",
    "# Name of the label column.\n",
    "label = \"Delay_Time\"\n",
    "\n",
    "train_ds = tfdf.keras.pd_dataframe_to_tf_dataset(train_ds_pd, label=label, task=tfdf.keras.Task.REGRESSION)\n",
    "test_ds  = tfdf.keras.pd_dataframe_to_tf_dataset(test_ds_pd,  label=label, task=tfdf.keras.Task.REGRESSION)"
   ]
  },
  {
   "cell_type": "markdown",
   "metadata": {},
   "source": [
    "### Training of the model"
   ]
  },
  {
   "cell_type": "code",
   "execution_count": 17,
   "metadata": {},
   "outputs": [
    {
     "name": "stdout",
     "output_type": "stream",
     "text": [
      "Use /tmp/tmp07qa841x as temporary training directory\n",
      "Reading training dataset...\n",
      "Training dataset read in 0:00:03.497258. Found 205409 examples.\n",
      "Training model...\n"
     ]
    },
    {
     "name": "stderr",
     "output_type": "stream",
     "text": [
      "[INFO kernel.cc:1176] Loading model from path /tmp/tmp07qa841x/model/ with prefix c1f33d2bdfd245ed\n",
      "[INFO abstract_model.cc:1246] Engine \"RandomForestOptPred\" built\n",
      "[INFO kernel.cc:1022] Use fast generic engine\n"
     ]
    },
    {
     "name": "stdout",
     "output_type": "stream",
     "text": [
      "Model trained in 0:00:40.549726\n",
      "Compiling model...\n",
      "WARNING:tensorflow:AutoGraph could not transform <function simple_ml_inference_op_with_handle at 0x7fad1355e5e0> and will run it as-is.\n",
      "Please report this to the TensorFlow team. When filing the bug, set the verbosity to 10 (on Linux, `export AUTOGRAPH_VERBOSITY=10`) and attach the full output.\n",
      "Cause: could not get source code\n",
      "To silence this warning, decorate the function with @tf.autograph.experimental.do_not_convert\n"
     ]
    },
    {
     "name": "stderr",
     "output_type": "stream",
     "text": [
      "WARNING:tensorflow:AutoGraph could not transform <function simple_ml_inference_op_with_handle at 0x7fad1355e5e0> and will run it as-is.\n",
      "Please report this to the TensorFlow team. When filing the bug, set the verbosity to 10 (on Linux, `export AUTOGRAPH_VERBOSITY=10`) and attach the full output.\n",
      "Cause: could not get source code\n",
      "To silence this warning, decorate the function with @tf.autograph.experimental.do_not_convert\n"
     ]
    },
    {
     "name": "stdout",
     "output_type": "stream",
     "text": [
      "WARNING: AutoGraph could not transform <function simple_ml_inference_op_with_handle at 0x7fad1355e5e0> and will run it as-is.\n",
      "Please report this to the TensorFlow team. When filing the bug, set the verbosity to 10 (on Linux, `export AUTOGRAPH_VERBOSITY=10`) and attach the full output.\n",
      "Cause: could not get source code\n",
      "To silence this warning, decorate the function with @tf.autograph.experimental.do_not_convert\n",
      "Model compiled.\n"
     ]
    }
   ],
   "source": [
    "# Configure the model.\n",
    "model = tfdf.keras.RandomForestModel(task = tfdf.keras.Task.REGRESSION, num_threads=n_threads)\n",
    "\n",
    "# Configure the metrics (Eventually add other metrics).\n",
    "model.compile(metrics=[\"mse\", \"mape\"])\n",
    "\n",
    "# Train the model.\n",
    "with sys_pipes():\n",
    "    model.fit(train_ds)"
   ]
  },
  {
   "cell_type": "code",
   "execution_count": 18,
   "metadata": {
    "scrolled": true
   },
   "outputs": [
    {
     "name": "stdout",
     "output_type": "stream",
     "text": [
      "Model: \"random_forest_model\"\n",
      "_________________________________________________________________\n",
      " Layer (type)                Output Shape              Param #   \n",
      "=================================================================\n",
      "=================================================================\n",
      "Total params: 1\n",
      "Trainable params: 0\n",
      "Non-trainable params: 1\n",
      "_________________________________________________________________\n",
      "Type: \"RANDOM_FOREST\"\n",
      "Task: REGRESSION\n",
      "Label: \"__LABEL\"\n",
      "\n",
      "Input Features (6):\n",
      "\tEccentricity\n",
      "\tMass_0\n",
      "\tMass_1\n",
      "\tSemimajor\n",
      "\tZ\n",
      "\talpha\n",
      "\n",
      "No weights\n",
      "\n",
      "Variable Importance: MEAN_MIN_DEPTH:\n",
      "    1.      \"__LABEL\" 14.363688 ################\n",
      "    2.        \"alpha\" 13.190288 ##############\n",
      "    3.       \"Mass_1\"  6.231735 ######\n",
      "    4.            \"Z\"  4.995672 ####\n",
      "    5. \"Eccentricity\"  4.497082 ####\n",
      "    6.       \"Mass_0\"  4.279708 ###\n",
      "    7.    \"Semimajor\"  1.026179 \n",
      "\n",
      "Variable Importance: NUM_AS_ROOT:\n",
      "    1.    \"Semimajor\" 141.000000 ################\n",
      "    2. \"Eccentricity\" 106.000000 ###########\n",
      "    3.       \"Mass_0\" 45.000000 ####\n",
      "    4.            \"Z\"  8.000000 \n",
      "\n",
      "Variable Importance: NUM_NODES:\n",
      "    1.    \"Semimajor\" 1117835.000000 ################\n",
      "    2.       \"Mass_1\" 764129.000000 ##########\n",
      "    3.       \"Mass_0\" 755404.000000 ##########\n",
      "    4. \"Eccentricity\" 685106.000000 #########\n",
      "    5.            \"Z\" 204413.000000 #\n",
      "    6.        \"alpha\" 124503.000000 \n",
      "\n",
      "Variable Importance: SUM_SCORE:\n",
      "    1.    \"Semimajor\" 903804553.076230 ################\n",
      "    2. \"Eccentricity\" 104993337.037757 #\n",
      "    3.       \"Mass_0\" 51834297.768680 \n",
      "    4.            \"Z\" 51013093.567221 \n",
      "    5.       \"Mass_1\" 19888739.973742 \n",
      "    6.        \"alpha\" 599995.102291 \n",
      "\n",
      "\n",
      "\n",
      "Out-of-bag evaluation: rmse:0.106878\n",
      "Number of trees: 300\n",
      "Total number of nodes: 7303080\n",
      "\n",
      "Number of nodes by tree:\n",
      "Count: 300 Average: 24343.6 StdDev: 1513.87\n",
      "Min: 18419 Max: 27903 Ignored: 0\n",
      "----------------------------------------------\n",
      "[ 18419, 18893)  1   0.33%   0.33%\n",
      "[ 18893, 19367)  1   0.33%   0.67%\n",
      "[ 19367, 19841)  1   0.33%   1.00%\n",
      "[ 19841, 20316)  0   0.00%   1.00%\n",
      "[ 20316, 20790)  2   0.67%   1.67% #\n",
      "[ 20790, 21264)  2   0.67%   2.33% #\n",
      "[ 21264, 21738)  6   2.00%   4.33% ##\n",
      "[ 21738, 22213) 11   3.67%   8.00% ###\n",
      "[ 22213, 22687) 16   5.33%  13.33% ####\n",
      "[ 22687, 23161) 27   9.00%  22.33% #######\n",
      "[ 23161, 23635) 21   7.00%  29.33% #####\n",
      "[ 23635, 24110) 37  12.33%  41.67% #########\n",
      "[ 24110, 24584) 35  11.67%  53.33% #########\n",
      "[ 24584, 25058) 40  13.33%  66.67% ##########\n",
      "[ 25058, 25532) 36  12.00%  78.67% #########\n",
      "[ 25532, 26007) 22   7.33%  86.00% ######\n",
      "[ 26007, 26481) 21   7.00%  93.00% #####\n",
      "[ 26481, 26955) 14   4.67%  97.67% ####\n",
      "[ 26955, 27429)  4   1.33%  99.00% #\n",
      "[ 27429, 27903]  3   1.00% 100.00% #\n",
      "\n",
      "Depth by leafs:\n",
      "Count: 3651690 Average: 14.3652 StdDev: 1.09743\n",
      "Min: 4 Max: 15 Ignored: 0\n",
      "----------------------------------------------\n",
      "[  4,  5)       3   0.00%   0.00%\n",
      "[  5,  6)      18   0.00%   0.00%\n",
      "[  6,  7)     198   0.01%   0.01%\n",
      "[  7,  8)    1027   0.03%   0.03%\n",
      "[  8,  9)    3605   0.10%   0.13%\n",
      "[  9, 10)   10458   0.29%   0.42%\n",
      "[ 10, 11)   28060   0.77%   1.19%\n",
      "[ 11, 12)   68139   1.87%   3.05%\n",
      "[ 12, 13)  158542   4.34%   7.40% #\n",
      "[ 13, 14)  341200   9.34%  16.74% #\n",
      "[ 14, 15)  649064  17.77%  34.51% ###\n",
      "[ 15, 15] 2391376  65.49% 100.00% ##########\n",
      "\n",
      "Number of training obs by leaf:\n",
      "Count: 3651690 Average: 16.8751 StdDev: 32.1084\n",
      "Min: 5 Max: 5553 Ignored: 0\n",
      "----------------------------------------------\n",
      "[    5,  282) 3645219  99.82%  99.82% ##########\n",
      "[  282,  559)    5206   0.14%  99.97%\n",
      "[  559,  837)     784   0.02%  99.99%\n",
      "[  837, 1114)     284   0.01%  99.99%\n",
      "[ 1114, 1392)      93   0.00% 100.00%\n",
      "[ 1392, 1669)      59   0.00% 100.00%\n",
      "[ 1669, 1947)      13   0.00% 100.00%\n",
      "[ 1947, 2224)       7   0.00% 100.00%\n",
      "[ 2224, 2502)       4   0.00% 100.00%\n",
      "[ 2502, 2779)       4   0.00% 100.00%\n",
      "[ 2779, 3056)       7   0.00% 100.00%\n",
      "[ 3056, 3334)       3   0.00% 100.00%\n",
      "[ 3334, 3611)       3   0.00% 100.00%\n",
      "[ 3611, 3889)       3   0.00% 100.00%\n",
      "[ 3889, 4166)       0   0.00% 100.00%\n",
      "[ 4166, 4444)       0   0.00% 100.00%\n",
      "[ 4444, 4721)       0   0.00% 100.00%\n",
      "[ 4721, 4999)       0   0.00% 100.00%\n",
      "[ 4999, 5276)       0   0.00% 100.00%\n",
      "[ 5276, 5553]       1   0.00% 100.00%\n",
      "\n",
      "Attribute in nodes:\n",
      "\t1117835 : Semimajor [NUMERICAL]\n",
      "\t764129 : Mass_1 [NUMERICAL]\n",
      "\t755404 : Mass_0 [NUMERICAL]\n",
      "\t685106 : Eccentricity [NUMERICAL]\n",
      "\t204413 : Z [NUMERICAL]\n",
      "\t124503 : alpha [NUMERICAL]\n",
      "\n",
      "Attribute in nodes with depth <= 0:\n",
      "\t141 : Semimajor [NUMERICAL]\n",
      "\t106 : Eccentricity [NUMERICAL]\n",
      "\t45 : Mass_0 [NUMERICAL]\n",
      "\t8 : Z [NUMERICAL]\n",
      "\n",
      "Attribute in nodes with depth <= 1:\n",
      "\t439 : Semimajor [NUMERICAL]\n",
      "\t142 : Eccentricity [NUMERICAL]\n",
      "\t137 : Z [NUMERICAL]\n",
      "\t134 : Mass_0 [NUMERICAL]\n",
      "\t48 : Mass_1 [NUMERICAL]\n",
      "\n",
      "Attribute in nodes with depth <= 2:\n",
      "\t1041 : Semimajor [NUMERICAL]\n",
      "\t404 : Z [NUMERICAL]\n",
      "\t302 : Mass_0 [NUMERICAL]\n",
      "\t196 : Eccentricity [NUMERICAL]\n",
      "\t153 : Mass_1 [NUMERICAL]\n",
      "\t4 : alpha [NUMERICAL]\n",
      "\n",
      "Attribute in nodes with depth <= 3:\n",
      "\t2208 : Semimajor [NUMERICAL]\n",
      "\t817 : Z [NUMERICAL]\n",
      "\t574 : Mass_0 [NUMERICAL]\n",
      "\t443 : Mass_1 [NUMERICAL]\n",
      "\t433 : Eccentricity [NUMERICAL]\n",
      "\t25 : alpha [NUMERICAL]\n",
      "\n",
      "Attribute in nodes with depth <= 5:\n",
      "\t8568 : Semimajor [NUMERICAL]\n",
      "\t2696 : Z [NUMERICAL]\n",
      "\t2638 : Eccentricity [NUMERICAL]\n",
      "\t2343 : Mass_0 [NUMERICAL]\n",
      "\t2275 : Mass_1 [NUMERICAL]\n",
      "\t353 : alpha [NUMERICAL]\n",
      "\n",
      "Condition type in nodes:\n",
      "\t3651390 : HigherCondition\n",
      "Condition type in nodes with depth <= 0:\n",
      "\t300 : HigherCondition\n",
      "Condition type in nodes with depth <= 1:\n",
      "\t900 : HigherCondition\n",
      "Condition type in nodes with depth <= 2:\n",
      "\t2100 : HigherCondition\n",
      "Condition type in nodes with depth <= 3:\n",
      "\t4500 : HigherCondition\n",
      "Condition type in nodes with depth <= 5:\n",
      "\t18873 : HigherCondition\n",
      "Node format: NOT_SET\n",
      "\n",
      "Training OOB:\n",
      "\ttrees: 1, Out-of-bag evaluation: rmse:0.232081\n",
      "\ttrees: 11, Out-of-bag evaluation: rmse:0.1636\n",
      "\ttrees: 21, Out-of-bag evaluation: rmse:0.13989\n",
      "\ttrees: 31, Out-of-bag evaluation: rmse:0.125822\n",
      "\ttrees: 41, Out-of-bag evaluation: rmse:0.12197\n",
      "\ttrees: 51, Out-of-bag evaluation: rmse:0.119353\n",
      "\ttrees: 61, Out-of-bag evaluation: rmse:0.117302\n",
      "\ttrees: 71, Out-of-bag evaluation: rmse:0.11648\n",
      "\ttrees: 81, Out-of-bag evaluation: rmse:0.115038\n",
      "\ttrees: 91, Out-of-bag evaluation: rmse:0.113578\n",
      "\ttrees: 101, Out-of-bag evaluation: rmse:0.112596\n",
      "\ttrees: 111, Out-of-bag evaluation: rmse:0.111271\n",
      "\ttrees: 121, Out-of-bag evaluation: rmse:0.110242\n",
      "\ttrees: 131, Out-of-bag evaluation: rmse:0.108915\n",
      "\ttrees: 141, Out-of-bag evaluation: rmse:0.108512\n",
      "\ttrees: 151, Out-of-bag evaluation: rmse:0.108348\n",
      "\ttrees: 161, Out-of-bag evaluation: rmse:0.108295\n",
      "\ttrees: 171, Out-of-bag evaluation: rmse:0.108189\n",
      "\ttrees: 181, Out-of-bag evaluation: rmse:0.107831\n",
      "\ttrees: 191, Out-of-bag evaluation: rmse:0.107958\n",
      "\ttrees: 201, Out-of-bag evaluation: rmse:0.107704\n",
      "\ttrees: 211, Out-of-bag evaluation: rmse:0.107514\n",
      "\ttrees: 221, Out-of-bag evaluation: rmse:0.107295\n",
      "\ttrees: 231, Out-of-bag evaluation: rmse:0.106966\n",
      "\ttrees: 241, Out-of-bag evaluation: rmse:0.106682\n",
      "\ttrees: 251, Out-of-bag evaluation: rmse:0.106722\n",
      "\ttrees: 261, Out-of-bag evaluation: rmse:0.106824\n",
      "\ttrees: 271, Out-of-bag evaluation: rmse:0.106782\n",
      "\ttrees: 281, Out-of-bag evaluation: rmse:0.106964\n",
      "\ttrees: 291, Out-of-bag evaluation: rmse:0.106888\n",
      "\ttrees: 300, Out-of-bag evaluation: rmse:0.106878\n",
      "\n"
     ]
    }
   ],
   "source": [
    "model.summary()"
   ]
  },
  {
   "cell_type": "code",
   "execution_count": 19,
   "metadata": {},
   "outputs": [
    {
     "data": {
      "text/plain": [
       "[\"Eccentricity\" (1; #0),\n",
       " \"Mass_0\" (1; #1),\n",
       " \"Mass_1\" (1; #2),\n",
       " \"Semimajor\" (1; #3),\n",
       " \"Z\" (1; #4),\n",
       " \"alpha\" (1; #5)]"
      ]
     },
     "execution_count": 19,
     "metadata": {},
     "output_type": "execute_result"
    }
   ],
   "source": [
    "# inspect the features used in the model\n",
    "model.make_inspector().features()"
   ]
  },
  {
   "cell_type": "code",
   "execution_count": 20,
   "metadata": {},
   "outputs": [
    {
     "name": "stdout",
     "output_type": "stream",
     "text": [
      "1850/1850 [==============================] - 84s 45ms/step - loss: 0.0000e+00 - mse: 0.0107 - mape: 1.2230\n",
      "{'loss': 0.0, 'mse': 0.01071587111800909, 'mape': 1.223013162612915}\n",
      "MSE: 0.01\n",
      "RMSE: 0.10\n"
     ]
    }
   ],
   "source": [
    "#evaluation = model.evaluate(test_ds, return_dict=True)\n",
    "evaluation = model.evaluate(test_ds, return_dict=True)\n",
    "\n",
    "print(evaluation)\n",
    "print(f\"MSE: {evaluation['mse']:.2f}\")\n",
    "print(f\"RMSE: {np.sqrt(evaluation['mse']):.2f}\")\n",
    "#print(f\"MAPE: {evaluation['mape']:.2f}\")"
   ]
  },
  {
   "cell_type": "code",
   "execution_count": 21,
   "metadata": {},
   "outputs": [
    {
     "data": {
      "image/png": "[encoded data removed]",
      "text/plain": [
       "<Figure size 864x648 with 1 Axes>"
      ]
     },
     "metadata": {
      "needs_background": "light"
     },
     "output_type": "display_data"
    }
   ],
   "source": [
    "logs = model.make_inspector().training_logs()\n",
    "\n",
    "fig, ax = plt.subplots(figsize=(12, 9))\n",
    "\n",
    "ax.plot([log.num_trees for log in logs], [log.evaluation.rmse for log in logs])\n",
    "ax.set_xlabel(\"Number of trees\")\n",
    "ax.set_ylabel(\"RMSE (out-of-bag)\")\n",
    "plt.show()"
   ]
  },
  {
   "cell_type": "code",
   "execution_count": 22,
   "metadata": {},
   "outputs": [
    {
     "name": "stdout",
     "output_type": "stream",
     "text": [
      "1850/1850 [==============================] - 84s 46ms/step\n"
     ]
    }
   ],
   "source": [
    "# make predictions to compare with Y_test\n",
    "Y_pred = model.predict(test_ds)"
   ]
  },
  {
   "cell_type": "code",
   "execution_count": 23,
   "metadata": {},
   "outputs": [
    {
     "data": {
      "image/png": "[encoded data removed]",
      "text/plain": [
       "<Figure size 1080x864 with 1 Axes>"
      ]
     },
     "metadata": {
      "needs_background": "light"
     },
     "output_type": "display_data"
    }
   ],
   "source": [
    "Plot_TestPred(Y_pred=Y_pred, Y_test=Y_test, log=False)"
   ]
  },
  {
   "cell_type": "code",
   "execution_count": 24,
   "metadata": {},
   "outputs": [
    {
     "data": {
      "image/png": "[encoded data removed]",
      "text/plain": [
       "<Figure size 1080x504 with 1 Axes>"
      ]
     },
     "metadata": {
      "needs_background": "light"
     },
     "output_type": "display_data"
    },
    {
     "data": {
      "image/png": "[encoded data removed]",
      "text/plain": [
       "<Figure size 1080x504 with 1 Axes>"
      ]
     },
     "metadata": {
      "needs_background": "light"
     },
     "output_type": "display_data"
    }
   ],
   "source": [
    "plot_hist(10**Y_pred[:,0], 100, False)\n",
    "plot_hist(10**Y_test,      100, False)"
   ]
  },
  {
   "cell_type": "code",
   "execution_count": 25,
   "metadata": {},
   "outputs": [
    {
     "ename": "NameError",
     "evalue": "name 'regressor' is not defined",
     "output_type": "error",
     "traceback": [
      "\u001b[0;31m---------------------------------------------------------------------------\u001b[0m",
      "\u001b[0;31mNameError\u001b[0m                                 Traceback (most recent call last)",
      "Input \u001b[0;32mIn [25]\u001b[0m, in \u001b[0;36m<cell line: 1>\u001b[0;34m()\u001b[0m\n\u001b[0;32m----> 1\u001b[0m \u001b[38;5;28mprint\u001b[39m(\u001b[38;5;124m'\u001b[39m\u001b[38;5;124mScore of the regressor for the training set:\u001b[39m\u001b[38;5;130;01m\\n\u001b[39;00m\u001b[38;5;124m'\u001b[39m, \u001b[43mregressor\u001b[49m\u001b[38;5;241m.\u001b[39mscore(X_train, Y_train))\n\u001b[1;32m      2\u001b[0m \u001b[38;5;28mprint\u001b[39m(\u001b[38;5;124m'\u001b[39m\u001b[38;5;130;01m\\n\u001b[39;00m\u001b[38;5;124mScore of the regressor for the test set:\u001b[39m\u001b[38;5;130;01m\\n\u001b[39;00m\u001b[38;5;124m'\u001b[39m,   regressor\u001b[38;5;241m.\u001b[39mscore(X_test,  Y_test ))\n\u001b[1;32m      3\u001b[0m \u001b[38;5;66;03m#print('\\nScore of the regressor for the test set:\\n',   regressor.score(X_test2, Y_test2 ))\u001b[39;00m\n",
      "\u001b[0;31mNameError\u001b[0m: name 'regressor' is not defined"
     ]
    }
   ],
   "source": [
    "print('Score of the regressor for the training set:\\n', model.score(X_train, Y_train))\n",
    "print('\\nScore of the regressor for the test set:\\n',   model.score(X_test,  Y_test ))\n",
    "#print('\\nScore of the regressor for the test set:\\n',   model.score(X_test2, Y_test2 ))\n",
    "print('Mean squared log error of the regressor for the test set:\\n', mean_squared_log_error(10**Y_test, 10**Y_pred ))\n",
    "print('Mean squared error of the regressor for the test set:\\n', mean_squared_error(10**Y_test, 10**Y_pred ))"
   ]
  },
  {
   "cell_type": "code",
   "execution_count": null,
   "metadata": {},
   "outputs": [],
   "source": [
    "# plot the first tree, restricted to depth of 3\n",
    "tfdf.model_plotter.plot_model(model, tree_idx=0, max_depth=3)"
   ]
  },
  {
   "cell_type": "code",
   "execution_count": 9,
   "metadata": {},
   "outputs": [
    {
     "data": {
      "text/plain": [
       "{'num_trees': [200, 400, 600, 800, 1000, 1200, 1400, 1600, 1800, 2000],\n",
       " 'num_candidate_attributes': [-1, 0, 3],\n",
       " 'max_depth': [10, 20, 30, 40, 50, 60, 70, 80, 90, 100, 110, None],\n",
       " 'min_examples': [2, 5, 10, 50],\n",
       " 'uplift_min_examples_in_treatment': [1, 2, 4, 5, 10],\n",
       " 'adapt_bootstrap_size_ratio_for_maximum_training_duration': [True, False]}"
      ]
     },
     "execution_count": 9,
     "metadata": {},
     "output_type": "execute_result"
    }
   ],
   "source": [
    "# Number of trees in random forest\n",
    "num_trees = [int(x) for x in np.linspace(start = 200, stop = 2000, num = 10)]\n",
    "\n",
    "# Number of features to consider at every split\n",
    "num_candidate_attributes = [-1, 0, 3]\n",
    "\n",
    "# Maximum number of levels in tree\n",
    "max_depth = [int(x) for x in np.linspace(10, 110, num = 11)]\n",
    "max_depth.append(None)\n",
    "\n",
    "# Minimum number of samples required to split a node\n",
    "min_examples = [2, 5, 10, 50]\n",
    "\n",
    "# Minimum number of samples required at each leaf node\n",
    "uplift_min_examples_in_treatment = [1, 2, 4, 5, 10]\n",
    "\n",
    "# Method of selecting samples for training each tree\n",
    "adapt_bootstrap_size_ratio_for_maximum_training_duration = [True, False]\n",
    "\n",
    "# Create the random grid\n",
    "random_grid = {'num_trees': num_trees,\n",
    "               'num_candidate_attributes': num_candidate_attributes,\n",
    "               'max_depth': max_depth,\n",
    "               'min_examples': min_examples,\n",
    "               'uplift_min_examples_in_treatment': uplift_min_examples_in_treatment,\n",
    "               'adapt_bootstrap_size_ratio_for_maximum_training_duration': adapt_bootstrap_size_ratio_for_maximum_training_duration}\n",
    "random_grid"
   ]
  },
  {
   "cell_type": "code",
   "execution_count": 10,
   "metadata": {},
   "outputs": [
    {
     "name": "stderr",
     "output_type": "stream",
     "text": [
      "KerasClassifier is deprecated, use Sci-Keras (https://github.com/adriangb/scikeras) instead. See https://www.adriangb.com/scikeras/stable/migration.html for help migrating.\n"
     ]
    },
    {
     "ename": "AttributeError",
     "evalue": "'KerasClassifier' object has no attribute '__call__'",
     "output_type": "error",
     "traceback": [
      "\u001b[0;31m---------------------------------------------------------------------------\u001b[0m",
      "\u001b[0;31mAttributeError\u001b[0m                            Traceback (most recent call last)",
      "Input \u001b[0;32mIn [10]\u001b[0m, in \u001b[0;36m<cell line: 3>\u001b[0;34m()\u001b[0m\n\u001b[1;32m      1\u001b[0m \u001b[38;5;66;03m# Use the random grid to search for best hyperparameters\u001b[39;00m\n\u001b[1;32m      2\u001b[0m \u001b[38;5;66;03m# First create the base model to tune\u001b[39;00m\n\u001b[0;32m----> 3\u001b[0m rf \u001b[38;5;241m=\u001b[39m \u001b[43mKerasClassifier\u001b[49m\u001b[43m(\u001b[49m\u001b[43mmodel\u001b[49m\u001b[38;5;241;43m=\u001b[39;49m\u001b[43mtfdf\u001b[49m\u001b[38;5;241;43m.\u001b[39;49m\u001b[43mkeras\u001b[49m\u001b[38;5;241;43m.\u001b[39;49m\u001b[43mRandomForestModel\u001b[49m\u001b[43m,\u001b[49m\u001b[43m \u001b[49m\u001b[43mtask\u001b[49m\u001b[43m \u001b[49m\u001b[38;5;241;43m=\u001b[39;49m\u001b[43m \u001b[49m\u001b[43mtfdf\u001b[49m\u001b[38;5;241;43m.\u001b[39;49m\u001b[43mkeras\u001b[49m\u001b[38;5;241;43m.\u001b[39;49m\u001b[43mTask\u001b[49m\u001b[38;5;241;43m.\u001b[39;49m\u001b[43mREGRESSION\u001b[49m\u001b[43m,\u001b[49m\u001b[43m \u001b[49m\u001b[43mnum_threads\u001b[49m\u001b[38;5;241;43m=\u001b[39;49m\u001b[43mn_threads\u001b[49m\u001b[43m)\u001b[49m\n\u001b[1;32m      5\u001b[0m \u001b[38;5;66;03m# Random search of parameters, using 3 fold cross validation, \u001b[39;00m\n\u001b[1;32m      6\u001b[0m \u001b[38;5;66;03m# search across 100 different combinations, and use all available cores\u001b[39;00m\n\u001b[1;32m      7\u001b[0m rf_random \u001b[38;5;241m=\u001b[39m RandomizedSearchCV(estimator\u001b[38;5;241m=\u001b[39mrf, param_distributions\u001b[38;5;241m=\u001b[39mrandom_grid, \n\u001b[1;32m      8\u001b[0m                                scoring\u001b[38;5;241m=\u001b[39m\u001b[38;5;124m'\u001b[39m\u001b[38;5;124maccuracy\u001b[39m\u001b[38;5;124m'\u001b[39m,\n\u001b[1;32m      9\u001b[0m                                n_iter \u001b[38;5;241m=\u001b[39m \u001b[38;5;241m20\u001b[39m, cv \u001b[38;5;241m=\u001b[39m \u001b[38;5;241m3\u001b[39m, verbose\u001b[38;5;241m=\u001b[39m\u001b[38;5;241m0\u001b[39m, \n\u001b[1;32m     10\u001b[0m                                random_state\u001b[38;5;241m=\u001b[39m\u001b[38;5;241m42\u001b[39m, n_jobs \u001b[38;5;241m=\u001b[39m \u001b[38;5;241m-\u001b[39m\u001b[38;5;241m1\u001b[39m)\n",
      "File \u001b[0;32m~/miniconda3/lib/python3.9/site-packages/keras/wrappers/scikit_learn.py:206\u001b[0m, in \u001b[0;36mKerasClassifier.__init__\u001b[0;34m(self, build_fn, **sk_params)\u001b[0m\n\u001b[1;32m    198\u001b[0m \u001b[38;5;28;01mdef\u001b[39;00m \u001b[38;5;21m__init__\u001b[39m(\u001b[38;5;28mself\u001b[39m, build_fn\u001b[38;5;241m=\u001b[39m\u001b[38;5;28;01mNone\u001b[39;00m, \u001b[38;5;241m*\u001b[39m\u001b[38;5;241m*\u001b[39msk_params):\n\u001b[1;32m    199\u001b[0m   warnings\u001b[38;5;241m.\u001b[39mwarn(\n\u001b[1;32m    200\u001b[0m       \u001b[38;5;124m'\u001b[39m\u001b[38;5;124mKerasClassifier is deprecated, \u001b[39m\u001b[38;5;124m'\u001b[39m\n\u001b[1;32m    201\u001b[0m       \u001b[38;5;124m'\u001b[39m\u001b[38;5;124muse Sci-Keras (https://github.com/adriangb/scikeras) instead. \u001b[39m\u001b[38;5;124m'\u001b[39m\n\u001b[0;32m   (...)\u001b[0m\n\u001b[1;32m    204\u001b[0m       \u001b[38;5;167;01mDeprecationWarning\u001b[39;00m,\n\u001b[1;32m    205\u001b[0m       stacklevel\u001b[38;5;241m=\u001b[39m\u001b[38;5;241m2\u001b[39m)\n\u001b[0;32m--> 206\u001b[0m   \u001b[38;5;28;43msuper\u001b[39;49m\u001b[43m(\u001b[49m\u001b[43m)\u001b[49m\u001b[38;5;241;43m.\u001b[39;49m\u001b[38;5;21;43m__init__\u001b[39;49m\u001b[43m(\u001b[49m\u001b[43mbuild_fn\u001b[49m\u001b[43m,\u001b[49m\u001b[43m \u001b[49m\u001b[38;5;241;43m*\u001b[39;49m\u001b[38;5;241;43m*\u001b[39;49m\u001b[43msk_params\u001b[49m\u001b[43m)\u001b[49m\n",
      "File \u001b[0;32m~/miniconda3/lib/python3.9/site-packages/keras/wrappers/scikit_learn.py:76\u001b[0m, in \u001b[0;36mBaseWrapper.__init__\u001b[0;34m(self, build_fn, **sk_params)\u001b[0m\n\u001b[1;32m     74\u001b[0m \u001b[38;5;28mself\u001b[39m\u001b[38;5;241m.\u001b[39mbuild_fn \u001b[38;5;241m=\u001b[39m build_fn\n\u001b[1;32m     75\u001b[0m \u001b[38;5;28mself\u001b[39m\u001b[38;5;241m.\u001b[39msk_params \u001b[38;5;241m=\u001b[39m sk_params\n\u001b[0;32m---> 76\u001b[0m \u001b[38;5;28;43mself\u001b[39;49m\u001b[38;5;241;43m.\u001b[39;49m\u001b[43mcheck_params\u001b[49m\u001b[43m(\u001b[49m\u001b[43msk_params\u001b[49m\u001b[43m)\u001b[49m\n",
      "File \u001b[0;32m~/miniconda3/lib/python3.9/site-packages/keras/wrappers/scikit_learn.py:91\u001b[0m, in \u001b[0;36mBaseWrapper.check_params\u001b[0;34m(self, params)\u001b[0m\n\u001b[1;32m     87\u001b[0m legal_params_fns \u001b[38;5;241m=\u001b[39m [\n\u001b[1;32m     88\u001b[0m     Sequential\u001b[38;5;241m.\u001b[39mfit, Sequential\u001b[38;5;241m.\u001b[39mpredict, Sequential\u001b[38;5;241m.\u001b[39mevaluate\n\u001b[1;32m     89\u001b[0m ]\n\u001b[1;32m     90\u001b[0m \u001b[38;5;28;01mif\u001b[39;00m \u001b[38;5;28mself\u001b[39m\u001b[38;5;241m.\u001b[39mbuild_fn \u001b[38;5;129;01mis\u001b[39;00m \u001b[38;5;28;01mNone\u001b[39;00m:\n\u001b[0;32m---> 91\u001b[0m   legal_params_fns\u001b[38;5;241m.\u001b[39mappend(\u001b[38;5;28;43mself\u001b[39;49m\u001b[38;5;241;43m.\u001b[39;49m\u001b[38;5;21;43m__call__\u001b[39;49m)\n\u001b[1;32m     92\u001b[0m \u001b[38;5;28;01melif\u001b[39;00m (\u001b[38;5;129;01mnot\u001b[39;00m \u001b[38;5;28misinstance\u001b[39m(\u001b[38;5;28mself\u001b[39m\u001b[38;5;241m.\u001b[39mbuild_fn, types\u001b[38;5;241m.\u001b[39mFunctionType) \u001b[38;5;129;01mand\u001b[39;00m\n\u001b[1;32m     93\u001b[0m       \u001b[38;5;129;01mnot\u001b[39;00m \u001b[38;5;28misinstance\u001b[39m(\u001b[38;5;28mself\u001b[39m\u001b[38;5;241m.\u001b[39mbuild_fn, types\u001b[38;5;241m.\u001b[39mMethodType)):\n\u001b[1;32m     94\u001b[0m   legal_params_fns\u001b[38;5;241m.\u001b[39mappend(\u001b[38;5;28mself\u001b[39m\u001b[38;5;241m.\u001b[39mbuild_fn\u001b[38;5;241m.\u001b[39m\u001b[38;5;21m__call__\u001b[39m)\n",
      "\u001b[0;31mAttributeError\u001b[0m: 'KerasClassifier' object has no attribute '__call__'"
     ]
    }
   ],
   "source": [
    "# Use the random grid to search for best hyperparameters\n",
    "# First create the base model to tune\n",
    "rf = KerasClassifier(model=tfdf.keras.RandomForestModel, task = tfdf.keras.Task.REGRESSION, num_threads=n_threads)\n",
    "\n",
    "# Random search of parameters, using 3 fold cross validation, \n",
    "# search across 100 different combinations, and use all available cores\n",
    "rf_random = RandomizedSearchCV(estimator=rf, param_distributions=random_grid, \n",
    "                               scoring='accuracy',\n",
    "                               n_iter = 20, cv = 3, verbose=0, \n",
    "                               random_state=42, n_jobs = -1)\n",
    "\n",
    "# Fit the random search model\n",
    "rf_random.fit(X_train, Y_train)"
   ]
  },
  {
   "cell_type": "code",
   "execution_count": null,
   "metadata": {},
   "outputs": [],
   "source": [
    "\"\"\"for deeptnote\"\"\"\n",
    "# def slice_dataset(dataset, slice_ratio=0.15):\n",
    "#   valid_indices = np.random.rand(len(dataset)) < slice_ratio\n",
    "#   return dataset[valid_indices]\n",
    "# BHBH_sliced = slice_dataset(BHBH)\n",
    "# BHBH_sliced.to_csv('dataset.csv')"
   ]
  }
 ],
 "metadata": {
  "interpreter": {
   "hash": "77593180668de44719eea98b1016f56594f6a7979e760ba16644cd28c82a4004"
  },
  "kernelspec": {
   "display_name": "Python 3 (ipykernel)",
   "language": "python",
   "name": "python3"
  },
  "language_info": {
   "codemirror_mode": {
    "name": "ipython",
    "version": 3
   },
   "file_extension": ".py",
   "mimetype": "text/x-python",
   "name": "python",
   "nbconvert_exporter": "python",
   "pygments_lexer": "ipython3",
   "version": "3.9.12"
  }
 },
 "nbformat": 4,
 "nbformat_minor": 2
}
