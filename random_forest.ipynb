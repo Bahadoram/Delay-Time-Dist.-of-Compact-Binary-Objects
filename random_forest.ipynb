{
 "cells": [
  {
   "cell_type": "code",
   "execution_count": 1,
   "metadata": {},
   "outputs": [
    {
     "name": "stderr",
     "output_type": "stream",
     "text": [
      "/home/ubuntu/miniconda3/lib/python3.9/site-packages/xgboost/compat.py:36: FutureWarning: pandas.Int64Index is deprecated and will be removed from pandas in a future version. Use pandas.Index with the appropriate dtype instead.\n",
      "  from pandas import MultiIndex, Int64Index\n"
     ]
    }
   ],
   "source": [
    "import numpy             as np\n",
    "import pandas            as pd\n",
    "import matplotlib.pyplot as plt\n",
    "import time\n",
    "\n",
    "from xgboost import XGBRFClassifier, plot_tree\n",
    "from sklearn.metrics import mean_squared_error\n",
    "from sklearn.preprocessing import StandardScaler\n",
    "from sklearn.model_selection import train_test_split, GridSearchCV, RandomizedSearchCV\n",
    "\n",
    "from sklearn.ensemble import RandomForestRegressor\n",
    "from sklearn.datasets import make_regression\n",
    "\n",
    "from sklearn.model_selection import cross_val_score\n",
    "from sklearn.model_selection import RepeatedStratifiedKFold\n",
    "\n",
    "from sklearn.tree import export_graphviz\n",
    "import graphviz\n",
    "\n",
    "import multiprocessing\n",
    "\n",
    "import warnings"
   ]
  },
  {
   "cell_type": "code",
   "execution_count": 2,
   "metadata": {},
   "outputs": [
    {
     "data": {
      "text/html": [
       "<div>\n",
       "<style scoped>\n",
       "    .dataframe tbody tr th:only-of-type {\n",
       "        vertical-align: middle;\n",
       "    }\n",
       "\n",
       "    .dataframe tbody tr th {\n",
       "        vertical-align: top;\n",
       "    }\n",
       "\n",
       "    .dataframe thead th {\n",
       "        text-align: right;\n",
       "    }\n",
       "</style>\n",
       "<table border=\"1\" class=\"dataframe\">\n",
       "  <thead>\n",
       "    <tr style=\"text-align: right;\">\n",
       "      <th></th>\n",
       "      <th>Index</th>\n",
       "      <th>ID</th>\n",
       "      <th>name</th>\n",
       "      <th>BWorldtime</th>\n",
       "      <th>Mass_0</th>\n",
       "      <th>Radius_0</th>\n",
       "      <th>Zams_0</th>\n",
       "      <th>Phase_0</th>\n",
       "      <th>RemnantType_0</th>\n",
       "      <th>Mass_1</th>\n",
       "      <th>...</th>\n",
       "      <th>Events</th>\n",
       "      <th>EventsPlus</th>\n",
       "      <th>Mzams_0</th>\n",
       "      <th>Mzams_1</th>\n",
       "      <th>Semimajor_ini</th>\n",
       "      <th>Eccentricity_ini</th>\n",
       "      <th>Z</th>\n",
       "      <th>alpha</th>\n",
       "      <th>Delay_Time</th>\n",
       "      <th>Eccentricity_Delay</th>\n",
       "    </tr>\n",
       "  </thead>\n",
       "  <tbody>\n",
       "    <tr>\n",
       "      <th>0</th>\n",
       "      <td>0</td>\n",
       "      <td>360308</td>\n",
       "      <td>0_792857804219921</td>\n",
       "      <td>5.411991</td>\n",
       "      <td>18.34303</td>\n",
       "      <td>0.000078</td>\n",
       "      <td>21.22227</td>\n",
       "      <td>7</td>\n",
       "      <td>6</td>\n",
       "      <td>21.09631</td>\n",
       "      <td>...</td>\n",
       "      <td>RB:RE:S:RB:RE:S</td>\n",
       "      <td>RB:RE:ehSt:RB:RE:erSt</td>\n",
       "      <td>41.0592</td>\n",
       "      <td>34.5745</td>\n",
       "      <td>24.874630</td>\n",
       "      <td>0.2619</td>\n",
       "      <td>0.0004</td>\n",
       "      <td>0.5</td>\n",
       "      <td>9.993410e+04</td>\n",
       "      <td>6.409107e-11</td>\n",
       "    </tr>\n",
       "    <tr>\n",
       "      <th>1</th>\n",
       "      <td>1</td>\n",
       "      <td>360337</td>\n",
       "      <td>0_285120263308905</td>\n",
       "      <td>4.134819</td>\n",
       "      <td>50.99943</td>\n",
       "      <td>0.000217</td>\n",
       "      <td>92.24360</td>\n",
       "      <td>7</td>\n",
       "      <td>6</td>\n",
       "      <td>51.78028</td>\n",
       "      <td>...</td>\n",
       "      <td>S:S</td>\n",
       "      <td>hhS:hrS</td>\n",
       "      <td>92.2436</td>\n",
       "      <td>53.6410</td>\n",
       "      <td>81917.701038</td>\n",
       "      <td>0.3955</td>\n",
       "      <td>0.0004</td>\n",
       "      <td>0.5</td>\n",
       "      <td>5.520443e+16</td>\n",
       "      <td>4.934820e-14</td>\n",
       "    </tr>\n",
       "    <tr>\n",
       "      <th>2</th>\n",
       "      <td>2</td>\n",
       "      <td>360367</td>\n",
       "      <td>0_303570516402716</td>\n",
       "      <td>4.311590</td>\n",
       "      <td>33.98611</td>\n",
       "      <td>0.000144</td>\n",
       "      <td>41.10912</td>\n",
       "      <td>7</td>\n",
       "      <td>6</td>\n",
       "      <td>30.83786</td>\n",
       "      <td>...</td>\n",
       "      <td>RB:RE:RB:RE:S:RB:RE:S</td>\n",
       "      <td>RB:RE:RB:RE:ehSt:RB:RE:erSt</td>\n",
       "      <td>74.5563</td>\n",
       "      <td>46.8471</td>\n",
       "      <td>127.422203</td>\n",
       "      <td>0.2217</td>\n",
       "      <td>0.0004</td>\n",
       "      <td>0.5</td>\n",
       "      <td>7.108337e+05</td>\n",
       "      <td>1.981434e-10</td>\n",
       "    </tr>\n",
       "    <tr>\n",
       "      <th>3</th>\n",
       "      <td>3</td>\n",
       "      <td>360429</td>\n",
       "      <td>0_321152334354104</td>\n",
       "      <td>5.738531</td>\n",
       "      <td>42.61480</td>\n",
       "      <td>0.000181</td>\n",
       "      <td>50.85000</td>\n",
       "      <td>7</td>\n",
       "      <td>6</td>\n",
       "      <td>33.31328</td>\n",
       "      <td>...</td>\n",
       "      <td>RB:S:RE:RB:S</td>\n",
       "      <td>RB:hhS:RE:RB:hrS</td>\n",
       "      <td>50.8500</td>\n",
       "      <td>32.3486</td>\n",
       "      <td>316.947946</td>\n",
       "      <td>0.0107</td>\n",
       "      <td>0.0004</td>\n",
       "      <td>0.5</td>\n",
       "      <td>1.214966e+07</td>\n",
       "      <td>2.425785e-12</td>\n",
       "    </tr>\n",
       "    <tr>\n",
       "      <th>4</th>\n",
       "      <td>4</td>\n",
       "      <td>360471</td>\n",
       "      <td>0_850952161687565</td>\n",
       "      <td>4.503749</td>\n",
       "      <td>49.74939</td>\n",
       "      <td>0.000211</td>\n",
       "      <td>65.22210</td>\n",
       "      <td>7</td>\n",
       "      <td>6</td>\n",
       "      <td>45.91471</td>\n",
       "      <td>...</td>\n",
       "      <td>RB:S:RE:RB:S</td>\n",
       "      <td>RB:hhS:RE:RB:hrS</td>\n",
       "      <td>65.2221</td>\n",
       "      <td>46.7855</td>\n",
       "      <td>1548.080290</td>\n",
       "      <td>0.0751</td>\n",
       "      <td>0.0004</td>\n",
       "      <td>0.5</td>\n",
       "      <td>5.995947e+09</td>\n",
       "      <td>1.042263e-11</td>\n",
       "    </tr>\n",
       "  </tbody>\n",
       "</table>\n",
       "<p>5 rows × 28 columns</p>\n",
       "</div>"
      ],
      "text/plain": [
       "   Index      ID               name  BWorldtime    Mass_0  Radius_0    Zams_0  \\\n",
       "0      0  360308  0_792857804219921    5.411991  18.34303  0.000078  21.22227   \n",
       "1      1  360337  0_285120263308905    4.134819  50.99943  0.000217  92.24360   \n",
       "2      2  360367  0_303570516402716    4.311590  33.98611  0.000144  41.10912   \n",
       "3      3  360429  0_321152334354104    5.738531  42.61480  0.000181  50.85000   \n",
       "4      4  360471  0_850952161687565    4.503749  49.74939  0.000211  65.22210   \n",
       "\n",
       "   Phase_0  RemnantType_0    Mass_1  ...                 Events  \\\n",
       "0        7              6  21.09631  ...        RB:RE:S:RB:RE:S   \n",
       "1        7              6  51.78028  ...                    S:S   \n",
       "2        7              6  30.83786  ...  RB:RE:RB:RE:S:RB:RE:S   \n",
       "3        7              6  33.31328  ...           RB:S:RE:RB:S   \n",
       "4        7              6  45.91471  ...           RB:S:RE:RB:S   \n",
       "\n",
       "                    EventsPlus  Mzams_0  Mzams_1  Semimajor_ini  \\\n",
       "0        RB:RE:ehSt:RB:RE:erSt  41.0592  34.5745      24.874630   \n",
       "1                      hhS:hrS  92.2436  53.6410   81917.701038   \n",
       "2  RB:RE:RB:RE:ehSt:RB:RE:erSt  74.5563  46.8471     127.422203   \n",
       "3             RB:hhS:RE:RB:hrS  50.8500  32.3486     316.947946   \n",
       "4             RB:hhS:RE:RB:hrS  65.2221  46.7855    1548.080290   \n",
       "\n",
       "   Eccentricity_ini       Z alpha    Delay_Time Eccentricity_Delay  \n",
       "0            0.2619  0.0004   0.5  9.993410e+04       6.409107e-11  \n",
       "1            0.3955  0.0004   0.5  5.520443e+16       4.934820e-14  \n",
       "2            0.2217  0.0004   0.5  7.108337e+05       1.981434e-10  \n",
       "3            0.0107  0.0004   0.5  1.214966e+07       2.425785e-12  \n",
       "4            0.0751  0.0004   0.5  5.995947e+09       1.042263e-11  \n",
       "\n",
       "[5 rows x 28 columns]"
      ]
     },
     "execution_count": 2,
     "metadata": {},
     "output_type": "execute_result"
    }
   ],
   "source": [
    "dir        = \"DATA/\"\n",
    "file1      = 'BHBH_Delay_Time.csv'\n",
    "\n",
    "BHBH       = pd.read_csv(dir+file1)\n",
    "BHBH.drop(['Unnamed: 0.1', 'Unnamed: 0'], axis=1, inplace=True)\n",
    "BHBH.head()"
   ]
  },
  {
   "cell_type": "code",
   "execution_count": 3,
   "metadata": {},
   "outputs": [],
   "source": [
    "#X = BHBH.drop(['Index', 'ID', 'name', 'Delay_Time',\n",
    "#               'Eccentricity_Delay',\n",
    "#               'Events', 'EventsAll', 'EventsPlus'], axis=1).to_numpy()\n",
    "\n",
    "# define attributes based on knowledge\n",
    "# should we use the others?\n",
    "X = BHBH[['Mass_0', 'Mass_1', 'Semimajor', 'Eccentricity', 'Z', 'alpha']].to_numpy()\n",
    "Y = BHBH.Delay_Time.to_numpy()"
   ]
  },
  {
   "cell_type": "code",
   "execution_count": 4,
   "metadata": {
    "scrolled": true
   },
   "outputs": [
    {
     "data": {
      "text/plain": [
       "array([[4.517758e+01, 2.942937e+01, 2.474364e+02, 2.217053e-01,\n",
       "        1.000000e-04, 3.000000e+00],\n",
       "       [2.040300e+01, 1.735221e+01, 6.150462e+04, 2.778844e-01,\n",
       "        1.400000e-02, 5.000000e+00],\n",
       "       [2.022043e+01, 2.135752e+01, 5.001095e+01, 1.319186e-02,\n",
       "        6.000000e-04, 5.000000e+00],\n",
       "       ...,\n",
       "       [3.273191e+01, 2.267255e+01, 3.502999e+02, 2.903056e-01,\n",
       "        1.000000e-04, 3.000000e+00],\n",
       "       [1.374775e+01, 5.700543e+00, 8.896309e+01, 2.752416e-01,\n",
       "        4.000000e-03, 5.000000e-01],\n",
       "       [9.183860e+00, 9.479400e+00, 1.243541e+01, 8.879470e-02,\n",
       "        2.000000e-03, 5.000000e+00]])"
      ]
     },
     "execution_count": 4,
     "metadata": {},
     "output_type": "execute_result"
    }
   ],
   "source": [
    "# split train and test set (80% training, 20% test)\n",
    "X_train, X_test, Y_train, Y_test = train_test_split(X, Y, test_size=.7, random_state=0)\n",
    "X_train"
   ]
  },
  {
   "cell_type": "markdown",
   "metadata": {},
   "source": [
    "## Scikit-learn Random Forest"
   ]
  },
  {
   "cell_type": "code",
   "execution_count": 5,
   "metadata": {},
   "outputs": [],
   "source": [
    "# model definition for the regressor\n",
    "# using mostly the default parameters\n",
    "#regressor=RandomForestRegressor(n_estimators=10, criterion='squared_error',\n",
    "#                                max_depth=10, min_samples_split=2,\n",
    "#                                min_samples_leaf=1, min_weight_fraction_leaf=0.0,\n",
    "#                                max_features=1.0, max_leaf_nodes=None,\n",
    "#                                min_impurity_decrease=.0, bootstrap=True,\n",
    "#                                oob_score=False, n_jobs=-1,\n",
    "#                                random_state=0,\n",
    "#                                verbose=1)\n",
    "regressor=RandomForestRegressor(n_estimators = 100, random_state = 42,\n",
    "                                n_jobs=-1, verbose=3)"
   ]
  },
  {
   "cell_type": "code",
   "execution_count": 6,
   "metadata": {},
   "outputs": [
    {
     "name": "stderr",
     "output_type": "stream",
     "text": [
      "[Parallel(n_jobs=-1)]: Using backend ThreadingBackend with 8 concurrent workers.\n"
     ]
    },
    {
     "name": "stdout",
     "output_type": "stream",
     "text": [
      "building tree 1 of 100\n",
      "building tree 2 of 100\n",
      "building tree 3 of 100\n",
      "building tree 4 of 100\n",
      "building tree 5 of 100building tree 6 of 100\n",
      "building tree 7 of 100\n",
      "\n",
      "building tree 8 of 100\n",
      "building tree 9 of 100\n",
      "building tree 10 of 100\n",
      "building tree 11 of 100\n",
      "building tree 12 of 100\n",
      "building tree 13 of 100\n",
      "building tree 14 of 100\n",
      "building tree 15 of 100\n",
      "building tree 16 of 100\n",
      "building tree 17 of 100\n",
      "building tree 18 of 100\n",
      "building tree 19 of 100\n",
      "building tree 20 of 100\n",
      "building tree 21 of 100\n",
      "building tree 22 of 100\n",
      "building tree 23 of 100\n"
     ]
    },
    {
     "name": "stderr",
     "output_type": "stream",
     "text": [
      "[Parallel(n_jobs=-1)]: Done  16 tasks      | elapsed:  1.3min\n"
     ]
    },
    {
     "name": "stdout",
     "output_type": "stream",
     "text": [
      "building tree 24 of 100\n",
      "building tree 25 of 100\n",
      "building tree 26 of 100\n",
      "building tree 27 of 100\n",
      "building tree 28 of 100\n",
      "building tree 29 of 100\n",
      "building tree 30 of 100\n",
      "building tree 31 of 100\n",
      "building tree 32 of 100\n",
      "building tree 33 of 100\n",
      "building tree 34 of 100\n",
      "building tree 35 of 100\n",
      "building tree 36 of 100\n",
      "building tree 37 of 100\n",
      "building tree 38 of 100\n",
      "building tree 39 of 100\n",
      "building tree 40 of 100\n",
      "building tree 41 of 100\n",
      "building tree 42 of 100\n",
      "building tree 43 of 100\n",
      "building tree 44 of 100\n",
      "building tree 45 of 100\n",
      "building tree 46 of 100\n",
      "building tree 47 of 100\n",
      "building tree 48 of 100\n",
      "building tree 49 of 100\n",
      "building tree 50 of 100\n",
      "building tree 51 of 100\n",
      "building tree 52 of 100\n",
      "building tree 53 of 100\n",
      "building tree 54 of 100\n",
      "building tree 55 of 100\n",
      "building tree 56 of 100\n",
      "building tree 57 of 100\n",
      "building tree 58 of 100\n",
      "building tree 59 of 100\n",
      "building tree 60 of 100\n",
      "building tree 61 of 100\n",
      "building tree 62 of 100\n",
      "building tree 63 of 100\n",
      "building tree 64 of 100\n",
      "building tree 65 of 100\n",
      "building tree 66 of 100\n",
      "building tree 67 of 100\n",
      "building tree 68 of 100\n",
      "building tree 69 of 100\n",
      "building tree 70 of 100\n",
      "building tree 71 of 100\n",
      "building tree 72 of 100\n",
      "building tree 73 of 100\n",
      "building tree 74 of 100\n",
      "building tree 75 of 100\n",
      "building tree 76 of 100\n",
      "building tree 77 of 100\n",
      "building tree 78 of 100\n",
      "building tree 79 of 100\n",
      "building tree 80 of 100\n",
      "building tree 81 of 100\n",
      "building tree 82 of 100\n",
      "building tree 83 of 100\n",
      "building tree 84 of 100\n",
      "building tree 85 of 100\n",
      "building tree 86 of 100\n",
      "building tree 87 of 100\n",
      "building tree 88 of 100\n",
      "building tree 89 of 100\n",
      "building tree 90 of 100\n",
      "building tree 91 of 100\n",
      "building tree 92 of 100\n",
      "building tree 93 of 100\n",
      "building tree 94 of 100\n",
      "building tree 95 of 100\n",
      "building tree 96 of 100\n",
      "building tree 97 of 100\n",
      "building tree 98 of 100\n",
      "building tree 99 of 100\n",
      "building tree 100 of 100\n"
     ]
    },
    {
     "name": "stderr",
     "output_type": "stream",
     "text": [
      "[Parallel(n_jobs=-1)]: Done 100 out of 100 | elapsed:  7.7min finished\n"
     ]
    },
    {
     "data": {
      "text/plain": [
       "RandomForestRegressor(n_jobs=-1, random_state=42, verbose=3)"
      ]
     },
     "execution_count": 6,
     "metadata": {},
     "output_type": "execute_result"
    }
   ],
   "source": [
    "# traininig of the model\n",
    "regressor.fit(X, Y)"
   ]
  },
  {
   "cell_type": "code",
   "execution_count": 7,
   "metadata": {},
   "outputs": [
    {
     "name": "stderr",
     "output_type": "stream",
     "text": [
      "[Parallel(n_jobs=8)]: Using backend ThreadingBackend with 8 concurrent workers.\n",
      "[Parallel(n_jobs=8)]: Done  16 tasks      | elapsed:    2.9s\n",
      "[Parallel(n_jobs=8)]: Done 100 out of 100 | elapsed:   18.2s finished\n"
     ]
    }
   ],
   "source": [
    "# make predictions to compare with Y_test\n",
    "Y_pred = regressor.predict(X_test)"
   ]
  },
  {
   "cell_type": "code",
   "execution_count": 8,
   "metadata": {},
   "outputs": [
    {
     "name": "stderr",
     "output_type": "stream",
     "text": [
      "[Parallel(n_jobs=8)]: Using backend ThreadingBackend with 8 concurrent workers.\n",
      "[Parallel(n_jobs=8)]: Done  16 tasks      | elapsed:    1.3s\n",
      "[Parallel(n_jobs=8)]: Done 100 out of 100 | elapsed:    7.6s finished\n"
     ]
    },
    {
     "name": "stdout",
     "output_type": "stream",
     "text": [
      "Score of the regressor for the training set:\n",
      " 0.9998058963433247\n"
     ]
    },
    {
     "name": "stderr",
     "output_type": "stream",
     "text": [
      "[Parallel(n_jobs=8)]: Using backend ThreadingBackend with 8 concurrent workers.\n",
      "[Parallel(n_jobs=8)]: Done  16 tasks      | elapsed:    2.9s\n"
     ]
    },
    {
     "name": "stdout",
     "output_type": "stream",
     "text": [
      "\n",
      "Score of the regressor for the test set:\n",
      " 0.8661214249569875\n"
     ]
    },
    {
     "name": "stderr",
     "output_type": "stream",
     "text": [
      "[Parallel(n_jobs=8)]: Done 100 out of 100 | elapsed:   17.6s finished\n"
     ]
    }
   ],
   "source": [
    "print('Score of the regressor for the training set:\\n', regressor.score(X_train, Y_train))\n",
    "print('\\nScore of the regressor for the test set:\\n',   regressor.score(X_test,  Y_test ))"
   ]
  },
  {
   "cell_type": "code",
   "execution_count": 9,
   "metadata": {},
   "outputs": [
    {
     "data": {
      "image/png": "[encoded data removed]",
      "text/plain": [
       "<Figure size 1080x504 with 1 Axes>"
      ]
     },
     "metadata": {
      "needs_background": "light"
     },
     "output_type": "display_data"
    }
   ],
   "source": [
    "fig, ax = plt.subplots(figsize=(15,7))\n",
    "\n",
    "#b = np.histogram_bin_edges(BHBH[(BHBH.Delay_Time<1e18)].Delay_Time, bins='rice') # does not work with bind='fd'\n",
    "b = np.logspace(np.log10(min(Y_pred)), np.log10(max(Y_pred)), 100)\n",
    "entries, edges, _ = ax.hist(Y_pred, bins=b, density=True, histtype='step', lw=3)\n",
    "\n",
    "# calculate bin centers\n",
    "bin_centers = 0.5 * (edges[:-1] + edges[1:])\n",
    "\n",
    "ax.set_xscale('log')\n",
    "ax.set_yscale('log')\n",
    "\n",
    "ax.set_title('Distribution of the Delay times')\n",
    "ax.set_xlabel('Delay Time [Myr]')\n",
    "ax.set_ylabel('PDF')\n",
    "ax.grid(ls='dotted', lw=2)"
   ]
  },
  {
   "cell_type": "code",
   "execution_count": 10,
   "metadata": {},
   "outputs": [
    {
     "data": {
      "image/png": "[encoded data removed]",
      "text/plain": [
       "<Figure size 1080x504 with 1 Axes>"
      ]
     },
     "metadata": {
      "needs_background": "light"
     },
     "output_type": "display_data"
    }
   ],
   "source": [
    "fig, ax = plt.subplots(figsize=(15,7))\n",
    "\n",
    "#b = np.histogram_bin_edges(BHBH[(BHBH.Delay_Time<1e18)].Delay_Time, bins='rice') # does not work with bind='fd'\n",
    "b = np.logspace(np.log10(min(Y_test)), np.log10(max(Y_test)), 100)\n",
    "entries, edges, _ = ax.hist(Y_test, bins=b, density=True, histtype='step', lw=3)\n",
    "\n",
    "# calculate bin centers\n",
    "bin_centers = 0.5 * (edges[:-1] + edges[1:])\n",
    "\n",
    "ax.set_xscale('log')\n",
    "ax.set_yscale('log')\n",
    "\n",
    "ax.set_title('Distribution of the Delay times')\n",
    "ax.set_xlabel('Delay Time [Myr]')\n",
    "ax.set_ylabel('PDF')\n",
    "ax.grid(ls='dotted', lw=2)"
   ]
  },
  {
   "cell_type": "code",
   "execution_count": null,
   "metadata": {},
   "outputs": [],
   "source": [
    "dot_data = export_graphviz(regressor.estimators_[0],\n",
    "                           feature_names=['Mass_0', 'Mass_1', 'Semimajor', 'Eccentricity', 'Z', 'alpha'],  \n",
    "                           filled=True, rounded=True)  \n",
    "\n",
    "graph = graphviz.Source(dot_data, format='png')\n",
    "graph.render(\"tree\") "
   ]
  },
  {
   "cell_type": "markdown",
   "metadata": {},
   "source": [
    "From here it is problematic: using 100 as number of trees and using 30% of the data results in using already almost all the ram (16Gb)."
   ]
  },
  {
   "cell_type": "markdown",
   "metadata": {},
   "source": [
    "## Tuning of the hyperparameters\n",
    "First we do a random grid search"
   ]
  },
  {
   "cell_type": "code",
   "execution_count": null,
   "metadata": {},
   "outputs": [],
   "source": [
    "# Number of trees in random forest\n",
    "n_estimators = [int(x) for x in np.linspace(start = 200, stop = 2000, num = 10)]\n",
    "\n",
    "# Number of features to consider at every split\n",
    "max_features = ['auto', 'sqrt']\n",
    "\n",
    "# Maximum number of levels in tree\n",
    "max_depth = [int(x) for x in np.linspace(10, 110, num = 11)]\n",
    "max_depth.append(None)\n",
    "\n",
    "# Minimum number of samples required to split a node\n",
    "min_samples_split = [2, 5, 10]\n",
    "\n",
    "# Minimum number of samples required at each leaf node\n",
    "min_samples_leaf = [1, 2, 4]\n",
    "\n",
    "# Method of selecting samples for training each tree\n",
    "bootstrap = [True, False]\n",
    "\n",
    "# Create the random grid\n",
    "random_grid = {'n_estimators': n_estimators,\n",
    "               'max_features': max_features,\n",
    "               'max_depth': max_depth,\n",
    "               'min_samples_split': min_samples_split,\n",
    "               'min_samples_leaf': min_samples_leaf,\n",
    "               'bootstrap': bootstrap}\n",
    "random_grid"
   ]
  },
  {
   "cell_type": "code",
   "execution_count": null,
   "metadata": {},
   "outputs": [],
   "source": [
    "# Use the random grid to search for best hyperparameters\n",
    "# First create the base model to tune\n",
    "rf = RandomForestRegressor()\n",
    "\n",
    "# Random search of parameters, using 3 fold cross validation, \n",
    "# search across 100 different combinations, and use all available cores\n",
    "rf_random = RandomizedSearchCV(estimator=rf, param_distributions=random_grid, \n",
    "                               n_iter = 20, cv = 3, verbose=3, \n",
    "                               random_state=42, n_jobs = -1)\n",
    "\n",
    "# Fit the random search model\n",
    "rf_random.fit(X_train, Y_train)"
   ]
  },
  {
   "cell_type": "code",
   "execution_count": null,
   "metadata": {},
   "outputs": [],
   "source": [
    "def evaluate_accuracy(model, test_features, test_labels):\n",
    "    predictions = model.predict(test_features)\n",
    "    errors = abs(predictions - test_labels)\n",
    "    mape = 100 * np.mean(errors / test_labels)\n",
    "    accuracy = 100 - mape\n",
    "    print('Model Performance')\n",
    "    print('Average Error: {:0.4f} degrees.'.format(np.mean(errors)))\n",
    "    print('Accuracy = {:0.2f}%.'.format(accuracy))\n",
    "    \n",
    "    return accuracy"
   ]
  },
  {
   "cell_type": "code",
   "execution_count": null,
   "metadata": {},
   "outputs": [],
   "source": [
    "best_random = rf_random.best_estimator_\n",
    "random_accuracy = evaluate(best_random, test_features, test_labels)"
   ]
  },
  {
   "cell_type": "code",
   "execution_count": null,
   "metadata": {},
   "outputs": [],
   "source": [
    "best_random"
   ]
  },
  {
   "cell_type": "code",
   "execution_count": null,
   "metadata": {},
   "outputs": [],
   "source": [
    "# Create the parameter grid based on the results of random search \n",
    "param_grid = {\n",
    "    'bootstrap': [True],\n",
    "    'max_depth': [80, 90, 100, 110],\n",
    "    'max_features': [2, 3],\n",
    "    'min_samples_leaf': [3, 4, 5],\n",
    "    'min_samples_split': [8, 10, 12],\n",
    "    'n_estimators': [100, 200, 300, 1000]\n",
    "}\n",
    "# Create a based model\n",
    "rf = RandomForestRegressor()\n",
    "# Instantiate the grid search model\n",
    "grid_search = GridSearchCV(estimator = rf, param_grid = param_grid, \n",
    "                           cv = 3, n_jobs = -1, verbose = 2)"
   ]
  },
  {
   "cell_type": "markdown",
   "metadata": {},
   "source": [
    "### Using Tensorflow"
   ]
  },
  {
   "cell_type": "code",
   "execution_count": null,
   "metadata": {},
   "outputs": [],
   "source": [
    "import tensorflow as tf\n",
    "import tensorflow_decision_forests as tfdf\n",
    "from wurlitzer import sys_pipes"
   ]
  },
  {
   "cell_type": "code",
   "execution_count": null,
   "metadata": {},
   "outputs": [],
   "source": [
    "# Split the dataset into a training and a testing dataset.\n",
    "\n",
    "def split_dataset(dataset, test_ratio=0.30):\n",
    "  \"\"\"Splits a panda dataframe in two.\"\"\"\n",
    "  test_indices = np.random.rand(len(dataset)) < test_ratio\n",
    "  return dataset[~test_indices], dataset[test_indices]"
   ]
  },
  {
   "cell_type": "code",
   "execution_count": null,
   "metadata": {},
   "outputs": [],
   "source": [
    "# Split the dataset into a training and testing dataset.\n",
    "train_ds_pd, test_ds_pd = split_dataset(dataset=BHBH[['Mass_0', 'Mass_1', 'Semimajor', 'Eccentricity', 'Z', 'alpha', 'Delay_Time']],\n",
    "                                        test_ratio=.7)\n",
    "print(\"{} examples in training, {} examples for testing.\".format(len(train_ds_pd), len(test_ds_pd)))"
   ]
  },
  {
   "cell_type": "code",
   "execution_count": null,
   "metadata": {},
   "outputs": [],
   "source": [
    "# Name of the label column.\n",
    "label = \"Delay_Time\"\n",
    "\n",
    "train_ds = tfdf.keras.pd_dataframe_to_tf_dataset(train_ds_pd, label=label, task=tfdf.keras.Task.REGRESSION)\n",
    "test_ds  = tfdf.keras.pd_dataframe_to_tf_dataset(train_ds_pd, label=label, task=tfdf.keras.Task.REGRESSION)"
   ]
  },
  {
   "cell_type": "code",
   "execution_count": null,
   "metadata": {},
   "outputs": [],
   "source": [
    "# Configure the model.\n",
    "model = tfdf.keras.RandomForestModel(task = tfdf.keras.Task.REGRESSION)\n",
    "\n",
    "optimizer = tf.keras.optimizers.Adam()\n",
    "\n",
    "# Configure the metrics (Eventually add other metrics).\n",
    "model.compile(metrics=[\"mse\", \"mape\"])\n",
    "\n",
    "# Train the model.\n",
    "with sys_pipes():\n",
    "  model.fit(x=train_ds)"
   ]
  },
  {
   "cell_type": "code",
   "execution_count": null,
   "metadata": {
    "scrolled": true
   },
   "outputs": [],
   "source": [
    "model.summary()"
   ]
  },
  {
   "cell_type": "code",
   "execution_count": null,
   "metadata": {},
   "outputs": [],
   "source": [
    " evaluation = model.evaluate(test_ds, return_dict=True)\n",
    "\n",
    "print(evaluation)\n",
    "print(f\"MSE: {evaluation['mse']:.2f}\")\n",
    "print(f\"RMSE: {np.sqrt(evaluation['mse']):.2f}\")\n",
    "print(f\"MAPE: {evaluation['mape']:.2f}\")"
   ]
  },
  {
   "cell_type": "code",
   "execution_count": null,
   "metadata": {},
   "outputs": [],
   "source": [
    "# plot the first tree, restricted to depth of 3\n",
    "tfdf.model_plotter.plot_model(model, tree_idx=0, max_depth=3)"
   ]
  },
  {
   "cell_type": "code",
   "execution_count": null,
   "metadata": {},
   "outputs": [],
   "source": []
  }
 ],
 "metadata": {
  "interpreter": {
   "hash": "77593180668de44719eea98b1016f56594f6a7979e760ba16644cd28c82a4004"
  },
  "kernelspec": {
   "display_name": "Python 3 (ipykernel)",
   "language": "python",
   "name": "python3"
  },
  "language_info": {
   "codemirror_mode": {
    "name": "ipython",
    "version": 3
   },
   "file_extension": ".py",
   "mimetype": "text/x-python",
   "name": "python",
   "nbconvert_exporter": "python",
   "pygments_lexer": "ipython3",
   "version": "3.9.12"
  }
 },
 "nbformat": 4,
 "nbformat_minor": 2
}
