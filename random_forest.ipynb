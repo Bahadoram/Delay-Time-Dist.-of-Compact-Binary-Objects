{
 "cells": [
  {
   "cell_type": "code",
   "execution_count": 25,
   "metadata": {},
   "outputs": [],
   "source": [
    "import numpy             as np\n",
    "import pandas            as pd\n",
    "import matplotlib.pyplot as plt\n",
    "import time\n",
    "\n",
    "from xgboost import XGBRFClassifier, plot_tree\n",
    "from sklearn.metrics import mean_squared_error\n",
    "from sklearn.preprocessing import StandardScaler\n",
    "from sklearn.model_selection import train_test_split, GridSearchCV, RandomizedSearchCV\n",
    "\n",
    "from sklearn.ensemble import RandomForestRegressor\n",
    "from sklearn.datasets import make_regression\n",
    "\n",
    "from sklearn.model_selection import cross_val_score\n",
    "from sklearn.model_selection import RepeatedStratifiedKFold\n",
    "\n",
    "from tensorflow.keras.wrappers.scikit_learn import KerasClassifier\n",
    "from sklearn.metrics import mean_squared_log_error, r2_score, mean_squared_error\n",
    "\n",
    "from sklearn import tree\n",
    "from sklearn.tree import export_graphviz\n",
    "import graphviz\n",
    "\n",
    "import multiprocessing\n",
    "n_threads=multiprocessing.cpu_count()\n",
    "\n",
    "from wurlitzer import sys_pipes\n",
    "\n",
    "import warnings"
   ]
  },
  {
   "cell_type": "code",
   "execution_count": 2,
   "metadata": {},
   "outputs": [
    {
     "data": {
      "text/html": [
       "<div>\n",
       "<style scoped>\n",
       "    .dataframe tbody tr th:only-of-type {\n",
       "        vertical-align: middle;\n",
       "    }\n",
       "\n",
       "    .dataframe tbody tr th {\n",
       "        vertical-align: top;\n",
       "    }\n",
       "\n",
       "    .dataframe thead th {\n",
       "        text-align: right;\n",
       "    }\n",
       "</style>\n",
       "<table border=\"1\" class=\"dataframe\">\n",
       "  <thead>\n",
       "    <tr style=\"text-align: right;\">\n",
       "      <th></th>\n",
       "      <th>Index</th>\n",
       "      <th>ID</th>\n",
       "      <th>name</th>\n",
       "      <th>BWorldtime</th>\n",
       "      <th>Mass_0</th>\n",
       "      <th>Radius_0</th>\n",
       "      <th>Zams_0</th>\n",
       "      <th>Phase_0</th>\n",
       "      <th>RemnantType_0</th>\n",
       "      <th>Mass_1</th>\n",
       "      <th>...</th>\n",
       "      <th>Events</th>\n",
       "      <th>EventsPlus</th>\n",
       "      <th>Mzams_0</th>\n",
       "      <th>Mzams_1</th>\n",
       "      <th>Semimajor_ini</th>\n",
       "      <th>Eccentricity_ini</th>\n",
       "      <th>Z</th>\n",
       "      <th>alpha</th>\n",
       "      <th>Delay_Time</th>\n",
       "      <th>Eccentricity_Delay</th>\n",
       "    </tr>\n",
       "  </thead>\n",
       "  <tbody>\n",
       "    <tr>\n",
       "      <th>0</th>\n",
       "      <td>0</td>\n",
       "      <td>360308</td>\n",
       "      <td>0_792857804219921</td>\n",
       "      <td>5.411991</td>\n",
       "      <td>18.34303</td>\n",
       "      <td>0.000078</td>\n",
       "      <td>21.22227</td>\n",
       "      <td>7</td>\n",
       "      <td>6</td>\n",
       "      <td>21.09631</td>\n",
       "      <td>...</td>\n",
       "      <td>RB:RE:S:RB:RE:S</td>\n",
       "      <td>RB:RE:ehSt:RB:RE:erSt</td>\n",
       "      <td>41.0592</td>\n",
       "      <td>34.5745</td>\n",
       "      <td>24.874630</td>\n",
       "      <td>0.2619</td>\n",
       "      <td>0.0004</td>\n",
       "      <td>0.5</td>\n",
       "      <td>9.993410e+04</td>\n",
       "      <td>6.409107e-11</td>\n",
       "    </tr>\n",
       "    <tr>\n",
       "      <th>1</th>\n",
       "      <td>1</td>\n",
       "      <td>360337</td>\n",
       "      <td>0_285120263308905</td>\n",
       "      <td>4.134819</td>\n",
       "      <td>50.99943</td>\n",
       "      <td>0.000217</td>\n",
       "      <td>92.24360</td>\n",
       "      <td>7</td>\n",
       "      <td>6</td>\n",
       "      <td>51.78028</td>\n",
       "      <td>...</td>\n",
       "      <td>S:S</td>\n",
       "      <td>hhS:hrS</td>\n",
       "      <td>92.2436</td>\n",
       "      <td>53.6410</td>\n",
       "      <td>81917.701038</td>\n",
       "      <td>0.3955</td>\n",
       "      <td>0.0004</td>\n",
       "      <td>0.5</td>\n",
       "      <td>5.520443e+16</td>\n",
       "      <td>4.934820e-14</td>\n",
       "    </tr>\n",
       "    <tr>\n",
       "      <th>2</th>\n",
       "      <td>2</td>\n",
       "      <td>360367</td>\n",
       "      <td>0_303570516402716</td>\n",
       "      <td>4.311590</td>\n",
       "      <td>33.98611</td>\n",
       "      <td>0.000144</td>\n",
       "      <td>41.10912</td>\n",
       "      <td>7</td>\n",
       "      <td>6</td>\n",
       "      <td>30.83786</td>\n",
       "      <td>...</td>\n",
       "      <td>RB:RE:RB:RE:S:RB:RE:S</td>\n",
       "      <td>RB:RE:RB:RE:ehSt:RB:RE:erSt</td>\n",
       "      <td>74.5563</td>\n",
       "      <td>46.8471</td>\n",
       "      <td>127.422203</td>\n",
       "      <td>0.2217</td>\n",
       "      <td>0.0004</td>\n",
       "      <td>0.5</td>\n",
       "      <td>7.108337e+05</td>\n",
       "      <td>1.981434e-10</td>\n",
       "    </tr>\n",
       "    <tr>\n",
       "      <th>3</th>\n",
       "      <td>3</td>\n",
       "      <td>360429</td>\n",
       "      <td>0_321152334354104</td>\n",
       "      <td>5.738531</td>\n",
       "      <td>42.61480</td>\n",
       "      <td>0.000181</td>\n",
       "      <td>50.85000</td>\n",
       "      <td>7</td>\n",
       "      <td>6</td>\n",
       "      <td>33.31328</td>\n",
       "      <td>...</td>\n",
       "      <td>RB:S:RE:RB:S</td>\n",
       "      <td>RB:hhS:RE:RB:hrS</td>\n",
       "      <td>50.8500</td>\n",
       "      <td>32.3486</td>\n",
       "      <td>316.947946</td>\n",
       "      <td>0.0107</td>\n",
       "      <td>0.0004</td>\n",
       "      <td>0.5</td>\n",
       "      <td>1.214966e+07</td>\n",
       "      <td>2.425785e-12</td>\n",
       "    </tr>\n",
       "    <tr>\n",
       "      <th>4</th>\n",
       "      <td>4</td>\n",
       "      <td>360471</td>\n",
       "      <td>0_850952161687565</td>\n",
       "      <td>4.503749</td>\n",
       "      <td>49.74939</td>\n",
       "      <td>0.000211</td>\n",
       "      <td>65.22210</td>\n",
       "      <td>7</td>\n",
       "      <td>6</td>\n",
       "      <td>45.91471</td>\n",
       "      <td>...</td>\n",
       "      <td>RB:S:RE:RB:S</td>\n",
       "      <td>RB:hhS:RE:RB:hrS</td>\n",
       "      <td>65.2221</td>\n",
       "      <td>46.7855</td>\n",
       "      <td>1548.080290</td>\n",
       "      <td>0.0751</td>\n",
       "      <td>0.0004</td>\n",
       "      <td>0.5</td>\n",
       "      <td>5.995947e+09</td>\n",
       "      <td>1.042263e-11</td>\n",
       "    </tr>\n",
       "  </tbody>\n",
       "</table>\n",
       "<p>5 rows × 28 columns</p>\n",
       "</div>"
      ],
      "text/plain": [
       "   Index      ID               name  BWorldtime    Mass_0  Radius_0    Zams_0  \\\n",
       "0      0  360308  0_792857804219921    5.411991  18.34303  0.000078  21.22227   \n",
       "1      1  360337  0_285120263308905    4.134819  50.99943  0.000217  92.24360   \n",
       "2      2  360367  0_303570516402716    4.311590  33.98611  0.000144  41.10912   \n",
       "3      3  360429  0_321152334354104    5.738531  42.61480  0.000181  50.85000   \n",
       "4      4  360471  0_850952161687565    4.503749  49.74939  0.000211  65.22210   \n",
       "\n",
       "   Phase_0  RemnantType_0    Mass_1  ...                 Events  \\\n",
       "0        7              6  21.09631  ...        RB:RE:S:RB:RE:S   \n",
       "1        7              6  51.78028  ...                    S:S   \n",
       "2        7              6  30.83786  ...  RB:RE:RB:RE:S:RB:RE:S   \n",
       "3        7              6  33.31328  ...           RB:S:RE:RB:S   \n",
       "4        7              6  45.91471  ...           RB:S:RE:RB:S   \n",
       "\n",
       "                    EventsPlus  Mzams_0  Mzams_1  Semimajor_ini  \\\n",
       "0        RB:RE:ehSt:RB:RE:erSt  41.0592  34.5745      24.874630   \n",
       "1                      hhS:hrS  92.2436  53.6410   81917.701038   \n",
       "2  RB:RE:RB:RE:ehSt:RB:RE:erSt  74.5563  46.8471     127.422203   \n",
       "3             RB:hhS:RE:RB:hrS  50.8500  32.3486     316.947946   \n",
       "4             RB:hhS:RE:RB:hrS  65.2221  46.7855    1548.080290   \n",
       "\n",
       "   Eccentricity_ini       Z alpha    Delay_Time Eccentricity_Delay  \n",
       "0            0.2619  0.0004   0.5  9.993410e+04       6.409107e-11  \n",
       "1            0.3955  0.0004   0.5  5.520443e+16       4.934820e-14  \n",
       "2            0.2217  0.0004   0.5  7.108337e+05       1.981434e-10  \n",
       "3            0.0107  0.0004   0.5  1.214966e+07       2.425785e-12  \n",
       "4            0.0751  0.0004   0.5  5.995947e+09       1.042263e-11  \n",
       "\n",
       "[5 rows x 28 columns]"
      ]
     },
     "execution_count": 2,
     "metadata": {},
     "output_type": "execute_result"
    }
   ],
   "source": [
    "dir        = \"DATA/\"\n",
    "file1      = 'BHBH_Delay_Time.csv'\n",
    "\n",
    "BHBH       = pd.read_csv(dir+file1)\n",
    "BHBH.drop(['Unnamed: 0.1', 'Unnamed: 0'], axis=1, inplace=True)\n",
    "BHBH.head()"
   ]
  },
  {
   "cell_type": "code",
   "execution_count": 3,
   "metadata": {},
   "outputs": [],
   "source": [
    "#X = BHBH.drop(['Index', 'ID', 'name', 'Delay_Time',\n",
    "#               'Eccentricity_Delay',\n",
    "#               'Events', 'EventsAll', 'EventsPlus'], axis=1).to_numpy()\n",
    "\n",
    "# define attributes based on knowledge\n",
    "# should we use the others?\n",
    "X = BHBH[['Mass_0', 'Mass_1', 'Semimajor', 'Eccentricity', 'Z', 'alpha']].to_numpy()\n",
    "Y = BHBH.Delay_Time.to_numpy()"
   ]
  },
  {
   "cell_type": "code",
   "execution_count": 4,
   "metadata": {
    "scrolled": true
   },
   "outputs": [
    {
     "data": {
      "text/plain": [
       "array([[8.429761e+00, 8.619972e+00, 2.518951e+01, 2.932597e-02,\n",
       "        6.000000e-03, 3.000000e+00],\n",
       "       [3.356409e+01, 2.265303e+01, 5.044398e+04, 2.137746e-01,\n",
       "        2.000000e-04, 3.000000e+00],\n",
       "       [2.755586e+01, 2.619558e+01, 5.233850e+03, 4.619727e-01,\n",
       "        4.000000e-03, 3.000000e+00],\n",
       "       ...,\n",
       "       [3.273191e+01, 2.267255e+01, 3.502999e+02, 2.903056e-01,\n",
       "        1.000000e-04, 3.000000e+00],\n",
       "       [1.374775e+01, 5.700543e+00, 8.896309e+01, 2.752416e-01,\n",
       "        4.000000e-03, 5.000000e-01],\n",
       "       [9.183860e+00, 9.479400e+00, 1.243541e+01, 8.879470e-02,\n",
       "        2.000000e-03, 5.000000e+00]])"
      ]
     },
     "execution_count": 4,
     "metadata": {},
     "output_type": "execute_result"
    }
   ],
   "source": [
    "# split train and test set (80% training, 20% test)\n",
    "X_train, X_test, Y_train, Y_test = train_test_split(X, Y, test_size=.2, random_state=0)\n",
    "X_train"
   ]
  },
  {
   "cell_type": "markdown",
   "metadata": {},
   "source": [
    "## Scikit-learn Random Forest"
   ]
  },
  {
   "cell_type": "code",
   "execution_count": 5,
   "metadata": {},
   "outputs": [],
   "source": [
    "# model definition for the regressor\n",
    "# using mostly the default parameters\n",
    "#regressor=RandomForestRegressor(n_estimators=10, criterion='squared_error',\n",
    "#                                max_depth=10, min_samples_split=2,\n",
    "#                                min_samples_leaf=1, min_weight_fraction_leaf=0.0,\n",
    "#                                max_features=1.0, max_leaf_nodes=None,\n",
    "#                                min_impurity_decrease=.0, bootstrap=True,\n",
    "#                                oob_score=False, n_jobs=-1,\n",
    "#                                random_state=0,\n",
    "#                                verbose=1)\n",
    "regressor=RandomForestRegressor(n_estimators = 100, random_state = 42,\n",
    "                                n_jobs=-1, verbose=3)"
   ]
  },
  {
   "cell_type": "code",
   "execution_count": 6,
   "metadata": {},
   "outputs": [
    {
     "name": "stderr",
     "output_type": "stream",
     "text": [
      "[Parallel(n_jobs=-1)]: Using backend ThreadingBackend with 8 concurrent workers.\n"
     ]
    },
    {
     "name": "stdout",
     "output_type": "stream",
     "text": [
      "building tree 1 of 100\n",
      "building tree 2 of 100\n",
      "building tree 3 of 100\n",
      "building tree 4 of 100building tree 5 of 100\n",
      "\n",
      "building tree 6 of 100\n",
      "building tree 7 of 100\n",
      "building tree 8 of 100\n",
      "building tree 9 of 100\n",
      "building tree 10 of 100\n",
      "building tree 11 of 100\n",
      "building tree 12 of 100\n",
      "building tree 13 of 100\n",
      "building tree 14 of 100\n",
      "building tree 15 of 100\n",
      "building tree 16 of 100\n",
      "building tree 17 of 100\n",
      "building tree 18 of 100\n",
      "building tree 19 of 100\n",
      "building tree 20 of 100\n",
      "building tree 21 of 100\n",
      "building tree 22 of 100\n",
      "building tree 23 of 100\n"
     ]
    },
    {
     "name": "stderr",
     "output_type": "stream",
     "text": [
      "[Parallel(n_jobs=-1)]: Done  16 tasks      | elapsed:  1.1min\n"
     ]
    },
    {
     "name": "stdout",
     "output_type": "stream",
     "text": [
      "building tree 24 of 100\n",
      "building tree 25 of 100\n",
      "building tree 26 of 100\n",
      "building tree 27 of 100\n",
      "building tree 28 of 100\n",
      "building tree 29 of 100\n",
      "building tree 30 of 100\n",
      "building tree 31 of 100\n",
      "building tree 32 of 100\n",
      "building tree 33 of 100\n",
      "building tree 34 of 100\n",
      "building tree 35 of 100\n",
      "building tree 36 of 100\n",
      "building tree 37 of 100\n",
      "building tree 38 of 100\n",
      "building tree 39 of 100\n",
      "building tree 40 of 100\n",
      "building tree 41 of 100\n",
      "building tree 42 of 100\n",
      "building tree 43 of 100\n",
      "building tree 44 of 100\n",
      "building tree 45 of 100\n",
      "building tree 46 of 100\n",
      "building tree 47 of 100\n",
      "building tree 48 of 100\n",
      "building tree 49 of 100\n",
      "building tree 50 of 100\n",
      "building tree 51 of 100\n",
      "building tree 52 of 100\n",
      "building tree 53 of 100\n",
      "building tree 54 of 100\n",
      "building tree 55 of 100\n",
      "building tree 56 of 100\n",
      "building tree 57 of 100\n",
      "building tree 58 of 100\n",
      "building tree 59 of 100\n",
      "building tree 60 of 100\n",
      "building tree 61 of 100\n",
      "building tree 62 of 100\n",
      "building tree 63 of 100\n",
      "building tree 64 of 100\n",
      "building tree 65 of 100\n",
      "building tree 66 of 100\n",
      "building tree 67 of 100\n",
      "building tree 68 of 100\n",
      "building tree 69 of 100\n",
      "building tree 70 of 100\n",
      "building tree 71 of 100\n",
      "building tree 72 of 100\n",
      "building tree 73 of 100\n",
      "building tree 74 of 100\n",
      "building tree 75 of 100\n",
      "building tree 76 of 100\n",
      "building tree 77 of 100\n",
      "building tree 78 of 100\n",
      "building tree 79 of 100\n",
      "building tree 80 of 100\n",
      "building tree 81 of 100\n",
      "building tree 82 of 100\n",
      "building tree 83 of 100\n",
      "building tree 84 of 100\n",
      "building tree 85 of 100\n",
      "building tree 86 of 100\n",
      "building tree 87 of 100\n",
      "building tree 88 of 100\n",
      "building tree 89 of 100\n",
      "building tree 90 of 100\n",
      "building tree 91 of 100\n",
      "building tree 92 of 100\n",
      "building tree 93 of 100\n",
      "building tree 94 of 100\n",
      "building tree 95 of 100\n",
      "building tree 96 of 100\n",
      "building tree 97 of 100\n",
      "building tree 98 of 100\n",
      "building tree 99 of 100\n",
      "building tree 100 of 100\n"
     ]
    },
    {
     "name": "stderr",
     "output_type": "stream",
     "text": [
      "[Parallel(n_jobs=-1)]: Done 100 out of 100 | elapsed:  6.4min finished\n"
     ]
    },
    {
     "data": {
      "text/plain": [
       "RandomForestRegressor(n_jobs=-1, random_state=42, verbose=3)"
      ]
     },
     "execution_count": 6,
     "metadata": {},
     "output_type": "execute_result"
    }
   ],
   "source": [
    "# traininig of the model\n",
    "regressor.fit(X, Y)"
   ]
  },
  {
   "cell_type": "code",
   "execution_count": 7,
   "metadata": {},
   "outputs": [
    {
     "name": "stderr",
     "output_type": "stream",
     "text": [
      "[Parallel(n_jobs=8)]: Using backend ThreadingBackend with 8 concurrent workers.\n",
      "[Parallel(n_jobs=8)]: Done  16 tasks      | elapsed:    0.9s\n",
      "[Parallel(n_jobs=8)]: Done 100 out of 100 | elapsed:    4.6s finished\n"
     ]
    }
   ],
   "source": [
    "# make predictions to compare with Y_test\n",
    "Y_pred = regressor.predict(X_test)"
   ]
  },
  {
   "cell_type": "code",
   "execution_count": 8,
   "metadata": {},
   "outputs": [
    {
     "name": "stderr",
     "output_type": "stream",
     "text": [
      "[Parallel(n_jobs=8)]: Using backend ThreadingBackend with 8 concurrent workers.\n",
      "[Parallel(n_jobs=8)]: Done  16 tasks      | elapsed:    3.2s\n",
      "[Parallel(n_jobs=8)]: Done 100 out of 100 | elapsed:   18.5s finished\n",
      "[Parallel(n_jobs=8)]: Using backend ThreadingBackend with 8 concurrent workers.\n"
     ]
    },
    {
     "name": "stdout",
     "output_type": "stream",
     "text": [
      "Score of the regressor for the training set:\n",
      " 0.965850655417153\n"
     ]
    },
    {
     "name": "stderr",
     "output_type": "stream",
     "text": [
      "[Parallel(n_jobs=8)]: Done  16 tasks      | elapsed:    0.8s\n"
     ]
    },
    {
     "name": "stdout",
     "output_type": "stream",
     "text": [
      "\n",
      "Score of the regressor for the test set:\n",
      " 0.9996985021555566\n"
     ]
    },
    {
     "name": "stderr",
     "output_type": "stream",
     "text": [
      "[Parallel(n_jobs=8)]: Done 100 out of 100 | elapsed:    4.6s finished\n"
     ]
    }
   ],
   "source": [
    "print('Score of the regressor for the training set:\\n', regressor.score(X_train, Y_train))\n",
    "print('\\nScore of the regressor for the test set:\\n',   regressor.score(X_test,  Y_test ))"
   ]
  },
  {
   "cell_type": "code",
   "execution_count": 26,
   "metadata": {},
   "outputs": [
    {
     "name": "stdout",
     "output_type": "stream",
     "text": [
      "R^2 Score of the regressor for the test set:\n",
      " 0.9996985021555566\n",
      "Mean squared log error of the regressor for the test set:\n",
      " 0.00862700552267855\n",
      "Mean squared error of the regressor for the test set:\n",
      " 7.316462565138419e+36\n"
     ]
    }
   ],
   "source": [
    "print('R^2 Score of the regressor for the test set:\\n', r2_score(Y_test,  Y_pred ))\n",
    "print('Mean squared log error of the regressor for the test set:\\n', mean_squared_log_error(Y_test,  Y_pred ))\n",
    "print('Mean squared error of the regressor for the test set:\\n', mean_squared_error(Y_test,  Y_pred ))"
   ]
  },
  {
   "cell_type": "code",
   "execution_count": 9,
   "metadata": {},
   "outputs": [
    {
     "data": {
      "image/png": "[encoded data removed]",
      "text/plain": [
       "<Figure size 1080x504 with 1 Axes>"
      ]
     },
     "metadata": {
      "needs_background": "light"
     },
     "output_type": "display_data"
    }
   ],
   "source": [
    "fig, ax = plt.subplots(figsize=(15,7))\n",
    "\n",
    "#b = np.histogram_bin_edges(BHBH[(BHBH.Delay_Time<1e18)].Delay_Time, bins='rice') # does not work with bind='fd'\n",
    "b = np.logspace(np.log10(min(Y_pred)), np.log10(max(Y_pred)), 100)\n",
    "entries, edges, _ = ax.hist(Y_pred, bins=b, density=True, histtype='step', lw=3)\n",
    "\n",
    "# calculate bin centers\n",
    "bin_centers = 0.5 * (edges[:-1] + edges[1:])\n",
    "\n",
    "ax.set_xscale('log')\n",
    "ax.set_yscale('log')\n",
    "\n",
    "ax.set_title('Distribution of the Delay times')\n",
    "ax.set_xlabel('Delay Time [Myr]')\n",
    "ax.set_ylabel('PDF')\n",
    "ax.grid(ls='dotted', lw=2)"
   ]
  },
  {
   "cell_type": "code",
   "execution_count": 10,
   "metadata": {},
   "outputs": [
    {
     "data": {
      "image/png": "[encoded data removed]",
      "text/plain": [
       "<Figure size 1080x504 with 1 Axes>"
      ]
     },
     "metadata": {
      "needs_background": "light"
     },
     "output_type": "display_data"
    }
   ],
   "source": [
    "fig, ax = plt.subplots(figsize=(15,7))\n",
    "\n",
    "#b = np.histogram_bin_edges(BHBH[(BHBH.Delay_Time<1e18)].Delay_Time, bins='rice') # does not work with bind='fd'\n",
    "b = np.logspace(np.log10(min(Y_test)), np.log10(max(Y_test)), 100)\n",
    "entries, edges, _ = ax.hist(Y_test, bins=b, density=True, histtype='step', lw=3)\n",
    "\n",
    "# calculate bin centers\n",
    "bin_centers = 0.5 * (edges[:-1] + edges[1:])\n",
    "\n",
    "ax.set_xscale('log')\n",
    "ax.set_yscale('log')\n",
    "\n",
    "ax.set_title('Distribution of the Delay times')\n",
    "ax.set_xlabel('Delay Time [Myr]')\n",
    "ax.set_ylabel('PDF')\n",
    "ax.grid(ls='dotted', lw=2)"
   ]
  },
  {
   "cell_type": "code",
   "execution_count": 31,
   "metadata": {},
   "outputs": [
    {
     "data": {
      "image/png": "[encoded data removed]",
      "text/plain": [
       "<Figure size 1080x864 with 1 Axes>"
      ]
     },
     "metadata": {
      "needs_background": "light"
     },
     "output_type": "display_data"
    }
   ],
   "source": [
    "fig, ax = plt.subplots(figsize=(15,12))\n",
    "\n",
    "ax.scatter(Y_test, Y_pred)\n",
    "\n",
    "ax.set_title('Y_pred vs Y_test')\n",
    "ax.set_xlabel('Delay Time computed [Myr]')\n",
    "ax.set_ylabel('Delay Time predicted [Myr]')\n",
    "ax.grid(ls='dotted', lw=2)\n",
    "plt.show()"
   ]
  },
  {
   "cell_type": "code",
   "execution_count": 11,
   "metadata": {},
   "outputs": [
    {
     "ename": "KeyboardInterrupt",
     "evalue": "",
     "output_type": "error",
     "traceback": [
      "\u001b[0;31m---------------------------------------------------------------------------\u001b[0m",
      "\u001b[0;31mKeyboardInterrupt\u001b[0m                         Traceback (most recent call last)",
      "Input \u001b[0;32mIn [11]\u001b[0m, in \u001b[0;36m<cell line: 2>\u001b[0;34m()\u001b[0m\n\u001b[1;32m      1\u001b[0m plt\u001b[38;5;241m.\u001b[39mfigure(figsize\u001b[38;5;241m=\u001b[39m(\u001b[38;5;241m20\u001b[39m,\u001b[38;5;241m20\u001b[39m))\n\u001b[0;32m----> 2\u001b[0m _ \u001b[38;5;241m=\u001b[39m \u001b[43mtree\u001b[49m\u001b[38;5;241;43m.\u001b[39;49m\u001b[43mplot_tree\u001b[49m\u001b[43m(\u001b[49m\u001b[43mregressor\u001b[49m\u001b[38;5;241;43m.\u001b[39;49m\u001b[43mestimators_\u001b[49m\u001b[43m[\u001b[49m\u001b[38;5;241;43m0\u001b[39;49m\u001b[43m]\u001b[49m\u001b[43m,\u001b[49m\u001b[43m \u001b[49m\n\u001b[1;32m      3\u001b[0m \u001b[43m                   \u001b[49m\u001b[43mfeature_names\u001b[49m\u001b[38;5;241;43m=\u001b[39;49m\u001b[43m[\u001b[49m\u001b[38;5;124;43m'\u001b[39;49m\u001b[38;5;124;43mMass_0\u001b[39;49m\u001b[38;5;124;43m'\u001b[39;49m\u001b[43m,\u001b[49m\u001b[43m \u001b[49m\u001b[38;5;124;43m'\u001b[39;49m\u001b[38;5;124;43mMass_1\u001b[39;49m\u001b[38;5;124;43m'\u001b[39;49m\u001b[43m,\u001b[49m\u001b[43m \u001b[49m\u001b[38;5;124;43m'\u001b[39;49m\u001b[38;5;124;43mSemimajor\u001b[39;49m\u001b[38;5;124;43m'\u001b[39;49m\u001b[43m,\u001b[49m\u001b[43m \u001b[49m\u001b[38;5;124;43m'\u001b[39;49m\u001b[38;5;124;43mEccentricity\u001b[39;49m\u001b[38;5;124;43m'\u001b[39;49m\u001b[43m,\u001b[49m\u001b[43m \u001b[49m\u001b[38;5;124;43m'\u001b[39;49m\u001b[38;5;124;43mZ\u001b[39;49m\u001b[38;5;124;43m'\u001b[39;49m\u001b[43m,\u001b[49m\u001b[43m \u001b[49m\u001b[38;5;124;43m'\u001b[39;49m\u001b[38;5;124;43malpha\u001b[39;49m\u001b[38;5;124;43m'\u001b[39;49m\u001b[43m]\u001b[49m\u001b[43m,\u001b[49m\n\u001b[1;32m      4\u001b[0m \u001b[43m                   \u001b[49m\u001b[43mfilled\u001b[49m\u001b[38;5;241;43m=\u001b[39;49m\u001b[38;5;28;43;01mTrue\u001b[39;49;00m\u001b[43m)\u001b[49m\n",
      "File \u001b[0;32m~/miniconda3/lib/python3.9/site-packages/sklearn/tree/_export.py:195\u001b[0m, in \u001b[0;36mplot_tree\u001b[0;34m(decision_tree, max_depth, feature_names, class_names, label, filled, impurity, node_ids, proportion, rounded, precision, ax, fontsize)\u001b[0m\n\u001b[1;32m    180\u001b[0m check_is_fitted(decision_tree)\n\u001b[1;32m    182\u001b[0m exporter \u001b[38;5;241m=\u001b[39m _MPLTreeExporter(\n\u001b[1;32m    183\u001b[0m     max_depth\u001b[38;5;241m=\u001b[39mmax_depth,\n\u001b[1;32m    184\u001b[0m     feature_names\u001b[38;5;241m=\u001b[39mfeature_names,\n\u001b[0;32m   (...)\u001b[0m\n\u001b[1;32m    193\u001b[0m     fontsize\u001b[38;5;241m=\u001b[39mfontsize,\n\u001b[1;32m    194\u001b[0m )\n\u001b[0;32m--> 195\u001b[0m \u001b[38;5;28;01mreturn\u001b[39;00m \u001b[43mexporter\u001b[49m\u001b[38;5;241;43m.\u001b[39;49m\u001b[43mexport\u001b[49m\u001b[43m(\u001b[49m\u001b[43mdecision_tree\u001b[49m\u001b[43m,\u001b[49m\u001b[43m \u001b[49m\u001b[43max\u001b[49m\u001b[38;5;241;43m=\u001b[39;49m\u001b[43max\u001b[49m\u001b[43m)\u001b[49m\n",
      "File \u001b[0;32m~/miniconda3/lib/python3.9/site-packages/sklearn/tree/_export.py:656\u001b[0m, in \u001b[0;36m_MPLTreeExporter.export\u001b[0;34m(self, decision_tree, ax)\u001b[0m\n\u001b[1;32m    654\u001b[0m ax\u001b[38;5;241m.\u001b[39mclear()\n\u001b[1;32m    655\u001b[0m ax\u001b[38;5;241m.\u001b[39mset_axis_off()\n\u001b[0;32m--> 656\u001b[0m my_tree \u001b[38;5;241m=\u001b[39m \u001b[38;5;28;43mself\u001b[39;49m\u001b[38;5;241;43m.\u001b[39;49m\u001b[43m_make_tree\u001b[49m\u001b[43m(\u001b[49m\u001b[38;5;241;43m0\u001b[39;49m\u001b[43m,\u001b[49m\u001b[43m \u001b[49m\u001b[43mdecision_tree\u001b[49m\u001b[38;5;241;43m.\u001b[39;49m\u001b[43mtree_\u001b[49m\u001b[43m,\u001b[49m\u001b[43m \u001b[49m\u001b[43mdecision_tree\u001b[49m\u001b[38;5;241;43m.\u001b[39;49m\u001b[43mcriterion\u001b[49m\u001b[43m)\u001b[49m\n\u001b[1;32m    657\u001b[0m draw_tree \u001b[38;5;241m=\u001b[39m buchheim(my_tree)\n\u001b[1;32m    659\u001b[0m \u001b[38;5;66;03m# important to make sure we're still\u001b[39;00m\n\u001b[1;32m    660\u001b[0m \u001b[38;5;66;03m# inside the axis after drawing the box\u001b[39;00m\n\u001b[1;32m    661\u001b[0m \u001b[38;5;66;03m# this makes sense because the width of a box\u001b[39;00m\n\u001b[1;32m    662\u001b[0m \u001b[38;5;66;03m# is about the same as the distance between boxes\u001b[39;00m\n",
      "File \u001b[0;32m~/miniconda3/lib/python3.9/site-packages/sklearn/tree/_export.py:640\u001b[0m, in \u001b[0;36m_MPLTreeExporter._make_tree\u001b[0;34m(self, node_id, et, criterion, depth)\u001b[0m\n\u001b[1;32m    632\u001b[0m name \u001b[38;5;241m=\u001b[39m \u001b[38;5;28mself\u001b[39m\u001b[38;5;241m.\u001b[39mnode_to_str(et, node_id, criterion\u001b[38;5;241m=\u001b[39mcriterion)\n\u001b[1;32m    633\u001b[0m \u001b[38;5;28;01mif\u001b[39;00m et\u001b[38;5;241m.\u001b[39mchildren_left[node_id] \u001b[38;5;241m!=\u001b[39m _tree\u001b[38;5;241m.\u001b[39mTREE_LEAF \u001b[38;5;129;01mand\u001b[39;00m (\n\u001b[1;32m    634\u001b[0m     \u001b[38;5;28mself\u001b[39m\u001b[38;5;241m.\u001b[39mmax_depth \u001b[38;5;129;01mis\u001b[39;00m \u001b[38;5;28;01mNone\u001b[39;00m \u001b[38;5;129;01mor\u001b[39;00m depth \u001b[38;5;241m<\u001b[39m\u001b[38;5;241m=\u001b[39m \u001b[38;5;28mself\u001b[39m\u001b[38;5;241m.\u001b[39mmax_depth\n\u001b[1;32m    635\u001b[0m ):\n\u001b[1;32m    636\u001b[0m     children \u001b[38;5;241m=\u001b[39m [\n\u001b[1;32m    637\u001b[0m         \u001b[38;5;28mself\u001b[39m\u001b[38;5;241m.\u001b[39m_make_tree(\n\u001b[1;32m    638\u001b[0m             et\u001b[38;5;241m.\u001b[39mchildren_left[node_id], et, criterion, depth\u001b[38;5;241m=\u001b[39mdepth \u001b[38;5;241m+\u001b[39m \u001b[38;5;241m1\u001b[39m\n\u001b[1;32m    639\u001b[0m         ),\n\u001b[0;32m--> 640\u001b[0m         \u001b[38;5;28;43mself\u001b[39;49m\u001b[38;5;241;43m.\u001b[39;49m\u001b[43m_make_tree\u001b[49m\u001b[43m(\u001b[49m\n\u001b[1;32m    641\u001b[0m \u001b[43m            \u001b[49m\u001b[43met\u001b[49m\u001b[38;5;241;43m.\u001b[39;49m\u001b[43mchildren_right\u001b[49m\u001b[43m[\u001b[49m\u001b[43mnode_id\u001b[49m\u001b[43m]\u001b[49m\u001b[43m,\u001b[49m\u001b[43m \u001b[49m\u001b[43met\u001b[49m\u001b[43m,\u001b[49m\u001b[43m \u001b[49m\u001b[43mcriterion\u001b[49m\u001b[43m,\u001b[49m\u001b[43m \u001b[49m\u001b[43mdepth\u001b[49m\u001b[38;5;241;43m=\u001b[39;49m\u001b[43mdepth\u001b[49m\u001b[43m \u001b[49m\u001b[38;5;241;43m+\u001b[39;49m\u001b[43m \u001b[49m\u001b[38;5;241;43m1\u001b[39;49m\n\u001b[1;32m    642\u001b[0m \u001b[43m        \u001b[49m\u001b[43m)\u001b[49m,\n\u001b[1;32m    643\u001b[0m     ]\n\u001b[1;32m    644\u001b[0m \u001b[38;5;28;01melse\u001b[39;00m:\n\u001b[1;32m    645\u001b[0m     \u001b[38;5;28;01mreturn\u001b[39;00m Tree(name, node_id)\n",
      "File \u001b[0;32m~/miniconda3/lib/python3.9/site-packages/sklearn/tree/_export.py:637\u001b[0m, in \u001b[0;36m_MPLTreeExporter._make_tree\u001b[0;34m(self, node_id, et, criterion, depth)\u001b[0m\n\u001b[1;32m    632\u001b[0m name \u001b[38;5;241m=\u001b[39m \u001b[38;5;28mself\u001b[39m\u001b[38;5;241m.\u001b[39mnode_to_str(et, node_id, criterion\u001b[38;5;241m=\u001b[39mcriterion)\n\u001b[1;32m    633\u001b[0m \u001b[38;5;28;01mif\u001b[39;00m et\u001b[38;5;241m.\u001b[39mchildren_left[node_id] \u001b[38;5;241m!=\u001b[39m _tree\u001b[38;5;241m.\u001b[39mTREE_LEAF \u001b[38;5;129;01mand\u001b[39;00m (\n\u001b[1;32m    634\u001b[0m     \u001b[38;5;28mself\u001b[39m\u001b[38;5;241m.\u001b[39mmax_depth \u001b[38;5;129;01mis\u001b[39;00m \u001b[38;5;28;01mNone\u001b[39;00m \u001b[38;5;129;01mor\u001b[39;00m depth \u001b[38;5;241m<\u001b[39m\u001b[38;5;241m=\u001b[39m \u001b[38;5;28mself\u001b[39m\u001b[38;5;241m.\u001b[39mmax_depth\n\u001b[1;32m    635\u001b[0m ):\n\u001b[1;32m    636\u001b[0m     children \u001b[38;5;241m=\u001b[39m [\n\u001b[0;32m--> 637\u001b[0m         \u001b[38;5;28;43mself\u001b[39;49m\u001b[38;5;241;43m.\u001b[39;49m\u001b[43m_make_tree\u001b[49m\u001b[43m(\u001b[49m\n\u001b[1;32m    638\u001b[0m \u001b[43m            \u001b[49m\u001b[43met\u001b[49m\u001b[38;5;241;43m.\u001b[39;49m\u001b[43mchildren_left\u001b[49m\u001b[43m[\u001b[49m\u001b[43mnode_id\u001b[49m\u001b[43m]\u001b[49m\u001b[43m,\u001b[49m\u001b[43m \u001b[49m\u001b[43met\u001b[49m\u001b[43m,\u001b[49m\u001b[43m \u001b[49m\u001b[43mcriterion\u001b[49m\u001b[43m,\u001b[49m\u001b[43m \u001b[49m\u001b[43mdepth\u001b[49m\u001b[38;5;241;43m=\u001b[39;49m\u001b[43mdepth\u001b[49m\u001b[43m \u001b[49m\u001b[38;5;241;43m+\u001b[39;49m\u001b[43m \u001b[49m\u001b[38;5;241;43m1\u001b[39;49m\n\u001b[1;32m    639\u001b[0m \u001b[43m        \u001b[49m\u001b[43m)\u001b[49m,\n\u001b[1;32m    640\u001b[0m         \u001b[38;5;28mself\u001b[39m\u001b[38;5;241m.\u001b[39m_make_tree(\n\u001b[1;32m    641\u001b[0m             et\u001b[38;5;241m.\u001b[39mchildren_right[node_id], et, criterion, depth\u001b[38;5;241m=\u001b[39mdepth \u001b[38;5;241m+\u001b[39m \u001b[38;5;241m1\u001b[39m\n\u001b[1;32m    642\u001b[0m         ),\n\u001b[1;32m    643\u001b[0m     ]\n\u001b[1;32m    644\u001b[0m \u001b[38;5;28;01melse\u001b[39;00m:\n\u001b[1;32m    645\u001b[0m     \u001b[38;5;28;01mreturn\u001b[39;00m Tree(name, node_id)\n",
      "File \u001b[0;32m~/miniconda3/lib/python3.9/site-packages/sklearn/tree/_export.py:637\u001b[0m, in \u001b[0;36m_MPLTreeExporter._make_tree\u001b[0;34m(self, node_id, et, criterion, depth)\u001b[0m\n\u001b[1;32m    632\u001b[0m name \u001b[38;5;241m=\u001b[39m \u001b[38;5;28mself\u001b[39m\u001b[38;5;241m.\u001b[39mnode_to_str(et, node_id, criterion\u001b[38;5;241m=\u001b[39mcriterion)\n\u001b[1;32m    633\u001b[0m \u001b[38;5;28;01mif\u001b[39;00m et\u001b[38;5;241m.\u001b[39mchildren_left[node_id] \u001b[38;5;241m!=\u001b[39m _tree\u001b[38;5;241m.\u001b[39mTREE_LEAF \u001b[38;5;129;01mand\u001b[39;00m (\n\u001b[1;32m    634\u001b[0m     \u001b[38;5;28mself\u001b[39m\u001b[38;5;241m.\u001b[39mmax_depth \u001b[38;5;129;01mis\u001b[39;00m \u001b[38;5;28;01mNone\u001b[39;00m \u001b[38;5;129;01mor\u001b[39;00m depth \u001b[38;5;241m<\u001b[39m\u001b[38;5;241m=\u001b[39m \u001b[38;5;28mself\u001b[39m\u001b[38;5;241m.\u001b[39mmax_depth\n\u001b[1;32m    635\u001b[0m ):\n\u001b[1;32m    636\u001b[0m     children \u001b[38;5;241m=\u001b[39m [\n\u001b[0;32m--> 637\u001b[0m         \u001b[38;5;28;43mself\u001b[39;49m\u001b[38;5;241;43m.\u001b[39;49m\u001b[43m_make_tree\u001b[49m\u001b[43m(\u001b[49m\n\u001b[1;32m    638\u001b[0m \u001b[43m            \u001b[49m\u001b[43met\u001b[49m\u001b[38;5;241;43m.\u001b[39;49m\u001b[43mchildren_left\u001b[49m\u001b[43m[\u001b[49m\u001b[43mnode_id\u001b[49m\u001b[43m]\u001b[49m\u001b[43m,\u001b[49m\u001b[43m \u001b[49m\u001b[43met\u001b[49m\u001b[43m,\u001b[49m\u001b[43m \u001b[49m\u001b[43mcriterion\u001b[49m\u001b[43m,\u001b[49m\u001b[43m \u001b[49m\u001b[43mdepth\u001b[49m\u001b[38;5;241;43m=\u001b[39;49m\u001b[43mdepth\u001b[49m\u001b[43m \u001b[49m\u001b[38;5;241;43m+\u001b[39;49m\u001b[43m \u001b[49m\u001b[38;5;241;43m1\u001b[39;49m\n\u001b[1;32m    639\u001b[0m \u001b[43m        \u001b[49m\u001b[43m)\u001b[49m,\n\u001b[1;32m    640\u001b[0m         \u001b[38;5;28mself\u001b[39m\u001b[38;5;241m.\u001b[39m_make_tree(\n\u001b[1;32m    641\u001b[0m             et\u001b[38;5;241m.\u001b[39mchildren_right[node_id], et, criterion, depth\u001b[38;5;241m=\u001b[39mdepth \u001b[38;5;241m+\u001b[39m \u001b[38;5;241m1\u001b[39m\n\u001b[1;32m    642\u001b[0m         ),\n\u001b[1;32m    643\u001b[0m     ]\n\u001b[1;32m    644\u001b[0m \u001b[38;5;28;01melse\u001b[39;00m:\n\u001b[1;32m    645\u001b[0m     \u001b[38;5;28;01mreturn\u001b[39;00m Tree(name, node_id)\n",
      "    \u001b[0;31m[... skipping similar frames: _MPLTreeExporter._make_tree at line 637 (26 times)]\u001b[0m\n",
      "File \u001b[0;32m~/miniconda3/lib/python3.9/site-packages/sklearn/tree/_export.py:640\u001b[0m, in \u001b[0;36m_MPLTreeExporter._make_tree\u001b[0;34m(self, node_id, et, criterion, depth)\u001b[0m\n\u001b[1;32m    632\u001b[0m name \u001b[38;5;241m=\u001b[39m \u001b[38;5;28mself\u001b[39m\u001b[38;5;241m.\u001b[39mnode_to_str(et, node_id, criterion\u001b[38;5;241m=\u001b[39mcriterion)\n\u001b[1;32m    633\u001b[0m \u001b[38;5;28;01mif\u001b[39;00m et\u001b[38;5;241m.\u001b[39mchildren_left[node_id] \u001b[38;5;241m!=\u001b[39m _tree\u001b[38;5;241m.\u001b[39mTREE_LEAF \u001b[38;5;129;01mand\u001b[39;00m (\n\u001b[1;32m    634\u001b[0m     \u001b[38;5;28mself\u001b[39m\u001b[38;5;241m.\u001b[39mmax_depth \u001b[38;5;129;01mis\u001b[39;00m \u001b[38;5;28;01mNone\u001b[39;00m \u001b[38;5;129;01mor\u001b[39;00m depth \u001b[38;5;241m<\u001b[39m\u001b[38;5;241m=\u001b[39m \u001b[38;5;28mself\u001b[39m\u001b[38;5;241m.\u001b[39mmax_depth\n\u001b[1;32m    635\u001b[0m ):\n\u001b[1;32m    636\u001b[0m     children \u001b[38;5;241m=\u001b[39m [\n\u001b[1;32m    637\u001b[0m         \u001b[38;5;28mself\u001b[39m\u001b[38;5;241m.\u001b[39m_make_tree(\n\u001b[1;32m    638\u001b[0m             et\u001b[38;5;241m.\u001b[39mchildren_left[node_id], et, criterion, depth\u001b[38;5;241m=\u001b[39mdepth \u001b[38;5;241m+\u001b[39m \u001b[38;5;241m1\u001b[39m\n\u001b[1;32m    639\u001b[0m         ),\n\u001b[0;32m--> 640\u001b[0m         \u001b[38;5;28;43mself\u001b[39;49m\u001b[38;5;241;43m.\u001b[39;49m\u001b[43m_make_tree\u001b[49m\u001b[43m(\u001b[49m\n\u001b[1;32m    641\u001b[0m \u001b[43m            \u001b[49m\u001b[43met\u001b[49m\u001b[38;5;241;43m.\u001b[39;49m\u001b[43mchildren_right\u001b[49m\u001b[43m[\u001b[49m\u001b[43mnode_id\u001b[49m\u001b[43m]\u001b[49m\u001b[43m,\u001b[49m\u001b[43m \u001b[49m\u001b[43met\u001b[49m\u001b[43m,\u001b[49m\u001b[43m \u001b[49m\u001b[43mcriterion\u001b[49m\u001b[43m,\u001b[49m\u001b[43m \u001b[49m\u001b[43mdepth\u001b[49m\u001b[38;5;241;43m=\u001b[39;49m\u001b[43mdepth\u001b[49m\u001b[43m \u001b[49m\u001b[38;5;241;43m+\u001b[39;49m\u001b[43m \u001b[49m\u001b[38;5;241;43m1\u001b[39;49m\n\u001b[1;32m    642\u001b[0m \u001b[43m        \u001b[49m\u001b[43m)\u001b[49m,\n\u001b[1;32m    643\u001b[0m     ]\n\u001b[1;32m    644\u001b[0m \u001b[38;5;28;01melse\u001b[39;00m:\n\u001b[1;32m    645\u001b[0m     \u001b[38;5;28;01mreturn\u001b[39;00m Tree(name, node_id)\n",
      "    \u001b[0;31m[... skipping similar frames: _MPLTreeExporter._make_tree at line 640 (8 times), _MPLTreeExporter._make_tree at line 637 (2 times)]\u001b[0m\n",
      "File \u001b[0;32m~/miniconda3/lib/python3.9/site-packages/sklearn/tree/_export.py:637\u001b[0m, in \u001b[0;36m_MPLTreeExporter._make_tree\u001b[0;34m(self, node_id, et, criterion, depth)\u001b[0m\n\u001b[1;32m    632\u001b[0m name \u001b[38;5;241m=\u001b[39m \u001b[38;5;28mself\u001b[39m\u001b[38;5;241m.\u001b[39mnode_to_str(et, node_id, criterion\u001b[38;5;241m=\u001b[39mcriterion)\n\u001b[1;32m    633\u001b[0m \u001b[38;5;28;01mif\u001b[39;00m et\u001b[38;5;241m.\u001b[39mchildren_left[node_id] \u001b[38;5;241m!=\u001b[39m _tree\u001b[38;5;241m.\u001b[39mTREE_LEAF \u001b[38;5;129;01mand\u001b[39;00m (\n\u001b[1;32m    634\u001b[0m     \u001b[38;5;28mself\u001b[39m\u001b[38;5;241m.\u001b[39mmax_depth \u001b[38;5;129;01mis\u001b[39;00m \u001b[38;5;28;01mNone\u001b[39;00m \u001b[38;5;129;01mor\u001b[39;00m depth \u001b[38;5;241m<\u001b[39m\u001b[38;5;241m=\u001b[39m \u001b[38;5;28mself\u001b[39m\u001b[38;5;241m.\u001b[39mmax_depth\n\u001b[1;32m    635\u001b[0m ):\n\u001b[1;32m    636\u001b[0m     children \u001b[38;5;241m=\u001b[39m [\n\u001b[0;32m--> 637\u001b[0m         \u001b[38;5;28;43mself\u001b[39;49m\u001b[38;5;241;43m.\u001b[39;49m\u001b[43m_make_tree\u001b[49m\u001b[43m(\u001b[49m\n\u001b[1;32m    638\u001b[0m \u001b[43m            \u001b[49m\u001b[43met\u001b[49m\u001b[38;5;241;43m.\u001b[39;49m\u001b[43mchildren_left\u001b[49m\u001b[43m[\u001b[49m\u001b[43mnode_id\u001b[49m\u001b[43m]\u001b[49m\u001b[43m,\u001b[49m\u001b[43m \u001b[49m\u001b[43met\u001b[49m\u001b[43m,\u001b[49m\u001b[43m \u001b[49m\u001b[43mcriterion\u001b[49m\u001b[43m,\u001b[49m\u001b[43m \u001b[49m\u001b[43mdepth\u001b[49m\u001b[38;5;241;43m=\u001b[39;49m\u001b[43mdepth\u001b[49m\u001b[43m \u001b[49m\u001b[38;5;241;43m+\u001b[39;49m\u001b[43m \u001b[49m\u001b[38;5;241;43m1\u001b[39;49m\n\u001b[1;32m    639\u001b[0m \u001b[43m        \u001b[49m\u001b[43m)\u001b[49m,\n\u001b[1;32m    640\u001b[0m         \u001b[38;5;28mself\u001b[39m\u001b[38;5;241m.\u001b[39m_make_tree(\n\u001b[1;32m    641\u001b[0m             et\u001b[38;5;241m.\u001b[39mchildren_right[node_id], et, criterion, depth\u001b[38;5;241m=\u001b[39mdepth \u001b[38;5;241m+\u001b[39m \u001b[38;5;241m1\u001b[39m\n\u001b[1;32m    642\u001b[0m         ),\n\u001b[1;32m    643\u001b[0m     ]\n\u001b[1;32m    644\u001b[0m \u001b[38;5;28;01melse\u001b[39;00m:\n\u001b[1;32m    645\u001b[0m     \u001b[38;5;28;01mreturn\u001b[39;00m Tree(name, node_id)\n",
      "    \u001b[0;31m[... skipping similar frames: _MPLTreeExporter._make_tree at line 640 (1 times)]\u001b[0m\n",
      "File \u001b[0;32m~/miniconda3/lib/python3.9/site-packages/sklearn/tree/_export.py:640\u001b[0m, in \u001b[0;36m_MPLTreeExporter._make_tree\u001b[0;34m(self, node_id, et, criterion, depth)\u001b[0m\n\u001b[1;32m    632\u001b[0m name \u001b[38;5;241m=\u001b[39m \u001b[38;5;28mself\u001b[39m\u001b[38;5;241m.\u001b[39mnode_to_str(et, node_id, criterion\u001b[38;5;241m=\u001b[39mcriterion)\n\u001b[1;32m    633\u001b[0m \u001b[38;5;28;01mif\u001b[39;00m et\u001b[38;5;241m.\u001b[39mchildren_left[node_id] \u001b[38;5;241m!=\u001b[39m _tree\u001b[38;5;241m.\u001b[39mTREE_LEAF \u001b[38;5;129;01mand\u001b[39;00m (\n\u001b[1;32m    634\u001b[0m     \u001b[38;5;28mself\u001b[39m\u001b[38;5;241m.\u001b[39mmax_depth \u001b[38;5;129;01mis\u001b[39;00m \u001b[38;5;28;01mNone\u001b[39;00m \u001b[38;5;129;01mor\u001b[39;00m depth \u001b[38;5;241m<\u001b[39m\u001b[38;5;241m=\u001b[39m \u001b[38;5;28mself\u001b[39m\u001b[38;5;241m.\u001b[39mmax_depth\n\u001b[1;32m    635\u001b[0m ):\n\u001b[1;32m    636\u001b[0m     children \u001b[38;5;241m=\u001b[39m [\n\u001b[1;32m    637\u001b[0m         \u001b[38;5;28mself\u001b[39m\u001b[38;5;241m.\u001b[39m_make_tree(\n\u001b[1;32m    638\u001b[0m             et\u001b[38;5;241m.\u001b[39mchildren_left[node_id], et, criterion, depth\u001b[38;5;241m=\u001b[39mdepth \u001b[38;5;241m+\u001b[39m \u001b[38;5;241m1\u001b[39m\n\u001b[1;32m    639\u001b[0m         ),\n\u001b[0;32m--> 640\u001b[0m         \u001b[38;5;28;43mself\u001b[39;49m\u001b[38;5;241;43m.\u001b[39;49m\u001b[43m_make_tree\u001b[49m\u001b[43m(\u001b[49m\n\u001b[1;32m    641\u001b[0m \u001b[43m            \u001b[49m\u001b[43met\u001b[49m\u001b[38;5;241;43m.\u001b[39;49m\u001b[43mchildren_right\u001b[49m\u001b[43m[\u001b[49m\u001b[43mnode_id\u001b[49m\u001b[43m]\u001b[49m\u001b[43m,\u001b[49m\u001b[43m \u001b[49m\u001b[43met\u001b[49m\u001b[43m,\u001b[49m\u001b[43m \u001b[49m\u001b[43mcriterion\u001b[49m\u001b[43m,\u001b[49m\u001b[43m \u001b[49m\u001b[43mdepth\u001b[49m\u001b[38;5;241;43m=\u001b[39;49m\u001b[43mdepth\u001b[49m\u001b[43m \u001b[49m\u001b[38;5;241;43m+\u001b[39;49m\u001b[43m \u001b[49m\u001b[38;5;241;43m1\u001b[39;49m\n\u001b[1;32m    642\u001b[0m \u001b[43m        \u001b[49m\u001b[43m)\u001b[49m,\n\u001b[1;32m    643\u001b[0m     ]\n\u001b[1;32m    644\u001b[0m \u001b[38;5;28;01melse\u001b[39;00m:\n\u001b[1;32m    645\u001b[0m     \u001b[38;5;28;01mreturn\u001b[39;00m Tree(name, node_id)\n",
      "File \u001b[0;32m~/miniconda3/lib/python3.9/site-packages/sklearn/tree/_export.py:646\u001b[0m, in \u001b[0;36m_MPLTreeExporter._make_tree\u001b[0;34m(self, node_id, et, criterion, depth)\u001b[0m\n\u001b[1;32m    644\u001b[0m \u001b[38;5;28;01melse\u001b[39;00m:\n\u001b[1;32m    645\u001b[0m     \u001b[38;5;28;01mreturn\u001b[39;00m Tree(name, node_id)\n\u001b[0;32m--> 646\u001b[0m \u001b[38;5;28;01mreturn\u001b[39;00m Tree(name, node_id, \u001b[38;5;241m*\u001b[39mchildren)\n",
      "\u001b[0;31mKeyboardInterrupt\u001b[0m: "
     ]
    },
    {
     "data": {
      "image/png": "[encoded data removed]",
      "text/plain": [
       "<Figure size 1440x1440 with 1 Axes>"
      ]
     },
     "metadata": {
      "needs_background": "light"
     },
     "output_type": "display_data"
    }
   ],
   "source": [
    "plt.figure(figsize=(20,20))\n",
    "_ = tree.plot_tree(regressor.estimators_[0], \n",
    "                   feature_names=['Mass_0', 'Mass_1', 'Semimajor', 'Eccentricity', 'Z', 'alpha'],\n",
    "                   filled=True)"
   ]
  },
  {
   "cell_type": "code",
   "execution_count": 13,
   "metadata": {},
   "outputs": [
    {
     "ename": "KeyboardInterrupt",
     "evalue": "",
     "output_type": "error",
     "traceback": [
      "\u001b[0;31m---------------------------------------------------------------------------\u001b[0m",
      "\u001b[0;31mKeyboardInterrupt\u001b[0m                         Traceback (most recent call last)",
      "Input \u001b[0;32mIn [13]\u001b[0m, in \u001b[0;36m<cell line: 1>\u001b[0;34m()\u001b[0m\n\u001b[0;32m----> 1\u001b[0m dot_data \u001b[38;5;241m=\u001b[39m \u001b[43mexport_graphviz\u001b[49m\u001b[43m(\u001b[49m\u001b[43mregressor\u001b[49m\u001b[38;5;241;43m.\u001b[39;49m\u001b[43mestimators_\u001b[49m\u001b[43m[\u001b[49m\u001b[38;5;241;43m0\u001b[39;49m\u001b[43m]\u001b[49m\u001b[43m,\u001b[49m\n\u001b[1;32m      2\u001b[0m \u001b[43m                           \u001b[49m\u001b[43mfeature_names\u001b[49m\u001b[38;5;241;43m=\u001b[39;49m\u001b[43m[\u001b[49m\u001b[38;5;124;43m'\u001b[39;49m\u001b[38;5;124;43mMass_0\u001b[39;49m\u001b[38;5;124;43m'\u001b[39;49m\u001b[43m,\u001b[49m\u001b[43m \u001b[49m\u001b[38;5;124;43m'\u001b[39;49m\u001b[38;5;124;43mMass_1\u001b[39;49m\u001b[38;5;124;43m'\u001b[39;49m\u001b[43m,\u001b[49m\u001b[43m \u001b[49m\u001b[38;5;124;43m'\u001b[39;49m\u001b[38;5;124;43mSemimajor\u001b[39;49m\u001b[38;5;124;43m'\u001b[39;49m\u001b[43m,\u001b[49m\u001b[43m \u001b[49m\u001b[38;5;124;43m'\u001b[39;49m\u001b[38;5;124;43mEccentricity\u001b[39;49m\u001b[38;5;124;43m'\u001b[39;49m\u001b[43m,\u001b[49m\u001b[43m \u001b[49m\u001b[38;5;124;43m'\u001b[39;49m\u001b[38;5;124;43mZ\u001b[39;49m\u001b[38;5;124;43m'\u001b[39;49m\u001b[43m,\u001b[49m\u001b[43m \u001b[49m\u001b[38;5;124;43m'\u001b[39;49m\u001b[38;5;124;43malpha\u001b[39;49m\u001b[38;5;124;43m'\u001b[39;49m\u001b[43m]\u001b[49m\u001b[43m,\u001b[49m\u001b[43m  \u001b[49m\n\u001b[1;32m      3\u001b[0m \u001b[43m                           \u001b[49m\u001b[43mfilled\u001b[49m\u001b[38;5;241;43m=\u001b[39;49m\u001b[38;5;28;43;01mTrue\u001b[39;49;00m\u001b[43m,\u001b[49m\u001b[43m \u001b[49m\u001b[43mrounded\u001b[49m\u001b[38;5;241;43m=\u001b[39;49m\u001b[38;5;28;43;01mTrue\u001b[39;49;00m\u001b[43m)\u001b[49m\n",
      "File \u001b[0;32m~/miniconda3/lib/python3.9/site-packages/sklearn/tree/_export.py:889\u001b[0m, in \u001b[0;36mexport_graphviz\u001b[0;34m(decision_tree, out_file, max_depth, feature_names, class_names, label, filled, leaves_parallel, impurity, node_ids, proportion, rotate, rounded, special_characters, precision, fontname)\u001b[0m\n\u001b[1;32m    870\u001b[0m     out_file \u001b[38;5;241m=\u001b[39m StringIO()\n\u001b[1;32m    872\u001b[0m exporter \u001b[38;5;241m=\u001b[39m _DOTTreeExporter(\n\u001b[1;32m    873\u001b[0m     out_file\u001b[38;5;241m=\u001b[39mout_file,\n\u001b[1;32m    874\u001b[0m     max_depth\u001b[38;5;241m=\u001b[39mmax_depth,\n\u001b[0;32m   (...)\u001b[0m\n\u001b[1;32m    887\u001b[0m     fontname\u001b[38;5;241m=\u001b[39mfontname,\n\u001b[1;32m    888\u001b[0m )\n\u001b[0;32m--> 889\u001b[0m \u001b[43mexporter\u001b[49m\u001b[38;5;241;43m.\u001b[39;49m\u001b[43mexport\u001b[49m\u001b[43m(\u001b[49m\u001b[43mdecision_tree\u001b[49m\u001b[43m)\u001b[49m\n\u001b[1;32m    891\u001b[0m \u001b[38;5;28;01mif\u001b[39;00m return_string:\n\u001b[1;32m    892\u001b[0m     \u001b[38;5;28;01mreturn\u001b[39;00m exporter\u001b[38;5;241m.\u001b[39mout_file\u001b[38;5;241m.\u001b[39mgetvalue()\n",
      "File \u001b[0;32m~/miniconda3/lib/python3.9/site-packages/sklearn/tree/_export.py:462\u001b[0m, in \u001b[0;36m_DOTTreeExporter.export\u001b[0;34m(self, decision_tree)\u001b[0m\n\u001b[1;32m    460\u001b[0m     \u001b[38;5;28mself\u001b[39m\u001b[38;5;241m.\u001b[39mrecurse(decision_tree, \u001b[38;5;241m0\u001b[39m, criterion\u001b[38;5;241m=\u001b[39m\u001b[38;5;124m\"\u001b[39m\u001b[38;5;124mimpurity\u001b[39m\u001b[38;5;124m\"\u001b[39m)\n\u001b[1;32m    461\u001b[0m \u001b[38;5;28;01melse\u001b[39;00m:\n\u001b[0;32m--> 462\u001b[0m     \u001b[38;5;28;43mself\u001b[39;49m\u001b[38;5;241;43m.\u001b[39;49m\u001b[43mrecurse\u001b[49m\u001b[43m(\u001b[49m\u001b[43mdecision_tree\u001b[49m\u001b[38;5;241;43m.\u001b[39;49m\u001b[43mtree_\u001b[49m\u001b[43m,\u001b[49m\u001b[43m \u001b[49m\u001b[38;5;241;43m0\u001b[39;49m\u001b[43m,\u001b[49m\u001b[43m \u001b[49m\u001b[43mcriterion\u001b[49m\u001b[38;5;241;43m=\u001b[39;49m\u001b[43mdecision_tree\u001b[49m\u001b[38;5;241;43m.\u001b[39;49m\u001b[43mcriterion\u001b[49m\u001b[43m)\u001b[49m\n\u001b[1;32m    464\u001b[0m \u001b[38;5;28mself\u001b[39m\u001b[38;5;241m.\u001b[39mtail()\n",
      "File \u001b[0;32m~/miniconda3/lib/python3.9/site-packages/sklearn/tree/_export.py:551\u001b[0m, in \u001b[0;36m_DOTTreeExporter.recurse\u001b[0;34m(self, tree, node_id, criterion, parent, depth)\u001b[0m\n\u001b[1;32m    543\u001b[0m     \u001b[38;5;28;01mif\u001b[39;00m left_child \u001b[38;5;241m!=\u001b[39m _tree\u001b[38;5;241m.\u001b[39mTREE_LEAF:\n\u001b[1;32m    544\u001b[0m         \u001b[38;5;28mself\u001b[39m\u001b[38;5;241m.\u001b[39mrecurse(\n\u001b[1;32m    545\u001b[0m             tree,\n\u001b[1;32m    546\u001b[0m             left_child,\n\u001b[0;32m   (...)\u001b[0m\n\u001b[1;32m    549\u001b[0m             depth\u001b[38;5;241m=\u001b[39mdepth \u001b[38;5;241m+\u001b[39m \u001b[38;5;241m1\u001b[39m,\n\u001b[1;32m    550\u001b[0m         )\n\u001b[0;32m--> 551\u001b[0m         \u001b[38;5;28;43mself\u001b[39;49m\u001b[38;5;241;43m.\u001b[39;49m\u001b[43mrecurse\u001b[49m\u001b[43m(\u001b[49m\n\u001b[1;32m    552\u001b[0m \u001b[43m            \u001b[49m\u001b[43mtree\u001b[49m\u001b[43m,\u001b[49m\n\u001b[1;32m    553\u001b[0m \u001b[43m            \u001b[49m\u001b[43mright_child\u001b[49m\u001b[43m,\u001b[49m\n\u001b[1;32m    554\u001b[0m \u001b[43m            \u001b[49m\u001b[43mcriterion\u001b[49m\u001b[38;5;241;43m=\u001b[39;49m\u001b[43mcriterion\u001b[49m\u001b[43m,\u001b[49m\n\u001b[1;32m    555\u001b[0m \u001b[43m            \u001b[49m\u001b[43mparent\u001b[49m\u001b[38;5;241;43m=\u001b[39;49m\u001b[43mnode_id\u001b[49m\u001b[43m,\u001b[49m\n\u001b[1;32m    556\u001b[0m \u001b[43m            \u001b[49m\u001b[43mdepth\u001b[49m\u001b[38;5;241;43m=\u001b[39;49m\u001b[43mdepth\u001b[49m\u001b[43m \u001b[49m\u001b[38;5;241;43m+\u001b[39;49m\u001b[43m \u001b[49m\u001b[38;5;241;43m1\u001b[39;49m\u001b[43m,\u001b[49m\n\u001b[1;32m    557\u001b[0m \u001b[43m        \u001b[49m\u001b[43m)\u001b[49m\n\u001b[1;32m    559\u001b[0m \u001b[38;5;28;01melse\u001b[39;00m:\n\u001b[1;32m    560\u001b[0m     \u001b[38;5;28mself\u001b[39m\u001b[38;5;241m.\u001b[39mranks[\u001b[38;5;124m\"\u001b[39m\u001b[38;5;124mleaves\u001b[39m\u001b[38;5;124m\"\u001b[39m]\u001b[38;5;241m.\u001b[39mappend(\u001b[38;5;28mstr\u001b[39m(node_id))\n",
      "File \u001b[0;32m~/miniconda3/lib/python3.9/site-packages/sklearn/tree/_export.py:544\u001b[0m, in \u001b[0;36m_DOTTreeExporter.recurse\u001b[0;34m(self, tree, node_id, criterion, parent, depth)\u001b[0m\n\u001b[1;32m    541\u001b[0m         \u001b[38;5;28mself\u001b[39m\u001b[38;5;241m.\u001b[39mout_file\u001b[38;5;241m.\u001b[39mwrite(\u001b[38;5;124m\"\u001b[39m\u001b[38;5;124m ;\u001b[39m\u001b[38;5;130;01m\\n\u001b[39;00m\u001b[38;5;124m\"\u001b[39m)\n\u001b[1;32m    543\u001b[0m     \u001b[38;5;28;01mif\u001b[39;00m left_child \u001b[38;5;241m!=\u001b[39m _tree\u001b[38;5;241m.\u001b[39mTREE_LEAF:\n\u001b[0;32m--> 544\u001b[0m         \u001b[38;5;28;43mself\u001b[39;49m\u001b[38;5;241;43m.\u001b[39;49m\u001b[43mrecurse\u001b[49m\u001b[43m(\u001b[49m\n\u001b[1;32m    545\u001b[0m \u001b[43m            \u001b[49m\u001b[43mtree\u001b[49m\u001b[43m,\u001b[49m\n\u001b[1;32m    546\u001b[0m \u001b[43m            \u001b[49m\u001b[43mleft_child\u001b[49m\u001b[43m,\u001b[49m\n\u001b[1;32m    547\u001b[0m \u001b[43m            \u001b[49m\u001b[43mcriterion\u001b[49m\u001b[38;5;241;43m=\u001b[39;49m\u001b[43mcriterion\u001b[49m\u001b[43m,\u001b[49m\n\u001b[1;32m    548\u001b[0m \u001b[43m            \u001b[49m\u001b[43mparent\u001b[49m\u001b[38;5;241;43m=\u001b[39;49m\u001b[43mnode_id\u001b[49m\u001b[43m,\u001b[49m\n\u001b[1;32m    549\u001b[0m \u001b[43m            \u001b[49m\u001b[43mdepth\u001b[49m\u001b[38;5;241;43m=\u001b[39;49m\u001b[43mdepth\u001b[49m\u001b[43m \u001b[49m\u001b[38;5;241;43m+\u001b[39;49m\u001b[43m \u001b[49m\u001b[38;5;241;43m1\u001b[39;49m\u001b[43m,\u001b[49m\n\u001b[1;32m    550\u001b[0m \u001b[43m        \u001b[49m\u001b[43m)\u001b[49m\n\u001b[1;32m    551\u001b[0m         \u001b[38;5;28mself\u001b[39m\u001b[38;5;241m.\u001b[39mrecurse(\n\u001b[1;32m    552\u001b[0m             tree,\n\u001b[1;32m    553\u001b[0m             right_child,\n\u001b[0;32m   (...)\u001b[0m\n\u001b[1;32m    556\u001b[0m             depth\u001b[38;5;241m=\u001b[39mdepth \u001b[38;5;241m+\u001b[39m \u001b[38;5;241m1\u001b[39m,\n\u001b[1;32m    557\u001b[0m         )\n\u001b[1;32m    559\u001b[0m \u001b[38;5;28;01melse\u001b[39;00m:\n",
      "File \u001b[0;32m~/miniconda3/lib/python3.9/site-packages/sklearn/tree/_export.py:544\u001b[0m, in \u001b[0;36m_DOTTreeExporter.recurse\u001b[0;34m(self, tree, node_id, criterion, parent, depth)\u001b[0m\n\u001b[1;32m    541\u001b[0m         \u001b[38;5;28mself\u001b[39m\u001b[38;5;241m.\u001b[39mout_file\u001b[38;5;241m.\u001b[39mwrite(\u001b[38;5;124m\"\u001b[39m\u001b[38;5;124m ;\u001b[39m\u001b[38;5;130;01m\\n\u001b[39;00m\u001b[38;5;124m\"\u001b[39m)\n\u001b[1;32m    543\u001b[0m     \u001b[38;5;28;01mif\u001b[39;00m left_child \u001b[38;5;241m!=\u001b[39m _tree\u001b[38;5;241m.\u001b[39mTREE_LEAF:\n\u001b[0;32m--> 544\u001b[0m         \u001b[38;5;28;43mself\u001b[39;49m\u001b[38;5;241;43m.\u001b[39;49m\u001b[43mrecurse\u001b[49m\u001b[43m(\u001b[49m\n\u001b[1;32m    545\u001b[0m \u001b[43m            \u001b[49m\u001b[43mtree\u001b[49m\u001b[43m,\u001b[49m\n\u001b[1;32m    546\u001b[0m \u001b[43m            \u001b[49m\u001b[43mleft_child\u001b[49m\u001b[43m,\u001b[49m\n\u001b[1;32m    547\u001b[0m \u001b[43m            \u001b[49m\u001b[43mcriterion\u001b[49m\u001b[38;5;241;43m=\u001b[39;49m\u001b[43mcriterion\u001b[49m\u001b[43m,\u001b[49m\n\u001b[1;32m    548\u001b[0m \u001b[43m            \u001b[49m\u001b[43mparent\u001b[49m\u001b[38;5;241;43m=\u001b[39;49m\u001b[43mnode_id\u001b[49m\u001b[43m,\u001b[49m\n\u001b[1;32m    549\u001b[0m \u001b[43m            \u001b[49m\u001b[43mdepth\u001b[49m\u001b[38;5;241;43m=\u001b[39;49m\u001b[43mdepth\u001b[49m\u001b[43m \u001b[49m\u001b[38;5;241;43m+\u001b[39;49m\u001b[43m \u001b[49m\u001b[38;5;241;43m1\u001b[39;49m\u001b[43m,\u001b[49m\n\u001b[1;32m    550\u001b[0m \u001b[43m        \u001b[49m\u001b[43m)\u001b[49m\n\u001b[1;32m    551\u001b[0m         \u001b[38;5;28mself\u001b[39m\u001b[38;5;241m.\u001b[39mrecurse(\n\u001b[1;32m    552\u001b[0m             tree,\n\u001b[1;32m    553\u001b[0m             right_child,\n\u001b[0;32m   (...)\u001b[0m\n\u001b[1;32m    556\u001b[0m             depth\u001b[38;5;241m=\u001b[39mdepth \u001b[38;5;241m+\u001b[39m \u001b[38;5;241m1\u001b[39m,\n\u001b[1;32m    557\u001b[0m         )\n\u001b[1;32m    559\u001b[0m \u001b[38;5;28;01melse\u001b[39;00m:\n",
      "    \u001b[0;31m[... skipping similar frames: _DOTTreeExporter.recurse at line 544 (32 times)]\u001b[0m\n",
      "File \u001b[0;32m~/miniconda3/lib/python3.9/site-packages/sklearn/tree/_export.py:551\u001b[0m, in \u001b[0;36m_DOTTreeExporter.recurse\u001b[0;34m(self, tree, node_id, criterion, parent, depth)\u001b[0m\n\u001b[1;32m    543\u001b[0m     \u001b[38;5;28;01mif\u001b[39;00m left_child \u001b[38;5;241m!=\u001b[39m _tree\u001b[38;5;241m.\u001b[39mTREE_LEAF:\n\u001b[1;32m    544\u001b[0m         \u001b[38;5;28mself\u001b[39m\u001b[38;5;241m.\u001b[39mrecurse(\n\u001b[1;32m    545\u001b[0m             tree,\n\u001b[1;32m    546\u001b[0m             left_child,\n\u001b[0;32m   (...)\u001b[0m\n\u001b[1;32m    549\u001b[0m             depth\u001b[38;5;241m=\u001b[39mdepth \u001b[38;5;241m+\u001b[39m \u001b[38;5;241m1\u001b[39m,\n\u001b[1;32m    550\u001b[0m         )\n\u001b[0;32m--> 551\u001b[0m         \u001b[38;5;28;43mself\u001b[39;49m\u001b[38;5;241;43m.\u001b[39;49m\u001b[43mrecurse\u001b[49m\u001b[43m(\u001b[49m\n\u001b[1;32m    552\u001b[0m \u001b[43m            \u001b[49m\u001b[43mtree\u001b[49m\u001b[43m,\u001b[49m\n\u001b[1;32m    553\u001b[0m \u001b[43m            \u001b[49m\u001b[43mright_child\u001b[49m\u001b[43m,\u001b[49m\n\u001b[1;32m    554\u001b[0m \u001b[43m            \u001b[49m\u001b[43mcriterion\u001b[49m\u001b[38;5;241;43m=\u001b[39;49m\u001b[43mcriterion\u001b[49m\u001b[43m,\u001b[49m\n\u001b[1;32m    555\u001b[0m \u001b[43m            \u001b[49m\u001b[43mparent\u001b[49m\u001b[38;5;241;43m=\u001b[39;49m\u001b[43mnode_id\u001b[49m\u001b[43m,\u001b[49m\n\u001b[1;32m    556\u001b[0m \u001b[43m            \u001b[49m\u001b[43mdepth\u001b[49m\u001b[38;5;241;43m=\u001b[39;49m\u001b[43mdepth\u001b[49m\u001b[43m \u001b[49m\u001b[38;5;241;43m+\u001b[39;49m\u001b[43m \u001b[49m\u001b[38;5;241;43m1\u001b[39;49m\u001b[43m,\u001b[49m\n\u001b[1;32m    557\u001b[0m \u001b[43m        \u001b[49m\u001b[43m)\u001b[49m\n\u001b[1;32m    559\u001b[0m \u001b[38;5;28;01melse\u001b[39;00m:\n\u001b[1;32m    560\u001b[0m     \u001b[38;5;28mself\u001b[39m\u001b[38;5;241m.\u001b[39mranks[\u001b[38;5;124m\"\u001b[39m\u001b[38;5;124mleaves\u001b[39m\u001b[38;5;124m\"\u001b[39m]\u001b[38;5;241m.\u001b[39mappend(\u001b[38;5;28mstr\u001b[39m(node_id))\n",
      "    \u001b[0;31m[... skipping similar frames: _DOTTreeExporter.recurse at line 544 (8 times), _DOTTreeExporter.recurse at line 551 (8 times)]\u001b[0m\n",
      "File \u001b[0;32m~/miniconda3/lib/python3.9/site-packages/sklearn/tree/_export.py:544\u001b[0m, in \u001b[0;36m_DOTTreeExporter.recurse\u001b[0;34m(self, tree, node_id, criterion, parent, depth)\u001b[0m\n\u001b[1;32m    541\u001b[0m         \u001b[38;5;28mself\u001b[39m\u001b[38;5;241m.\u001b[39mout_file\u001b[38;5;241m.\u001b[39mwrite(\u001b[38;5;124m\"\u001b[39m\u001b[38;5;124m ;\u001b[39m\u001b[38;5;130;01m\\n\u001b[39;00m\u001b[38;5;124m\"\u001b[39m)\n\u001b[1;32m    543\u001b[0m     \u001b[38;5;28;01mif\u001b[39;00m left_child \u001b[38;5;241m!=\u001b[39m _tree\u001b[38;5;241m.\u001b[39mTREE_LEAF:\n\u001b[0;32m--> 544\u001b[0m         \u001b[38;5;28;43mself\u001b[39;49m\u001b[38;5;241;43m.\u001b[39;49m\u001b[43mrecurse\u001b[49m\u001b[43m(\u001b[49m\n\u001b[1;32m    545\u001b[0m \u001b[43m            \u001b[49m\u001b[43mtree\u001b[49m\u001b[43m,\u001b[49m\n\u001b[1;32m    546\u001b[0m \u001b[43m            \u001b[49m\u001b[43mleft_child\u001b[49m\u001b[43m,\u001b[49m\n\u001b[1;32m    547\u001b[0m \u001b[43m            \u001b[49m\u001b[43mcriterion\u001b[49m\u001b[38;5;241;43m=\u001b[39;49m\u001b[43mcriterion\u001b[49m\u001b[43m,\u001b[49m\n\u001b[1;32m    548\u001b[0m \u001b[43m            \u001b[49m\u001b[43mparent\u001b[49m\u001b[38;5;241;43m=\u001b[39;49m\u001b[43mnode_id\u001b[49m\u001b[43m,\u001b[49m\n\u001b[1;32m    549\u001b[0m \u001b[43m            \u001b[49m\u001b[43mdepth\u001b[49m\u001b[38;5;241;43m=\u001b[39;49m\u001b[43mdepth\u001b[49m\u001b[43m \u001b[49m\u001b[38;5;241;43m+\u001b[39;49m\u001b[43m \u001b[49m\u001b[38;5;241;43m1\u001b[39;49m\u001b[43m,\u001b[49m\n\u001b[1;32m    550\u001b[0m \u001b[43m        \u001b[49m\u001b[43m)\u001b[49m\n\u001b[1;32m    551\u001b[0m         \u001b[38;5;28mself\u001b[39m\u001b[38;5;241m.\u001b[39mrecurse(\n\u001b[1;32m    552\u001b[0m             tree,\n\u001b[1;32m    553\u001b[0m             right_child,\n\u001b[0;32m   (...)\u001b[0m\n\u001b[1;32m    556\u001b[0m             depth\u001b[38;5;241m=\u001b[39mdepth \u001b[38;5;241m+\u001b[39m \u001b[38;5;241m1\u001b[39m,\n\u001b[1;32m    557\u001b[0m         )\n\u001b[1;32m    559\u001b[0m \u001b[38;5;28;01melse\u001b[39;00m:\n",
      "File \u001b[0;32m~/miniconda3/lib/python3.9/site-packages/sklearn/tree/_export.py:551\u001b[0m, in \u001b[0;36m_DOTTreeExporter.recurse\u001b[0;34m(self, tree, node_id, criterion, parent, depth)\u001b[0m\n\u001b[1;32m    543\u001b[0m     \u001b[38;5;28;01mif\u001b[39;00m left_child \u001b[38;5;241m!=\u001b[39m _tree\u001b[38;5;241m.\u001b[39mTREE_LEAF:\n\u001b[1;32m    544\u001b[0m         \u001b[38;5;28mself\u001b[39m\u001b[38;5;241m.\u001b[39mrecurse(\n\u001b[1;32m    545\u001b[0m             tree,\n\u001b[1;32m    546\u001b[0m             left_child,\n\u001b[0;32m   (...)\u001b[0m\n\u001b[1;32m    549\u001b[0m             depth\u001b[38;5;241m=\u001b[39mdepth \u001b[38;5;241m+\u001b[39m \u001b[38;5;241m1\u001b[39m,\n\u001b[1;32m    550\u001b[0m         )\n\u001b[0;32m--> 551\u001b[0m         \u001b[38;5;28;43mself\u001b[39;49m\u001b[38;5;241;43m.\u001b[39;49m\u001b[43mrecurse\u001b[49m\u001b[43m(\u001b[49m\n\u001b[1;32m    552\u001b[0m \u001b[43m            \u001b[49m\u001b[43mtree\u001b[49m\u001b[43m,\u001b[49m\n\u001b[1;32m    553\u001b[0m \u001b[43m            \u001b[49m\u001b[43mright_child\u001b[49m\u001b[43m,\u001b[49m\n\u001b[1;32m    554\u001b[0m \u001b[43m            \u001b[49m\u001b[43mcriterion\u001b[49m\u001b[38;5;241;43m=\u001b[39;49m\u001b[43mcriterion\u001b[49m\u001b[43m,\u001b[49m\n\u001b[1;32m    555\u001b[0m \u001b[43m            \u001b[49m\u001b[43mparent\u001b[49m\u001b[38;5;241;43m=\u001b[39;49m\u001b[43mnode_id\u001b[49m\u001b[43m,\u001b[49m\n\u001b[1;32m    556\u001b[0m \u001b[43m            \u001b[49m\u001b[43mdepth\u001b[49m\u001b[38;5;241;43m=\u001b[39;49m\u001b[43mdepth\u001b[49m\u001b[43m \u001b[49m\u001b[38;5;241;43m+\u001b[39;49m\u001b[43m \u001b[49m\u001b[38;5;241;43m1\u001b[39;49m\u001b[43m,\u001b[49m\n\u001b[1;32m    557\u001b[0m \u001b[43m        \u001b[49m\u001b[43m)\u001b[49m\n\u001b[1;32m    559\u001b[0m \u001b[38;5;28;01melse\u001b[39;00m:\n\u001b[1;32m    560\u001b[0m     \u001b[38;5;28mself\u001b[39m\u001b[38;5;241m.\u001b[39mranks[\u001b[38;5;124m\"\u001b[39m\u001b[38;5;124mleaves\u001b[39m\u001b[38;5;124m\"\u001b[39m]\u001b[38;5;241m.\u001b[39mappend(\u001b[38;5;28mstr\u001b[39m(node_id))\n",
      "File \u001b[0;32m~/miniconda3/lib/python3.9/site-packages/sklearn/tree/_export.py:526\u001b[0m, in \u001b[0;36m_DOTTreeExporter.recurse\u001b[0;34m(self, tree, node_id, criterion, parent, depth)\u001b[0m\n\u001b[1;32m    520\u001b[0m \u001b[38;5;28mself\u001b[39m\u001b[38;5;241m.\u001b[39mout_file\u001b[38;5;241m.\u001b[39mwrite(\n\u001b[1;32m    521\u001b[0m     \u001b[38;5;124m\"\u001b[39m\u001b[38;5;132;01m%d\u001b[39;00m\u001b[38;5;124m [label=\u001b[39m\u001b[38;5;132;01m%s\u001b[39;00m\u001b[38;5;124m\"\u001b[39m \u001b[38;5;241m%\u001b[39m (node_id, \u001b[38;5;28mself\u001b[39m\u001b[38;5;241m.\u001b[39mnode_to_str(tree, node_id, criterion))\n\u001b[1;32m    522\u001b[0m )\n\u001b[1;32m    524\u001b[0m \u001b[38;5;28;01mif\u001b[39;00m \u001b[38;5;28mself\u001b[39m\u001b[38;5;241m.\u001b[39mfilled:\n\u001b[1;32m    525\u001b[0m     \u001b[38;5;28mself\u001b[39m\u001b[38;5;241m.\u001b[39mout_file\u001b[38;5;241m.\u001b[39mwrite(\n\u001b[0;32m--> 526\u001b[0m         \u001b[38;5;124m'\u001b[39m\u001b[38;5;124m, fillcolor=\u001b[39m\u001b[38;5;124m\"\u001b[39m\u001b[38;5;132;01m%s\u001b[39;00m\u001b[38;5;124m\"\u001b[39m\u001b[38;5;124m'\u001b[39m \u001b[38;5;241m%\u001b[39m \u001b[38;5;28;43mself\u001b[39;49m\u001b[38;5;241;43m.\u001b[39;49m\u001b[43mget_fill_color\u001b[49m\u001b[43m(\u001b[49m\u001b[43mtree\u001b[49m\u001b[43m,\u001b[49m\u001b[43m \u001b[49m\u001b[43mnode_id\u001b[49m\u001b[43m)\u001b[49m\n\u001b[1;32m    527\u001b[0m     )\n\u001b[1;32m    528\u001b[0m \u001b[38;5;28mself\u001b[39m\u001b[38;5;241m.\u001b[39mout_file\u001b[38;5;241m.\u001b[39mwrite(\u001b[38;5;124m\"\u001b[39m\u001b[38;5;124m] ;\u001b[39m\u001b[38;5;130;01m\\n\u001b[39;00m\u001b[38;5;124m\"\u001b[39m)\n\u001b[1;32m    530\u001b[0m \u001b[38;5;28;01mif\u001b[39;00m parent \u001b[38;5;129;01mis\u001b[39;00m \u001b[38;5;129;01mnot\u001b[39;00m \u001b[38;5;28;01mNone\u001b[39;00m:\n\u001b[1;32m    531\u001b[0m     \u001b[38;5;66;03m# Add edge to parent\u001b[39;00m\n",
      "File \u001b[0;32m~/miniconda3/lib/python3.9/site-packages/sklearn/tree/_export.py:260\u001b[0m, in \u001b[0;36m_BaseTreeExporter.get_fill_color\u001b[0;34m(self, tree, node_id)\u001b[0m\n\u001b[1;32m    258\u001b[0m         \u001b[38;5;28mself\u001b[39m\u001b[38;5;241m.\u001b[39mcolors[\u001b[38;5;124m\"\u001b[39m\u001b[38;5;124mbounds\u001b[39m\u001b[38;5;124m\"\u001b[39m] \u001b[38;5;241m=\u001b[39m (np\u001b[38;5;241m.\u001b[39mmin(tree\u001b[38;5;241m.\u001b[39mvalue), np\u001b[38;5;241m.\u001b[39mmax(tree\u001b[38;5;241m.\u001b[39mvalue))\n\u001b[1;32m    259\u001b[0m \u001b[38;5;28;01mif\u001b[39;00m tree\u001b[38;5;241m.\u001b[39mn_outputs \u001b[38;5;241m==\u001b[39m \u001b[38;5;241m1\u001b[39m:\n\u001b[0;32m--> 260\u001b[0m     node_val \u001b[38;5;241m=\u001b[39m \u001b[43mtree\u001b[49m\u001b[38;5;241;43m.\u001b[39;49m\u001b[43mvalue\u001b[49m\u001b[43m[\u001b[49m\u001b[43mnode_id\u001b[49m\u001b[43m]\u001b[49m\u001b[43m[\u001b[49m\u001b[38;5;241;43m0\u001b[39;49m\u001b[43m,\u001b[49m\u001b[43m \u001b[49m\u001b[43m:\u001b[49m\u001b[43m]\u001b[49m\u001b[43m \u001b[49m\u001b[38;5;241;43m/\u001b[39;49m\u001b[43m \u001b[49m\u001b[43mtree\u001b[49m\u001b[38;5;241;43m.\u001b[39;49m\u001b[43mweighted_n_node_samples\u001b[49m\u001b[43m[\u001b[49m\u001b[43mnode_id\u001b[49m\u001b[43m]\u001b[49m\n\u001b[1;32m    261\u001b[0m     \u001b[38;5;28;01mif\u001b[39;00m tree\u001b[38;5;241m.\u001b[39mn_classes[\u001b[38;5;241m0\u001b[39m] \u001b[38;5;241m==\u001b[39m \u001b[38;5;241m1\u001b[39m:\n\u001b[1;32m    262\u001b[0m         \u001b[38;5;66;03m# Regression\u001b[39;00m\n\u001b[1;32m    263\u001b[0m         node_val \u001b[38;5;241m=\u001b[39m tree\u001b[38;5;241m.\u001b[39mvalue[node_id][\u001b[38;5;241m0\u001b[39m, :]\n",
      "\u001b[0;31mKeyboardInterrupt\u001b[0m: "
     ]
    }
   ],
   "source": [
    "dot_data = export_graphviz(regressor.estimators_[0],\n",
    "                           feature_names=['Mass_0', 'Mass_1', 'Semimajor', 'Eccentricity', 'Z', 'alpha'],  \n",
    "                           filled=True, rounded=True)  \n",
    "\n",
    "graph = graphviz.Source(dot_data, format='png')\n",
    "graph.render(\"tree\") "
   ]
  },
  {
   "cell_type": "markdown",
   "metadata": {},
   "source": [
    "From here it is problematic: using 100 as number of trees and using 30% of the data results in using already almost all the ram (16Gb)."
   ]
  },
  {
   "cell_type": "markdown",
   "metadata": {},
   "source": [
    "## Tuning of the hyperparameters\n",
    "First we do a random grid search"
   ]
  },
  {
   "cell_type": "code",
   "execution_count": 8,
   "metadata": {},
   "outputs": [
    {
     "data": {
      "text/plain": [
       "20550"
      ]
     },
     "execution_count": 8,
     "metadata": {},
     "output_type": "execute_result"
    }
   ],
   "source": [
    "# split train and test set (80% training, 20% test)\n",
    "X_train, X_test, Y_train, Y_test = train_test_split(X, Y, test_size=.99, random_state=0)\n",
    "len(X_train)"
   ]
  },
  {
   "cell_type": "code",
   "execution_count": 13,
   "metadata": {},
   "outputs": [
    {
     "data": {
      "text/plain": [
       "{'n_estimators': [200, 400, 600, 800, 1000, 1200, 1400, 1600, 1800, 2000],\n",
       " 'max_features': ['auto', 'sqrt'],\n",
       " 'max_depth': [10, 20, 30, 40, 50, 60, 70, 80, 90, 100, 110, None],\n",
       " 'min_samples_split': [2, 5, 10],\n",
       " 'min_samples_leaf': [1, 2, 4],\n",
       " 'bootstrap': [True, False]}"
      ]
     },
     "execution_count": 13,
     "metadata": {},
     "output_type": "execute_result"
    }
   ],
   "source": [
    "# Number of trees in random forest\n",
    "n_estimators = [int(x) for x in np.linspace(start = 200, stop = 2000, num = 10)]\n",
    "\n",
    "# Number of features to consider at every split\n",
    "max_features = ['auto', 'sqrt']\n",
    "\n",
    "# Maximum number of levels in tree\n",
    "max_depth = [int(x) for x in np.linspace(10, 110, num = 11)]\n",
    "max_depth.append(None)\n",
    "\n",
    "# Minimum number of samples required to split a node\n",
    "min_samples_split = [2, 5, 10]\n",
    "\n",
    "# Minimum number of samples required at each leaf node\n",
    "min_samples_leaf = [1, 2, 4]\n",
    "\n",
    "# Method of selecting samples for training each tree\n",
    "bootstrap = [True, False]\n",
    "\n",
    "# Create the random grid\n",
    "random_grid = {'n_estimators': n_estimators,\n",
    "               'max_features': max_features,\n",
    "               'max_depth': max_depth,\n",
    "               'min_samples_split': min_samples_split,\n",
    "               'min_samples_leaf': min_samples_leaf,\n",
    "               'bootstrap': bootstrap}\n",
    "random_grid"
   ]
  },
  {
   "cell_type": "code",
   "execution_count": 14,
   "metadata": {},
   "outputs": [
    {
     "name": "stdout",
     "output_type": "stream",
     "text": [
      "Fitting 3 folds for each of 20 candidates, totalling 60 fits\n"
     ]
    },
    {
     "ename": "KeyboardInterrupt",
     "evalue": "",
     "output_type": "error",
     "traceback": [
      "\u001b[0;31m---------------------------------------------------------------------------\u001b[0m",
      "\u001b[0;31mKeyboardInterrupt\u001b[0m                         Traceback (most recent call last)",
      "Input \u001b[0;32mIn [14]\u001b[0m, in \u001b[0;36m<cell line: 12>\u001b[0;34m()\u001b[0m\n\u001b[1;32m     11\u001b[0m \u001b[38;5;66;03m# Fit the random search model\u001b[39;00m\n\u001b[1;32m     12\u001b[0m \u001b[38;5;28;01mwith\u001b[39;00m sys_pipes():\n\u001b[0;32m---> 13\u001b[0m     \u001b[43mrf_random\u001b[49m\u001b[38;5;241;43m.\u001b[39;49m\u001b[43mfit\u001b[49m\u001b[43m(\u001b[49m\u001b[43mX_train\u001b[49m\u001b[43m,\u001b[49m\u001b[43m \u001b[49m\u001b[43mY_train\u001b[49m\u001b[43m)\u001b[49m\n",
      "File \u001b[0;32m~/miniconda3/lib/python3.9/site-packages/sklearn/model_selection/_search.py:891\u001b[0m, in \u001b[0;36mBaseSearchCV.fit\u001b[0;34m(self, X, y, groups, **fit_params)\u001b[0m\n\u001b[1;32m    885\u001b[0m     results \u001b[38;5;241m=\u001b[39m \u001b[38;5;28mself\u001b[39m\u001b[38;5;241m.\u001b[39m_format_results(\n\u001b[1;32m    886\u001b[0m         all_candidate_params, n_splits, all_out, all_more_results\n\u001b[1;32m    887\u001b[0m     )\n\u001b[1;32m    889\u001b[0m     \u001b[38;5;28;01mreturn\u001b[39;00m results\n\u001b[0;32m--> 891\u001b[0m \u001b[38;5;28;43mself\u001b[39;49m\u001b[38;5;241;43m.\u001b[39;49m\u001b[43m_run_search\u001b[49m\u001b[43m(\u001b[49m\u001b[43mevaluate_candidates\u001b[49m\u001b[43m)\u001b[49m\n\u001b[1;32m    893\u001b[0m \u001b[38;5;66;03m# multimetric is determined here because in the case of a callable\u001b[39;00m\n\u001b[1;32m    894\u001b[0m \u001b[38;5;66;03m# self.scoring the return type is only known after calling\u001b[39;00m\n\u001b[1;32m    895\u001b[0m first_test_score \u001b[38;5;241m=\u001b[39m all_out[\u001b[38;5;241m0\u001b[39m][\u001b[38;5;124m\"\u001b[39m\u001b[38;5;124mtest_scores\u001b[39m\u001b[38;5;124m\"\u001b[39m]\n",
      "File \u001b[0;32m~/miniconda3/lib/python3.9/site-packages/sklearn/model_selection/_search.py:1766\u001b[0m, in \u001b[0;36mRandomizedSearchCV._run_search\u001b[0;34m(self, evaluate_candidates)\u001b[0m\n\u001b[1;32m   1764\u001b[0m \u001b[38;5;28;01mdef\u001b[39;00m \u001b[38;5;21m_run_search\u001b[39m(\u001b[38;5;28mself\u001b[39m, evaluate_candidates):\n\u001b[1;32m   1765\u001b[0m     \u001b[38;5;124;03m\"\"\"Search n_iter candidates from param_distributions\"\"\"\u001b[39;00m\n\u001b[0;32m-> 1766\u001b[0m     \u001b[43mevaluate_candidates\u001b[49m\u001b[43m(\u001b[49m\n\u001b[1;32m   1767\u001b[0m \u001b[43m        \u001b[49m\u001b[43mParameterSampler\u001b[49m\u001b[43m(\u001b[49m\n\u001b[1;32m   1768\u001b[0m \u001b[43m            \u001b[49m\u001b[38;5;28;43mself\u001b[39;49m\u001b[38;5;241;43m.\u001b[39;49m\u001b[43mparam_distributions\u001b[49m\u001b[43m,\u001b[49m\u001b[43m \u001b[49m\u001b[38;5;28;43mself\u001b[39;49m\u001b[38;5;241;43m.\u001b[39;49m\u001b[43mn_iter\u001b[49m\u001b[43m,\u001b[49m\u001b[43m \u001b[49m\u001b[43mrandom_state\u001b[49m\u001b[38;5;241;43m=\u001b[39;49m\u001b[38;5;28;43mself\u001b[39;49m\u001b[38;5;241;43m.\u001b[39;49m\u001b[43mrandom_state\u001b[49m\n\u001b[1;32m   1769\u001b[0m \u001b[43m        \u001b[49m\u001b[43m)\u001b[49m\n\u001b[1;32m   1770\u001b[0m \u001b[43m    \u001b[49m\u001b[43m)\u001b[49m\n",
      "File \u001b[0;32m~/miniconda3/lib/python3.9/site-packages/sklearn/model_selection/_search.py:838\u001b[0m, in \u001b[0;36mBaseSearchCV.fit.<locals>.evaluate_candidates\u001b[0;34m(candidate_params, cv, more_results)\u001b[0m\n\u001b[1;32m    830\u001b[0m \u001b[38;5;28;01mif\u001b[39;00m \u001b[38;5;28mself\u001b[39m\u001b[38;5;241m.\u001b[39mverbose \u001b[38;5;241m>\u001b[39m \u001b[38;5;241m0\u001b[39m:\n\u001b[1;32m    831\u001b[0m     \u001b[38;5;28mprint\u001b[39m(\n\u001b[1;32m    832\u001b[0m         \u001b[38;5;124m\"\u001b[39m\u001b[38;5;124mFitting \u001b[39m\u001b[38;5;132;01m{0}\u001b[39;00m\u001b[38;5;124m folds for each of \u001b[39m\u001b[38;5;132;01m{1}\u001b[39;00m\u001b[38;5;124m candidates,\u001b[39m\u001b[38;5;124m\"\u001b[39m\n\u001b[1;32m    833\u001b[0m         \u001b[38;5;124m\"\u001b[39m\u001b[38;5;124m totalling \u001b[39m\u001b[38;5;132;01m{2}\u001b[39;00m\u001b[38;5;124m fits\u001b[39m\u001b[38;5;124m\"\u001b[39m\u001b[38;5;241m.\u001b[39mformat(\n\u001b[1;32m    834\u001b[0m             n_splits, n_candidates, n_candidates \u001b[38;5;241m*\u001b[39m n_splits\n\u001b[1;32m    835\u001b[0m         )\n\u001b[1;32m    836\u001b[0m     )\n\u001b[0;32m--> 838\u001b[0m out \u001b[38;5;241m=\u001b[39m \u001b[43mparallel\u001b[49m\u001b[43m(\u001b[49m\n\u001b[1;32m    839\u001b[0m \u001b[43m    \u001b[49m\u001b[43mdelayed\u001b[49m\u001b[43m(\u001b[49m\u001b[43m_fit_and_score\u001b[49m\u001b[43m)\u001b[49m\u001b[43m(\u001b[49m\n\u001b[1;32m    840\u001b[0m \u001b[43m        \u001b[49m\u001b[43mclone\u001b[49m\u001b[43m(\u001b[49m\u001b[43mbase_estimator\u001b[49m\u001b[43m)\u001b[49m\u001b[43m,\u001b[49m\n\u001b[1;32m    841\u001b[0m \u001b[43m        \u001b[49m\u001b[43mX\u001b[49m\u001b[43m,\u001b[49m\n\u001b[1;32m    842\u001b[0m \u001b[43m        \u001b[49m\u001b[43my\u001b[49m\u001b[43m,\u001b[49m\n\u001b[1;32m    843\u001b[0m \u001b[43m        \u001b[49m\u001b[43mtrain\u001b[49m\u001b[38;5;241;43m=\u001b[39;49m\u001b[43mtrain\u001b[49m\u001b[43m,\u001b[49m\n\u001b[1;32m    844\u001b[0m \u001b[43m        \u001b[49m\u001b[43mtest\u001b[49m\u001b[38;5;241;43m=\u001b[39;49m\u001b[43mtest\u001b[49m\u001b[43m,\u001b[49m\n\u001b[1;32m    845\u001b[0m \u001b[43m        \u001b[49m\u001b[43mparameters\u001b[49m\u001b[38;5;241;43m=\u001b[39;49m\u001b[43mparameters\u001b[49m\u001b[43m,\u001b[49m\n\u001b[1;32m    846\u001b[0m \u001b[43m        \u001b[49m\u001b[43msplit_progress\u001b[49m\u001b[38;5;241;43m=\u001b[39;49m\u001b[43m(\u001b[49m\u001b[43msplit_idx\u001b[49m\u001b[43m,\u001b[49m\u001b[43m \u001b[49m\u001b[43mn_splits\u001b[49m\u001b[43m)\u001b[49m\u001b[43m,\u001b[49m\n\u001b[1;32m    847\u001b[0m \u001b[43m        \u001b[49m\u001b[43mcandidate_progress\u001b[49m\u001b[38;5;241;43m=\u001b[39;49m\u001b[43m(\u001b[49m\u001b[43mcand_idx\u001b[49m\u001b[43m,\u001b[49m\u001b[43m \u001b[49m\u001b[43mn_candidates\u001b[49m\u001b[43m)\u001b[49m\u001b[43m,\u001b[49m\n\u001b[1;32m    848\u001b[0m \u001b[43m        \u001b[49m\u001b[38;5;241;43m*\u001b[39;49m\u001b[38;5;241;43m*\u001b[39;49m\u001b[43mfit_and_score_kwargs\u001b[49m\u001b[43m,\u001b[49m\n\u001b[1;32m    849\u001b[0m \u001b[43m    \u001b[49m\u001b[43m)\u001b[49m\n\u001b[1;32m    850\u001b[0m \u001b[43m    \u001b[49m\u001b[38;5;28;43;01mfor\u001b[39;49;00m\u001b[43m \u001b[49m\u001b[43m(\u001b[49m\u001b[43mcand_idx\u001b[49m\u001b[43m,\u001b[49m\u001b[43m \u001b[49m\u001b[43mparameters\u001b[49m\u001b[43m)\u001b[49m\u001b[43m,\u001b[49m\u001b[43m \u001b[49m\u001b[43m(\u001b[49m\u001b[43msplit_idx\u001b[49m\u001b[43m,\u001b[49m\u001b[43m \u001b[49m\u001b[43m(\u001b[49m\u001b[43mtrain\u001b[49m\u001b[43m,\u001b[49m\u001b[43m \u001b[49m\u001b[43mtest\u001b[49m\u001b[43m)\u001b[49m\u001b[43m)\u001b[49m\u001b[43m \u001b[49m\u001b[38;5;129;43;01min\u001b[39;49;00m\u001b[43m \u001b[49m\u001b[43mproduct\u001b[49m\u001b[43m(\u001b[49m\n\u001b[1;32m    851\u001b[0m \u001b[43m        \u001b[49m\u001b[38;5;28;43menumerate\u001b[39;49m\u001b[43m(\u001b[49m\u001b[43mcandidate_params\u001b[49m\u001b[43m)\u001b[49m\u001b[43m,\u001b[49m\u001b[43m \u001b[49m\u001b[38;5;28;43menumerate\u001b[39;49m\u001b[43m(\u001b[49m\u001b[43mcv\u001b[49m\u001b[38;5;241;43m.\u001b[39;49m\u001b[43msplit\u001b[49m\u001b[43m(\u001b[49m\u001b[43mX\u001b[49m\u001b[43m,\u001b[49m\u001b[43m \u001b[49m\u001b[43my\u001b[49m\u001b[43m,\u001b[49m\u001b[43m \u001b[49m\u001b[43mgroups\u001b[49m\u001b[43m)\u001b[49m\u001b[43m)\u001b[49m\n\u001b[1;32m    852\u001b[0m \u001b[43m    \u001b[49m\u001b[43m)\u001b[49m\n\u001b[1;32m    853\u001b[0m \u001b[43m\u001b[49m\u001b[43m)\u001b[49m\n\u001b[1;32m    855\u001b[0m \u001b[38;5;28;01mif\u001b[39;00m \u001b[38;5;28mlen\u001b[39m(out) \u001b[38;5;241m<\u001b[39m \u001b[38;5;241m1\u001b[39m:\n\u001b[1;32m    856\u001b[0m     \u001b[38;5;28;01mraise\u001b[39;00m \u001b[38;5;167;01mValueError\u001b[39;00m(\n\u001b[1;32m    857\u001b[0m         \u001b[38;5;124m\"\u001b[39m\u001b[38;5;124mNo fits were performed. \u001b[39m\u001b[38;5;124m\"\u001b[39m\n\u001b[1;32m    858\u001b[0m         \u001b[38;5;124m\"\u001b[39m\u001b[38;5;124mWas the CV iterator empty? \u001b[39m\u001b[38;5;124m\"\u001b[39m\n\u001b[1;32m    859\u001b[0m         \u001b[38;5;124m\"\u001b[39m\u001b[38;5;124mWere there no candidates?\u001b[39m\u001b[38;5;124m\"\u001b[39m\n\u001b[1;32m    860\u001b[0m     )\n",
      "File \u001b[0;32m~/miniconda3/lib/python3.9/site-packages/joblib/parallel.py:1056\u001b[0m, in \u001b[0;36mParallel.__call__\u001b[0;34m(self, iterable)\u001b[0m\n\u001b[1;32m   1053\u001b[0m     \u001b[38;5;28mself\u001b[39m\u001b[38;5;241m.\u001b[39m_iterating \u001b[38;5;241m=\u001b[39m \u001b[38;5;28;01mFalse\u001b[39;00m\n\u001b[1;32m   1055\u001b[0m \u001b[38;5;28;01mwith\u001b[39;00m \u001b[38;5;28mself\u001b[39m\u001b[38;5;241m.\u001b[39m_backend\u001b[38;5;241m.\u001b[39mretrieval_context():\n\u001b[0;32m-> 1056\u001b[0m     \u001b[38;5;28;43mself\u001b[39;49m\u001b[38;5;241;43m.\u001b[39;49m\u001b[43mretrieve\u001b[49m\u001b[43m(\u001b[49m\u001b[43m)\u001b[49m\n\u001b[1;32m   1057\u001b[0m \u001b[38;5;66;03m# Make sure that we get a last message telling us we are done\u001b[39;00m\n\u001b[1;32m   1058\u001b[0m elapsed_time \u001b[38;5;241m=\u001b[39m time\u001b[38;5;241m.\u001b[39mtime() \u001b[38;5;241m-\u001b[39m \u001b[38;5;28mself\u001b[39m\u001b[38;5;241m.\u001b[39m_start_time\n",
      "File \u001b[0;32m~/miniconda3/lib/python3.9/site-packages/joblib/parallel.py:935\u001b[0m, in \u001b[0;36mParallel.retrieve\u001b[0;34m(self)\u001b[0m\n\u001b[1;32m    933\u001b[0m \u001b[38;5;28;01mtry\u001b[39;00m:\n\u001b[1;32m    934\u001b[0m     \u001b[38;5;28;01mif\u001b[39;00m \u001b[38;5;28mgetattr\u001b[39m(\u001b[38;5;28mself\u001b[39m\u001b[38;5;241m.\u001b[39m_backend, \u001b[38;5;124m'\u001b[39m\u001b[38;5;124msupports_timeout\u001b[39m\u001b[38;5;124m'\u001b[39m, \u001b[38;5;28;01mFalse\u001b[39;00m):\n\u001b[0;32m--> 935\u001b[0m         \u001b[38;5;28mself\u001b[39m\u001b[38;5;241m.\u001b[39m_output\u001b[38;5;241m.\u001b[39mextend(\u001b[43mjob\u001b[49m\u001b[38;5;241;43m.\u001b[39;49m\u001b[43mget\u001b[49m\u001b[43m(\u001b[49m\u001b[43mtimeout\u001b[49m\u001b[38;5;241;43m=\u001b[39;49m\u001b[38;5;28;43mself\u001b[39;49m\u001b[38;5;241;43m.\u001b[39;49m\u001b[43mtimeout\u001b[49m\u001b[43m)\u001b[49m)\n\u001b[1;32m    936\u001b[0m     \u001b[38;5;28;01melse\u001b[39;00m:\n\u001b[1;32m    937\u001b[0m         \u001b[38;5;28mself\u001b[39m\u001b[38;5;241m.\u001b[39m_output\u001b[38;5;241m.\u001b[39mextend(job\u001b[38;5;241m.\u001b[39mget())\n",
      "File \u001b[0;32m~/miniconda3/lib/python3.9/site-packages/joblib/_parallel_backends.py:542\u001b[0m, in \u001b[0;36mLokyBackend.wrap_future_result\u001b[0;34m(future, timeout)\u001b[0m\n\u001b[1;32m    539\u001b[0m \u001b[38;5;124;03m\"\"\"Wrapper for Future.result to implement the same behaviour as\u001b[39;00m\n\u001b[1;32m    540\u001b[0m \u001b[38;5;124;03mAsyncResults.get from multiprocessing.\"\"\"\u001b[39;00m\n\u001b[1;32m    541\u001b[0m \u001b[38;5;28;01mtry\u001b[39;00m:\n\u001b[0;32m--> 542\u001b[0m     \u001b[38;5;28;01mreturn\u001b[39;00m \u001b[43mfuture\u001b[49m\u001b[38;5;241;43m.\u001b[39;49m\u001b[43mresult\u001b[49m\u001b[43m(\u001b[49m\u001b[43mtimeout\u001b[49m\u001b[38;5;241;43m=\u001b[39;49m\u001b[43mtimeout\u001b[49m\u001b[43m)\u001b[49m\n\u001b[1;32m    543\u001b[0m \u001b[38;5;28;01mexcept\u001b[39;00m CfTimeoutError \u001b[38;5;28;01mas\u001b[39;00m e:\n\u001b[1;32m    544\u001b[0m     \u001b[38;5;28;01mraise\u001b[39;00m \u001b[38;5;167;01mTimeoutError\u001b[39;00m \u001b[38;5;28;01mfrom\u001b[39;00m \u001b[38;5;21;01me\u001b[39;00m\n",
      "File \u001b[0;32m~/miniconda3/lib/python3.9/concurrent/futures/_base.py:441\u001b[0m, in \u001b[0;36mFuture.result\u001b[0;34m(self, timeout)\u001b[0m\n\u001b[1;32m    438\u001b[0m \u001b[38;5;28;01melif\u001b[39;00m \u001b[38;5;28mself\u001b[39m\u001b[38;5;241m.\u001b[39m_state \u001b[38;5;241m==\u001b[39m FINISHED:\n\u001b[1;32m    439\u001b[0m     \u001b[38;5;28;01mreturn\u001b[39;00m \u001b[38;5;28mself\u001b[39m\u001b[38;5;241m.\u001b[39m__get_result()\n\u001b[0;32m--> 441\u001b[0m \u001b[38;5;28;43mself\u001b[39;49m\u001b[38;5;241;43m.\u001b[39;49m\u001b[43m_condition\u001b[49m\u001b[38;5;241;43m.\u001b[39;49m\u001b[43mwait\u001b[49m\u001b[43m(\u001b[49m\u001b[43mtimeout\u001b[49m\u001b[43m)\u001b[49m\n\u001b[1;32m    443\u001b[0m \u001b[38;5;28;01mif\u001b[39;00m \u001b[38;5;28mself\u001b[39m\u001b[38;5;241m.\u001b[39m_state \u001b[38;5;129;01min\u001b[39;00m [CANCELLED, CANCELLED_AND_NOTIFIED]:\n\u001b[1;32m    444\u001b[0m     \u001b[38;5;28;01mraise\u001b[39;00m CancelledError()\n",
      "File \u001b[0;32m~/miniconda3/lib/python3.9/threading.py:312\u001b[0m, in \u001b[0;36mCondition.wait\u001b[0;34m(self, timeout)\u001b[0m\n\u001b[1;32m    310\u001b[0m \u001b[38;5;28;01mtry\u001b[39;00m:    \u001b[38;5;66;03m# restore state no matter what (e.g., KeyboardInterrupt)\u001b[39;00m\n\u001b[1;32m    311\u001b[0m     \u001b[38;5;28;01mif\u001b[39;00m timeout \u001b[38;5;129;01mis\u001b[39;00m \u001b[38;5;28;01mNone\u001b[39;00m:\n\u001b[0;32m--> 312\u001b[0m         \u001b[43mwaiter\u001b[49m\u001b[38;5;241;43m.\u001b[39;49m\u001b[43macquire\u001b[49m\u001b[43m(\u001b[49m\u001b[43m)\u001b[49m\n\u001b[1;32m    313\u001b[0m         gotit \u001b[38;5;241m=\u001b[39m \u001b[38;5;28;01mTrue\u001b[39;00m\n\u001b[1;32m    314\u001b[0m     \u001b[38;5;28;01melse\u001b[39;00m:\n",
      "\u001b[0;31mKeyboardInterrupt\u001b[0m: "
     ]
    }
   ],
   "source": [
    "# Use the random grid to search for best hyperparameters\n",
    "# First create the base model to tune\n",
    "rf = RandomForestRegressor()\n",
    "\n",
    "# Random search of parameters, using 3 fold cross validation, \n",
    "# search across 100 different combinations, and use all available cores\n",
    "rf_random = RandomizedSearchCV(estimator=rf, param_distributions=random_grid, \n",
    "                               n_iter = 20, cv = 3, verbose=3, \n",
    "                               random_state=42, n_jobs = -1)\n",
    "\n",
    "# Fit the random search model\n",
    "with sys_pipes():\n",
    "    rf_random.fit(X_train, Y_train)"
   ]
  },
  {
   "cell_type": "code",
   "execution_count": null,
   "metadata": {},
   "outputs": [],
   "source": [
    "def evaluate_accuracy(model, test_features, test_labels):\n",
    "    predictions = model.predict(test_features)\n",
    "    errors = abs(predictions - test_labels)\n",
    "    mape = 100 * np.mean(errors / test_labels)\n",
    "    accuracy = 100 - mape\n",
    "    print('Model Performance')\n",
    "    print('Average Error: {:0.4f} degrees.'.format(np.mean(errors)))\n",
    "    print('Accuracy = {:0.2f}%.'.format(accuracy))\n",
    "    \n",
    "    return accuracy"
   ]
  },
  {
   "cell_type": "code",
   "execution_count": null,
   "metadata": {},
   "outputs": [],
   "source": [
    "best_random = rf_random.best_estimator_\n",
    "random_accuracy = evaluate_accuracy(best_random, X_test, Y_test)"
   ]
  },
  {
   "cell_type": "code",
   "execution_count": null,
   "metadata": {},
   "outputs": [],
   "source": [
    "best_random"
   ]
  },
  {
   "cell_type": "code",
   "execution_count": null,
   "metadata": {},
   "outputs": [],
   "source": [
    "# Create the parameter grid based on the results of random search \n",
    "param_grid = {\n",
    "    'bootstrap': [True],\n",
    "    'max_depth': [80, 90, 100, 110],\n",
    "    'max_features': [2, 3],\n",
    "    'min_samples_leaf': [3, 4, 5],\n",
    "    'min_samples_split': [8, 10, 12],\n",
    "    'n_estimators': [100, 200, 300, 1000]\n",
    "}\n",
    "# Create a based model\n",
    "rf = RandomForestRegressor()\n",
    "# Instantiate the grid search model\n",
    "grid_search = GridSearchCV(estimator = rf, param_grid = param_grid, \n",
    "                           cv = 3, n_jobs = -1, verbose = 2)"
   ]
  },
  {
   "cell_type": "markdown",
   "metadata": {},
   "source": [
    "### Using Tensorflow"
   ]
  },
  {
   "cell_type": "code",
   "execution_count": 3,
   "metadata": {},
   "outputs": [
    {
     "name": "stderr",
     "output_type": "stream",
     "text": [
      "2022-05-30 13:38:31.107482: I tensorflow/core/util/util.cc:169] oneDNN custom operations are on. You may see slightly different numerical results due to floating-point round-off errors from different computation orders. To turn them off, set the environment variable `TF_ENABLE_ONEDNN_OPTS=0`.\n",
      "2022-05-30 13:38:31.113666: W tensorflow/stream_executor/platform/default/dso_loader.cc:64] Could not load dynamic library 'libcudart.so.11.0'; dlerror: libcudart.so.11.0: cannot open shared object file: No such file or directory\n",
      "2022-05-30 13:38:31.113683: I tensorflow/stream_executor/cuda/cudart_stub.cc:29] Ignore above cudart dlerror if you do not have a GPU set up on your machine.\n"
     ]
    }
   ],
   "source": [
    "import tensorflow as tf\n",
    "import tensorflow_decision_forests as tfdf"
   ]
  },
  {
   "cell_type": "code",
   "execution_count": 4,
   "metadata": {},
   "outputs": [
    {
     "data": {
      "text/plain": [
       "\"### Normalization over the whole dataset\\n\\nfeatures_all = BHBH[['Mass_0', 'Mass_1', 'Semimajor', 'Eccentricity', 'Z', 'alpha', 'Delay_Time']]\\n\\nmin_value = np.min (np.min (features_all, axis=0))\\nmax_value = np.max (np.max (features_all, axis=0))\\navg_value = np.mean(np.mean(features_all, axis=0))\\nstd_value = np.std (np.std (features_all, axis=0))\\n\\nmethod = 'norm'  #norm, std, log\\n\\ndef normalizer(x):\\n    if method == 'norm':\\n        return (x-min_value)/(max_value-min_value)\\n    elif method =='std':\\n        return (x- avg_value)/std_value\\n    elif method =='log':\\n        return np.log10(x)\\n\\nfeatures_all = features_all.apply(normalizer)\""
      ]
     },
     "execution_count": 4,
     "metadata": {},
     "output_type": "execute_result"
    }
   ],
   "source": [
    "\"\"\"### Normalization over the whole dataset\n",
    "\n",
    "features_all = BHBH[['Mass_0', 'Mass_1', 'Semimajor', 'Eccentricity', 'Z', 'alpha', 'Delay_Time']]\n",
    "\n",
    "min_value = np.min (np.min (features_all, axis=0))\n",
    "max_value = np.max (np.max (features_all, axis=0))\n",
    "avg_value = np.mean(np.mean(features_all, axis=0))\n",
    "std_value = np.std (np.std (features_all, axis=0))\n",
    "\n",
    "method = 'norm'  #norm, std, log\n",
    "\n",
    "def normalizer(x):\n",
    "    if method == 'norm':\n",
    "        return (x-min_value)/(max_value-min_value)\n",
    "    elif method =='std':\n",
    "        return (x- avg_value)/std_value\n",
    "    elif method =='log':\n",
    "        return np.log10(x)\n",
    "\n",
    "features_all = features_all.apply(normalizer)\"\"\""
   ]
  },
  {
   "cell_type": "markdown",
   "metadata": {},
   "source": [
    "### Normalization of the data"
   ]
  },
  {
   "cell_type": "code",
   "execution_count": 8,
   "metadata": {},
   "outputs": [],
   "source": [
    "### Normalization of each column\n",
    "features = BHBH[['Mass_0', 'Mass_1', 'Semimajor', 'Eccentricity', 'Z', 'alpha', 'Delay_Time']]\n",
    "\n",
    "# min-max normalization\n",
    "features = (features-features.min())/(features.max()-features.min())\n",
    "\n",
    "# mean normalization\n",
    "#features=(features-features.mean())/features.std()"
   ]
  },
  {
   "cell_type": "markdown",
   "metadata": {},
   "source": [
    "### Split in training and validation"
   ]
  },
  {
   "cell_type": "code",
   "execution_count": 9,
   "metadata": {},
   "outputs": [],
   "source": [
    "# Split the dataset into a training and a testing dataset.\n",
    "def split_dataset(dataset, test_ratio=0.30):\n",
    "  \"\"\"Splits a panda dataframe in two.\"\"\"\n",
    "  test_indices = np.random.rand(len(dataset)) < test_ratio\n",
    "  return dataset[~test_indices], dataset[test_indices]"
   ]
  },
  {
   "cell_type": "code",
   "execution_count": 10,
   "metadata": {},
   "outputs": [
    {
     "name": "stdout",
     "output_type": "stream",
     "text": [
      "1026974 examples in training, 1028066 examples for testing.\n"
     ]
    }
   ],
   "source": [
    "# Split the dataset into a training and testing dataset.\n",
    "train_ds_pd, test_ds_pd = split_dataset(dataset=features,\n",
    "                                        test_ratio=.5)\n",
    "print(\"{} examples in training, {} examples for testing.\".format(len(train_ds_pd), len(test_ds_pd)))"
   ]
  },
  {
   "cell_type": "code",
   "execution_count": 11,
   "metadata": {},
   "outputs": [],
   "source": [
    "X_train = train_ds_pd[['Mass_0', 'Mass_1', 'Semimajor', 'Eccentricity', 'Z', 'alpha']].to_numpy()\n",
    "Y_train = train_ds_pd.Delay_Time.to_numpy()\n",
    "\n",
    "X_test  = test_ds_pd[['Mass_0', 'Mass_1', 'Semimajor', 'Eccentricity', 'Z', 'alpha']].to_numpy()\n",
    "Y_test  = test_ds_pd.Delay_Time.to_numpy()"
   ]
  },
  {
   "cell_type": "markdown",
   "metadata": {},
   "source": [
    "### Training of the model"
   ]
  },
  {
   "cell_type": "code",
   "execution_count": 12,
   "metadata": {},
   "outputs": [
    {
     "name": "stdout",
     "output_type": "stream",
     "text": [
      "Use /tmp/tmpvilw39x3 as temporary training directory\n"
     ]
    },
    {
     "name": "stderr",
     "output_type": "stream",
     "text": [
      "2022-05-30 13:51:43.672715: W tensorflow/stream_executor/platform/default/dso_loader.cc:64] Could not load dynamic library 'libcuda.so.1'; dlerror: libcuda.so.1: cannot open shared object file: No such file or directory\n",
      "2022-05-30 13:51:43.672779: W tensorflow/stream_executor/cuda/cuda_driver.cc:269] failed call to cuInit: UNKNOWN ERROR (303)\n",
      "2022-05-30 13:51:43.672817: I tensorflow/stream_executor/cuda/cuda_diagnostics.cc:156] kernel driver does not appear to be running on this host (lcpb-aidinattar): /proc/driver/nvidia/version does not exist\n",
      "2022-05-30 13:51:43.673215: I tensorflow/core/platform/cpu_feature_guard.cc:193] This TensorFlow binary is optimized with oneAPI Deep Neural Network Library (oneDNN) to use the following CPU instructions in performance-critical operations:  AVX2 AVX512F AVX512_VNNI FMA\n",
      "To enable them in other operations, rebuild TensorFlow with the appropriate compiler flags.\n"
     ]
    },
    {
     "name": "stdout",
     "output_type": "stream",
     "text": [
      "Reading training dataset...\n",
      "Training dataset read in 0:00:05.051459. Found 1026974 examples.\n",
      "Training model...\n"
     ]
    },
    {
     "name": "stderr",
     "output_type": "stream",
     "text": [
      "2022-05-30 13:51:48.929662: W tensorflow/core/framework/op_kernel.cc:1745] OP_REQUIRES failed at kernel.cc:952 : UNKNOWN: TensorFlow: INVALID_ARGUMENT: The number of threads should be >= 0\n"
     ]
    },
    {
     "ename": "UnknownError",
     "evalue": "TensorFlow: INVALID_ARGUMENT: The number of threads should be >= 0 [Op:SimpleMLModelTrainer]",
     "output_type": "error",
     "traceback": [
      "\u001b[0;31m---------------------------------------------------------------------------\u001b[0m",
      "\u001b[0;31mUnknownError\u001b[0m                              Traceback (most recent call last)",
      "Input \u001b[0;32mIn [12]\u001b[0m, in \u001b[0;36m<cell line: 7>\u001b[0;34m()\u001b[0m\n\u001b[1;32m      6\u001b[0m \u001b[38;5;66;03m# Train the model.\u001b[39;00m\n\u001b[1;32m      7\u001b[0m \u001b[38;5;28;01mwith\u001b[39;00m sys_pipes():\n\u001b[1;32m      8\u001b[0m     \u001b[38;5;66;03m#model.fit(x=train_ds)\u001b[39;00m\n\u001b[0;32m----> 9\u001b[0m     \u001b[43mmodel\u001b[49m\u001b[38;5;241;43m.\u001b[39;49m\u001b[43mfit\u001b[49m\u001b[43m(\u001b[49m\u001b[43mX_train\u001b[49m\u001b[43m,\u001b[49m\u001b[43m \u001b[49m\u001b[43mY_train\u001b[49m\u001b[43m)\u001b[49m\n",
      "File \u001b[0;32m~/miniconda3/lib/python3.9/site-packages/tensorflow_decision_forests/keras/core.py:1499\u001b[0m, in \u001b[0;36mCoreModel.fit\u001b[0;34m(self, x, y, callbacks, verbose, validation_steps, validation_data, sample_weight, steps_per_epoch, class_weight, **kwargs)\u001b[0m\n\u001b[1;32m   1496\u001b[0m \u001b[38;5;66;03m# Reset the training status.\u001b[39;00m\n\u001b[1;32m   1497\u001b[0m \u001b[38;5;28mself\u001b[39m\u001b[38;5;241m.\u001b[39m_is_trained\u001b[38;5;241m.\u001b[39massign(\u001b[38;5;28;01mFalse\u001b[39;00m)\n\u001b[0;32m-> 1499\u001b[0m \u001b[38;5;28;01mreturn\u001b[39;00m \u001b[38;5;28;43mself\u001b[39;49m\u001b[38;5;241;43m.\u001b[39;49m\u001b[43m_fit_implementation\u001b[49m\u001b[43m(\u001b[49m\n\u001b[1;32m   1500\u001b[0m \u001b[43m    \u001b[49m\u001b[43mx\u001b[49m\u001b[38;5;241;43m=\u001b[39;49m\u001b[43mx\u001b[49m\u001b[43m,\u001b[49m\n\u001b[1;32m   1501\u001b[0m \u001b[43m    \u001b[49m\u001b[43my\u001b[49m\u001b[38;5;241;43m=\u001b[39;49m\u001b[43my\u001b[49m\u001b[43m,\u001b[49m\n\u001b[1;32m   1502\u001b[0m \u001b[43m    \u001b[49m\u001b[43mcallbacks\u001b[49m\u001b[38;5;241;43m=\u001b[39;49m\u001b[43mcallbacks\u001b[49m\u001b[43m,\u001b[49m\n\u001b[1;32m   1503\u001b[0m \u001b[43m    \u001b[49m\u001b[43mverbose\u001b[49m\u001b[38;5;241;43m=\u001b[39;49m\u001b[43mverbose\u001b[49m\u001b[43m,\u001b[49m\n\u001b[1;32m   1504\u001b[0m \u001b[43m    \u001b[49m\u001b[43mvalidation_steps\u001b[49m\u001b[38;5;241;43m=\u001b[39;49m\u001b[43mvalidation_steps\u001b[49m\u001b[43m,\u001b[49m\n\u001b[1;32m   1505\u001b[0m \u001b[43m    \u001b[49m\u001b[43mvalidation_data\u001b[49m\u001b[38;5;241;43m=\u001b[39;49m\u001b[43mvalidation_data\u001b[49m\u001b[43m,\u001b[49m\n\u001b[1;32m   1506\u001b[0m \u001b[43m    \u001b[49m\u001b[43msample_weight\u001b[49m\u001b[38;5;241;43m=\u001b[39;49m\u001b[43msample_weight\u001b[49m\u001b[43m,\u001b[49m\n\u001b[1;32m   1507\u001b[0m \u001b[43m    \u001b[49m\u001b[43msteps_per_epoch\u001b[49m\u001b[38;5;241;43m=\u001b[39;49m\u001b[43msteps_per_epoch\u001b[49m\u001b[43m,\u001b[49m\n\u001b[1;32m   1508\u001b[0m \u001b[43m    \u001b[49m\u001b[43mclass_weight\u001b[49m\u001b[38;5;241;43m=\u001b[39;49m\u001b[43mclass_weight\u001b[49m\u001b[43m)\u001b[49m\n",
      "File \u001b[0;32m~/miniconda3/lib/python3.9/site-packages/tensorflow_decision_forests/keras/core.py:1823\u001b[0m, in \u001b[0;36mCoreModel._fit_implementation\u001b[0;34m(self, x, y, verbose, callbacks, sample_weight, validation_data, validation_steps, steps_per_epoch, class_weight)\u001b[0m\n\u001b[1;32m   1820\u001b[0m \u001b[38;5;28;01mif\u001b[39;00m \u001b[38;5;28mself\u001b[39m\u001b[38;5;241m.\u001b[39m_verbose \u001b[38;5;241m>\u001b[39m\u001b[38;5;241m=\u001b[39m \u001b[38;5;241m1\u001b[39m:\n\u001b[1;32m   1821\u001b[0m   tf_logging\u001b[38;5;241m.\u001b[39minfo(\u001b[38;5;124m\"\u001b[39m\u001b[38;5;124mTraining model...\u001b[39m\u001b[38;5;124m\"\u001b[39m)\n\u001b[0;32m-> 1823\u001b[0m \u001b[38;5;28;43mself\u001b[39;49m\u001b[38;5;241;43m.\u001b[39;49m\u001b[43m_train_model\u001b[49m\u001b[43m(\u001b[49m\u001b[43mcluster_coordinator\u001b[49m\u001b[38;5;241;43m=\u001b[39;49m\u001b[43mcoordinator\u001b[49m\u001b[43m)\u001b[49m\n\u001b[1;32m   1825\u001b[0m \u001b[38;5;28;01mif\u001b[39;00m \u001b[38;5;28mself\u001b[39m\u001b[38;5;241m.\u001b[39m_verbose \u001b[38;5;241m>\u001b[39m\u001b[38;5;241m=\u001b[39m \u001b[38;5;241m1\u001b[39m:\n\u001b[1;32m   1826\u001b[0m   tf_logging\u001b[38;5;241m.\u001b[39minfo(\u001b[38;5;124m\"\u001b[39m\u001b[38;5;124mModel trained in \u001b[39m\u001b[38;5;132;01m%s\u001b[39;00m\u001b[38;5;124m\"\u001b[39m,\n\u001b[1;32m   1827\u001b[0m                   datetime\u001b[38;5;241m.\u001b[39mnow() \u001b[38;5;241m-\u001b[39m time_begin_training_model)\n",
      "File \u001b[0;32m~/miniconda3/lib/python3.9/site-packages/tensorflow_decision_forests/keras/core.py:2285\u001b[0m, in \u001b[0;36mCoreModel._train_model\u001b[0;34m(self, cluster_coordinator)\u001b[0m\n\u001b[1;32m   2277\u001b[0m \u001b[38;5;28;01mwith\u001b[39;00m tf_logging\u001b[38;5;241m.\u001b[39mcapture_cpp_log_context(verbose\u001b[38;5;241m=\u001b[39m\u001b[38;5;28mself\u001b[39m\u001b[38;5;241m.\u001b[39m_verbose \u001b[38;5;241m>\u001b[39m\u001b[38;5;241m=\u001b[39m \u001b[38;5;241m2\u001b[39m):\n\u001b[1;32m   2279\u001b[0m   \u001b[38;5;28;01mif\u001b[39;00m distribution_config \u001b[38;5;129;01mis\u001b[39;00m \u001b[38;5;28;01mNone\u001b[39;00m:\n\u001b[1;32m   2280\u001b[0m     \u001b[38;5;66;03m# Train the model.\u001b[39;00m\n\u001b[1;32m   2281\u001b[0m     \u001b[38;5;66;03m# The model will be exported to \"train_model_path\".\u001b[39;00m\n\u001b[1;32m   2282\u001b[0m     \u001b[38;5;66;03m#\u001b[39;00m\n\u001b[1;32m   2283\u001b[0m     \u001b[38;5;66;03m# Note: It would be possible to train and load the model without saving\u001b[39;00m\n\u001b[1;32m   2284\u001b[0m     \u001b[38;5;66;03m# the model to file.\u001b[39;00m\n\u001b[0;32m-> 2285\u001b[0m     \u001b[43mtf_core\u001b[49m\u001b[38;5;241;43m.\u001b[39;49m\u001b[43mtrain\u001b[49m\u001b[43m(\u001b[49m\n\u001b[1;32m   2286\u001b[0m \u001b[43m        \u001b[49m\u001b[43minput_ids\u001b[49m\u001b[38;5;241;43m=\u001b[39;49m\u001b[38;5;28;43mself\u001b[39;49m\u001b[38;5;241;43m.\u001b[39;49m\u001b[43m_normalized_input_keys\u001b[49m\u001b[43m,\u001b[49m\n\u001b[1;32m   2287\u001b[0m \u001b[43m        \u001b[49m\u001b[43mlabel_id\u001b[49m\u001b[38;5;241;43m=\u001b[39;49m\u001b[43m_LABEL\u001b[49m\u001b[43m,\u001b[49m\n\u001b[1;32m   2288\u001b[0m \u001b[43m        \u001b[49m\u001b[43mweight_id\u001b[49m\u001b[38;5;241;43m=\u001b[39;49m\u001b[43m_WEIGHTS\u001b[49m\u001b[43m \u001b[49m\u001b[38;5;28;43;01mif\u001b[39;49;00m\u001b[43m \u001b[49m\u001b[38;5;28;43mself\u001b[39;49m\u001b[38;5;241;43m.\u001b[39;49m\u001b[43m_weighted_training\u001b[49m\u001b[43m \u001b[49m\u001b[38;5;28;43;01melse\u001b[39;49;00m\u001b[43m \u001b[49m\u001b[38;5;28;43;01mNone\u001b[39;49;00m\u001b[43m,\u001b[49m\n\u001b[1;32m   2289\u001b[0m \u001b[43m        \u001b[49m\u001b[43mmodel_id\u001b[49m\u001b[38;5;241;43m=\u001b[39;49m\u001b[38;5;28;43mself\u001b[39;49m\u001b[38;5;241;43m.\u001b[39;49m\u001b[43m_training_model_id\u001b[49m\u001b[43m,\u001b[49m\n\u001b[1;32m   2290\u001b[0m \u001b[43m        \u001b[49m\u001b[43mmodel_dir\u001b[49m\u001b[38;5;241;43m=\u001b[39;49m\u001b[43mtrain_model_path\u001b[49m\u001b[43m,\u001b[49m\n\u001b[1;32m   2291\u001b[0m \u001b[43m        \u001b[49m\u001b[43mlearner\u001b[49m\u001b[38;5;241;43m=\u001b[39;49m\u001b[38;5;124;43m\"\u001b[39;49m\u001b[38;5;124;43m\"\u001b[39;49m\u001b[43m,\u001b[49m\n\u001b[1;32m   2292\u001b[0m \u001b[43m        \u001b[49m\u001b[43mtask\u001b[49m\u001b[38;5;241;43m=\u001b[39;49m\u001b[38;5;28;43mself\u001b[39;49m\u001b[38;5;241;43m.\u001b[39;49m\u001b[43m_task\u001b[49m\u001b[43m,\u001b[49m\n\u001b[1;32m   2293\u001b[0m \u001b[43m        \u001b[49m\u001b[43mgeneric_hparms\u001b[49m\u001b[38;5;241;43m=\u001b[39;49m\u001b[43mtf_core\u001b[49m\u001b[38;5;241;43m.\u001b[39;49m\u001b[43mhparams_dict_to_generic_proto\u001b[49m\u001b[43m(\u001b[49m\n\u001b[1;32m   2294\u001b[0m \u001b[43m            \u001b[49m\u001b[38;5;28;43mself\u001b[39;49m\u001b[38;5;241;43m.\u001b[39;49m\u001b[43m_learner_params\u001b[49m\u001b[43m)\u001b[49m\u001b[43m,\u001b[49m\n\u001b[1;32m   2295\u001b[0m \u001b[43m        \u001b[49m\u001b[43mranking_group\u001b[49m\u001b[38;5;241;43m=\u001b[39;49m\u001b[43m_RANK_GROUP\u001b[49m\u001b[43m \u001b[49m\u001b[38;5;28;43;01mif\u001b[39;49;00m\u001b[43m \u001b[49m\u001b[38;5;28;43mself\u001b[39;49m\u001b[38;5;241;43m.\u001b[39;49m\u001b[43m_task\u001b[49m\u001b[43m \u001b[49m\u001b[38;5;241;43m==\u001b[39;49m\u001b[43m \u001b[49m\u001b[43mTask\u001b[49m\u001b[38;5;241;43m.\u001b[39;49m\u001b[43mRANKING\u001b[49m\u001b[43m \u001b[49m\u001b[38;5;28;43;01melse\u001b[39;49;00m\u001b[43m \u001b[49m\u001b[38;5;28;43;01mNone\u001b[39;49;00m\u001b[43m,\u001b[49m\n\u001b[1;32m   2296\u001b[0m \u001b[43m        \u001b[49m\u001b[43muplift_treatment\u001b[49m\u001b[38;5;241;43m=\u001b[39;49m\u001b[43m_UPLIFT_TREATMENT\u001b[49m\u001b[43m \u001b[49m\u001b[38;5;28;43;01mif\u001b[39;49;00m\u001b[43m \u001b[49m\u001b[38;5;28;43mself\u001b[39;49m\u001b[38;5;241;43m.\u001b[39;49m\u001b[43m_task\u001b[49m\n\u001b[1;32m   2297\u001b[0m \u001b[43m        \u001b[49m\u001b[38;5;129;43;01min\u001b[39;49;00m\u001b[43m \u001b[49m\u001b[43m[\u001b[49m\u001b[43mTask\u001b[49m\u001b[38;5;241;43m.\u001b[39;49m\u001b[43mCATEGORICAL_UPLIFT\u001b[49m\u001b[43m,\u001b[49m\u001b[43m \u001b[49m\u001b[43mTask\u001b[49m\u001b[38;5;241;43m.\u001b[39;49m\u001b[43mNUMERICAL_UPLIFT\u001b[49m\u001b[43m]\u001b[49m\u001b[43m \u001b[49m\u001b[38;5;28;43;01melse\u001b[39;49;00m\u001b[43m \u001b[49m\u001b[38;5;28;43;01mNone\u001b[39;49;00m\u001b[43m,\u001b[49m\n\u001b[1;32m   2298\u001b[0m \u001b[43m        \u001b[49m\u001b[43mkeep_model_in_resource\u001b[49m\u001b[38;5;241;43m=\u001b[39;49m\u001b[38;5;28;43;01mTrue\u001b[39;49;00m\u001b[43m,\u001b[49m\n\u001b[1;32m   2299\u001b[0m \u001b[43m        \u001b[49m\u001b[43mguide\u001b[49m\u001b[38;5;241;43m=\u001b[39;49m\u001b[43mguide\u001b[49m\u001b[43m,\u001b[49m\n\u001b[1;32m   2300\u001b[0m \u001b[43m        \u001b[49m\u001b[43mtraining_config\u001b[49m\u001b[38;5;241;43m=\u001b[39;49m\u001b[38;5;28;43mself\u001b[39;49m\u001b[38;5;241;43m.\u001b[39;49m\u001b[43m_advanced_arguments\u001b[49m\u001b[38;5;241;43m.\u001b[39;49m\u001b[43myggdrasil_training_config\u001b[49m\u001b[43m,\u001b[49m\n\u001b[1;32m   2301\u001b[0m \u001b[43m        \u001b[49m\u001b[43mdeployment_config\u001b[49m\u001b[38;5;241;43m=\u001b[39;49m\u001b[43mdeployment_config\u001b[49m\u001b[43m,\u001b[49m\n\u001b[1;32m   2302\u001b[0m \u001b[43m        \u001b[49m\u001b[43mtry_resume_training\u001b[49m\u001b[38;5;241;43m=\u001b[39;49m\u001b[38;5;28;43mself\u001b[39;49m\u001b[38;5;241;43m.\u001b[39;49m\u001b[43m_try_resume_training\u001b[49m\u001b[43m,\u001b[49m\n\u001b[1;32m   2303\u001b[0m \u001b[43m        \u001b[49m\u001b[43mhas_validation_dataset\u001b[49m\u001b[38;5;241;43m=\u001b[39;49m\u001b[38;5;28;43mself\u001b[39;49m\u001b[38;5;241;43m.\u001b[39;49m\u001b[43m_has_validation_dataset\u001b[49m\u001b[43m)\u001b[49m\n\u001b[1;32m   2305\u001b[0m   \u001b[38;5;28;01melse\u001b[39;00m:\n\u001b[1;32m   2306\u001b[0m     tf_core\u001b[38;5;241m.\u001b[39mfinalize_distributed_dataset_collection(\n\u001b[1;32m   2307\u001b[0m         cluster_coordinator\u001b[38;5;241m=\u001b[39mcluster_coordinator,\n\u001b[1;32m   2308\u001b[0m         input_ids\u001b[38;5;241m=\u001b[39m\u001b[38;5;28mself\u001b[39m\u001b[38;5;241m.\u001b[39m_normalized_input_keys \u001b[38;5;241m+\u001b[39m [_LABEL] \u001b[38;5;241m+\u001b[39m\n\u001b[1;32m   2309\u001b[0m         ([_WEIGHTS] \u001b[38;5;28;01mif\u001b[39;00m \u001b[38;5;28mself\u001b[39m\u001b[38;5;241m.\u001b[39m_weighted_training \u001b[38;5;28;01melse\u001b[39;00m []),\n\u001b[1;32m   2310\u001b[0m         model_id\u001b[38;5;241m=\u001b[39m\u001b[38;5;28mself\u001b[39m\u001b[38;5;241m.\u001b[39m_training_model_id,\n\u001b[1;32m   2311\u001b[0m         dataset_path\u001b[38;5;241m=\u001b[39m\u001b[38;5;28mself\u001b[39m\u001b[38;5;241m.\u001b[39m_distributed_partial_dataset_cache_path())\n",
      "File \u001b[0;32m~/miniconda3/lib/python3.9/site-packages/tensorflow_decision_forests/tensorflow/core.py:854\u001b[0m, in \u001b[0;36mtrain\u001b[0;34m(input_ids, label_id, weight_id, model_id, learner, task, generic_hparms, ranking_group, uplift_treatment, training_config, deployment_config, guide, model_dir, keep_model_in_resource, try_resume_training, has_validation_dataset)\u001b[0m\n\u001b[1;32m    849\u001b[0m   feature_ids\u001b[38;5;241m.\u001b[39mappend(\n\u001b[1;32m    850\u001b[0m       _input_key_to_id(model_id, uplift_treatment, training_column\u001b[38;5;241m=\u001b[39m\u001b[38;5;28;01mTrue\u001b[39;00m))\n\u001b[1;32m    852\u001b[0m use_file_prefix \u001b[38;5;241m=\u001b[39m \u001b[38;5;28;01mTrue\u001b[39;00m\n\u001b[0;32m--> 854\u001b[0m \u001b[38;5;28;01mreturn\u001b[39;00m \u001b[43mtraining_op\u001b[49m\u001b[38;5;241;43m.\u001b[39;49m\u001b[43mSimpleMLModelTrainer\u001b[49m\u001b[43m(\u001b[49m\n\u001b[1;32m    855\u001b[0m \u001b[43m    \u001b[49m\u001b[43mfeature_ids\u001b[49m\u001b[38;5;241;43m=\u001b[39;49m\u001b[38;5;124;43m\"\u001b[39;49m\u001b[38;5;124;43m,\u001b[39;49m\u001b[38;5;124;43m\"\u001b[39;49m\u001b[38;5;241;43m.\u001b[39;49m\u001b[43mjoin\u001b[49m\u001b[43m(\u001b[49m\u001b[43mfeature_ids\u001b[49m\u001b[43m)\u001b[49m\u001b[43m,\u001b[49m\n\u001b[1;32m    856\u001b[0m \u001b[43m    \u001b[49m\u001b[43mlabel_id\u001b[49m\u001b[38;5;241;43m=\u001b[39;49m\u001b[43m_input_key_to_id\u001b[49m\u001b[43m(\u001b[49m\u001b[43mmodel_id\u001b[49m\u001b[43m,\u001b[49m\u001b[43m \u001b[49m\u001b[43mlabel_id\u001b[49m\u001b[43m,\u001b[49m\u001b[43m \u001b[49m\u001b[43mtraining_column\u001b[49m\u001b[38;5;241;43m=\u001b[39;49m\u001b[38;5;28;43;01mTrue\u001b[39;49;00m\u001b[43m)\u001b[49m\u001b[43m,\u001b[49m\n\u001b[1;32m    857\u001b[0m \u001b[43m    \u001b[49m\u001b[43mweight_id\u001b[49m\u001b[38;5;241;43m=\u001b[39;49m\u001b[38;5;124;43m\"\u001b[39;49m\u001b[38;5;124;43m\"\u001b[39;49m\u001b[43m \u001b[49m\u001b[38;5;28;43;01mif\u001b[39;49;00m\u001b[43m \u001b[49m\u001b[43mweight_id\u001b[49m\u001b[43m \u001b[49m\u001b[38;5;129;43;01mis\u001b[39;49;00m\u001b[43m \u001b[49m\u001b[38;5;28;43;01mNone\u001b[39;49;00m\u001b[43m \u001b[49m\u001b[38;5;28;43;01melse\u001b[39;49;00m\u001b[43m \u001b[49m\u001b[43m_input_key_to_id\u001b[49m\u001b[43m(\u001b[49m\n\u001b[1;32m    858\u001b[0m \u001b[43m        \u001b[49m\u001b[43mmodel_id\u001b[49m\u001b[43m,\u001b[49m\u001b[43m \u001b[49m\u001b[43mweight_id\u001b[49m\u001b[43m,\u001b[49m\u001b[43m \u001b[49m\u001b[43mtraining_column\u001b[49m\u001b[38;5;241;43m=\u001b[39;49m\u001b[38;5;28;43;01mTrue\u001b[39;49;00m\u001b[43m)\u001b[49m\u001b[43m,\u001b[49m\n\u001b[1;32m    859\u001b[0m \u001b[43m    \u001b[49m\u001b[43mmodel_id\u001b[49m\u001b[38;5;241;43m=\u001b[39;49m\u001b[43mmodel_id\u001b[49m\u001b[43m \u001b[49m\u001b[38;5;28;43;01mif\u001b[39;49;00m\u001b[43m \u001b[49m\u001b[43mkeep_model_in_resource\u001b[49m\u001b[43m \u001b[49m\u001b[38;5;28;43;01melse\u001b[39;49;00m\u001b[43m \u001b[49m\u001b[38;5;124;43m\"\u001b[39;49m\u001b[38;5;124;43m\"\u001b[39;49m\u001b[43m,\u001b[49m\n\u001b[1;32m    860\u001b[0m \u001b[43m    \u001b[49m\u001b[43mmodel_dir\u001b[49m\u001b[38;5;241;43m=\u001b[39;49m\u001b[43mmodel_dir\u001b[49m\u001b[43m \u001b[49m\u001b[38;5;129;43;01mor\u001b[39;49;00m\u001b[43m \u001b[49m\u001b[38;5;124;43m\"\u001b[39;49m\u001b[38;5;124;43m\"\u001b[39;49m\u001b[43m,\u001b[49m\n\u001b[1;32m    861\u001b[0m \u001b[43m    \u001b[49m\u001b[43mlearner\u001b[49m\u001b[38;5;241;43m=\u001b[39;49m\u001b[43mlearner\u001b[49m\u001b[43m,\u001b[49m\n\u001b[1;32m    862\u001b[0m \u001b[43m    \u001b[49m\u001b[43mhparams\u001b[49m\u001b[38;5;241;43m=\u001b[39;49m\u001b[43mgeneric_hparms\u001b[49m\u001b[38;5;241;43m.\u001b[39;49m\u001b[43mSerializeToString\u001b[49m\u001b[43m(\u001b[49m\u001b[43m)\u001b[49m\u001b[43m,\u001b[49m\n\u001b[1;32m    863\u001b[0m \u001b[43m    \u001b[49m\u001b[43mtask\u001b[49m\u001b[38;5;241;43m=\u001b[39;49m\u001b[43mtask\u001b[49m\u001b[43m,\u001b[49m\n\u001b[1;32m    864\u001b[0m \u001b[43m    \u001b[49m\u001b[43mtraining_config\u001b[49m\u001b[38;5;241;43m=\u001b[39;49m\u001b[43mtraining_config\u001b[49m\u001b[38;5;241;43m.\u001b[39;49m\u001b[43mSerializeToString\u001b[49m\u001b[43m(\u001b[49m\u001b[43m)\u001b[49m\u001b[43m,\u001b[49m\n\u001b[1;32m    865\u001b[0m \u001b[43m    \u001b[49m\u001b[43mdeployment_config\u001b[49m\u001b[38;5;241;43m=\u001b[39;49m\u001b[43mdeployment_config\u001b[49m\u001b[38;5;241;43m.\u001b[39;49m\u001b[43mSerializeToString\u001b[49m\u001b[43m(\u001b[49m\u001b[43m)\u001b[49m\u001b[43m,\u001b[49m\n\u001b[1;32m    866\u001b[0m \u001b[43m    \u001b[49m\u001b[43mguide\u001b[49m\u001b[38;5;241;43m=\u001b[39;49m\u001b[43mguide\u001b[49m\u001b[38;5;241;43m.\u001b[39;49m\u001b[43mSerializeToString\u001b[49m\u001b[43m(\u001b[49m\u001b[43m)\u001b[49m\u001b[43m,\u001b[49m\n\u001b[1;32m    867\u001b[0m \u001b[43m    \u001b[49m\u001b[43mhas_validation_dataset\u001b[49m\u001b[38;5;241;43m=\u001b[39;49m\u001b[43mhas_validation_dataset\u001b[49m\u001b[43m,\u001b[49m\n\u001b[1;32m    868\u001b[0m \u001b[43m    \u001b[49m\u001b[43muse_file_prefix\u001b[49m\u001b[38;5;241;43m=\u001b[39;49m\u001b[43muse_file_prefix\u001b[49m\u001b[43m)\u001b[49m\n",
      "File \u001b[0;32m~/miniconda3/lib/python3.9/site-packages/tensorflow/python/util/tf_export.py:400\u001b[0m, in \u001b[0;36mkwarg_only.<locals>.wrapper\u001b[0;34m(*args, **kwargs)\u001b[0m\n\u001b[1;32m    395\u001b[0m \u001b[38;5;28;01mif\u001b[39;00m args:\n\u001b[1;32m    396\u001b[0m   \u001b[38;5;28;01mraise\u001b[39;00m \u001b[38;5;167;01mTypeError\u001b[39;00m(\n\u001b[1;32m    397\u001b[0m       \u001b[38;5;124m'\u001b[39m\u001b[38;5;132;01m{f}\u001b[39;00m\u001b[38;5;124m only takes keyword args (possible keys: \u001b[39m\u001b[38;5;132;01m{kwargs}\u001b[39;00m\u001b[38;5;124m). \u001b[39m\u001b[38;5;124m'\u001b[39m\n\u001b[1;32m    398\u001b[0m       \u001b[38;5;124m'\u001b[39m\u001b[38;5;124mPlease pass these args as kwargs instead.\u001b[39m\u001b[38;5;124m'\u001b[39m\n\u001b[1;32m    399\u001b[0m       \u001b[38;5;241m.\u001b[39mformat(f\u001b[38;5;241m=\u001b[39mf\u001b[38;5;241m.\u001b[39m\u001b[38;5;18m__name__\u001b[39m, kwargs\u001b[38;5;241m=\u001b[39mf_argspec\u001b[38;5;241m.\u001b[39margs))\n\u001b[0;32m--> 400\u001b[0m \u001b[38;5;28;01mreturn\u001b[39;00m \u001b[43mf\u001b[49m\u001b[43m(\u001b[49m\u001b[38;5;241;43m*\u001b[39;49m\u001b[38;5;241;43m*\u001b[39;49m\u001b[43mkwargs\u001b[49m\u001b[43m)\u001b[49m\n",
      "File \u001b[0;32m<string>:1176\u001b[0m, in \u001b[0;36msimple_ml_model_trainer\u001b[0;34m(feature_ids, label_id, weight_id, model_id, model_dir, learner, hparams, task, training_config, deployment_config, guide, has_validation_dataset, use_file_prefix, name)\u001b[0m\n",
      "File \u001b[0;32m~/miniconda3/lib/python3.9/site-packages/tensorflow/python/framework/ops.py:7164\u001b[0m, in \u001b[0;36mraise_from_not_ok_status\u001b[0;34m(e, name)\u001b[0m\n\u001b[1;32m   7162\u001b[0m \u001b[38;5;28;01mdef\u001b[39;00m \u001b[38;5;21mraise_from_not_ok_status\u001b[39m(e, name):\n\u001b[1;32m   7163\u001b[0m   e\u001b[38;5;241m.\u001b[39mmessage \u001b[38;5;241m+\u001b[39m\u001b[38;5;241m=\u001b[39m (\u001b[38;5;124m\"\u001b[39m\u001b[38;5;124m name: \u001b[39m\u001b[38;5;124m\"\u001b[39m \u001b[38;5;241m+\u001b[39m name \u001b[38;5;28;01mif\u001b[39;00m name \u001b[38;5;129;01mis\u001b[39;00m \u001b[38;5;129;01mnot\u001b[39;00m \u001b[38;5;28;01mNone\u001b[39;00m \u001b[38;5;28;01melse\u001b[39;00m \u001b[38;5;124m\"\u001b[39m\u001b[38;5;124m\"\u001b[39m)\n\u001b[0;32m-> 7164\u001b[0m   \u001b[38;5;28;01mraise\u001b[39;00m core\u001b[38;5;241m.\u001b[39m_status_to_exception(e) \u001b[38;5;28;01mfrom\u001b[39;00m \u001b[38;5;28mNone\u001b[39m\n",
      "\u001b[0;31mUnknownError\u001b[0m: TensorFlow: INVALID_ARGUMENT: The number of threads should be >= 0 [Op:SimpleMLModelTrainer]"
     ]
    }
   ],
   "source": [
    "# Configure the model.\n",
    "model = tfdf.keras.RandomForestModel(task = tfdf.keras.Task.REGRESSION, num_threads=n_threads)\n",
    "# Configure the metrics (Eventually add other metrics).\n",
    "#model.compile(metrics=[\"mse\", \"mape\"])\n",
    "model.compile(metrics=[\"mse\"])\n",
    "# Train the model.\n",
    "with sys_pipes():\n",
    "    #model.fit(x=train_ds)\n",
    "    model.fit(X_train, Y_train)"
   ]
  },
  {
   "cell_type": "code",
   "execution_count": 27,
   "metadata": {
    "scrolled": true
   },
   "outputs": [
    {
     "name": "stdout",
     "output_type": "stream",
     "text": [
      "Model: \"random_forest_model_4\"\n",
      "_________________________________________________________________\n",
      " Layer (type)                Output Shape              Param #   \n",
      "=================================================================\n",
      "=================================================================\n",
      "Total params: 1\n",
      "Trainable params: 0\n",
      "Non-trainable params: 1\n",
      "_________________________________________________________________\n",
      "Type: \"RANDOM_FOREST\"\n",
      "Task: REGRESSION\n",
      "Label: \"__LABEL\"\n",
      "\n",
      "Input Features (6):\n",
      "\tdata:0.0\n",
      "\tdata:0.1\n",
      "\tdata:0.2\n",
      "\tdata:0.3\n",
      "\tdata:0.4\n",
      "\tdata:0.5\n",
      "\n",
      "No weights\n",
      "\n",
      "Variable Importance: MEAN_MIN_DEPTH:\n",
      "    1.  \"__LABEL\" 13.974898 ################\n",
      "    2. \"data:0.5\" 13.798353 ###############\n",
      "    3. \"data:0.1\"  7.974205 ########\n",
      "    4. \"data:0.3\"  5.734435 #####\n",
      "    5. \"data:0.4\"  4.073616 ###\n",
      "    6. \"data:0.0\"  2.659911 #\n",
      "    7. \"data:0.2\"  1.310174 \n",
      "\n",
      "Variable Importance: NUM_AS_ROOT:\n",
      "    1. \"data:0.0\" 130.000000 ################\n",
      "    2. \"data:0.2\" 109.000000 #############\n",
      "    3. \"data:0.3\" 38.000000 ####\n",
      "    4. \"data:0.4\" 16.000000 #\n",
      "    5. \"data:0.1\"  7.000000 \n",
      "\n",
      "Variable Importance: NUM_NODES:\n",
      "    1. \"data:0.2\" 125078.000000 ################\n",
      "    2. \"data:0.3\" 115783.000000 ##############\n",
      "    3. \"data:0.1\" 83875.000000 ##########\n",
      "    4. \"data:0.0\" 83557.000000 ##########\n",
      "    5. \"data:0.4\" 21291.000000 #\n",
      "    6. \"data:0.5\" 11435.000000 \n",
      "\n",
      "Variable Importance: SUM_SCORE:\n",
      "    1. \"data:0.0\" 214.675374 ################\n",
      "    2. \"data:0.3\" 39.435999 ##\n",
      "    3. \"data:0.2\" 37.698593 ##\n",
      "    4. \"data:0.1\" 13.276869 \n",
      "    5. \"data:0.5\"  1.490362 \n",
      "    6. \"data:0.4\"  1.298795 \n",
      "\n",
      "\n",
      "\n",
      "Out-of-bag evaluation: rmse:0.00119429\n",
      "Number of trees: 300\n",
      "Total number of nodes: 882338\n",
      "\n",
      "Number of nodes by tree:\n",
      "Count: 300 Average: 2941.13 StdDev: 1088.75\n",
      "Min: 1181 Max: 6701 Ignored: 0\n",
      "----------------------------------------------\n",
      "[ 1181, 1457)  9   3.00%   3.00% ##\n",
      "[ 1457, 1733) 25   8.33%  11.33% ######\n",
      "[ 1733, 2009) 25   8.33%  19.67% ######\n",
      "[ 2009, 2285) 40  13.33%  33.00% ##########\n",
      "[ 2285, 2561) 25   8.33%  41.33% ######\n",
      "[ 2561, 2837) 35  11.67%  53.00% #########\n",
      "[ 2837, 3113) 29   9.67%  62.67% #######\n",
      "[ 3113, 3389) 24   8.00%  70.67% ######\n",
      "[ 3389, 3665) 22   7.33%  78.00% ######\n",
      "[ 3665, 3941) 15   5.00%  83.00% ####\n",
      "[ 3941, 4217) 13   4.33%  87.33% ###\n",
      "[ 4217, 4493) 12   4.00%  91.33% ###\n",
      "[ 4493, 4769)  6   2.00%  93.33% ##\n",
      "[ 4769, 5045)  6   2.00%  95.33% ##\n",
      "[ 5045, 5321)  4   1.33%  96.67% #\n",
      "[ 5321, 5597)  1   0.33%  97.00%\n",
      "[ 5597, 5873)  2   0.67%  97.67% #\n",
      "[ 5873, 6149)  1   0.33%  98.00%\n",
      "[ 6149, 6425)  4   1.33%  99.33% #\n",
      "[ 6425, 6701]  2   0.67% 100.00% #\n",
      "\n",
      "Depth by leafs:\n",
      "Count: 441319 Average: 14.0228 StdDev: 1.81751\n",
      "Min: 1 Max: 15 Ignored: 0\n",
      "----------------------------------------------\n",
      "[  1,  2)    115   0.03%   0.03%\n",
      "[  2,  3)    137   0.03%   0.06%\n",
      "[  3,  4)    232   0.05%   0.11%\n",
      "[  4,  5)    498   0.11%   0.22%\n",
      "[  5,  6)   1006   0.23%   0.45%\n",
      "[  6,  7)   1763   0.40%   0.85%\n",
      "[  7,  8)   2749   0.62%   1.47%\n",
      "[  8,  9)   4192   0.95%   2.42%\n",
      "[  9, 10)   6388   1.45%   3.87%\n",
      "[ 10, 11)   9713   2.20%   6.07%\n",
      "[ 11, 12)  14988   3.40%   9.47% #\n",
      "[ 12, 13)  22650   5.13%  14.60% #\n",
      "[ 13, 14)  35565   8.06%  22.66% #\n",
      "[ 14, 15)  56401  12.78%  35.44% ##\n",
      "[ 15, 15] 284922  64.56% 100.00% ##########\n",
      "\n",
      "Number of training obs by leaf:\n",
      "Count: 441319 Average: 699.07 StdDev: 10345.2\n",
      "Min: 5 Max: 714620 Ignored: 0\n",
      "----------------------------------------------\n",
      "[      5,  35735) 439758  99.65%  99.65% ##########\n",
      "[  35735,  71466)    647   0.15%  99.79%\n",
      "[  71466, 107197)    253   0.06%  99.85%\n",
      "[ 107197, 142928)    135   0.03%  99.88%\n",
      "[ 142928, 178659)     88   0.02%  99.90%\n",
      "[ 178659, 214389)     71   0.02%  99.92%\n",
      "[ 214389, 250120)     73   0.02%  99.93%\n",
      "[ 250120, 285851)     80   0.02%  99.95%\n",
      "[ 285851, 321582)    111   0.03%  99.98%\n",
      "[ 321582, 357313)     50   0.01%  99.99%\n",
      "[ 357313, 393043)     28   0.01%  99.99%\n",
      "[ 393043, 428774)     10   0.00% 100.00%\n",
      "[ 428774, 464505)      2   0.00% 100.00%\n",
      "[ 464505, 500236)      3   0.00% 100.00%\n",
      "[ 500236, 535967)      4   0.00% 100.00%\n",
      "[ 535967, 571697)      3   0.00% 100.00%\n",
      "[ 571697, 607428)      1   0.00% 100.00%\n",
      "[ 607428, 643159)      0   0.00% 100.00%\n",
      "[ 643159, 678890)      1   0.00% 100.00%\n",
      "[ 678890, 714620]      1   0.00% 100.00%\n",
      "\n",
      "Attribute in nodes:\n",
      "\t125078 : data:0.2 [NUMERICAL]\n",
      "\t115783 : data:0.3 [NUMERICAL]\n",
      "\t83875 : data:0.1 [NUMERICAL]\n",
      "\t83557 : data:0.0 [NUMERICAL]\n",
      "\t21291 : data:0.4 [NUMERICAL]\n",
      "\t11435 : data:0.5 [NUMERICAL]\n",
      "\n",
      "Attribute in nodes with depth <= 0:\n",
      "\t130 : data:0.0 [NUMERICAL]\n",
      "\t109 : data:0.2 [NUMERICAL]\n",
      "\t38 : data:0.3 [NUMERICAL]\n",
      "\t16 : data:0.4 [NUMERICAL]\n",
      "\t7 : data:0.1 [NUMERICAL]\n",
      "\n",
      "Attribute in nodes with depth <= 1:\n",
      "\t306 : data:0.2 [NUMERICAL]\n",
      "\t266 : data:0.0 [NUMERICAL]\n",
      "\t110 : data:0.3 [NUMERICAL]\n",
      "\t75 : data:0.4 [NUMERICAL]\n",
      "\t26 : data:0.1 [NUMERICAL]\n",
      "\t2 : data:0.5 [NUMERICAL]\n",
      "\n",
      "Attribute in nodes with depth <= 2:\n",
      "\t553 : data:0.2 [NUMERICAL]\n",
      "\t439 : data:0.0 [NUMERICAL]\n",
      "\t316 : data:0.3 [NUMERICAL]\n",
      "\t182 : data:0.4 [NUMERICAL]\n",
      "\t122 : data:0.1 [NUMERICAL]\n",
      "\t6 : data:0.5 [NUMERICAL]\n",
      "\n",
      "Attribute in nodes with depth <= 3:\n",
      "\t979 : data:0.2 [NUMERICAL]\n",
      "\t681 : data:0.3 [NUMERICAL]\n",
      "\t650 : data:0.0 [NUMERICAL]\n",
      "\t362 : data:0.4 [NUMERICAL]\n",
      "\t350 : data:0.1 [NUMERICAL]\n",
      "\t30 : data:0.5 [NUMERICAL]\n",
      "\n",
      "Attribute in nodes with depth <= 5:\n",
      "\t2819 : data:0.2 [NUMERICAL]\n",
      "\t2153 : data:0.3 [NUMERICAL]\n",
      "\t1694 : data:0.0 [NUMERICAL]\n",
      "\t1329 : data:0.1 [NUMERICAL]\n",
      "\t1029 : data:0.4 [NUMERICAL]\n",
      "\t132 : data:0.5 [NUMERICAL]\n",
      "\n",
      "Condition type in nodes:\n",
      "\t441019 : HigherCondition\n",
      "Condition type in nodes with depth <= 0:\n",
      "\t300 : HigherCondition\n",
      "Condition type in nodes with depth <= 1:\n",
      "\t785 : HigherCondition\n",
      "Condition type in nodes with depth <= 2:\n",
      "\t1618 : HigherCondition\n",
      "Condition type in nodes with depth <= 3:\n",
      "\t3052 : HigherCondition\n",
      "Condition type in nodes with depth <= 5:\n",
      "\t9156 : HigherCondition\n",
      "Node format: NOT_SET\n",
      "\n",
      "Training OOB:\n",
      "\ttrees: 1, Out-of-bag evaluation: rmse:0.00136571\n",
      "\ttrees: 11, Out-of-bag evaluation: rmse:0.00107272\n",
      "\ttrees: 21, Out-of-bag evaluation: rmse:0.00102283\n",
      "\ttrees: 31, Out-of-bag evaluation: rmse:0.000946042\n",
      "\ttrees: 41, Out-of-bag evaluation: rmse:0.00104902\n",
      "\ttrees: 51, Out-of-bag evaluation: rmse:0.00107922\n",
      "\ttrees: 61, Out-of-bag evaluation: rmse:0.00112189\n",
      "\ttrees: 71, Out-of-bag evaluation: rmse:0.00111944\n",
      "\ttrees: 81, Out-of-bag evaluation: rmse:0.00113741\n",
      "\ttrees: 91, Out-of-bag evaluation: rmse:0.0011499\n",
      "\ttrees: 101, Out-of-bag evaluation: rmse:0.00116038\n",
      "\ttrees: 111, Out-of-bag evaluation: rmse:0.00115731\n",
      "\ttrees: 121, Out-of-bag evaluation: rmse:0.00115213\n",
      "\ttrees: 131, Out-of-bag evaluation: rmse:0.0011559\n",
      "\ttrees: 141, Out-of-bag evaluation: rmse:0.00115562\n",
      "\ttrees: 151, Out-of-bag evaluation: rmse:0.00116615\n",
      "\ttrees: 161, Out-of-bag evaluation: rmse:0.00116504\n",
      "\ttrees: 171, Out-of-bag evaluation: rmse:0.00116209\n",
      "\ttrees: 181, Out-of-bag evaluation: rmse:0.00117225\n",
      "\ttrees: 191, Out-of-bag evaluation: rmse:0.00117715\n",
      "\ttrees: 201, Out-of-bag evaluation: rmse:0.00117438\n",
      "\ttrees: 211, Out-of-bag evaluation: rmse:0.00117201\n",
      "\ttrees: 221, Out-of-bag evaluation: rmse:0.00118082\n",
      "\ttrees: 231, Out-of-bag evaluation: rmse:0.00119115\n",
      "\ttrees: 241, Out-of-bag evaluation: rmse:0.00119117\n",
      "\ttrees: 251, Out-of-bag evaluation: rmse:0.00119927\n",
      "\ttrees: 261, Out-of-bag evaluation: rmse:0.00119774\n",
      "\ttrees: 271, Out-of-bag evaluation: rmse:0.00119725\n",
      "\ttrees: 281, Out-of-bag evaluation: rmse:0.00119666\n",
      "\ttrees: 291, Out-of-bag evaluation: rmse:0.0011972\n",
      "\ttrees: 300, Out-of-bag evaluation: rmse:0.00119429\n",
      "\n"
     ]
    }
   ],
   "source": [
    "model.summary()"
   ]
  },
  {
   "cell_type": "code",
   "execution_count": 28,
   "metadata": {},
   "outputs": [
    {
     "data": {
      "text/plain": [
       "[\"data:0.0\" (1; #0),\n",
       " \"data:0.1\" (1; #1),\n",
       " \"data:0.2\" (1; #2),\n",
       " \"data:0.3\" (1; #3),\n",
       " \"data:0.4\" (1; #4),\n",
       " \"data:0.5\" (1; #5)]"
      ]
     },
     "execution_count": 28,
     "metadata": {},
     "output_type": "execute_result"
    }
   ],
   "source": [
    "# inspect the features used in the model\n",
    "model.make_inspector().features()"
   ]
  },
  {
   "cell_type": "code",
   "execution_count": 29,
   "metadata": {},
   "outputs": [
    {
     "name": "stdout",
     "output_type": "stream",
     "text": [
      "32084/32084 [==============================] - 50s 2ms/step - loss: 0.0000e+00 - mse: 1.0784e-06\n",
      "{'loss': 0.0, 'mse': 1.0783564903249498e-06}\n",
      "MSE: 0.00\n",
      "RMSE: 0.00\n"
     ]
    }
   ],
   "source": [
    "#evaluation = model.evaluate(test_ds, return_dict=True)\n",
    "evaluation = model.evaluate(X_test, Y_test, return_dict=True)\n",
    "\n",
    "print(evaluation)\n",
    "print(f\"MSE: {evaluation['mse']:.2f}\")\n",
    "print(f\"RMSE: {np.sqrt(evaluation['mse']):.2f}\")\n",
    "#print(f\"MAPE: {evaluation['mape']:.2f}\")"
   ]
  },
  {
   "cell_type": "code",
   "execution_count": 30,
   "metadata": {},
   "outputs": [
    {
     "data": {
      "image/png": "[encoded data removed]",
      "text/plain": [
       "<Figure size 864x864 with 4 Axes>"
      ]
     },
     "metadata": {
      "needs_background": "light"
     },
     "output_type": "display_data"
    }
   ],
   "source": [
    "logs = model.make_inspector().training_logs()\n",
    "\n",
    "fig, ax = plt.subplots(nrows=2, ncols=2,figsize=(12, 12))\n",
    "\n",
    "ax[0,0].plot([log.num_trees for log in logs], [log.evaluation.accuracy for log in logs])\n",
    "ax[0,0].set_xlabel(\"Number of trees\")\n",
    "ax[0,0].set_ylabel(\"Accuracy (out-of-bag)\")\n",
    "ax[0,1].plot([log.num_trees for log in logs], [log.evaluation.loss for log in logs])\n",
    "ax[0,1].set_xlabel(\"Number of trees\")\n",
    "ax[0,1].set_ylabel(\"Logloss (out-of-bag)\")\n",
    "ax[1,0].plot([log.num_trees for log in logs], [log.evaluation.rmse for log in logs])\n",
    "ax[1,0].set_xlabel(\"Number of trees\")\n",
    "ax[1,0].set_ylabel(\"Accuracy (out-of-bag)\")\n",
    "ax[1,1].plot([log.num_trees for log in logs], [log.evaluation.ndcg for log in logs])\n",
    "ax[1,1].set_xlabel(\"Number of trees\")\n",
    "ax[1,1].set_ylabel(\"Logloss (out-of-bag)\")\n",
    "plt.show()\n",
    "\n",
    "\n",
    "# ????\n",
    "# Why loss and accuracy are zero?\n",
    "# Maybe something missing"
   ]
  },
  {
   "cell_type": "code",
   "execution_count": 40,
   "metadata": {},
   "outputs": [
    {
     "name": "stdout",
     "output_type": "stream",
     "text": [
      "32084/32084 [==============================] - 47s 1ms/step\n"
     ]
    }
   ],
   "source": [
    "# make predictions to compare with Y_test\n",
    "#Y_pred = model.predict(test_ds)\n",
    "Y_pred = model.predict(X_test)"
   ]
  },
  {
   "cell_type": "code",
   "execution_count": 44,
   "metadata": {},
   "outputs": [
    {
     "data": {
      "text/plain": [
       "(array([[2.0982714e-10],\n",
       "        [3.9613801e-10],\n",
       "        [4.5093010e-10],\n",
       "        ...,\n",
       "        [7.9357788e-12],\n",
       "        [5.6338250e-12],\n",
       "        [7.9357788e-12]], dtype=float32),\n",
       " array([5.85615883e-20, 4.16550015e-19, 3.51363722e-15, ...,\n",
       "        3.69902602e-21, 4.82414339e-27, 9.79715545e-23]))"
      ]
     },
     "execution_count": 44,
     "metadata": {},
     "output_type": "execute_result"
    }
   ],
   "source": [
    "(Y_pred, Y_test)"
   ]
  },
  {
   "cell_type": "code",
   "execution_count": 37,
   "metadata": {},
   "outputs": [],
   "source": [
    "epsilon = 1e-28"
   ]
  },
  {
   "cell_type": "code",
   "execution_count": 41,
   "metadata": {},
   "outputs": [
    {
     "data": {
      "image/png": "[encoded data removed]",
      "text/plain": [
       "<Figure size 1080x504 with 1 Axes>"
      ]
     },
     "metadata": {
      "needs_background": "light"
     },
     "output_type": "display_data"
    }
   ],
   "source": [
    "fig, ax = plt.subplots(figsize=(15,7))\n",
    "\n",
    "#b = np.histogram_bin_edges(BHBH[(BHBH.Delay_Time<1e18)].Delay_Time, bins='rice') # does not work with bind='fd'\n",
    "b = np.logspace(np.log10(min(Y_test)+epsilon), np.log10(max(Y_test)), 100)\n",
    "entries, edges, _ = ax.hist(Y_test, bins=b, density=True, histtype='step', lw=3)\n",
    "\n",
    "# calculate bin centers\n",
    "bin_centers = 0.5 * (edges[:-1] + edges[1:])\n",
    "\n",
    "ax.set_xscale('log')\n",
    "ax.set_yscale('log')\n",
    "\n",
    "ax.set_title('Distribution of the Delay times')\n",
    "ax.set_xlabel('Delay Time [Myr]')\n",
    "ax.set_ylabel('PDF')\n",
    "ax.grid(ls='dotted', lw=2)"
   ]
  },
  {
   "cell_type": "code",
   "execution_count": 42,
   "metadata": {},
   "outputs": [
    {
     "data": {
      "image/png": "[encoded data removed]",
      "text/plain": [
       "<Figure size 1080x504 with 1 Axes>"
      ]
     },
     "metadata": {
      "needs_background": "light"
     },
     "output_type": "display_data"
    }
   ],
   "source": [
    "fig, ax = plt.subplots(figsize=(15,7))\n",
    "\n",
    "#b = np.histogram_bin_edges(BHBH[(BHBH.Delay_Time<1e18)].Delay_Time, bins='rice') # does not work with bind='fd'\n",
    "b = np.logspace(np.log10(min(Y_pred)), np.log10(max(Y_pred)), 100)\n",
    "b = np.concatenate(b, axis=0)\n",
    "entries, edges, _ = ax.hist(Y_pred, bins=b, density=True, histtype='step', lw=3)\n",
    "\n",
    "# calculate bin centers\n",
    "bin_centers = 0.5 * (edges[:-1] + edges[1:])\n",
    "\n",
    "ax.set_xscale('log')\n",
    "ax.set_yscale('log')\n",
    "\n",
    "ax.set_title('Distribution of the Delay times')\n",
    "ax.set_xlabel('Delay Time [Myr]')\n",
    "ax.set_ylabel('PDF')\n",
    "ax.grid(ls='dotted', lw=2)"
   ]
  },
  {
   "cell_type": "code",
   "execution_count": 116,
   "metadata": {},
   "outputs": [
    {
     "data": {
      "text/plain": [
       "'\\n<script src=\"https://d3js.org/d3.v6.min.js\"></script>\\n<div id=\"tree_plot_c9f9d4664ba8485d95fb6fd50270894f\"></div>\\n<script>\\n/*\\n * Copyright 2021 Google LLC.\\n * Licensed under the Apache License, Version 2.0 (the \"License\");\\n * you may not use this file except in compliance with the License.\\n * You may obtain a copy of the License at\\n *\\n *     https://www.apache.org/licenses/LICENSE-2.0\\n *\\n * Unless required by applicable law or agreed to in writing, software\\n * distributed under the License is distributed on an \"AS IS\" BASIS,\\n * WITHOUT WARRANTIES OR CONDITIONS OF ANY KIND, either express or implied.\\n * See the License for the specific language governing permissions and\\n * limitations under the License.\\n */\\n\\n/**\\n *  Plotting of decision trees generated by TF-DF.\\n *\\n *  A tree is a recursive structure of node objects.\\n *  A node contains one or more of the following components:\\n *\\n *    - A value: Representing the output of the node. If the node is not a leaf,\\n *      the value is only present for analysis i.e. it is not used for\\n *      predictions.\\n *\\n *    - A condition : For non-leaf nodes, the condition (also known as split)\\n *      defines a binary test to branch to the positive or negative child.\\n *\\n *    - An explanation: Generally a plot showing the relation between the label\\n *      and the condition to give insights about the effect of the condition.\\n *\\n *    - Two children : For non-leaf nodes, the children nodes. The first\\n *      children (i.e. \"node.children[0]\") is the negative children (drawn in\\n *      red). The second children is the positive one (drawn in green).\\n *\\n */\\n\\n/**\\n * Plots a single decision tree into a DOM element.\\n * @param {!options} options Dictionary of configurations.\\n * @param {!tree} raw_tree Recursive tree structure.\\n * @param {string} canvas_id Id of the output dom element.\\n */\\nfunction display_tree(options, raw_tree, canvas_id) {\\n  console.log(options);\\n\\n  // Determine the node placement.\\n  const tree_struct = d3.tree().nodeSize(\\n      [options.node_y_offset, options.node_x_offset])(d3.hierarchy(raw_tree));\\n\\n  // Boundaries of the node placement.\\n  let x_min = Infinity;\\n  let x_max = -x_min;\\n  let y_min = Infinity;\\n  let y_max = -x_min;\\n\\n  tree_struct.each(d => {\\n    if (d.x > x_max) x_max = d.x;\\n    if (d.x < x_min) x_min = d.x;\\n    if (d.y > y_max) y_max = d.y;\\n    if (d.y < y_min) y_min = d.y;\\n  });\\n\\n  // Size of the plot.\\n  const width = y_max - y_min + options.node_x_size + options.margin * 2;\\n  const height = x_max - x_min + options.node_y_size + options.margin * 2 +\\n      options.node_y_offset - options.node_y_size;\\n\\n  const plot = d3.select(canvas_id);\\n\\n  // Tool tip\\n  options.tooltip = plot.append(\\'div\\')\\n                        .attr(\\'width\\', 100)\\n                        .attr(\\'height\\', 100)\\n                        .style(\\'padding\\', \\'4px\\')\\n                        .style(\\'background\\', \\'#fff\\')\\n                        .style(\\'box-shadow\\', \\'4px 4px 0px rgba(0,0,0,0.1)\\')\\n                        .style(\\'border\\', \\'1px solid black\\')\\n                        .style(\\'font-family\\', \\'sans-serif\\')\\n                        .style(\\'font-size\\', options.font_size)\\n                        .style(\\'position\\', \\'absolute\\')\\n                        .style(\\'z-index\\', \\'10\\')\\n                        .attr(\\'pointer-events\\', \\'none\\')\\n                        .style(\\'display\\', \\'none\\');\\n\\n  // Create canvas\\n  const svg = plot.append(\\'svg\\').attr(\\'width\\', width).attr(\\'height\\', height);\\n  const graph =\\n      svg.style(\\'overflow\\', \\'visible\\')\\n          .append(\\'g\\')\\n          .attr(\\'font-family\\', \\'sans-serif\\')\\n          .attr(\\'font-size\\', options.font_size)\\n          .attr(\\n              \\'transform\\',\\n              () => `translate(${options.margin},${\\n                  - x_min + options.node_y_offset / 2 + options.margin})`);\\n\\n  // Plot bounding box.\\n  if (options.show_plot_bounding_box) {\\n    svg.append(\\'rect\\')\\n        .attr(\\'width\\', width)\\n        .attr(\\'height\\', height)\\n        .attr(\\'fill\\', \\'none\\')\\n        .attr(\\'stroke-width\\', 1.0)\\n        .attr(\\'stroke\\', \\'black\\');\\n  }\\n\\n  // Draw the edges.\\n  display_edges(options, graph, tree_struct);\\n\\n  // Draw the nodes.\\n  display_nodes(options, graph, tree_struct);\\n}\\n\\n/**\\n * Draw the nodes of the tree.\\n * @param {!options} options Dictionary of configurations.\\n * @param {!graph} graph D3 search handle containing the graph.\\n * @param {!tree_struct} tree_struct Structure of the tree (node placement,\\n *     data, etc.).\\n */\\nfunction display_nodes(options, graph, tree_struct) {\\n  const nodes = graph.append(\\'g\\')\\n                    .selectAll(\\'g\\')\\n                    .data(tree_struct.descendants())\\n                    .join(\\'g\\')\\n                    .attr(\\'transform\\', d => `translate(${d.y},${d.x})`);\\n\\n  nodes.append(\\'rect\\')\\n      .attr(\\'x\\', 0.5)\\n      .attr(\\'y\\', 0.5)\\n      .attr(\\'width\\', options.node_x_size)\\n      .attr(\\'height\\', options.node_y_size)\\n      .attr(\\'stroke\\', \\'lightgrey\\')\\n      .attr(\\'stroke-width\\', 1)\\n      .attr(\\'fill\\', \\'white\\')\\n      .attr(\\'y\\', -options.node_y_size / 2);\\n\\n  // Brackets on the right of condition nodes without children.\\n  non_leaf_node_without_children =\\n      nodes.filter(node => node.data.condition != null && node.children == null)\\n          .append(\\'g\\')\\n          .attr(\\'transform\\', `translate(${options.node_x_size},0)`);\\n\\n  non_leaf_node_without_children.append(\\'path\\')\\n      .attr(\\'d\\', \\'M0,0 C 10,0 0,10 10,10\\')\\n      .attr(\\'fill\\', \\'none\\')\\n      .attr(\\'stroke-width\\', 1.0)\\n      .attr(\\'stroke\\', \\'#F00\\');\\n\\n  non_leaf_node_without_children.append(\\'path\\')\\n      .attr(\\'d\\', \\'M0,0 C 10,0 0,-10 10,-10\\')\\n      .attr(\\'fill\\', \\'none\\')\\n      .attr(\\'stroke-width\\', 1.0)\\n      .attr(\\'stroke\\', \\'#0F0\\');\\n\\n  const node_content = nodes.append(\\'g\\').attr(\\n      \\'transform\\',\\n      `translate(0,${options.node_padding - options.node_y_size / 2})`);\\n\\n  node_content.append(node => create_node_element(options, node));\\n}\\n\\n/**\\n * Creates the D3 content for a single node.\\n * @param {!options} options Dictionary of configurations.\\n * @param {!node} node Node to draw.\\n * @return {!d3} D3 content.\\n */\\nfunction create_node_element(options, node) {\\n  // Output accumulator.\\n  let output = {\\n    // Content to draw.\\n    content: d3.create(\\'svg:g\\'),\\n    // Vertical offset to the next element to draw.\\n    vertical_offset: 0\\n  };\\n\\n  // Conditions.\\n  if (node.data.condition != null) {\\n    display_condition(options, node.data.condition, output);\\n  }\\n\\n  // Values.\\n  if (node.data.value != null) {\\n    display_value(options, node.data.value, output);\\n  }\\n\\n  // Explanations.\\n  if (node.data.explanation != null) {\\n    display_explanation(options, node.data.explanation, output);\\n  }\\n\\n  return output.content.node();\\n}\\n\\n\\n/**\\n * Adds a single line of text inside of a node.\\n * @param {!options} options Dictionary of configurations.\\n * @param {string} text Text to display.\\n * @param {!output} output Output display accumulator.\\n */\\nfunction display_node_text(options, text, output) {\\n  output.content.append(\\'text\\')\\n      .attr(\\'x\\', options.node_padding)\\n      .attr(\\'y\\', output.vertical_offset)\\n      .attr(\\'alignment-baseline\\', \\'hanging\\')\\n      .text(text);\\n  output.vertical_offset += 10;\\n}\\n\\n/**\\n * Adds a single line of text inside of a node with a tooltip.\\n * @param {!options} options Dictionary of configurations.\\n * @param {string} text Text to display.\\n * @param {string} tooltip Text in the Tooltip.\\n * @param {!output} output Output display accumulator.\\n */\\nfunction display_node_text_with_tooltip(options, text, tooltip, output) {\\n  const item = output.content.append(\\'text\\')\\n                   .attr(\\'x\\', options.node_padding)\\n                   .attr(\\'alignment-baseline\\', \\'hanging\\')\\n                   .text(text);\\n\\n  add_tooltip(options, item, () => tooltip);\\n  output.vertical_offset += 10;\\n}\\n\\n/**\\n * Adds a tooltip to a dom element.\\n * @param {!options} options Dictionary of configurations.\\n * @param {!dom} target Dom element to equip with a tooltip.\\n * @param {!func} get_content Generates the html content of the tooltip.\\n */\\nfunction add_tooltip(options, target, get_content) {\\n  function show(d) {\\n    options.tooltip.style(\\'display\\', \\'block\\');\\n    options.tooltip.html(get_content());\\n  }\\n\\n  function hide(d) {\\n    options.tooltip.style(\\'display\\', \\'none\\');\\n  }\\n\\n  function move(d) {\\n    options.tooltip.style(\\'display\\', \\'block\\');\\n    options.tooltip.style(\\'left\\', (d.pageX + 5) + \\'px\\');\\n    options.tooltip.style(\\'top\\', d.pageY + \\'px\\');\\n  }\\n\\n  target.on(\\'mouseover\\', show);\\n  target.on(\\'mouseout\\', hide);\\n  target.on(\\'mousemove\\', move);\\n}\\n\\n/**\\n * Adds a condition inside of a node.\\n * @param {!options} options Dictionary of configurations.\\n * @param {!condition} condition Condition to display.\\n * @param {!output} output Output display accumulator.\\n */\\nfunction display_condition(options, condition, output) {\\n  threshold_format = d3.format(\\'r\\');\\n\\n  if (condition.type === \\'IS_MISSING\\') {\\n    display_node_text(options, `${condition.attribute} is missing`, output);\\n    return;\\n  }\\n\\n  if (condition.type === \\'IS_TRUE\\') {\\n    display_node_text(options, `${condition.attribute} is true`, output);\\n    return;\\n  }\\n\\n  if (condition.type === \\'NUMERICAL_IS_HIGHER_THAN\\') {\\n    format = d3.format(\\'r\\');\\n    display_node_text(\\n        options,\\n        `${condition.attribute} >= ${threshold_format(condition.threshold)}`,\\n        output);\\n    return;\\n  }\\n\\n  if (condition.type === \\'CATEGORICAL_IS_IN\\') {\\n    display_node_text_with_tooltip(\\n        options, `${condition.attribute} in [...]`,\\n        `${condition.attribute} in [${condition.mask}]`, output);\\n    return;\\n  }\\n\\n  if (condition.type === \\'CATEGORICAL_SET_CONTAINS\\') {\\n    display_node_text_with_tooltip(\\n        options, `${condition.attribute} intersect [...]`,\\n        `${condition.attribute} intersect [${condition.mask}]`, output);\\n    return;\\n  }\\n\\n  if (condition.type === \\'NUMERICAL_SPARSE_OBLIQUE\\') {\\n    display_node_text_with_tooltip(\\n        options, `Sparse oblique split...`,\\n        `[${condition.attributes}]*[${condition.weights}]>=${\\n            threshold_format(condition.threshold)}`,\\n        output);\\n    return;\\n  }\\n\\n  display_node_text(\\n      options, `Non supported condition ${condition.type}`, output);\\n}\\n\\n/**\\n * Adds a value inside of a node.\\n * @param {!options} options Dictionary of configurations.\\n * @param {!value} value Value to display.\\n * @param {!output} output Output display accumulator.\\n */\\nfunction display_value(options, value, output) {\\n  if (value.type === \\'PROBABILITY\\') {\\n    const left_margin = 0;\\n    const right_margin = 50;\\n    const plot_width = options.node_x_size - options.node_padding * 2 -\\n        left_margin - right_margin;\\n\\n    let cusum = Array.from(d3.cumsum(value.distribution));\\n    cusum.unshift(0);\\n    const distribution_plot = output.content.append(\\'g\\').attr(\\n        \\'transform\\', `translate(0,${output.vertical_offset + 0.5})`);\\n\\n    distribution_plot.selectAll(\\'rect\\')\\n        .data(value.distribution)\\n        .join(\\'rect\\')\\n        .attr(\\'height\\', 10)\\n        .attr(\\n            \\'x\\',\\n            (d, i) =>\\n                (cusum[i] * plot_width + left_margin + options.node_padding))\\n        .attr(\\'width\\', (d, i) => d * plot_width)\\n        .style(\\'fill\\', (d, i) => d3.schemeSet1[i]);\\n\\n    const num_examples =\\n        output.content.append(\\'g\\')\\n            .attr(\\'transform\\', `translate(0,${output.vertical_offset})`)\\n            .append(\\'text\\')\\n            .attr(\\'x\\', options.node_x_size - options.node_padding)\\n            .attr(\\'alignment-baseline\\', \\'hanging\\')\\n            .attr(\\'text-anchor\\', \\'end\\')\\n            .text(`(${value.num_examples})`);\\n\\n    const distribution_details = d3.create(\\'ul\\');\\n    distribution_details.selectAll(\\'li\\')\\n        .data(value.distribution)\\n        .join(\\'li\\')\\n        .append(\\'span\\')\\n        .text(\\n            (d, i) =>\\n                \\'class \\' + i + \\': \\' + d3.format(\\'.3%\\')(value.distribution[i]));\\n\\n    add_tooltip(options, distribution_plot, () => distribution_details.html());\\n    add_tooltip(options, num_examples, () => \\'Number of examples\\');\\n\\n    output.vertical_offset += 10;\\n    return;\\n  }\\n\\n  if (value.type === \\'REGRESSION\\') {\\n    display_node_text(\\n        options,\\n        \\'value: \\' + d3.format(\\'r\\')(value.value) + ` (` +\\n            d3.format(\\'.6\\')(value.num_examples) + `)`,\\n        output);\\n    return;\\n  }\\n\\n  display_node_text(options, `Non supported value ${value.type}`, output);\\n}\\n\\n/**\\n * Adds an explanation inside of a node.\\n * @param {!options} options Dictionary of configurations.\\n * @param {!explanation} explanation Explanation to display.\\n * @param {!output} output Output display accumulator.\\n */\\nfunction display_explanation(options, explanation, output) {\\n  // Margin before the explanation.\\n  output.vertical_offset += 10;\\n\\n  display_node_text(\\n      options, `Non supported explanation ${explanation.type}`, output);\\n}\\n\\n\\n/**\\n * Draw the edges of the tree.\\n * @param {!options} options Dictionary of configurations.\\n * @param {!graph} graph D3 search handle containing the graph.\\n * @param {!tree_struct} tree_struct Structure of the tree (node placement,\\n *     data, etc.).\\n */\\nfunction display_edges(options, graph, tree_struct) {\\n  // Draw an edge between a parent and a child node with a bezier.\\n  function draw_single_edge(d) {\\n    return \\'M\\' + (d.source.y + options.node_x_size) + \\',\\' + d.source.x + \\' C\\' +\\n        (d.source.y + options.node_x_size + options.edge_rounding) + \\',\\' +\\n        d.source.x + \\' \\' + (d.target.y - options.edge_rounding) + \\',\\' +\\n        d.target.x + \\' \\' + d.target.y + \\',\\' + d.target.x;\\n  }\\n\\n  graph.append(\\'g\\')\\n      .attr(\\'fill\\', \\'none\\')\\n      .attr(\\'stroke-width\\', 1.2)\\n      .selectAll(\\'path\\')\\n      .data(tree_struct.links())\\n      .join(\\'path\\')\\n      .attr(\\'d\\', draw_single_edge)\\n      .attr(\\n          \\'stroke\\', d => (d.target === d.source.children[0]) ? \\'#0F0\\' : \\'#F00\\');\\n}\\n\\ndisplay_tree({\"margin\": 10, \"node_x_size\": 160, \"node_y_size\": 28, \"node_x_offset\": 180, \"node_y_offset\": 33, \"font_size\": 10, \"edge_rounding\": 20, \"node_padding\": 2, \"show_plot_bounding_box\": false}, {\"value\": {\"type\": \"REGRESSION\", \"value\": 3.1600714009982767e-06, \"num_examples\": 1027070.0, \"standard_deviation\": 0.0014066019691163507}, \"condition\": {\"type\": \"NUMERICAL_IS_HIGHER_THAN\", \"attribute\": \"Z\", \"threshold\": 0.8327759504318237}, \"children\": [{\"value\": {\"type\": \"REGRESSION\", \"value\": 4.352919859229587e-05, \"num_examples\": 17073.0, \"standard_deviation\": 0.0012675313948184463}, \"condition\": {\"type\": \"NUMERICAL_IS_HIGHER_THAN\", \"attribute\": \"Semimajor\", \"threshold\": 0.0010053571313619614}, \"children\": [{\"value\": {\"type\": \"REGRESSION\", \"value\": 0.005446459166705608, \"num_examples\": 118.0, \"standard_deviation\": 0.014156803354687619}, \"condition\": {\"type\": \"NUMERICAL_IS_HIGHER_THAN\", \"attribute\": \"Semimajor\", \"threshold\": 0.0010227705352008343}, \"children\": [{\"value\": {\"type\": \"REGRESSION\", \"value\": 0.0019584139809012413, \"num_examples\": 110.0, \"standard_deviation\": 0.004416522632792245}, \"condition\": {\"type\": \"NUMERICAL_IS_HIGHER_THAN\", \"attribute\": \"Eccentricity\", \"threshold\": 0.7874393463134766}}, {\"value\": {\"type\": \"REGRESSION\", \"value\": 0.053407080471515656, \"num_examples\": 8.0, \"standard_deviation\": 0.014846190313979891}}]}, {\"value\": {\"type\": \"REGRESSION\", \"value\": 5.926972335146274e-06, \"num_examples\": 16955.0, \"standard_deviation\": 0.00013576693091344244}, \"condition\": {\"type\": \"NUMERICAL_IS_HIGHER_THAN\", \"attribute\": \"Mass_1\", \"threshold\": 0.04278242960572243}, \"children\": [{\"value\": {\"type\": \"REGRESSION\", \"value\": 2.022743728957721e-06, \"num_examples\": 10571.0, \"standard_deviation\": 2.5473428772945722e-05}, \"condition\": {\"type\": \"NUMERICAL_IS_HIGHER_THAN\", \"attribute\": \"Semimajor\", \"threshold\": 0.0009083900367841125}}, {\"value\": {\"type\": \"REGRESSION\", \"value\": 1.2391821655910462e-05, \"num_examples\": 6384.0, \"standard_deviation\": 0.00021866188479904242}, \"condition\": {\"type\": \"NUMERICAL_IS_HIGHER_THAN\", \"attribute\": \"Eccentricity\", \"threshold\": 0.5596317052841187}}]}]}, {\"value\": {\"type\": \"REGRESSION\", \"value\": 2.4776713871688116e-06, \"num_examples\": 1009997.0, \"standard_deviation\": 0.001408824891038435}, \"condition\": {\"type\": \"NUMERICAL_IS_HIGHER_THAN\", \"attribute\": \"Semimajor\", \"threshold\": 0.008744404651224613}, \"children\": [{\"value\": {\"type\": \"REGRESSION\", \"value\": 0.016841614618897438, \"num_examples\": 120.0, \"standard_deviation\": 0.12799779816356327}, \"condition\": {\"type\": \"NUMERICAL_IS_HIGHER_THAN\", \"attribute\": \"Semimajor\", \"threshold\": 0.009374292567372322}, \"children\": [{\"value\": {\"type\": \"REGRESSION\", \"value\": 0.00018411669589113444, \"num_examples\": 114.0, \"standard_deviation\": 0.000630346350399202}, \"condition\": {\"type\": \"NUMERICAL_IS_HIGHER_THAN\", \"attribute\": \"Eccentricity\", \"threshold\": 0.9918497800827026}}, {\"value\": {\"type\": \"REGRESSION\", \"value\": 0.3333340883255005, \"num_examples\": 6.0, \"standard_deviation\": 0.47140398663744176}}]}, {\"value\": {\"type\": \"REGRESSION\", \"value\": 4.7673802328063175e-07, \"num_examples\": 1009877.0, \"standard_deviation\": 6.73902733541791e-05}, \"condition\": {\"type\": \"NUMERICAL_IS_HIGHER_THAN\", \"attribute\": \"Mass_0\", \"threshold\": 0.014885354787111282}, \"children\": [{\"value\": {\"type\": \"REGRESSION\", \"value\": 4.037466112549737e-07, \"num_examples\": 1009734.0, \"standard_deviation\": 5.623125028759478e-05}, \"condition\": {\"type\": \"NUMERICAL_IS_HIGHER_THAN\", \"attribute\": \"Eccentricity\", \"threshold\": 0.9435312747955322}}, {\"value\": {\"type\": \"REGRESSION\", \"value\": 0.000515874766279012, \"num_examples\": 143.0, \"standard_deviation\": 0.0030788946215711973}, \"condition\": {\"type\": \"NUMERICAL_IS_HIGHER_THAN\", \"attribute\": \"Semimajor\", \"threshold\": 0.0007842230843380094}}]}]}]}, \"#tree_plot_c9f9d4664ba8485d95fb6fd50270894f\")\\n</script>\\n'"
      ]
     },
     "execution_count": 116,
     "metadata": {},
     "output_type": "execute_result"
    }
   ],
   "source": [
    "# plot the first tree, restricted to depth of 3\n",
    "tfdf.model_plotter.plot_model(model, tree_idx=0, max_depth=3)"
   ]
  },
  {
   "cell_type": "code",
   "execution_count": 17,
   "metadata": {},
   "outputs": [
    {
     "data": {
      "text/plain": [
       "{'num_trees': [200, 400, 600, 800, 1000, 1200, 1400, 1600, 1800, 2000],\n",
       " 'num_candidate_attributes': [-1, 0, 3],\n",
       " 'max_depth': [10, 20, 30, 40, 50, 60, 70, 80, 90, 100, 110, None],\n",
       " 'min_examples': [2, 5, 10, 50],\n",
       " 'uplift_min_examples_in_treatment': [1, 2, 4, 5, 10],\n",
       " 'adapt_bootstrap_size_ratio_for_maximum_training_duration': [True, False]}"
      ]
     },
     "execution_count": 17,
     "metadata": {},
     "output_type": "execute_result"
    }
   ],
   "source": [
    "# Number of trees in random forest\n",
    "num_trees = [int(x) for x in np.linspace(start = 200, stop = 2000, num = 10)]\n",
    "\n",
    "# Number of features to consider at every split\n",
    "num_candidate_attributes = [-1, 0, 3]\n",
    "\n",
    "# Maximum number of levels in tree\n",
    "max_depth = [int(x) for x in np.linspace(10, 110, num = 11)]\n",
    "max_depth.append(None)\n",
    "\n",
    "# Minimum number of samples required to split a node\n",
    "min_examples = [2, 5, 10, 50]\n",
    "\n",
    "# Minimum number of samples required at each leaf node\n",
    "uplift_min_examples_in_treatment = [1, 2, 4, 5, 10]\n",
    "\n",
    "# Method of selecting samples for training each tree\n",
    "adapt_bootstrap_size_ratio_for_maximum_training_duration = [True, False]\n",
    "\n",
    "# Create the random grid\n",
    "random_grid = {'num_trees': num_trees,\n",
    "               'num_candidate_attributes': num_candidate_attributes,\n",
    "               'max_depth': max_depth,\n",
    "               'min_examples': min_examples,\n",
    "               'uplift_min_examples_in_treatment': uplift_min_examples_in_treatment,\n",
    "               'adapt_bootstrap_size_ratio_for_maximum_training_duration': adapt_bootstrap_size_ratio_for_maximum_training_duration}\n",
    "random_grid"
   ]
  },
  {
   "cell_type": "code",
   "execution_count": 28,
   "metadata": {},
   "outputs": [
    {
     "name": "stderr",
     "output_type": "stream",
     "text": [
      "/tmp/ipykernel_4151/1691860955.py:3: DeprecationWarning: KerasClassifier is deprecated, use Sci-Keras (https://github.com/adriangb/scikeras) instead. See https://www.adriangb.com/scikeras/stable/migration.html for help migrating.\n",
      "  rf = KerasClassifier(model=tfdf.keras.RandomForestModel, task = tfdf.keras.Task.REGRESSION, num_threads=n_threads)\n"
     ]
    },
    {
     "ename": "AttributeError",
     "evalue": "'KerasClassifier' object has no attribute '__call__'",
     "output_type": "error",
     "traceback": [
      "\u001b[0;31m---------------------------------------------------------------------------\u001b[0m",
      "\u001b[0;31mAttributeError\u001b[0m                            Traceback (most recent call last)",
      "Input \u001b[0;32mIn [28]\u001b[0m, in \u001b[0;36m<cell line: 3>\u001b[0;34m()\u001b[0m\n\u001b[1;32m      1\u001b[0m \u001b[38;5;66;03m# Use the random grid to search for best hyperparameters\u001b[39;00m\n\u001b[1;32m      2\u001b[0m \u001b[38;5;66;03m# First create the base model to tune\u001b[39;00m\n\u001b[0;32m----> 3\u001b[0m rf \u001b[38;5;241m=\u001b[39m \u001b[43mKerasClassifier\u001b[49m\u001b[43m(\u001b[49m\u001b[43mmodel\u001b[49m\u001b[38;5;241;43m=\u001b[39;49m\u001b[43mtfdf\u001b[49m\u001b[38;5;241;43m.\u001b[39;49m\u001b[43mkeras\u001b[49m\u001b[38;5;241;43m.\u001b[39;49m\u001b[43mRandomForestModel\u001b[49m\u001b[43m,\u001b[49m\u001b[43m \u001b[49m\u001b[43mtask\u001b[49m\u001b[43m \u001b[49m\u001b[38;5;241;43m=\u001b[39;49m\u001b[43m \u001b[49m\u001b[43mtfdf\u001b[49m\u001b[38;5;241;43m.\u001b[39;49m\u001b[43mkeras\u001b[49m\u001b[38;5;241;43m.\u001b[39;49m\u001b[43mTask\u001b[49m\u001b[38;5;241;43m.\u001b[39;49m\u001b[43mREGRESSION\u001b[49m\u001b[43m,\u001b[49m\u001b[43m \u001b[49m\u001b[43mnum_threads\u001b[49m\u001b[38;5;241;43m=\u001b[39;49m\u001b[43mn_threads\u001b[49m\u001b[43m)\u001b[49m\n\u001b[1;32m      5\u001b[0m \u001b[38;5;66;03m# Random search of parameters, using 3 fold cross validation, \u001b[39;00m\n\u001b[1;32m      6\u001b[0m \u001b[38;5;66;03m# search across 100 different combinations, and use all available cores\u001b[39;00m\n\u001b[1;32m      7\u001b[0m rf_random \u001b[38;5;241m=\u001b[39m RandomizedSearchCV(estimator\u001b[38;5;241m=\u001b[39mrf, param_distributions\u001b[38;5;241m=\u001b[39mrandom_grid, \n\u001b[1;32m      8\u001b[0m                                scoring\u001b[38;5;241m=\u001b[39m\u001b[38;5;124m'\u001b[39m\u001b[38;5;124maccuracy\u001b[39m\u001b[38;5;124m'\u001b[39m,\n\u001b[1;32m      9\u001b[0m                                n_iter \u001b[38;5;241m=\u001b[39m \u001b[38;5;241m20\u001b[39m, cv \u001b[38;5;241m=\u001b[39m \u001b[38;5;241m3\u001b[39m, verbose\u001b[38;5;241m=\u001b[39m\u001b[38;5;241m0\u001b[39m, \n\u001b[1;32m     10\u001b[0m                                random_state\u001b[38;5;241m=\u001b[39m\u001b[38;5;241m42\u001b[39m, n_jobs \u001b[38;5;241m=\u001b[39m \u001b[38;5;241m-\u001b[39m\u001b[38;5;241m1\u001b[39m)\n",
      "File \u001b[0;32m~/miniconda3/lib/python3.9/site-packages/keras/wrappers/scikit_learn.py:206\u001b[0m, in \u001b[0;36mKerasClassifier.__init__\u001b[0;34m(self, build_fn, **sk_params)\u001b[0m\n\u001b[1;32m    198\u001b[0m \u001b[38;5;28;01mdef\u001b[39;00m \u001b[38;5;21m__init__\u001b[39m(\u001b[38;5;28mself\u001b[39m, build_fn\u001b[38;5;241m=\u001b[39m\u001b[38;5;28;01mNone\u001b[39;00m, \u001b[38;5;241m*\u001b[39m\u001b[38;5;241m*\u001b[39msk_params):\n\u001b[1;32m    199\u001b[0m   warnings\u001b[38;5;241m.\u001b[39mwarn(\n\u001b[1;32m    200\u001b[0m       \u001b[38;5;124m'\u001b[39m\u001b[38;5;124mKerasClassifier is deprecated, \u001b[39m\u001b[38;5;124m'\u001b[39m\n\u001b[1;32m    201\u001b[0m       \u001b[38;5;124m'\u001b[39m\u001b[38;5;124muse Sci-Keras (https://github.com/adriangb/scikeras) instead. \u001b[39m\u001b[38;5;124m'\u001b[39m\n\u001b[0;32m   (...)\u001b[0m\n\u001b[1;32m    204\u001b[0m       \u001b[38;5;167;01mDeprecationWarning\u001b[39;00m,\n\u001b[1;32m    205\u001b[0m       stacklevel\u001b[38;5;241m=\u001b[39m\u001b[38;5;241m2\u001b[39m)\n\u001b[0;32m--> 206\u001b[0m   \u001b[38;5;28;43msuper\u001b[39;49m\u001b[43m(\u001b[49m\u001b[43m)\u001b[49m\u001b[38;5;241;43m.\u001b[39;49m\u001b[38;5;21;43m__init__\u001b[39;49m\u001b[43m(\u001b[49m\u001b[43mbuild_fn\u001b[49m\u001b[43m,\u001b[49m\u001b[43m \u001b[49m\u001b[38;5;241;43m*\u001b[39;49m\u001b[38;5;241;43m*\u001b[39;49m\u001b[43msk_params\u001b[49m\u001b[43m)\u001b[49m\n",
      "File \u001b[0;32m~/miniconda3/lib/python3.9/site-packages/keras/wrappers/scikit_learn.py:76\u001b[0m, in \u001b[0;36mBaseWrapper.__init__\u001b[0;34m(self, build_fn, **sk_params)\u001b[0m\n\u001b[1;32m     74\u001b[0m \u001b[38;5;28mself\u001b[39m\u001b[38;5;241m.\u001b[39mbuild_fn \u001b[38;5;241m=\u001b[39m build_fn\n\u001b[1;32m     75\u001b[0m \u001b[38;5;28mself\u001b[39m\u001b[38;5;241m.\u001b[39msk_params \u001b[38;5;241m=\u001b[39m sk_params\n\u001b[0;32m---> 76\u001b[0m \u001b[38;5;28;43mself\u001b[39;49m\u001b[38;5;241;43m.\u001b[39;49m\u001b[43mcheck_params\u001b[49m\u001b[43m(\u001b[49m\u001b[43msk_params\u001b[49m\u001b[43m)\u001b[49m\n",
      "File \u001b[0;32m~/miniconda3/lib/python3.9/site-packages/keras/wrappers/scikit_learn.py:91\u001b[0m, in \u001b[0;36mBaseWrapper.check_params\u001b[0;34m(self, params)\u001b[0m\n\u001b[1;32m     87\u001b[0m legal_params_fns \u001b[38;5;241m=\u001b[39m [\n\u001b[1;32m     88\u001b[0m     Sequential\u001b[38;5;241m.\u001b[39mfit, Sequential\u001b[38;5;241m.\u001b[39mpredict, Sequential\u001b[38;5;241m.\u001b[39mevaluate\n\u001b[1;32m     89\u001b[0m ]\n\u001b[1;32m     90\u001b[0m \u001b[38;5;28;01mif\u001b[39;00m \u001b[38;5;28mself\u001b[39m\u001b[38;5;241m.\u001b[39mbuild_fn \u001b[38;5;129;01mis\u001b[39;00m \u001b[38;5;28;01mNone\u001b[39;00m:\n\u001b[0;32m---> 91\u001b[0m   legal_params_fns\u001b[38;5;241m.\u001b[39mappend(\u001b[38;5;28;43mself\u001b[39;49m\u001b[38;5;241;43m.\u001b[39;49m\u001b[38;5;21;43m__call__\u001b[39;49m)\n\u001b[1;32m     92\u001b[0m \u001b[38;5;28;01melif\u001b[39;00m (\u001b[38;5;129;01mnot\u001b[39;00m \u001b[38;5;28misinstance\u001b[39m(\u001b[38;5;28mself\u001b[39m\u001b[38;5;241m.\u001b[39mbuild_fn, types\u001b[38;5;241m.\u001b[39mFunctionType) \u001b[38;5;129;01mand\u001b[39;00m\n\u001b[1;32m     93\u001b[0m       \u001b[38;5;129;01mnot\u001b[39;00m \u001b[38;5;28misinstance\u001b[39m(\u001b[38;5;28mself\u001b[39m\u001b[38;5;241m.\u001b[39mbuild_fn, types\u001b[38;5;241m.\u001b[39mMethodType)):\n\u001b[1;32m     94\u001b[0m   legal_params_fns\u001b[38;5;241m.\u001b[39mappend(\u001b[38;5;28mself\u001b[39m\u001b[38;5;241m.\u001b[39mbuild_fn\u001b[38;5;241m.\u001b[39m\u001b[38;5;21m__call__\u001b[39m)\n",
      "\u001b[0;31mAttributeError\u001b[0m: 'KerasClassifier' object has no attribute '__call__'"
     ]
    }
   ],
   "source": [
    "# Use the random grid to search for best hyperparameters\n",
    "# First create the base model to tune\n",
    "rf = KerasClassifier(model=tfdf.keras.RandomForestModel, task = tfdf.keras.Task.REGRESSION, num_threads=n_threads)\n",
    "\n",
    "# Random search of parameters, using 3 fold cross validation, \n",
    "# search across 100 different combinations, and use all available cores\n",
    "rf_random = RandomizedSearchCV(estimator=rf, param_distributions=random_grid, \n",
    "                               scoring='accuracy',\n",
    "                               n_iter = 20, cv = 3, verbose=0, \n",
    "                               random_state=42, n_jobs = -1)\n",
    "\n",
    "# Fit the random search model\n",
    "rf_random.fit(X_train, Y_train)"
   ]
  },
  {
   "cell_type": "code",
   "execution_count": 3,
   "metadata": {},
   "outputs": [],
   "source": [
    "\"\"\"for deeptnote\"\"\"\n",
    "# def slice_dataset(dataset, slice_ratio=0.15):\n",
    "#   valid_indices = np.random.rand(len(dataset)) < slice_ratio\n",
    "#   return dataset[valid_indices]\n",
    "# BHBH_sliced = slice_dataset(BHBH)\n",
    "# BHBH_sliced.to_csv('dataset.csv')"
   ]
  }
 ],
 "metadata": {
  "interpreter": {
   "hash": "77593180668de44719eea98b1016f56594f6a7979e760ba16644cd28c82a4004"
  },
  "kernelspec": {
   "display_name": "Python 3 (ipykernel)",
   "language": "python",
   "name": "python3"
  },
  "language_info": {
   "codemirror_mode": {
    "name": "ipython",
    "version": 3
   },
   "file_extension": ".py",
   "mimetype": "text/x-python",
   "name": "python",
   "nbconvert_exporter": "python",
   "pygments_lexer": "ipython3",
   "version": "3.9.12"
  }
 },
 "nbformat": 4,
 "nbformat_minor": 2
}
